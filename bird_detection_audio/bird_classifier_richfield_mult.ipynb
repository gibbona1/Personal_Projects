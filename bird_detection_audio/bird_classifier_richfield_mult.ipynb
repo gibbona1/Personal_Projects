{
 "cells": [
  {
   "cell_type": "markdown",
   "id": "52393092",
   "metadata": {},
   "source": [
    "From https://medium.com/m2mtechconnect/classifying-music-and-speech-with-machine-learning-e036ffab002e"
   ]
  },
  {
   "cell_type": "code",
   "execution_count": 1,
   "id": "feba8de1",
   "metadata": {},
   "outputs": [],
   "source": [
    "import numpy as np\n",
    "import pandas as pd\n",
    "import os\n",
    "import pathlib\n",
    "import matplotlib.pyplot as plt\n",
    "import seaborn as sns\n",
    "from IPython import display\n",
    "from sklearn.model_selection import train_test_split\n",
    "import tensorflow as tf\n",
    "from tensorflow.keras.layers.experimental import preprocessing\n",
    "from tensorflow.keras import layers, regularizers\n",
    "from tensorflow.keras import models\n",
    "#import tensorflow_datasets as tfds"
   ]
  },
  {
   "cell_type": "code",
   "execution_count": 2,
   "id": "0d7b1fba",
   "metadata": {},
   "outputs": [],
   "source": [
    "import ffmpeg\n",
    "from pydub import AudioSegment"
   ]
  },
  {
   "cell_type": "code",
   "execution_count": 3,
   "id": "b4a4f839",
   "metadata": {},
   "outputs": [],
   "source": [
    "from data_set_params import DataSetParams\n",
    "from scipy.io import wavfile\n",
    "params = DataSetParams()"
   ]
  },
  {
   "cell_type": "code",
   "execution_count": 4,
   "id": "47d47368",
   "metadata": {},
   "outputs": [
    {
     "data": {
      "text/plain": [
       "['Common Buzzard',\n",
       " 'Common Kestrel',\n",
       " 'Common Snipe',\n",
       " 'Eurasian Curlew',\n",
       " 'European Herring Gull',\n",
       " 'European Robin',\n",
       " 'Meadow Pipit',\n",
       " 'Mute Swan',\n",
       " 'Northern Lapwing',\n",
       " 'Rook',\n",
       " 'Tundra Swan',\n",
       " 'Tundra Swan (Bewicks)']"
      ]
     },
     "execution_count": 4,
     "metadata": {},
     "output_type": "execute_result"
    }
   ],
   "source": [
    "#data_dir = pathlib.Path('/root/tensorflow_datasets/downloads/extracted/TAR_GZ.opihi.cs.uvic.ca_sound_music_speechbya81rFcWfLSW6ey5cynqyeq2qiePcL-7asMoNO6IQ0.tar.gz/music_speech')\n",
    "data_dir   = 'richfield_birds'#'dublin_dl_birds_split'#\n",
    "categories = np.array(tf.io.gfile.listdir(data_dir))\n",
    "categories = [category for category in categories if 'wav' not in category]\n",
    "categories"
   ]
  },
  {
   "cell_type": "code",
   "execution_count": 5,
   "id": "6ec0e8a1",
   "metadata": {},
   "outputs": [],
   "source": [
    "#AudioSegment.ffprobe  = \"/usr/local/bin/ffmpeg\""
   ]
  },
  {
   "cell_type": "code",
   "execution_count": 6,
   "id": "d865b805",
   "metadata": {},
   "outputs": [],
   "source": [
    "def get_label(file_path):\n",
    "    parts = tf.strings.split(file_path, os.path.sep)\n",
    "\n",
    "    # Note: You'll use indexing here instead of tuple unpacking to enable this \n",
    "    # to work in a TensorFlow graph.\n",
    "    return parts[-2]"
   ]
  },
  {
   "cell_type": "code",
   "execution_count": 7,
   "id": "27ca4fcf",
   "metadata": {},
   "outputs": [],
   "source": [
    "filenames = tf.io.gfile.glob(str(data_dir) + '/*/*')\n",
    "#filenames = tf.io.gfile.glob('birds/*/*')\n",
    "filenames = [filename for filename in filenames if 'wav' in filename]\n",
    "filenames = tf.random.shuffle(filenames)"
   ]
  },
  {
   "cell_type": "code",
   "execution_count": 8,
   "id": "8f445e25",
   "metadata": {},
   "outputs": [
    {
     "data": {
      "text/plain": [
       "<tf.Tensor: shape=(1981,), dtype=string, numpy=\n",
       "array([b'richfield_birds\\\\European Herring Gull\\\\xc677715_right.wav',\n",
       "       b'richfield_birds\\\\European Robin\\\\xc681413.wav',\n",
       "       b'richfield_birds\\\\Meadow Pipit\\\\xc546637_left.wav', ...,\n",
       "       b'richfield_birds\\\\Common Kestrel\\\\xc445373_right.wav',\n",
       "       b'richfield_birds\\\\Tundra Swan\\\\xc72959_right.wav',\n",
       "       b'richfield_birds\\\\Eurasian Curlew\\\\xc667809.wav'], dtype=object)>"
      ]
     },
     "execution_count": 8,
     "metadata": {},
     "output_type": "execute_result"
    }
   ],
   "source": [
    "filenames"
   ]
  },
  {
   "cell_type": "code",
   "execution_count": 9,
   "id": "8a076225",
   "metadata": {},
   "outputs": [
    {
     "name": "stdout",
     "output_type": "stream",
     "text": [
      "Number of total examples: 1981\n",
      "Number of examples per label: 166\n",
      "Example file tensor: tf.Tensor(b'richfield_birds\\\\European Herring Gull\\\\xc677715_right.wav', shape=(), dtype=string)\n"
     ]
    }
   ],
   "source": [
    "num_samples = len(filenames)\n",
    "print('Number of total examples:', num_samples)\n",
    "print('Number of examples per label:',\n",
    "      len(tf.io.gfile.listdir(str(pathlib.Path(data_dir)/categories[0]))))\n",
    "print('Example file tensor:', filenames[0])"
   ]
  },
  {
   "cell_type": "code",
   "execution_count": 10,
   "id": "389c54ad",
   "metadata": {},
   "outputs": [
    {
     "name": "stdout",
     "output_type": "stream",
     "text": [
      "Training set size: 1584\n",
      "Validation set size: 397\n"
     ]
    }
   ],
   "source": [
    "TRAIN_SIZE = 0.8\n",
    "\n",
    "cutoff = int(len(filenames) * TRAIN_SIZE)\n",
    "train_files = filenames[:cutoff]\n",
    "test_files  = filenames[cutoff:]\n",
    "\n",
    "print('Training set size:', len(train_files))\n",
    "print('Validation set size:', len(test_files))"
   ]
  },
  {
   "cell_type": "code",
   "execution_count": 11,
   "id": "49130ac6",
   "metadata": {},
   "outputs": [],
   "source": [
    "AUTOTUNE = tf.data.experimental.AUTOTUNE"
   ]
  },
  {
   "cell_type": "code",
   "execution_count": 12,
   "id": "8b78550f",
   "metadata": {},
   "outputs": [
    {
     "data": {
      "text/plain": [
       "<tf.Tensor: shape=(), dtype=int32, numpy=48000>"
      ]
     },
     "execution_count": 12,
     "metadata": {},
     "output_type": "execute_result"
    }
   ],
   "source": [
    "audio, sr = tf.audio.decode_wav(tf.io.read_file(train_files[0].numpy()))\n",
    "sr"
   ]
  },
  {
   "cell_type": "code",
   "execution_count": 13,
   "id": "e2c8dd93",
   "metadata": {},
   "outputs": [
    {
     "data": {
      "text/plain": [
       "4096"
      ]
     },
     "execution_count": 13,
     "metadata": {},
     "output_type": "execute_result"
    }
   ],
   "source": [
    "2**12"
   ]
  },
  {
   "cell_type": "code",
   "execution_count": 14,
   "id": "75a34f63",
   "metadata": {},
   "outputs": [],
   "source": [
    "def gen_complex_spec(waveform, params):\n",
    "    nfft     = int(0.01*48000) #params.fft_win_length\n",
    "    noverlap = int(0.25*nfft) #params.fft_overlap\n",
    "    \n",
    "    # window data\n",
    "    #step    = nfft - noverlap\n",
    "    step = 2**12\n",
    "    waveform = tf.cast(waveform, tf.float32)\n",
    "    \n",
    "    # produces an array of complex numbers representing magnitude and phase\n",
    "    complex_spec = tf.signal.stft(\n",
    "        waveform, frame_length=nfft, frame_step=step)\n",
    "    return complex_spec #complex_spec"
   ]
  },
  {
   "cell_type": "code",
   "execution_count": 15,
   "id": "0f783615",
   "metadata": {},
   "outputs": [],
   "source": [
    "def multi_spec_stack(complex_spec, choices = ['Mod']):\n",
    "    #possible components:\n",
    "    ##Mod    modulus/absolute value (regular)\n",
    "    ##Re     real component\n",
    "    ##AbsRe  abs(real component)\n",
    "    ##Im     imaginary component\n",
    "    ##AbsIm  abs(imaginary component)\n",
    "    ##Ang    angular componant\n",
    "    ##AbsAng abs(angular componant)\n",
    "    spec_arr = []\n",
    "    for c in choices:\n",
    "        def apply_func(x,c):\n",
    "            if c == 'Mod':\n",
    "                return tf.math.abs(x)\n",
    "            if c == 'Re':\n",
    "                return tf.math.real(x)\n",
    "            if c == 'AbsRe':\n",
    "                return tf.math.abs(tf.math.real(x))\n",
    "            if c == 'Im':\n",
    "                return tf.math.imag(x)\n",
    "            if c == 'AbsIm':\n",
    "                return tf.math.abs(tf.math.imag(x))\n",
    "            if c == 'Ang':\n",
    "                return tf.math.ang(x)\n",
    "            if c == 'AbsAng':\n",
    "                return tf.math.abs(tf.math.imag(x))\n",
    "        spec_arr.append(apply_func(complex_spec,c))\n",
    "    return tf.stack(spec_arr,-1)"
   ]
  },
  {
   "cell_type": "code",
   "execution_count": 16,
   "id": "f80ee29b",
   "metadata": {},
   "outputs": [],
   "source": [
    "def multi_spec_post(spec):\n",
    "    spec_shp         = tf.shape(spec)\n",
    "    spec_cutoff      = [0, 1, 0]\n",
    "    spec_cutoff_size = [spec_shp[0],spec_shp[1]-1, spec_shp[2]]\n",
    "    spec             = tf.slice(spec, spec_cutoff, spec_cutoff_size)\n",
    "    \n",
    "    # only keep the relevant bands - could do this outside\n",
    "    spec = spec[:, :100, :]\n",
    "    \n",
    "    spec_shp  = tf.shape(spec)\n",
    "    req_width = 250\n",
    "    \n",
    "    if spec_shp[0] < req_width:\n",
    "        zero_pad = tf.ones((req_width - spec_shp[0], spec_shp[1], spec_shp[2]))*1e-8\n",
    "        spec     = tf.concat([spec, zero_pad], axis = 0)\n",
    "    else:\n",
    "        spec = tf.slice(spec, [0,0,0], [req_width, spec_shp[1], spec_shp[2]]) #spec[:,:req_width,:]\n",
    "        \n",
    "    #spec_shp   = tf.shape(spec) \n",
    "    #req_height = 512 \n",
    "    #if spec_shp[1] < req_height:\n",
    "    #    zero_pad = tf.zeros((spec_shp[0], req_height - spec_shp[1], spec_shp[2]))\n",
    "    #    spec     = tf.stack((zero_pad, spec), axis = 1)\n",
    "    #else:\n",
    "    #    spec = tf.slice(spec, [0,0,0], [spec_shp[0], req_height, spec_shp[2]]) #spec[:req_height,:,:]\n",
    "\n",
    "    \n",
    "    spec = tf.transpose(spec, perm = [1,0,2])\n",
    "    # perform log scaling - here the same as matplotlib\n",
    "    #log_scaling = 2.0 * (1.0 / 44100) * (1.0/(np.abs(np.hanning(int(params.fft_win_length*44100)))**2).sum())\n",
    "    #spec        = tf.math.log(1.0 + log_scaling*spec)\n",
    "    \n",
    "    #img = tf.io.decode_image(spec, dtype = tf.dtypes.float32)\n",
    "    #spec.set_shape(tf.shape(spec))\n",
    "    #spec = tf.compat.v1.image.resize(spec, [100, 50])\n",
    "    #spec = spec.numpy.resize(100,50)\n",
    "    #def spec_normalize(x, axis = (0,1), kd = True):\n",
    "    #    return (x- x.min(axis=axis, keepdims=kd))/(x.max(axis=axis, keepdims=kd) - x.min(axis=axis, keepdims=kd))\n",
    "    #spec = spec_normalize(spec)\n",
    "    return spec"
   ]
  },
  {
   "cell_type": "code",
   "execution_count": 17,
   "id": "20a74546",
   "metadata": {},
   "outputs": [],
   "source": [
    "def decode_audio(audio_binary):\n",
    "    audio, sr = tf.audio.decode_wav(audio_binary) # returns the WAV-encoded audio as a tensor and the sample rate\n",
    "    #return tf.squeeze(audio, axis=-1) # removes dimensions of size 1 from the last axis\n",
    "    return audio[:,0], sr\n",
    "def get_waveform_sr_and_label(file_path):\n",
    "    label        = get_label(file_path)\n",
    "    audio_binary = tf.io.read_file(file_path)\n",
    "    waveform, _  = decode_audio(audio_binary)\n",
    "    return waveform, label"
   ]
  },
  {
   "cell_type": "code",
   "execution_count": 18,
   "id": "26fe6c43",
   "metadata": {},
   "outputs": [],
   "source": [
    "def get_spectrogram_and_label_id(audio, label):\n",
    "    #spectrogram = get_complex_spectrogram(audio)\n",
    "    #print(dir(audio))\n",
    "    complex_spec = gen_complex_spec(audio, params)\n",
    "    multi_spec   = multi_spec_stack(complex_spec, choices)\n",
    "    multi_spec   = multi_spec_post(multi_spec)\n",
    "    #multi_spec = complex_spec\n",
    "    label_id   = tf.argmax(label == categories)\n",
    "    return multi_spec, label_id"
   ]
  },
  {
   "cell_type": "code",
   "execution_count": 19,
   "id": "0246f594",
   "metadata": {},
   "outputs": [],
   "source": [
    "def preprocess_dataset(files):\n",
    "    files_ds  = tf.data.Dataset.from_tensor_slices(files)\n",
    "    output_ds = files_ds.map(get_waveform_sr_and_label, num_parallel_calls=AUTOTUNE)\n",
    "    output_ds = output_ds.map(get_spectrogram_and_label_id,  num_parallel_calls=AUTOTUNE)\n",
    "    return output_ds"
   ]
  },
  {
   "cell_type": "code",
   "execution_count": 20,
   "id": "82f15901",
   "metadata": {},
   "outputs": [],
   "source": [
    "def get_wf_dataset(files):\n",
    "    files_ds  = tf.data.Dataset.from_tensor_slices(files)\n",
    "    output_ds = files_ds.map(get_waveform_sr_and_label, num_parallel_calls=AUTOTUNE)\n",
    "    return output_ds"
   ]
  },
  {
   "cell_type": "code",
   "execution_count": 21,
   "id": "67602515",
   "metadata": {},
   "outputs": [],
   "source": [
    "choices = ['Mod']\n",
    "train_ds = preprocess_dataset(train_files)\n",
    "test_ds  = preprocess_dataset(test_files)"
   ]
  },
  {
   "cell_type": "code",
   "execution_count": null,
   "id": "c2bc9066",
   "metadata": {},
   "outputs": [],
   "source": []
  },
  {
   "cell_type": "code",
   "execution_count": 22,
   "id": "0aa13bd4",
   "metadata": {},
   "outputs": [],
   "source": [
    "#tf.image.resize(train_ds, [100,50])"
   ]
  },
  {
   "cell_type": "code",
   "execution_count": 23,
   "id": "ed837946",
   "metadata": {},
   "outputs": [],
   "source": [
    "train_labs = [tf.argmax(get_label(y) == categories) for y in train_files]\n",
    "test_labs  = [tf.argmax(get_label(y) == categories) for y in test_files]"
   ]
  },
  {
   "cell_type": "code",
   "execution_count": 24,
   "id": "876133bd",
   "metadata": {},
   "outputs": [],
   "source": [
    "train_labs_sort = train_labs\n",
    "test_labs_sort  = test_labs\n",
    "train_labs_sort.sort()\n",
    "test_labs_sort.sort()"
   ]
  },
  {
   "cell_type": "code",
   "execution_count": 25,
   "id": "9017d2e1",
   "metadata": {},
   "outputs": [
    {
     "data": {
      "text/plain": [
       "Text(0.5, 1.0, 'Test')"
      ]
     },
     "execution_count": 25,
     "metadata": {},
     "output_type": "execute_result"
    },
    {
     "data": {
      "image/png": "[encoded data removed]",
      "text/plain": [
       "<Figure size 2880x360 with 2 Axes>"
      ]
     },
     "metadata": {
      "needs_background": "light"
     },
     "output_type": "display_data"
    }
   ],
   "source": [
    "f, axes = plt.subplots(1, 2, figsize = (40,5))\n",
    "l = []\n",
    "for i in train_labs_sort:\n",
    "    l.append(categories[i])\n",
    "sns.set_style('darkgrid')\n",
    "sns.countplot(x = l, ax=axes[0])\n",
    "lb = axes[0].get_xlabel()\n",
    "axes[0].set_xlabel(lb, fontsize=8)\n",
    "axes[0].set_title(\"Train\", size = 14)\n",
    "\n",
    "lt = []\n",
    "for i in test_labs_sort:\n",
    "    lt.append(categories[i])\n",
    "sns.set_style('darkgrid')\n",
    "sns.countplot(x = lt, ax=axes[1])\n",
    "lbt = axes[1].get_xlabel()\n",
    "axes[1].set_xlabel(lbt, fontsize=10)\n",
    "axes[1].set_title(\"Test\", size = 14)"
   ]
  },
  {
   "cell_type": "code",
   "execution_count": 26,
   "id": "55026193",
   "metadata": {},
   "outputs": [],
   "source": [
    "batch_size = 32\n",
    "train_ds   = train_ds.batch(batch_size)\n",
    "test_ds    = test_ds.batch(batch_size)\n",
    "train_ds   = train_ds.cache().prefetch(AUTOTUNE)\n",
    "test_ds    = test_ds.cache().prefetch(AUTOTUNE)"
   ]
  },
  {
   "cell_type": "code",
   "execution_count": 27,
   "id": "8c2013cc",
   "metadata": {},
   "outputs": [
    {
     "name": "stdout",
     "output_type": "stream",
     "text": [
      "European Herring Gull\n"
     ]
    }
   ],
   "source": [
    "for spec, lab in train_ds.unbatch().take(1):\n",
    "    spec = spec\n",
    "    input_shape = spec.shape\n",
    "    print(categories[lab])"
   ]
  },
  {
   "cell_type": "code",
   "execution_count": 28,
   "id": "d1ec620c",
   "metadata": {},
   "outputs": [
    {
     "data": {
      "text/plain": [
       "<matplotlib.collections.QuadMesh at 0x260203324c0>"
      ]
     },
     "execution_count": 28,
     "metadata": {},
     "output_type": "execute_result"
    },
    {
     "data": {
      "image/png": "[encoded data removed]",
      "text/plain": [
       "<Figure size 864x576 with 1 Axes>"
      ]
     },
     "metadata": {},
     "output_type": "display_data"
    }
   ],
   "source": [
    "fig, ax = plt.subplots(1, figsize=(12, 8))\n",
    "ax.grid(False)\n",
    "ax.pcolormesh(np.log(spec[:,:,0]+np.finfo(float).eps))"
   ]
  },
  {
   "cell_type": "code",
   "execution_count": 29,
   "id": "f1924fec",
   "metadata": {},
   "outputs": [],
   "source": [
    "#norm_layer = preprocessing.Normalization()\n",
    "#norm_layer.adapt(spectrogram_ds.map(lambda x, _: x))\n",
    "num_labels = len(categories)"
   ]
  },
  {
   "cell_type": "code",
   "execution_count": 30,
   "id": "67b69cc3",
   "metadata": {},
   "outputs": [
    {
     "name": "stdout",
     "output_type": "stream",
     "text": [
      "Model: \"sequential\"\n",
      "_________________________________________________________________\n",
      "Layer (type)                 Output Shape              Param #   \n",
      "=================================================================\n",
      "conv2d (Conv2D)              (None, 98, 248, 16)       160       \n",
      "_________________________________________________________________\n",
      "max_pooling2d (MaxPooling2D) (None, 49, 124, 16)       0         \n",
      "_________________________________________________________________\n",
      "conv2d_1 (Conv2D)            (None, 47, 122, 16)       2320      \n",
      "_________________________________________________________________\n",
      "max_pooling2d_1 (MaxPooling2 (None, 23, 61, 16)        0         \n",
      "_________________________________________________________________\n",
      "conv2d_2 (Conv2D)            (None, 21, 59, 32)        4640      \n",
      "_________________________________________________________________\n",
      "max_pooling2d_2 (MaxPooling2 (None, 10, 29, 32)        0         \n",
      "_________________________________________________________________\n",
      "flatten (Flatten)            (None, 9280)              0         \n",
      "_________________________________________________________________\n",
      "dropout (Dropout)            (None, 9280)              0         \n",
      "_________________________________________________________________\n",
      "dense (Dense)                (None, 64)                593984    \n",
      "_________________________________________________________________\n",
      "dropout_1 (Dropout)          (None, 64)                0         \n",
      "_________________________________________________________________\n",
      "dense_1 (Dense)              (None, 12)                780       \n",
      "=================================================================\n",
      "Total params: 601,884\n",
      "Trainable params: 601,884\n",
      "Non-trainable params: 0\n",
      "_________________________________________________________________\n"
     ]
    }
   ],
   "source": [
    "model = models.Sequential([\n",
    "    layers.Input(shape=input_shape),\n",
    "    #preprocessing.Resizing(256, 64), \n",
    "    #norm_layer,\n",
    "    layers.Conv2D(16, 3, activation='relu'),\n",
    "    layers.MaxPooling2D(),\n",
    "    layers.Conv2D(16, 3, activation='relu'),\n",
    "    layers.MaxPooling2D(),\n",
    "    layers.Conv2D(32, 3, activation='relu'),\n",
    "    layers.MaxPooling2D(),\n",
    "    layers.Flatten(),\n",
    "    layers.Dropout(0.5),\n",
    "    layers.Dense(64, activation='relu', kernel_regularizer=regularizers.l2(0.001)),\n",
    "    layers.Dropout(0.5),\n",
    "    layers.Dense(num_labels),\n",
    "])\n",
    "\n",
    "model.summary()"
   ]
  },
  {
   "cell_type": "code",
   "execution_count": 31,
   "id": "d670a7ca",
   "metadata": {},
   "outputs": [],
   "source": [
    "model.compile(\n",
    "    optimizer = tf.keras.optimizers.Adam(learning_rate=0.0001),\n",
    "    loss      = tf.keras.losses.SparseCategoricalCrossentropy(from_logits=True),\n",
    "    metrics   = 'accuracy',\n",
    ")"
   ]
  },
  {
   "cell_type": "code",
   "execution_count": 33,
   "id": "dc013637",
   "metadata": {},
   "outputs": [
    {
     "name": "stdout",
     "output_type": "stream",
     "text": [
      "Epoch 1/2\n",
      "50/50 [==============================] - 40s 792ms/step - loss: 2.4313 - accuracy: 0.2210 - val_loss: 2.3128 - val_accuracy: 0.3048\n",
      "Epoch 2/2\n",
      "50/50 [==============================] - 11s 218ms/step - loss: 2.2812 - accuracy: 0.3043 - val_loss: 2.1880 - val_accuracy: 0.3325\n"
     ]
    }
   ],
   "source": [
    "EPOCHS = 2\n",
    "history = model.fit(\n",
    "    train_ds, \n",
    "    validation_data = test_ds,  \n",
    "    epochs          = EPOCHS,\n",
    "    #callbacks       = tf.keras.callbacks.EarlyStopping(verbose=1, patience=2)\n",
    ")"
   ]
  },
  {
   "cell_type": "code",
   "execution_count": 35,
   "id": "1f152f6a",
   "metadata": {},
   "outputs": [
    {
     "data": {
      "text/plain": [
       "array([ 8,  2,  3,  3, 10,  3,  4, 10,  7,  4,  5,  2,  0, 11,  5, 10,  0,\n",
       "        7,  1,  9, 11,  5,  5,  9,  4,  2,  6,  6, 10,  3,  8,  6,  4,  9,\n",
       "        7,  0,  3,  7,  9,  6,  6,  9,  4,  8,  6,  6,  2,  0,  8,  6,  6,\n",
       "        5,  5,  5,  4,  0,  6,  4, 10,  0,  0,  9,  5,  8,  7,  7,  3,  3,\n",
       "        6,  2,  7,  2,  2, 10,  5,  0,  2,  4,  2,  0,  2,  3, 10,  3,  4,\n",
       "       11, 10,  8, 10,  2,  0, 10,  5,  3, 10,  9,  9,  9, 10,  4,  3,  5,\n",
       "        3, 10,  0,  3,  5,  9,  4,  0,  5,  9,  9,  6,  8,  8,  9,  4, 11,\n",
       "        5,  1,  2,  2,  3, 11,  1, 10,  5,  8,  2,  1,  8, 11,  1,  6,  1,\n",
       "        2,  0,  3,  8,  0,  5,  8, 10,  6,  5,  1,  1,  9,  2,  8,  3, 10,\n",
       "        9, 11,  8,  6,  6, 10, 11, 10,  3,  9,  9,  9,  5, 10,  2,  0,  2,\n",
       "        4,  6,  5,  7,  6, 11, 10, 10,  1, 11,  1,  7,  3,  2,  1, 11,  2,\n",
       "        8,  6,  8,  7,  6,  2,  8,  5,  1,  6,  1,  4,  7,  4,  4,  4,  5,\n",
       "        6,  8,  4,  2,  0,  0,  3,  5,  0,  2,  3,  1,  2,  1, 11,  0,  5,\n",
       "        8,  1,  8,  8,  1,  5,  9,  5,  5,  4,  7,  9,  7,  5,  7,  7,  9,\n",
       "        3,  7, 11,  0,  5,  8,  5,  6,  4,  8, 10,  6,  0,  5,  0,  8,  1,\n",
       "        2,  1,  1,  8,  9,  0,  7,  1,  9,  4, 10,  1, 10,  5,  6,  2,  6,\n",
       "        7,  1,  6,  7,  9,  1,  7,  1, 11,  6,  2,  0,  1,  2,  5,  7, 11,\n",
       "        2,  5,  5,  4,  7, 11,  2,  9,  6,  4,  4,  2,  5, 11,  1,  1,  5,\n",
       "       11,  5,  2,  5,  9,  0,  0,  7,  9,  6,  3,  8,  1,  1,  9,  9,  7,\n",
       "        5, 10,  5, 10,  4,  3,  3,  3,  5,  3,  0,  5,  7,  9,  9,  7, 11,\n",
       "        4,  9,  0,  8,  7,  1,  8,  1,  5,  8, 11,  7,  4,  7, 11,  9,  6,\n",
       "        7,  0,  4, 10,  0,  6, 10,  9,  5,  9,  3,  3,  7,  4,  5,  5,  2,\n",
       "        8,  1,  2,  7,  8,  3,  1,  1,  6,  7,  8,  6,  7,  7,  5,  6,  5,\n",
       "        2,  8,  2,  8, 11,  8], dtype=int64)"
      ]
     },
     "execution_count": 35,
     "metadata": {},
     "output_type": "execute_result"
    }
   ],
   "source": [
    "np.load(\"y_true20220126_152914_richfield_shallow_net9Mod_.npy\")"
   ]
  },
  {
   "cell_type": "code",
   "execution_count": null,
   "id": "4dd438fc",
   "metadata": {},
   "outputs": [],
   "source": [
    "from datetime import datetime"
   ]
  },
  {
   "cell_type": "code",
   "execution_count": null,
   "id": "9e2204d9",
   "metadata": {},
   "outputs": [],
   "source": [
    "#model.save('models/'+datetime.now().strftime(\"%Y%m%d-%H%M%S\").replace('-', '_')+'richfield_shallow_net.h5')"
   ]
  },
  {
   "cell_type": "code",
   "execution_count": null,
   "id": "f5fc10c6",
   "metadata": {},
   "outputs": [],
   "source": [
    "pd.DataFrame(metrics)"
   ]
  },
  {
   "cell_type": "code",
   "execution_count": null,
   "id": "de3aa839",
   "metadata": {},
   "outputs": [],
   "source": [
    "metrics = history.history\n",
    "plt.plot(history.epoch, metrics['loss'], metrics['val_loss'])\n",
    "plt.legend(['loss', 'val_loss'])\n",
    "plt.show()"
   ]
  },
  {
   "cell_type": "code",
   "execution_count": null,
   "id": "30b964cc",
   "metadata": {},
   "outputs": [],
   "source": [
    "metrics = history.history\n",
    "plt.plot(history.epoch, metrics['accuracy'], metrics['val_accuracy'])\n",
    "plt.legend(['accuracy', 'val_accuracy'])\n",
    "plt.show()"
   ]
  },
  {
   "cell_type": "code",
   "execution_count": null,
   "id": "8cb366c4",
   "metadata": {},
   "outputs": [],
   "source": [
    "import plotly.graph_objs as go\n",
    "metrics = history.history"
   ]
  },
  {
   "cell_type": "code",
   "execution_count": null,
   "id": "9b0eddc9",
   "metadata": {},
   "outputs": [],
   "source": [
    "fig = go.Figure()\n",
    "fig.add_trace(go.Scatter(x = history.epoch, y = metrics['loss'], \n",
    "                         mode = 'lines', name = 'Training',\n",
    "                         line = dict(color='dodgerblue')))\n",
    "fig.add_trace(go.Scatter(x = history.epoch, y = metrics['val_loss'], \n",
    "                         mode = 'lines', name = 'Validation',\n",
    "                         line = dict(color='orange')))\n",
    "fig.update_layout(title='Loss Curve',\n",
    "                   xaxis_title='Epoch',\n",
    "                   yaxis_title='Loss')\n",
    "\n",
    "fig.show()"
   ]
  },
  {
   "cell_type": "code",
   "execution_count": null,
   "id": "f9470af1",
   "metadata": {},
   "outputs": [],
   "source": [
    "fig = go.Figure()\n",
    "fig.add_trace(go.Scatter(x = history.epoch, y = metrics['accuracy'], \n",
    "                         mode = 'lines', name = 'Training',\n",
    "                        line = dict(color='dodgerblue')))\n",
    "fig.add_trace(go.Scatter(x = history.epoch, y = metrics['val_accuracy'], \n",
    "                         mode = 'lines', name = 'Validation',\n",
    "                        line = dict(color='orange')))\n",
    "fig.update_layout(title='Accuracy Curve',\n",
    "                   xaxis_title='Epoch',\n",
    "                   yaxis_title='Accuracy')\n",
    "\n",
    "fig.show()"
   ]
  },
  {
   "cell_type": "code",
   "execution_count": null,
   "id": "6c9755b5",
   "metadata": {},
   "outputs": [],
   "source": [
    "#model = models.load('20211108_235747richfield_shallow_net')"
   ]
  },
  {
   "cell_type": "code",
   "execution_count": null,
   "id": "15f2b554",
   "metadata": {},
   "outputs": [],
   "source": []
  },
  {
   "cell_type": "code",
   "execution_count": 169,
   "id": "0fce2597",
   "metadata": {},
   "outputs": [],
   "source": [
    "#todo: confusion matrix and other \n",
    "y_pred = np.argmax(model.predict(test_ds), axis=-1)\n",
    "y_true = [y for _,y in test_ds.unbatch()]"
   ]
  },
  {
   "cell_type": "code",
   "execution_count": 170,
   "id": "c3c48b86",
   "metadata": {},
   "outputs": [
    {
     "data": {
      "text/plain": [
       "array([[17,  0,  6,  0,  0,  0,  0,  1,  1,  0,  0,  0],\n",
       "       [ 0, 29,  1,  0,  0,  1,  1,  0,  0,  0,  0,  0],\n",
       "       [ 4,  0, 34,  0,  0,  0,  0,  1,  2,  0,  1,  0],\n",
       "       [ 1,  2,  7, 20,  0,  1,  0,  0,  0,  0,  0,  0],\n",
       "       [ 0,  1,  2,  0, 28,  0,  0,  1,  0,  0,  1,  2],\n",
       "       [ 0,  0,  6,  0,  0, 23,  2,  0,  0,  0,  0,  0],\n",
       "       [ 0,  1,  4,  0,  0,  0, 25,  0,  0,  0,  1,  0],\n",
       "       [ 1,  0, 11,  1,  0,  0,  0, 14,  0,  0,  3,  0],\n",
       "       [ 1,  0, 10,  0,  2,  2,  0,  1, 17,  0,  0,  0],\n",
       "       [ 0,  0,  6,  0,  1,  0,  0,  0,  0, 34,  0,  0],\n",
       "       [ 2,  0,  7,  0,  0,  0,  0,  3,  0,  2, 16,  5],\n",
       "       [ 0,  0,  5,  0,  1,  0,  0,  1,  1,  1,  5, 17]], dtype=int64)"
      ]
     },
     "execution_count": 170,
     "metadata": {},
     "output_type": "execute_result"
    }
   ],
   "source": [
    "from sklearn.metrics import confusion_matrix\n",
    "cm = confusion_matrix(y_true, y_pred)\n",
    "cm"
   ]
  },
  {
   "cell_type": "code",
   "execution_count": 171,
   "id": "98043df9",
   "metadata": {
    "scrolled": false
   },
   "outputs": [
    {
     "data": {
      "application/vnd.plotly.v1+json": {
       "config": {
        "plotlyServerURL": "https://plot.ly"
       },
       "data": [
        {
         "colorscale": [
          [
           0,
           "#440154"
          ],
          [
           0.1111111111111111,
           "#482878"
          ],
          [
           0.2222222222222222,
           "#3e4989"
          ],
          [
           0.3333333333333333,
           "#31688e"
          ],
          [
           0.4444444444444444,
           "#26828e"
          ],
          [
           0.5555555555555556,
           "#1f9e89"
          ],
          [
           0.6666666666666666,
           "#35b779"
          ],
          [
           0.7777777777777778,
           "#6ece58"
          ],
          [
           0.8888888888888888,
           "#b5de2b"
          ],
          [
           1,
           "#fde725"
          ]
         ],
         "reversescale": false,
         "showscale": true,
         "type": "heatmap",
         "x": [
          "Common Buzzard",
          "Common Kestrel",
          "Common Snipe",
          "Eurasian Curlew",
          "European Herring Gull",
          "European Robin",
          "Meadow Pipit",
          "Mute Swan",
          "Northern Lapwing",
          "Rook",
          "Tundra Swan",
          "Tundra Swan (Bewicks)"
         ],
         "y": [
          "Common Buzzard",
          "Common Kestrel",
          "Common Snipe",
          "Eurasian Curlew",
          "European Herring Gull",
          "European Robin",
          "Meadow Pipit",
          "Mute Swan",
          "Northern Lapwing",
          "Rook",
          "Tundra Swan",
          "Tundra Swan (Bewicks)"
         ],
         "z": [
          [
           17,
           0,
           6,
           0,
           0,
           0,
           0,
           1,
           1,
           0,
           0,
           0
          ],
          [
           0,
           29,
           1,
           0,
           0,
           1,
           1,
           0,
           0,
           0,
           0,
           0
          ],
          [
           4,
           0,
           34,
           0,
           0,
           0,
           0,
           1,
           2,
           0,
           1,
           0
          ],
          [
           1,
           2,
           7,
           20,
           0,
           1,
           0,
           0,
           0,
           0,
           0,
           0
          ],
          [
           0,
           1,
           2,
           0,
           28,
           0,
           0,
           1,
           0,
           0,
           1,
           2
          ],
          [
           0,
           0,
           6,
           0,
           0,
           23,
           2,
           0,
           0,
           0,
           0,
           0
          ],
          [
           0,
           1,
           4,
           0,
           0,
           0,
           25,
           0,
           0,
           0,
           1,
           0
          ],
          [
           1,
           0,
           11,
           1,
           0,
           0,
           0,
           14,
           0,
           0,
           3,
           0
          ],
          [
           1,
           0,
           10,
           0,
           2,
           2,
           0,
           1,
           17,
           0,
           0,
           0
          ],
          [
           0,
           0,
           6,
           0,
           1,
           0,
           0,
           0,
           0,
           34,
           0,
           0
          ],
          [
           2,
           0,
           7,
           0,
           0,
           0,
           0,
           3,
           0,
           2,
           16,
           5
          ],
          [
           0,
           0,
           5,
           0,
           1,
           0,
           0,
           1,
           1,
           1,
           5,
           17
          ]
         ]
        }
       ],
       "layout": {
        "annotations": [
         {
          "font": {
           "color": "#000000"
          },
          "showarrow": false,
          "text": "17",
          "x": "Common Buzzard",
          "xref": "x",
          "y": "Common Buzzard",
          "yref": "y"
         },
         {
          "font": {
           "color": "#FFFFFF"
          },
          "showarrow": false,
          "text": "0",
          "x": "Common Kestrel",
          "xref": "x",
          "y": "Common Buzzard",
          "yref": "y"
         },
         {
          "font": {
           "color": "#FFFFFF"
          },
          "showarrow": false,
          "text": "6",
          "x": "Common Snipe",
          "xref": "x",
          "y": "Common Buzzard",
          "yref": "y"
         },
         {
          "font": {
           "color": "#FFFFFF"
          },
          "showarrow": false,
          "text": "0",
          "x": "Eurasian Curlew",
          "xref": "x",
          "y": "Common Buzzard",
          "yref": "y"
         },
         {
          "font": {
           "color": "#FFFFFF"
          },
          "showarrow": false,
          "text": "0",
          "x": "European Herring Gull",
          "xref": "x",
          "y": "Common Buzzard",
          "yref": "y"
         },
         {
          "font": {
           "color": "#FFFFFF"
          },
          "showarrow": false,
          "text": "0",
          "x": "European Robin",
          "xref": "x",
          "y": "Common Buzzard",
          "yref": "y"
         },
         {
          "font": {
           "color": "#FFFFFF"
          },
          "showarrow": false,
          "text": "0",
          "x": "Meadow Pipit",
          "xref": "x",
          "y": "Common Buzzard",
          "yref": "y"
         },
         {
          "font": {
           "color": "#FFFFFF"
          },
          "showarrow": false,
          "text": "1",
          "x": "Mute Swan",
          "xref": "x",
          "y": "Common Buzzard",
          "yref": "y"
         },
         {
          "font": {
           "color": "#FFFFFF"
          },
          "showarrow": false,
          "text": "1",
          "x": "Northern Lapwing",
          "xref": "x",
          "y": "Common Buzzard",
          "yref": "y"
         },
         {
          "font": {
           "color": "#FFFFFF"
          },
          "showarrow": false,
          "text": "0",
          "x": "Rook",
          "xref": "x",
          "y": "Common Buzzard",
          "yref": "y"
         },
         {
          "font": {
           "color": "#FFFFFF"
          },
          "showarrow": false,
          "text": "0",
          "x": "Tundra Swan",
          "xref": "x",
          "y": "Common Buzzard",
          "yref": "y"
         },
         {
          "font": {
           "color": "#FFFFFF"
          },
          "showarrow": false,
          "text": "0",
          "x": "Tundra Swan (Bewicks)",
          "xref": "x",
          "y": "Common Buzzard",
          "yref": "y"
         },
         {
          "font": {
           "color": "#FFFFFF"
          },
          "showarrow": false,
          "text": "0",
          "x": "Common Buzzard",
          "xref": "x",
          "y": "Common Kestrel",
          "yref": "y"
         },
         {
          "font": {
           "color": "#000000"
          },
          "showarrow": false,
          "text": "29",
          "x": "Common Kestrel",
          "xref": "x",
          "y": "Common Kestrel",
          "yref": "y"
         },
         {
          "font": {
           "color": "#FFFFFF"
          },
          "showarrow": false,
          "text": "1",
          "x": "Common Snipe",
          "xref": "x",
          "y": "Common Kestrel",
          "yref": "y"
         },
         {
          "font": {
           "color": "#FFFFFF"
          },
          "showarrow": false,
          "text": "0",
          "x": "Eurasian Curlew",
          "xref": "x",
          "y": "Common Kestrel",
          "yref": "y"
         },
         {
          "font": {
           "color": "#FFFFFF"
          },
          "showarrow": false,
          "text": "0",
          "x": "European Herring Gull",
          "xref": "x",
          "y": "Common Kestrel",
          "yref": "y"
         },
         {
          "font": {
           "color": "#FFFFFF"
          },
          "showarrow": false,
          "text": "1",
          "x": "European Robin",
          "xref": "x",
          "y": "Common Kestrel",
          "yref": "y"
         },
         {
          "font": {
           "color": "#FFFFFF"
          },
          "showarrow": false,
          "text": "1",
          "x": "Meadow Pipit",
          "xref": "x",
          "y": "Common Kestrel",
          "yref": "y"
         },
         {
          "font": {
           "color": "#FFFFFF"
          },
          "showarrow": false,
          "text": "0",
          "x": "Mute Swan",
          "xref": "x",
          "y": "Common Kestrel",
          "yref": "y"
         },
         {
          "font": {
           "color": "#FFFFFF"
          },
          "showarrow": false,
          "text": "0",
          "x": "Northern Lapwing",
          "xref": "x",
          "y": "Common Kestrel",
          "yref": "y"
         },
         {
          "font": {
           "color": "#FFFFFF"
          },
          "showarrow": false,
          "text": "0",
          "x": "Rook",
          "xref": "x",
          "y": "Common Kestrel",
          "yref": "y"
         },
         {
          "font": {
           "color": "#FFFFFF"
          },
          "showarrow": false,
          "text": "0",
          "x": "Tundra Swan",
          "xref": "x",
          "y": "Common Kestrel",
          "yref": "y"
         },
         {
          "font": {
           "color": "#FFFFFF"
          },
          "showarrow": false,
          "text": "0",
          "x": "Tundra Swan (Bewicks)",
          "xref": "x",
          "y": "Common Kestrel",
          "yref": "y"
         },
         {
          "font": {
           "color": "#FFFFFF"
          },
          "showarrow": false,
          "text": "4",
          "x": "Common Buzzard",
          "xref": "x",
          "y": "Common Snipe",
          "yref": "y"
         },
         {
          "font": {
           "color": "#FFFFFF"
          },
          "showarrow": false,
          "text": "0",
          "x": "Common Kestrel",
          "xref": "x",
          "y": "Common Snipe",
          "yref": "y"
         },
         {
          "font": {
           "color": "#000000"
          },
          "showarrow": false,
          "text": "34",
          "x": "Common Snipe",
          "xref": "x",
          "y": "Common Snipe",
          "yref": "y"
         },
         {
          "font": {
           "color": "#FFFFFF"
          },
          "showarrow": false,
          "text": "0",
          "x": "Eurasian Curlew",
          "xref": "x",
          "y": "Common Snipe",
          "yref": "y"
         },
         {
          "font": {
           "color": "#FFFFFF"
          },
          "showarrow": false,
          "text": "0",
          "x": "European Herring Gull",
          "xref": "x",
          "y": "Common Snipe",
          "yref": "y"
         },
         {
          "font": {
           "color": "#FFFFFF"
          },
          "showarrow": false,
          "text": "0",
          "x": "European Robin",
          "xref": "x",
          "y": "Common Snipe",
          "yref": "y"
         },
         {
          "font": {
           "color": "#FFFFFF"
          },
          "showarrow": false,
          "text": "0",
          "x": "Meadow Pipit",
          "xref": "x",
          "y": "Common Snipe",
          "yref": "y"
         },
         {
          "font": {
           "color": "#FFFFFF"
          },
          "showarrow": false,
          "text": "1",
          "x": "Mute Swan",
          "xref": "x",
          "y": "Common Snipe",
          "yref": "y"
         },
         {
          "font": {
           "color": "#FFFFFF"
          },
          "showarrow": false,
          "text": "2",
          "x": "Northern Lapwing",
          "xref": "x",
          "y": "Common Snipe",
          "yref": "y"
         },
         {
          "font": {
           "color": "#FFFFFF"
          },
          "showarrow": false,
          "text": "0",
          "x": "Rook",
          "xref": "x",
          "y": "Common Snipe",
          "yref": "y"
         },
         {
          "font": {
           "color": "#FFFFFF"
          },
          "showarrow": false,
          "text": "1",
          "x": "Tundra Swan",
          "xref": "x",
          "y": "Common Snipe",
          "yref": "y"
         },
         {
          "font": {
           "color": "#FFFFFF"
          },
          "showarrow": false,
          "text": "0",
          "x": "Tundra Swan (Bewicks)",
          "xref": "x",
          "y": "Common Snipe",
          "yref": "y"
         },
         {
          "font": {
           "color": "#FFFFFF"
          },
          "showarrow": false,
          "text": "1",
          "x": "Common Buzzard",
          "xref": "x",
          "y": "Eurasian Curlew",
          "yref": "y"
         },
         {
          "font": {
           "color": "#FFFFFF"
          },
          "showarrow": false,
          "text": "2",
          "x": "Common Kestrel",
          "xref": "x",
          "y": "Eurasian Curlew",
          "yref": "y"
         },
         {
          "font": {
           "color": "#FFFFFF"
          },
          "showarrow": false,
          "text": "7",
          "x": "Common Snipe",
          "xref": "x",
          "y": "Eurasian Curlew",
          "yref": "y"
         },
         {
          "font": {
           "color": "#000000"
          },
          "showarrow": false,
          "text": "20",
          "x": "Eurasian Curlew",
          "xref": "x",
          "y": "Eurasian Curlew",
          "yref": "y"
         },
         {
          "font": {
           "color": "#FFFFFF"
          },
          "showarrow": false,
          "text": "0",
          "x": "European Herring Gull",
          "xref": "x",
          "y": "Eurasian Curlew",
          "yref": "y"
         },
         {
          "font": {
           "color": "#FFFFFF"
          },
          "showarrow": false,
          "text": "1",
          "x": "European Robin",
          "xref": "x",
          "y": "Eurasian Curlew",
          "yref": "y"
         },
         {
          "font": {
           "color": "#FFFFFF"
          },
          "showarrow": false,
          "text": "0",
          "x": "Meadow Pipit",
          "xref": "x",
          "y": "Eurasian Curlew",
          "yref": "y"
         },
         {
          "font": {
           "color": "#FFFFFF"
          },
          "showarrow": false,
          "text": "0",
          "x": "Mute Swan",
          "xref": "x",
          "y": "Eurasian Curlew",
          "yref": "y"
         },
         {
          "font": {
           "color": "#FFFFFF"
          },
          "showarrow": false,
          "text": "0",
          "x": "Northern Lapwing",
          "xref": "x",
          "y": "Eurasian Curlew",
          "yref": "y"
         },
         {
          "font": {
           "color": "#FFFFFF"
          },
          "showarrow": false,
          "text": "0",
          "x": "Rook",
          "xref": "x",
          "y": "Eurasian Curlew",
          "yref": "y"
         },
         {
          "font": {
           "color": "#FFFFFF"
          },
          "showarrow": false,
          "text": "0",
          "x": "Tundra Swan",
          "xref": "x",
          "y": "Eurasian Curlew",
          "yref": "y"
         },
         {
          "font": {
           "color": "#FFFFFF"
          },
          "showarrow": false,
          "text": "0",
          "x": "Tundra Swan (Bewicks)",
          "xref": "x",
          "y": "Eurasian Curlew",
          "yref": "y"
         },
         {
          "font": {
           "color": "#FFFFFF"
          },
          "showarrow": false,
          "text": "0",
          "x": "Common Buzzard",
          "xref": "x",
          "y": "European Herring Gull",
          "yref": "y"
         },
         {
          "font": {
           "color": "#FFFFFF"
          },
          "showarrow": false,
          "text": "1",
          "x": "Common Kestrel",
          "xref": "x",
          "y": "European Herring Gull",
          "yref": "y"
         },
         {
          "font": {
           "color": "#FFFFFF"
          },
          "showarrow": false,
          "text": "2",
          "x": "Common Snipe",
          "xref": "x",
          "y": "European Herring Gull",
          "yref": "y"
         },
         {
          "font": {
           "color": "#FFFFFF"
          },
          "showarrow": false,
          "text": "0",
          "x": "Eurasian Curlew",
          "xref": "x",
          "y": "European Herring Gull",
          "yref": "y"
         },
         {
          "font": {
           "color": "#000000"
          },
          "showarrow": false,
          "text": "28",
          "x": "European Herring Gull",
          "xref": "x",
          "y": "European Herring Gull",
          "yref": "y"
         },
         {
          "font": {
           "color": "#FFFFFF"
          },
          "showarrow": false,
          "text": "0",
          "x": "European Robin",
          "xref": "x",
          "y": "European Herring Gull",
          "yref": "y"
         },
         {
          "font": {
           "color": "#FFFFFF"
          },
          "showarrow": false,
          "text": "0",
          "x": "Meadow Pipit",
          "xref": "x",
          "y": "European Herring Gull",
          "yref": "y"
         },
         {
          "font": {
           "color": "#FFFFFF"
          },
          "showarrow": false,
          "text": "1",
          "x": "Mute Swan",
          "xref": "x",
          "y": "European Herring Gull",
          "yref": "y"
         },
         {
          "font": {
           "color": "#FFFFFF"
          },
          "showarrow": false,
          "text": "0",
          "x": "Northern Lapwing",
          "xref": "x",
          "y": "European Herring Gull",
          "yref": "y"
         },
         {
          "font": {
           "color": "#FFFFFF"
          },
          "showarrow": false,
          "text": "0",
          "x": "Rook",
          "xref": "x",
          "y": "European Herring Gull",
          "yref": "y"
         },
         {
          "font": {
           "color": "#FFFFFF"
          },
          "showarrow": false,
          "text": "1",
          "x": "Tundra Swan",
          "xref": "x",
          "y": "European Herring Gull",
          "yref": "y"
         },
         {
          "font": {
           "color": "#FFFFFF"
          },
          "showarrow": false,
          "text": "2",
          "x": "Tundra Swan (Bewicks)",
          "xref": "x",
          "y": "European Herring Gull",
          "yref": "y"
         },
         {
          "font": {
           "color": "#FFFFFF"
          },
          "showarrow": false,
          "text": "0",
          "x": "Common Buzzard",
          "xref": "x",
          "y": "European Robin",
          "yref": "y"
         },
         {
          "font": {
           "color": "#FFFFFF"
          },
          "showarrow": false,
          "text": "0",
          "x": "Common Kestrel",
          "xref": "x",
          "y": "European Robin",
          "yref": "y"
         },
         {
          "font": {
           "color": "#FFFFFF"
          },
          "showarrow": false,
          "text": "6",
          "x": "Common Snipe",
          "xref": "x",
          "y": "European Robin",
          "yref": "y"
         },
         {
          "font": {
           "color": "#FFFFFF"
          },
          "showarrow": false,
          "text": "0",
          "x": "Eurasian Curlew",
          "xref": "x",
          "y": "European Robin",
          "yref": "y"
         },
         {
          "font": {
           "color": "#FFFFFF"
          },
          "showarrow": false,
          "text": "0",
          "x": "European Herring Gull",
          "xref": "x",
          "y": "European Robin",
          "yref": "y"
         },
         {
          "font": {
           "color": "#000000"
          },
          "showarrow": false,
          "text": "23",
          "x": "European Robin",
          "xref": "x",
          "y": "European Robin",
          "yref": "y"
         },
         {
          "font": {
           "color": "#FFFFFF"
          },
          "showarrow": false,
          "text": "2",
          "x": "Meadow Pipit",
          "xref": "x",
          "y": "European Robin",
          "yref": "y"
         },
         {
          "font": {
           "color": "#FFFFFF"
          },
          "showarrow": false,
          "text": "0",
          "x": "Mute Swan",
          "xref": "x",
          "y": "European Robin",
          "yref": "y"
         },
         {
          "font": {
           "color": "#FFFFFF"
          },
          "showarrow": false,
          "text": "0",
          "x": "Northern Lapwing",
          "xref": "x",
          "y": "European Robin",
          "yref": "y"
         },
         {
          "font": {
           "color": "#FFFFFF"
          },
          "showarrow": false,
          "text": "0",
          "x": "Rook",
          "xref": "x",
          "y": "European Robin",
          "yref": "y"
         },
         {
          "font": {
           "color": "#FFFFFF"
          },
          "showarrow": false,
          "text": "0",
          "x": "Tundra Swan",
          "xref": "x",
          "y": "European Robin",
          "yref": "y"
         },
         {
          "font": {
           "color": "#FFFFFF"
          },
          "showarrow": false,
          "text": "0",
          "x": "Tundra Swan (Bewicks)",
          "xref": "x",
          "y": "European Robin",
          "yref": "y"
         },
         {
          "font": {
           "color": "#FFFFFF"
          },
          "showarrow": false,
          "text": "0",
          "x": "Common Buzzard",
          "xref": "x",
          "y": "Meadow Pipit",
          "yref": "y"
         },
         {
          "font": {
           "color": "#FFFFFF"
          },
          "showarrow": false,
          "text": "1",
          "x": "Common Kestrel",
          "xref": "x",
          "y": "Meadow Pipit",
          "yref": "y"
         },
         {
          "font": {
           "color": "#FFFFFF"
          },
          "showarrow": false,
          "text": "4",
          "x": "Common Snipe",
          "xref": "x",
          "y": "Meadow Pipit",
          "yref": "y"
         },
         {
          "font": {
           "color": "#FFFFFF"
          },
          "showarrow": false,
          "text": "0",
          "x": "Eurasian Curlew",
          "xref": "x",
          "y": "Meadow Pipit",
          "yref": "y"
         },
         {
          "font": {
           "color": "#FFFFFF"
          },
          "showarrow": false,
          "text": "0",
          "x": "European Herring Gull",
          "xref": "x",
          "y": "Meadow Pipit",
          "yref": "y"
         },
         {
          "font": {
           "color": "#FFFFFF"
          },
          "showarrow": false,
          "text": "0",
          "x": "European Robin",
          "xref": "x",
          "y": "Meadow Pipit",
          "yref": "y"
         },
         {
          "font": {
           "color": "#000000"
          },
          "showarrow": false,
          "text": "25",
          "x": "Meadow Pipit",
          "xref": "x",
          "y": "Meadow Pipit",
          "yref": "y"
         },
         {
          "font": {
           "color": "#FFFFFF"
          },
          "showarrow": false,
          "text": "0",
          "x": "Mute Swan",
          "xref": "x",
          "y": "Meadow Pipit",
          "yref": "y"
         },
         {
          "font": {
           "color": "#FFFFFF"
          },
          "showarrow": false,
          "text": "0",
          "x": "Northern Lapwing",
          "xref": "x",
          "y": "Meadow Pipit",
          "yref": "y"
         },
         {
          "font": {
           "color": "#FFFFFF"
          },
          "showarrow": false,
          "text": "0",
          "x": "Rook",
          "xref": "x",
          "y": "Meadow Pipit",
          "yref": "y"
         },
         {
          "font": {
           "color": "#FFFFFF"
          },
          "showarrow": false,
          "text": "1",
          "x": "Tundra Swan",
          "xref": "x",
          "y": "Meadow Pipit",
          "yref": "y"
         },
         {
          "font": {
           "color": "#FFFFFF"
          },
          "showarrow": false,
          "text": "0",
          "x": "Tundra Swan (Bewicks)",
          "xref": "x",
          "y": "Meadow Pipit",
          "yref": "y"
         },
         {
          "font": {
           "color": "#FFFFFF"
          },
          "showarrow": false,
          "text": "1",
          "x": "Common Buzzard",
          "xref": "x",
          "y": "Mute Swan",
          "yref": "y"
         },
         {
          "font": {
           "color": "#FFFFFF"
          },
          "showarrow": false,
          "text": "0",
          "x": "Common Kestrel",
          "xref": "x",
          "y": "Mute Swan",
          "yref": "y"
         },
         {
          "font": {
           "color": "#FFFFFF"
          },
          "showarrow": false,
          "text": "11",
          "x": "Common Snipe",
          "xref": "x",
          "y": "Mute Swan",
          "yref": "y"
         },
         {
          "font": {
           "color": "#FFFFFF"
          },
          "showarrow": false,
          "text": "1",
          "x": "Eurasian Curlew",
          "xref": "x",
          "y": "Mute Swan",
          "yref": "y"
         },
         {
          "font": {
           "color": "#FFFFFF"
          },
          "showarrow": false,
          "text": "0",
          "x": "European Herring Gull",
          "xref": "x",
          "y": "Mute Swan",
          "yref": "y"
         },
         {
          "font": {
           "color": "#FFFFFF"
          },
          "showarrow": false,
          "text": "0",
          "x": "European Robin",
          "xref": "x",
          "y": "Mute Swan",
          "yref": "y"
         },
         {
          "font": {
           "color": "#FFFFFF"
          },
          "showarrow": false,
          "text": "0",
          "x": "Meadow Pipit",
          "xref": "x",
          "y": "Mute Swan",
          "yref": "y"
         },
         {
          "font": {
           "color": "#FFFFFF"
          },
          "showarrow": false,
          "text": "14",
          "x": "Mute Swan",
          "xref": "x",
          "y": "Mute Swan",
          "yref": "y"
         },
         {
          "font": {
           "color": "#FFFFFF"
          },
          "showarrow": false,
          "text": "0",
          "x": "Northern Lapwing",
          "xref": "x",
          "y": "Mute Swan",
          "yref": "y"
         },
         {
          "font": {
           "color": "#FFFFFF"
          },
          "showarrow": false,
          "text": "0",
          "x": "Rook",
          "xref": "x",
          "y": "Mute Swan",
          "yref": "y"
         },
         {
          "font": {
           "color": "#FFFFFF"
          },
          "showarrow": false,
          "text": "3",
          "x": "Tundra Swan",
          "xref": "x",
          "y": "Mute Swan",
          "yref": "y"
         },
         {
          "font": {
           "color": "#FFFFFF"
          },
          "showarrow": false,
          "text": "0",
          "x": "Tundra Swan (Bewicks)",
          "xref": "x",
          "y": "Mute Swan",
          "yref": "y"
         },
         {
          "font": {
           "color": "#FFFFFF"
          },
          "showarrow": false,
          "text": "1",
          "x": "Common Buzzard",
          "xref": "x",
          "y": "Northern Lapwing",
          "yref": "y"
         },
         {
          "font": {
           "color": "#FFFFFF"
          },
          "showarrow": false,
          "text": "0",
          "x": "Common Kestrel",
          "xref": "x",
          "y": "Northern Lapwing",
          "yref": "y"
         },
         {
          "font": {
           "color": "#FFFFFF"
          },
          "showarrow": false,
          "text": "10",
          "x": "Common Snipe",
          "xref": "x",
          "y": "Northern Lapwing",
          "yref": "y"
         },
         {
          "font": {
           "color": "#FFFFFF"
          },
          "showarrow": false,
          "text": "0",
          "x": "Eurasian Curlew",
          "xref": "x",
          "y": "Northern Lapwing",
          "yref": "y"
         },
         {
          "font": {
           "color": "#FFFFFF"
          },
          "showarrow": false,
          "text": "2",
          "x": "European Herring Gull",
          "xref": "x",
          "y": "Northern Lapwing",
          "yref": "y"
         },
         {
          "font": {
           "color": "#FFFFFF"
          },
          "showarrow": false,
          "text": "2",
          "x": "European Robin",
          "xref": "x",
          "y": "Northern Lapwing",
          "yref": "y"
         },
         {
          "font": {
           "color": "#FFFFFF"
          },
          "showarrow": false,
          "text": "0",
          "x": "Meadow Pipit",
          "xref": "x",
          "y": "Northern Lapwing",
          "yref": "y"
         },
         {
          "font": {
           "color": "#FFFFFF"
          },
          "showarrow": false,
          "text": "1",
          "x": "Mute Swan",
          "xref": "x",
          "y": "Northern Lapwing",
          "yref": "y"
         },
         {
          "font": {
           "color": "#000000"
          },
          "showarrow": false,
          "text": "17",
          "x": "Northern Lapwing",
          "xref": "x",
          "y": "Northern Lapwing",
          "yref": "y"
         },
         {
          "font": {
           "color": "#FFFFFF"
          },
          "showarrow": false,
          "text": "0",
          "x": "Rook",
          "xref": "x",
          "y": "Northern Lapwing",
          "yref": "y"
         },
         {
          "font": {
           "color": "#FFFFFF"
          },
          "showarrow": false,
          "text": "0",
          "x": "Tundra Swan",
          "xref": "x",
          "y": "Northern Lapwing",
          "yref": "y"
         },
         {
          "font": {
           "color": "#FFFFFF"
          },
          "showarrow": false,
          "text": "0",
          "x": "Tundra Swan (Bewicks)",
          "xref": "x",
          "y": "Northern Lapwing",
          "yref": "y"
         },
         {
          "font": {
           "color": "#FFFFFF"
          },
          "showarrow": false,
          "text": "0",
          "x": "Common Buzzard",
          "xref": "x",
          "y": "Rook",
          "yref": "y"
         },
         {
          "font": {
           "color": "#FFFFFF"
          },
          "showarrow": false,
          "text": "0",
          "x": "Common Kestrel",
          "xref": "x",
          "y": "Rook",
          "yref": "y"
         },
         {
          "font": {
           "color": "#FFFFFF"
          },
          "showarrow": false,
          "text": "6",
          "x": "Common Snipe",
          "xref": "x",
          "y": "Rook",
          "yref": "y"
         },
         {
          "font": {
           "color": "#FFFFFF"
          },
          "showarrow": false,
          "text": "0",
          "x": "Eurasian Curlew",
          "xref": "x",
          "y": "Rook",
          "yref": "y"
         },
         {
          "font": {
           "color": "#FFFFFF"
          },
          "showarrow": false,
          "text": "1",
          "x": "European Herring Gull",
          "xref": "x",
          "y": "Rook",
          "yref": "y"
         },
         {
          "font": {
           "color": "#FFFFFF"
          },
          "showarrow": false,
          "text": "0",
          "x": "European Robin",
          "xref": "x",
          "y": "Rook",
          "yref": "y"
         },
         {
          "font": {
           "color": "#FFFFFF"
          },
          "showarrow": false,
          "text": "0",
          "x": "Meadow Pipit",
          "xref": "x",
          "y": "Rook",
          "yref": "y"
         },
         {
          "font": {
           "color": "#FFFFFF"
          },
          "showarrow": false,
          "text": "0",
          "x": "Mute Swan",
          "xref": "x",
          "y": "Rook",
          "yref": "y"
         },
         {
          "font": {
           "color": "#FFFFFF"
          },
          "showarrow": false,
          "text": "0",
          "x": "Northern Lapwing",
          "xref": "x",
          "y": "Rook",
          "yref": "y"
         },
         {
          "font": {
           "color": "#000000"
          },
          "showarrow": false,
          "text": "34",
          "x": "Rook",
          "xref": "x",
          "y": "Rook",
          "yref": "y"
         },
         {
          "font": {
           "color": "#FFFFFF"
          },
          "showarrow": false,
          "text": "0",
          "x": "Tundra Swan",
          "xref": "x",
          "y": "Rook",
          "yref": "y"
         },
         {
          "font": {
           "color": "#FFFFFF"
          },
          "showarrow": false,
          "text": "0",
          "x": "Tundra Swan (Bewicks)",
          "xref": "x",
          "y": "Rook",
          "yref": "y"
         },
         {
          "font": {
           "color": "#FFFFFF"
          },
          "showarrow": false,
          "text": "2",
          "x": "Common Buzzard",
          "xref": "x",
          "y": "Tundra Swan",
          "yref": "y"
         },
         {
          "font": {
           "color": "#FFFFFF"
          },
          "showarrow": false,
          "text": "0",
          "x": "Common Kestrel",
          "xref": "x",
          "y": "Tundra Swan",
          "yref": "y"
         },
         {
          "font": {
           "color": "#FFFFFF"
          },
          "showarrow": false,
          "text": "7",
          "x": "Common Snipe",
          "xref": "x",
          "y": "Tundra Swan",
          "yref": "y"
         },
         {
          "font": {
           "color": "#FFFFFF"
          },
          "showarrow": false,
          "text": "0",
          "x": "Eurasian Curlew",
          "xref": "x",
          "y": "Tundra Swan",
          "yref": "y"
         },
         {
          "font": {
           "color": "#FFFFFF"
          },
          "showarrow": false,
          "text": "0",
          "x": "European Herring Gull",
          "xref": "x",
          "y": "Tundra Swan",
          "yref": "y"
         },
         {
          "font": {
           "color": "#FFFFFF"
          },
          "showarrow": false,
          "text": "0",
          "x": "European Robin",
          "xref": "x",
          "y": "Tundra Swan",
          "yref": "y"
         },
         {
          "font": {
           "color": "#FFFFFF"
          },
          "showarrow": false,
          "text": "0",
          "x": "Meadow Pipit",
          "xref": "x",
          "y": "Tundra Swan",
          "yref": "y"
         },
         {
          "font": {
           "color": "#FFFFFF"
          },
          "showarrow": false,
          "text": "3",
          "x": "Mute Swan",
          "xref": "x",
          "y": "Tundra Swan",
          "yref": "y"
         },
         {
          "font": {
           "color": "#FFFFFF"
          },
          "showarrow": false,
          "text": "0",
          "x": "Northern Lapwing",
          "xref": "x",
          "y": "Tundra Swan",
          "yref": "y"
         },
         {
          "font": {
           "color": "#FFFFFF"
          },
          "showarrow": false,
          "text": "2",
          "x": "Rook",
          "xref": "x",
          "y": "Tundra Swan",
          "yref": "y"
         },
         {
          "font": {
           "color": "#FFFFFF"
          },
          "showarrow": false,
          "text": "16",
          "x": "Tundra Swan",
          "xref": "x",
          "y": "Tundra Swan",
          "yref": "y"
         },
         {
          "font": {
           "color": "#FFFFFF"
          },
          "showarrow": false,
          "text": "5",
          "x": "Tundra Swan (Bewicks)",
          "xref": "x",
          "y": "Tundra Swan",
          "yref": "y"
         },
         {
          "font": {
           "color": "#FFFFFF"
          },
          "showarrow": false,
          "text": "0",
          "x": "Common Buzzard",
          "xref": "x",
          "y": "Tundra Swan (Bewicks)",
          "yref": "y"
         },
         {
          "font": {
           "color": "#FFFFFF"
          },
          "showarrow": false,
          "text": "0",
          "x": "Common Kestrel",
          "xref": "x",
          "y": "Tundra Swan (Bewicks)",
          "yref": "y"
         },
         {
          "font": {
           "color": "#FFFFFF"
          },
          "showarrow": false,
          "text": "5",
          "x": "Common Snipe",
          "xref": "x",
          "y": "Tundra Swan (Bewicks)",
          "yref": "y"
         },
         {
          "font": {
           "color": "#FFFFFF"
          },
          "showarrow": false,
          "text": "0",
          "x": "Eurasian Curlew",
          "xref": "x",
          "y": "Tundra Swan (Bewicks)",
          "yref": "y"
         },
         {
          "font": {
           "color": "#FFFFFF"
          },
          "showarrow": false,
          "text": "1",
          "x": "European Herring Gull",
          "xref": "x",
          "y": "Tundra Swan (Bewicks)",
          "yref": "y"
         },
         {
          "font": {
           "color": "#FFFFFF"
          },
          "showarrow": false,
          "text": "0",
          "x": "European Robin",
          "xref": "x",
          "y": "Tundra Swan (Bewicks)",
          "yref": "y"
         },
         {
          "font": {
           "color": "#FFFFFF"
          },
          "showarrow": false,
          "text": "0",
          "x": "Meadow Pipit",
          "xref": "x",
          "y": "Tundra Swan (Bewicks)",
          "yref": "y"
         },
         {
          "font": {
           "color": "#FFFFFF"
          },
          "showarrow": false,
          "text": "1",
          "x": "Mute Swan",
          "xref": "x",
          "y": "Tundra Swan (Bewicks)",
          "yref": "y"
         },
         {
          "font": {
           "color": "#FFFFFF"
          },
          "showarrow": false,
          "text": "1",
          "x": "Northern Lapwing",
          "xref": "x",
          "y": "Tundra Swan (Bewicks)",
          "yref": "y"
         },
         {
          "font": {
           "color": "#FFFFFF"
          },
          "showarrow": false,
          "text": "1",
          "x": "Rook",
          "xref": "x",
          "y": "Tundra Swan (Bewicks)",
          "yref": "y"
         },
         {
          "font": {
           "color": "#FFFFFF"
          },
          "showarrow": false,
          "text": "5",
          "x": "Tundra Swan",
          "xref": "x",
          "y": "Tundra Swan (Bewicks)",
          "yref": "y"
         },
         {
          "font": {
           "color": "#000000"
          },
          "showarrow": false,
          "text": "17",
          "x": "Tundra Swan (Bewicks)",
          "xref": "x",
          "y": "Tundra Swan (Bewicks)",
          "yref": "y"
         },
         {
          "font": {
           "color": "black",
           "size": 14
          },
          "showarrow": false,
          "text": "Predicted value",
          "x": 0.5,
          "xref": "paper",
          "y": -0.15,
          "yref": "paper"
         },
         {
          "font": {
           "color": "black",
           "size": 14
          },
          "showarrow": false,
          "text": "Real value",
          "textangle": -90,
          "x": -0.26,
          "xref": "paper",
          "y": 0.5,
          "yref": "paper"
         }
        ],
        "margin": {
         "l": 200,
         "t": 50
        },
        "template": {
         "data": {
          "bar": [
           {
            "error_x": {
             "color": "#2a3f5f"
            },
            "error_y": {
             "color": "#2a3f5f"
            },
            "marker": {
             "line": {
              "color": "#E5ECF6",
              "width": 0.5
             },
             "pattern": {
              "fillmode": "overlay",
              "size": 10,
              "solidity": 0.2
             }
            },
            "type": "bar"
           }
          ],
          "barpolar": [
           {
            "marker": {
             "line": {
              "color": "#E5ECF6",
              "width": 0.5
             },
             "pattern": {
              "fillmode": "overlay",
              "size": 10,
              "solidity": 0.2
             }
            },
            "type": "barpolar"
           }
          ],
          "carpet": [
           {
            "aaxis": {
             "endlinecolor": "#2a3f5f",
             "gridcolor": "white",
             "linecolor": "white",
             "minorgridcolor": "white",
             "startlinecolor": "#2a3f5f"
            },
            "baxis": {
             "endlinecolor": "#2a3f5f",
             "gridcolor": "white",
             "linecolor": "white",
             "minorgridcolor": "white",
             "startlinecolor": "#2a3f5f"
            },
            "type": "carpet"
           }
          ],
          "choropleth": [
           {
            "colorbar": {
             "outlinewidth": 0,
             "ticks": ""
            },
            "type": "choropleth"
           }
          ],
          "contour": [
           {
            "colorbar": {
             "outlinewidth": 0,
             "ticks": ""
            },
            "colorscale": [
             [
              0,
              "#0d0887"
             ],
             [
              0.1111111111111111,
              "#46039f"
             ],
             [
              0.2222222222222222,
              "#7201a8"
             ],
             [
              0.3333333333333333,
              "#9c179e"
             ],
             [
              0.4444444444444444,
              "#bd3786"
             ],
             [
              0.5555555555555556,
              "#d8576b"
             ],
             [
              0.6666666666666666,
              "#ed7953"
             ],
             [
              0.7777777777777778,
              "#fb9f3a"
             ],
             [
              0.8888888888888888,
              "#fdca26"
             ],
             [
              1,
              "#f0f921"
             ]
            ],
            "type": "contour"
           }
          ],
          "contourcarpet": [
           {
            "colorbar": {
             "outlinewidth": 0,
             "ticks": ""
            },
            "type": "contourcarpet"
           }
          ],
          "heatmap": [
           {
            "colorbar": {
             "outlinewidth": 0,
             "ticks": ""
            },
            "colorscale": [
             [
              0,
              "#0d0887"
             ],
             [
              0.1111111111111111,
              "#46039f"
             ],
             [
              0.2222222222222222,
              "#7201a8"
             ],
             [
              0.3333333333333333,
              "#9c179e"
             ],
             [
              0.4444444444444444,
              "#bd3786"
             ],
             [
              0.5555555555555556,
              "#d8576b"
             ],
             [
              0.6666666666666666,
              "#ed7953"
             ],
             [
              0.7777777777777778,
              "#fb9f3a"
             ],
             [
              0.8888888888888888,
              "#fdca26"
             ],
             [
              1,
              "#f0f921"
             ]
            ],
            "type": "heatmap"
           }
          ],
          "heatmapgl": [
           {
            "colorbar": {
             "outlinewidth": 0,
             "ticks": ""
            },
            "colorscale": [
             [
              0,
              "#0d0887"
             ],
             [
              0.1111111111111111,
              "#46039f"
             ],
             [
              0.2222222222222222,
              "#7201a8"
             ],
             [
              0.3333333333333333,
              "#9c179e"
             ],
             [
              0.4444444444444444,
              "#bd3786"
             ],
             [
              0.5555555555555556,
              "#d8576b"
             ],
             [
              0.6666666666666666,
              "#ed7953"
             ],
             [
              0.7777777777777778,
              "#fb9f3a"
             ],
             [
              0.8888888888888888,
              "#fdca26"
             ],
             [
              1,
              "#f0f921"
             ]
            ],
            "type": "heatmapgl"
           }
          ],
          "histogram": [
           {
            "marker": {
             "pattern": {
              "fillmode": "overlay",
              "size": 10,
              "solidity": 0.2
             }
            },
            "type": "histogram"
           }
          ],
          "histogram2d": [
           {
            "colorbar": {
             "outlinewidth": 0,
             "ticks": ""
            },
            "colorscale": [
             [
              0,
              "#0d0887"
             ],
             [
              0.1111111111111111,
              "#46039f"
             ],
             [
              0.2222222222222222,
              "#7201a8"
             ],
             [
              0.3333333333333333,
              "#9c179e"
             ],
             [
              0.4444444444444444,
              "#bd3786"
             ],
             [
              0.5555555555555556,
              "#d8576b"
             ],
             [
              0.6666666666666666,
              "#ed7953"
             ],
             [
              0.7777777777777778,
              "#fb9f3a"
             ],
             [
              0.8888888888888888,
              "#fdca26"
             ],
             [
              1,
              "#f0f921"
             ]
            ],
            "type": "histogram2d"
           }
          ],
          "histogram2dcontour": [
           {
            "colorbar": {
             "outlinewidth": 0,
             "ticks": ""
            },
            "colorscale": [
             [
              0,
              "#0d0887"
             ],
             [
              0.1111111111111111,
              "#46039f"
             ],
             [
              0.2222222222222222,
              "#7201a8"
             ],
             [
              0.3333333333333333,
              "#9c179e"
             ],
             [
              0.4444444444444444,
              "#bd3786"
             ],
             [
              0.5555555555555556,
              "#d8576b"
             ],
             [
              0.6666666666666666,
              "#ed7953"
             ],
             [
              0.7777777777777778,
              "#fb9f3a"
             ],
             [
              0.8888888888888888,
              "#fdca26"
             ],
             [
              1,
              "#f0f921"
             ]
            ],
            "type": "histogram2dcontour"
           }
          ],
          "mesh3d": [
           {
            "colorbar": {
             "outlinewidth": 0,
             "ticks": ""
            },
            "type": "mesh3d"
           }
          ],
          "parcoords": [
           {
            "line": {
             "colorbar": {
              "outlinewidth": 0,
              "ticks": ""
             }
            },
            "type": "parcoords"
           }
          ],
          "pie": [
           {
            "automargin": true,
            "type": "pie"
           }
          ],
          "scatter": [
           {
            "marker": {
             "colorbar": {
              "outlinewidth": 0,
              "ticks": ""
             }
            },
            "type": "scatter"
           }
          ],
          "scatter3d": [
           {
            "line": {
             "colorbar": {
              "outlinewidth": 0,
              "ticks": ""
             }
            },
            "marker": {
             "colorbar": {
              "outlinewidth": 0,
              "ticks": ""
             }
            },
            "type": "scatter3d"
           }
          ],
          "scattercarpet": [
           {
            "marker": {
             "colorbar": {
              "outlinewidth": 0,
              "ticks": ""
             }
            },
            "type": "scattercarpet"
           }
          ],
          "scattergeo": [
           {
            "marker": {
             "colorbar": {
              "outlinewidth": 0,
              "ticks": ""
             }
            },
            "type": "scattergeo"
           }
          ],
          "scattergl": [
           {
            "marker": {
             "colorbar": {
              "outlinewidth": 0,
              "ticks": ""
             }
            },
            "type": "scattergl"
           }
          ],
          "scattermapbox": [
           {
            "marker": {
             "colorbar": {
              "outlinewidth": 0,
              "ticks": ""
             }
            },
            "type": "scattermapbox"
           }
          ],
          "scatterpolar": [
           {
            "marker": {
             "colorbar": {
              "outlinewidth": 0,
              "ticks": ""
             }
            },
            "type": "scatterpolar"
           }
          ],
          "scatterpolargl": [
           {
            "marker": {
             "colorbar": {
              "outlinewidth": 0,
              "ticks": ""
             }
            },
            "type": "scatterpolargl"
           }
          ],
          "scatterternary": [
           {
            "marker": {
             "colorbar": {
              "outlinewidth": 0,
              "ticks": ""
             }
            },
            "type": "scatterternary"
           }
          ],
          "surface": [
           {
            "colorbar": {
             "outlinewidth": 0,
             "ticks": ""
            },
            "colorscale": [
             [
              0,
              "#0d0887"
             ],
             [
              0.1111111111111111,
              "#46039f"
             ],
             [
              0.2222222222222222,
              "#7201a8"
             ],
             [
              0.3333333333333333,
              "#9c179e"
             ],
             [
              0.4444444444444444,
              "#bd3786"
             ],
             [
              0.5555555555555556,
              "#d8576b"
             ],
             [
              0.6666666666666666,
              "#ed7953"
             ],
             [
              0.7777777777777778,
              "#fb9f3a"
             ],
             [
              0.8888888888888888,
              "#fdca26"
             ],
             [
              1,
              "#f0f921"
             ]
            ],
            "type": "surface"
           }
          ],
          "table": [
           {
            "cells": {
             "fill": {
              "color": "#EBF0F8"
             },
             "line": {
              "color": "white"
             }
            },
            "header": {
             "fill": {
              "color": "#C8D4E3"
             },
             "line": {
              "color": "white"
             }
            },
            "type": "table"
           }
          ]
         },
         "layout": {
          "annotationdefaults": {
           "arrowcolor": "#2a3f5f",
           "arrowhead": 0,
           "arrowwidth": 1
          },
          "autotypenumbers": "strict",
          "coloraxis": {
           "colorbar": {
            "outlinewidth": 0,
            "ticks": ""
           }
          },
          "colorscale": {
           "diverging": [
            [
             0,
             "#8e0152"
            ],
            [
             0.1,
             "#c51b7d"
            ],
            [
             0.2,
             "#de77ae"
            ],
            [
             0.3,
             "#f1b6da"
            ],
            [
             0.4,
             "#fde0ef"
            ],
            [
             0.5,
             "#f7f7f7"
            ],
            [
             0.6,
             "#e6f5d0"
            ],
            [
             0.7,
             "#b8e186"
            ],
            [
             0.8,
             "#7fbc41"
            ],
            [
             0.9,
             "#4d9221"
            ],
            [
             1,
             "#276419"
            ]
           ],
           "sequential": [
            [
             0,
             "#0d0887"
            ],
            [
             0.1111111111111111,
             "#46039f"
            ],
            [
             0.2222222222222222,
             "#7201a8"
            ],
            [
             0.3333333333333333,
             "#9c179e"
            ],
            [
             0.4444444444444444,
             "#bd3786"
            ],
            [
             0.5555555555555556,
             "#d8576b"
            ],
            [
             0.6666666666666666,
             "#ed7953"
            ],
            [
             0.7777777777777778,
             "#fb9f3a"
            ],
            [
             0.8888888888888888,
             "#fdca26"
            ],
            [
             1,
             "#f0f921"
            ]
           ],
           "sequentialminus": [
            [
             0,
             "#0d0887"
            ],
            [
             0.1111111111111111,
             "#46039f"
            ],
            [
             0.2222222222222222,
             "#7201a8"
            ],
            [
             0.3333333333333333,
             "#9c179e"
            ],
            [
             0.4444444444444444,
             "#bd3786"
            ],
            [
             0.5555555555555556,
             "#d8576b"
            ],
            [
             0.6666666666666666,
             "#ed7953"
            ],
            [
             0.7777777777777778,
             "#fb9f3a"
            ],
            [
             0.8888888888888888,
             "#fdca26"
            ],
            [
             1,
             "#f0f921"
            ]
           ]
          },
          "colorway": [
           "#636efa",
           "#EF553B",
           "#00cc96",
           "#ab63fa",
           "#FFA15A",
           "#19d3f3",
           "#FF6692",
           "#B6E880",
           "#FF97FF",
           "#FECB52"
          ],
          "font": {
           "color": "#2a3f5f"
          },
          "geo": {
           "bgcolor": "white",
           "lakecolor": "white",
           "landcolor": "#E5ECF6",
           "showlakes": true,
           "showland": true,
           "subunitcolor": "white"
          },
          "hoverlabel": {
           "align": "left"
          },
          "hovermode": "closest",
          "mapbox": {
           "style": "light"
          },
          "paper_bgcolor": "white",
          "plot_bgcolor": "#E5ECF6",
          "polar": {
           "angularaxis": {
            "gridcolor": "white",
            "linecolor": "white",
            "ticks": ""
           },
           "bgcolor": "#E5ECF6",
           "radialaxis": {
            "gridcolor": "white",
            "linecolor": "white",
            "ticks": ""
           }
          },
          "scene": {
           "xaxis": {
            "backgroundcolor": "#E5ECF6",
            "gridcolor": "white",
            "gridwidth": 2,
            "linecolor": "white",
            "showbackground": true,
            "ticks": "",
            "zerolinecolor": "white"
           },
           "yaxis": {
            "backgroundcolor": "#E5ECF6",
            "gridcolor": "white",
            "gridwidth": 2,
            "linecolor": "white",
            "showbackground": true,
            "ticks": "",
            "zerolinecolor": "white"
           },
           "zaxis": {
            "backgroundcolor": "#E5ECF6",
            "gridcolor": "white",
            "gridwidth": 2,
            "linecolor": "white",
            "showbackground": true,
            "ticks": "",
            "zerolinecolor": "white"
           }
          },
          "shapedefaults": {
           "line": {
            "color": "#2a3f5f"
           }
          },
          "ternary": {
           "aaxis": {
            "gridcolor": "white",
            "linecolor": "white",
            "ticks": ""
           },
           "baxis": {
            "gridcolor": "white",
            "linecolor": "white",
            "ticks": ""
           },
           "bgcolor": "#E5ECF6",
           "caxis": {
            "gridcolor": "white",
            "linecolor": "white",
            "ticks": ""
           }
          },
          "title": {
           "x": 0.05
          },
          "xaxis": {
           "automargin": true,
           "gridcolor": "white",
           "linecolor": "white",
           "ticks": "",
           "title": {
            "standoff": 15
           },
           "zerolinecolor": "white",
           "zerolinewidth": 2
          },
          "yaxis": {
           "automargin": true,
           "gridcolor": "white",
           "linecolor": "white",
           "ticks": "",
           "title": {
            "standoff": 15
           },
           "zerolinecolor": "white",
           "zerolinewidth": 2
          }
         }
        },
        "title": {
         "text": "<i><b>Confusion<br>matrix</b></i>",
         "x": 0
        },
        "xaxis": {
         "dtick": 1,
         "gridcolor": "rgb(0, 0, 0)",
         "side": "top",
         "ticks": ""
        },
        "yaxis": {
         "autorange": "reversed",
         "dtick": 1,
         "ticks": "",
         "ticksuffix": "  "
        }
       }
      },
      "text/html": [
       "<div>                            <div id=\"498d5f05-3c19-432b-b8ca-03941d7b97b3\" class=\"plotly-graph-div\" style=\"height:525px; width:100%;\"></div>            <script type=\"text/javascript\">                require([\"plotly\"], function(Plotly) {                    window.PLOTLYENV=window.PLOTLYENV || {};                                    if (document.getElementById(\"498d5f05-3c19-432b-b8ca-03941d7b97b3\")) {                    Plotly.newPlot(                        \"498d5f05-3c19-432b-b8ca-03941d7b97b3\",                        [{\"colorscale\":[[0.0,\"#440154\"],[0.1111111111111111,\"#482878\"],[0.2222222222222222,\"#3e4989\"],[0.3333333333333333,\"#31688e\"],[0.4444444444444444,\"#26828e\"],[0.5555555555555556,\"#1f9e89\"],[0.6666666666666666,\"#35b779\"],[0.7777777777777778,\"#6ece58\"],[0.8888888888888888,\"#b5de2b\"],[1.0,\"#fde725\"]],\"reversescale\":false,\"showscale\":true,\"type\":\"heatmap\",\"x\":[\"Common Buzzard\",\"Common Kestrel\",\"Common Snipe\",\"Eurasian Curlew\",\"European Herring Gull\",\"European Robin\",\"Meadow Pipit\",\"Mute Swan\",\"Northern Lapwing\",\"Rook\",\"Tundra Swan\",\"Tundra Swan (Bewicks)\"],\"y\":[\"Common Buzzard\",\"Common Kestrel\",\"Common Snipe\",\"Eurasian Curlew\",\"European Herring Gull\",\"European Robin\",\"Meadow Pipit\",\"Mute Swan\",\"Northern Lapwing\",\"Rook\",\"Tundra Swan\",\"Tundra Swan (Bewicks)\"],\"z\":[[17,0,6,0,0,0,0,1,1,0,0,0],[0,29,1,0,0,1,1,0,0,0,0,0],[4,0,34,0,0,0,0,1,2,0,1,0],[1,2,7,20,0,1,0,0,0,0,0,0],[0,1,2,0,28,0,0,1,0,0,1,2],[0,0,6,0,0,23,2,0,0,0,0,0],[0,1,4,0,0,0,25,0,0,0,1,0],[1,0,11,1,0,0,0,14,0,0,3,0],[1,0,10,0,2,2,0,1,17,0,0,0],[0,0,6,0,1,0,0,0,0,34,0,0],[2,0,7,0,0,0,0,3,0,2,16,5],[0,0,5,0,1,0,0,1,1,1,5,17]]}],                        {\"annotations\":[{\"font\":{\"color\":\"#000000\"},\"showarrow\":false,\"text\":\"17\",\"x\":\"Common Buzzard\",\"xref\":\"x\",\"y\":\"Common Buzzard\",\"yref\":\"y\"},{\"font\":{\"color\":\"#FFFFFF\"},\"showarrow\":false,\"text\":\"0\",\"x\":\"Common Kestrel\",\"xref\":\"x\",\"y\":\"Common Buzzard\",\"yref\":\"y\"},{\"font\":{\"color\":\"#FFFFFF\"},\"showarrow\":false,\"text\":\"6\",\"x\":\"Common Snipe\",\"xref\":\"x\",\"y\":\"Common Buzzard\",\"yref\":\"y\"},{\"font\":{\"color\":\"#FFFFFF\"},\"showarrow\":false,\"text\":\"0\",\"x\":\"Eurasian Curlew\",\"xref\":\"x\",\"y\":\"Common Buzzard\",\"yref\":\"y\"},{\"font\":{\"color\":\"#FFFFFF\"},\"showarrow\":false,\"text\":\"0\",\"x\":\"European Herring Gull\",\"xref\":\"x\",\"y\":\"Common Buzzard\",\"yref\":\"y\"},{\"font\":{\"color\":\"#FFFFFF\"},\"showarrow\":false,\"text\":\"0\",\"x\":\"European Robin\",\"xref\":\"x\",\"y\":\"Common Buzzard\",\"yref\":\"y\"},{\"font\":{\"color\":\"#FFFFFF\"},\"showarrow\":false,\"text\":\"0\",\"x\":\"Meadow Pipit\",\"xref\":\"x\",\"y\":\"Common Buzzard\",\"yref\":\"y\"},{\"font\":{\"color\":\"#FFFFFF\"},\"showarrow\":false,\"text\":\"1\",\"x\":\"Mute Swan\",\"xref\":\"x\",\"y\":\"Common Buzzard\",\"yref\":\"y\"},{\"font\":{\"color\":\"#FFFFFF\"},\"showarrow\":false,\"text\":\"1\",\"x\":\"Northern Lapwing\",\"xref\":\"x\",\"y\":\"Common Buzzard\",\"yref\":\"y\"},{\"font\":{\"color\":\"#FFFFFF\"},\"showarrow\":false,\"text\":\"0\",\"x\":\"Rook\",\"xref\":\"x\",\"y\":\"Common Buzzard\",\"yref\":\"y\"},{\"font\":{\"color\":\"#FFFFFF\"},\"showarrow\":false,\"text\":\"0\",\"x\":\"Tundra Swan\",\"xref\":\"x\",\"y\":\"Common Buzzard\",\"yref\":\"y\"},{\"font\":{\"color\":\"#FFFFFF\"},\"showarrow\":false,\"text\":\"0\",\"x\":\"Tundra Swan (Bewicks)\",\"xref\":\"x\",\"y\":\"Common Buzzard\",\"yref\":\"y\"},{\"font\":{\"color\":\"#FFFFFF\"},\"showarrow\":false,\"text\":\"0\",\"x\":\"Common Buzzard\",\"xref\":\"x\",\"y\":\"Common Kestrel\",\"yref\":\"y\"},{\"font\":{\"color\":\"#000000\"},\"showarrow\":false,\"text\":\"29\",\"x\":\"Common Kestrel\",\"xref\":\"x\",\"y\":\"Common Kestrel\",\"yref\":\"y\"},{\"font\":{\"color\":\"#FFFFFF\"},\"showarrow\":false,\"text\":\"1\",\"x\":\"Common Snipe\",\"xref\":\"x\",\"y\":\"Common Kestrel\",\"yref\":\"y\"},{\"font\":{\"color\":\"#FFFFFF\"},\"showarrow\":false,\"text\":\"0\",\"x\":\"Eurasian Curlew\",\"xref\":\"x\",\"y\":\"Common Kestrel\",\"yref\":\"y\"},{\"font\":{\"color\":\"#FFFFFF\"},\"showarrow\":false,\"text\":\"0\",\"x\":\"European Herring Gull\",\"xref\":\"x\",\"y\":\"Common Kestrel\",\"yref\":\"y\"},{\"font\":{\"color\":\"#FFFFFF\"},\"showarrow\":false,\"text\":\"1\",\"x\":\"European Robin\",\"xref\":\"x\",\"y\":\"Common Kestrel\",\"yref\":\"y\"},{\"font\":{\"color\":\"#FFFFFF\"},\"showarrow\":false,\"text\":\"1\",\"x\":\"Meadow Pipit\",\"xref\":\"x\",\"y\":\"Common Kestrel\",\"yref\":\"y\"},{\"font\":{\"color\":\"#FFFFFF\"},\"showarrow\":false,\"text\":\"0\",\"x\":\"Mute Swan\",\"xref\":\"x\",\"y\":\"Common Kestrel\",\"yref\":\"y\"},{\"font\":{\"color\":\"#FFFFFF\"},\"showarrow\":false,\"text\":\"0\",\"x\":\"Northern Lapwing\",\"xref\":\"x\",\"y\":\"Common Kestrel\",\"yref\":\"y\"},{\"font\":{\"color\":\"#FFFFFF\"},\"showarrow\":false,\"text\":\"0\",\"x\":\"Rook\",\"xref\":\"x\",\"y\":\"Common Kestrel\",\"yref\":\"y\"},{\"font\":{\"color\":\"#FFFFFF\"},\"showarrow\":false,\"text\":\"0\",\"x\":\"Tundra Swan\",\"xref\":\"x\",\"y\":\"Common Kestrel\",\"yref\":\"y\"},{\"font\":{\"color\":\"#FFFFFF\"},\"showarrow\":false,\"text\":\"0\",\"x\":\"Tundra Swan (Bewicks)\",\"xref\":\"x\",\"y\":\"Common Kestrel\",\"yref\":\"y\"},{\"font\":{\"color\":\"#FFFFFF\"},\"showarrow\":false,\"text\":\"4\",\"x\":\"Common Buzzard\",\"xref\":\"x\",\"y\":\"Common Snipe\",\"yref\":\"y\"},{\"font\":{\"color\":\"#FFFFFF\"},\"showarrow\":false,\"text\":\"0\",\"x\":\"Common Kestrel\",\"xref\":\"x\",\"y\":\"Common Snipe\",\"yref\":\"y\"},{\"font\":{\"color\":\"#000000\"},\"showarrow\":false,\"text\":\"34\",\"x\":\"Common Snipe\",\"xref\":\"x\",\"y\":\"Common Snipe\",\"yref\":\"y\"},{\"font\":{\"color\":\"#FFFFFF\"},\"showarrow\":false,\"text\":\"0\",\"x\":\"Eurasian Curlew\",\"xref\":\"x\",\"y\":\"Common Snipe\",\"yref\":\"y\"},{\"font\":{\"color\":\"#FFFFFF\"},\"showarrow\":false,\"text\":\"0\",\"x\":\"European Herring Gull\",\"xref\":\"x\",\"y\":\"Common Snipe\",\"yref\":\"y\"},{\"font\":{\"color\":\"#FFFFFF\"},\"showarrow\":false,\"text\":\"0\",\"x\":\"European Robin\",\"xref\":\"x\",\"y\":\"Common Snipe\",\"yref\":\"y\"},{\"font\":{\"color\":\"#FFFFFF\"},\"showarrow\":false,\"text\":\"0\",\"x\":\"Meadow Pipit\",\"xref\":\"x\",\"y\":\"Common Snipe\",\"yref\":\"y\"},{\"font\":{\"color\":\"#FFFFFF\"},\"showarrow\":false,\"text\":\"1\",\"x\":\"Mute Swan\",\"xref\":\"x\",\"y\":\"Common Snipe\",\"yref\":\"y\"},{\"font\":{\"color\":\"#FFFFFF\"},\"showarrow\":false,\"text\":\"2\",\"x\":\"Northern Lapwing\",\"xref\":\"x\",\"y\":\"Common Snipe\",\"yref\":\"y\"},{\"font\":{\"color\":\"#FFFFFF\"},\"showarrow\":false,\"text\":\"0\",\"x\":\"Rook\",\"xref\":\"x\",\"y\":\"Common Snipe\",\"yref\":\"y\"},{\"font\":{\"color\":\"#FFFFFF\"},\"showarrow\":false,\"text\":\"1\",\"x\":\"Tundra Swan\",\"xref\":\"x\",\"y\":\"Common Snipe\",\"yref\":\"y\"},{\"font\":{\"color\":\"#FFFFFF\"},\"showarrow\":false,\"text\":\"0\",\"x\":\"Tundra Swan (Bewicks)\",\"xref\":\"x\",\"y\":\"Common Snipe\",\"yref\":\"y\"},{\"font\":{\"color\":\"#FFFFFF\"},\"showarrow\":false,\"text\":\"1\",\"x\":\"Common Buzzard\",\"xref\":\"x\",\"y\":\"Eurasian Curlew\",\"yref\":\"y\"},{\"font\":{\"color\":\"#FFFFFF\"},\"showarrow\":false,\"text\":\"2\",\"x\":\"Common Kestrel\",\"xref\":\"x\",\"y\":\"Eurasian Curlew\",\"yref\":\"y\"},{\"font\":{\"color\":\"#FFFFFF\"},\"showarrow\":false,\"text\":\"7\",\"x\":\"Common Snipe\",\"xref\":\"x\",\"y\":\"Eurasian Curlew\",\"yref\":\"y\"},{\"font\":{\"color\":\"#000000\"},\"showarrow\":false,\"text\":\"20\",\"x\":\"Eurasian Curlew\",\"xref\":\"x\",\"y\":\"Eurasian Curlew\",\"yref\":\"y\"},{\"font\":{\"color\":\"#FFFFFF\"},\"showarrow\":false,\"text\":\"0\",\"x\":\"European Herring Gull\",\"xref\":\"x\",\"y\":\"Eurasian Curlew\",\"yref\":\"y\"},{\"font\":{\"color\":\"#FFFFFF\"},\"showarrow\":false,\"text\":\"1\",\"x\":\"European Robin\",\"xref\":\"x\",\"y\":\"Eurasian Curlew\",\"yref\":\"y\"},{\"font\":{\"color\":\"#FFFFFF\"},\"showarrow\":false,\"text\":\"0\",\"x\":\"Meadow Pipit\",\"xref\":\"x\",\"y\":\"Eurasian Curlew\",\"yref\":\"y\"},{\"font\":{\"color\":\"#FFFFFF\"},\"showarrow\":false,\"text\":\"0\",\"x\":\"Mute Swan\",\"xref\":\"x\",\"y\":\"Eurasian Curlew\",\"yref\":\"y\"},{\"font\":{\"color\":\"#FFFFFF\"},\"showarrow\":false,\"text\":\"0\",\"x\":\"Northern Lapwing\",\"xref\":\"x\",\"y\":\"Eurasian Curlew\",\"yref\":\"y\"},{\"font\":{\"color\":\"#FFFFFF\"},\"showarrow\":false,\"text\":\"0\",\"x\":\"Rook\",\"xref\":\"x\",\"y\":\"Eurasian Curlew\",\"yref\":\"y\"},{\"font\":{\"color\":\"#FFFFFF\"},\"showarrow\":false,\"text\":\"0\",\"x\":\"Tundra Swan\",\"xref\":\"x\",\"y\":\"Eurasian Curlew\",\"yref\":\"y\"},{\"font\":{\"color\":\"#FFFFFF\"},\"showarrow\":false,\"text\":\"0\",\"x\":\"Tundra Swan (Bewicks)\",\"xref\":\"x\",\"y\":\"Eurasian Curlew\",\"yref\":\"y\"},{\"font\":{\"color\":\"#FFFFFF\"},\"showarrow\":false,\"text\":\"0\",\"x\":\"Common Buzzard\",\"xref\":\"x\",\"y\":\"European Herring Gull\",\"yref\":\"y\"},{\"font\":{\"color\":\"#FFFFFF\"},\"showarrow\":false,\"text\":\"1\",\"x\":\"Common Kestrel\",\"xref\":\"x\",\"y\":\"European Herring Gull\",\"yref\":\"y\"},{\"font\":{\"color\":\"#FFFFFF\"},\"showarrow\":false,\"text\":\"2\",\"x\":\"Common Snipe\",\"xref\":\"x\",\"y\":\"European Herring Gull\",\"yref\":\"y\"},{\"font\":{\"color\":\"#FFFFFF\"},\"showarrow\":false,\"text\":\"0\",\"x\":\"Eurasian Curlew\",\"xref\":\"x\",\"y\":\"European Herring Gull\",\"yref\":\"y\"},{\"font\":{\"color\":\"#000000\"},\"showarrow\":false,\"text\":\"28\",\"x\":\"European Herring Gull\",\"xref\":\"x\",\"y\":\"European Herring Gull\",\"yref\":\"y\"},{\"font\":{\"color\":\"#FFFFFF\"},\"showarrow\":false,\"text\":\"0\",\"x\":\"European Robin\",\"xref\":\"x\",\"y\":\"European Herring Gull\",\"yref\":\"y\"},{\"font\":{\"color\":\"#FFFFFF\"},\"showarrow\":false,\"text\":\"0\",\"x\":\"Meadow Pipit\",\"xref\":\"x\",\"y\":\"European Herring Gull\",\"yref\":\"y\"},{\"font\":{\"color\":\"#FFFFFF\"},\"showarrow\":false,\"text\":\"1\",\"x\":\"Mute Swan\",\"xref\":\"x\",\"y\":\"European Herring Gull\",\"yref\":\"y\"},{\"font\":{\"color\":\"#FFFFFF\"},\"showarrow\":false,\"text\":\"0\",\"x\":\"Northern Lapwing\",\"xref\":\"x\",\"y\":\"European Herring Gull\",\"yref\":\"y\"},{\"font\":{\"color\":\"#FFFFFF\"},\"showarrow\":false,\"text\":\"0\",\"x\":\"Rook\",\"xref\":\"x\",\"y\":\"European Herring Gull\",\"yref\":\"y\"},{\"font\":{\"color\":\"#FFFFFF\"},\"showarrow\":false,\"text\":\"1\",\"x\":\"Tundra Swan\",\"xref\":\"x\",\"y\":\"European Herring Gull\",\"yref\":\"y\"},{\"font\":{\"color\":\"#FFFFFF\"},\"showarrow\":false,\"text\":\"2\",\"x\":\"Tundra Swan (Bewicks)\",\"xref\":\"x\",\"y\":\"European Herring Gull\",\"yref\":\"y\"},{\"font\":{\"color\":\"#FFFFFF\"},\"showarrow\":false,\"text\":\"0\",\"x\":\"Common Buzzard\",\"xref\":\"x\",\"y\":\"European Robin\",\"yref\":\"y\"},{\"font\":{\"color\":\"#FFFFFF\"},\"showarrow\":false,\"text\":\"0\",\"x\":\"Common Kestrel\",\"xref\":\"x\",\"y\":\"European Robin\",\"yref\":\"y\"},{\"font\":{\"color\":\"#FFFFFF\"},\"showarrow\":false,\"text\":\"6\",\"x\":\"Common Snipe\",\"xref\":\"x\",\"y\":\"European Robin\",\"yref\":\"y\"},{\"font\":{\"color\":\"#FFFFFF\"},\"showarrow\":false,\"text\":\"0\",\"x\":\"Eurasian Curlew\",\"xref\":\"x\",\"y\":\"European Robin\",\"yref\":\"y\"},{\"font\":{\"color\":\"#FFFFFF\"},\"showarrow\":false,\"text\":\"0\",\"x\":\"European Herring Gull\",\"xref\":\"x\",\"y\":\"European Robin\",\"yref\":\"y\"},{\"font\":{\"color\":\"#000000\"},\"showarrow\":false,\"text\":\"23\",\"x\":\"European Robin\",\"xref\":\"x\",\"y\":\"European Robin\",\"yref\":\"y\"},{\"font\":{\"color\":\"#FFFFFF\"},\"showarrow\":false,\"text\":\"2\",\"x\":\"Meadow Pipit\",\"xref\":\"x\",\"y\":\"European Robin\",\"yref\":\"y\"},{\"font\":{\"color\":\"#FFFFFF\"},\"showarrow\":false,\"text\":\"0\",\"x\":\"Mute Swan\",\"xref\":\"x\",\"y\":\"European Robin\",\"yref\":\"y\"},{\"font\":{\"color\":\"#FFFFFF\"},\"showarrow\":false,\"text\":\"0\",\"x\":\"Northern Lapwing\",\"xref\":\"x\",\"y\":\"European Robin\",\"yref\":\"y\"},{\"font\":{\"color\":\"#FFFFFF\"},\"showarrow\":false,\"text\":\"0\",\"x\":\"Rook\",\"xref\":\"x\",\"y\":\"European Robin\",\"yref\":\"y\"},{\"font\":{\"color\":\"#FFFFFF\"},\"showarrow\":false,\"text\":\"0\",\"x\":\"Tundra Swan\",\"xref\":\"x\",\"y\":\"European Robin\",\"yref\":\"y\"},{\"font\":{\"color\":\"#FFFFFF\"},\"showarrow\":false,\"text\":\"0\",\"x\":\"Tundra Swan (Bewicks)\",\"xref\":\"x\",\"y\":\"European Robin\",\"yref\":\"y\"},{\"font\":{\"color\":\"#FFFFFF\"},\"showarrow\":false,\"text\":\"0\",\"x\":\"Common Buzzard\",\"xref\":\"x\",\"y\":\"Meadow Pipit\",\"yref\":\"y\"},{\"font\":{\"color\":\"#FFFFFF\"},\"showarrow\":false,\"text\":\"1\",\"x\":\"Common Kestrel\",\"xref\":\"x\",\"y\":\"Meadow Pipit\",\"yref\":\"y\"},{\"font\":{\"color\":\"#FFFFFF\"},\"showarrow\":false,\"text\":\"4\",\"x\":\"Common Snipe\",\"xref\":\"x\",\"y\":\"Meadow Pipit\",\"yref\":\"y\"},{\"font\":{\"color\":\"#FFFFFF\"},\"showarrow\":false,\"text\":\"0\",\"x\":\"Eurasian Curlew\",\"xref\":\"x\",\"y\":\"Meadow Pipit\",\"yref\":\"y\"},{\"font\":{\"color\":\"#FFFFFF\"},\"showarrow\":false,\"text\":\"0\",\"x\":\"European Herring Gull\",\"xref\":\"x\",\"y\":\"Meadow Pipit\",\"yref\":\"y\"},{\"font\":{\"color\":\"#FFFFFF\"},\"showarrow\":false,\"text\":\"0\",\"x\":\"European Robin\",\"xref\":\"x\",\"y\":\"Meadow Pipit\",\"yref\":\"y\"},{\"font\":{\"color\":\"#000000\"},\"showarrow\":false,\"text\":\"25\",\"x\":\"Meadow Pipit\",\"xref\":\"x\",\"y\":\"Meadow Pipit\",\"yref\":\"y\"},{\"font\":{\"color\":\"#FFFFFF\"},\"showarrow\":false,\"text\":\"0\",\"x\":\"Mute Swan\",\"xref\":\"x\",\"y\":\"Meadow Pipit\",\"yref\":\"y\"},{\"font\":{\"color\":\"#FFFFFF\"},\"showarrow\":false,\"text\":\"0\",\"x\":\"Northern Lapwing\",\"xref\":\"x\",\"y\":\"Meadow Pipit\",\"yref\":\"y\"},{\"font\":{\"color\":\"#FFFFFF\"},\"showarrow\":false,\"text\":\"0\",\"x\":\"Rook\",\"xref\":\"x\",\"y\":\"Meadow Pipit\",\"yref\":\"y\"},{\"font\":{\"color\":\"#FFFFFF\"},\"showarrow\":false,\"text\":\"1\",\"x\":\"Tundra Swan\",\"xref\":\"x\",\"y\":\"Meadow Pipit\",\"yref\":\"y\"},{\"font\":{\"color\":\"#FFFFFF\"},\"showarrow\":false,\"text\":\"0\",\"x\":\"Tundra Swan (Bewicks)\",\"xref\":\"x\",\"y\":\"Meadow Pipit\",\"yref\":\"y\"},{\"font\":{\"color\":\"#FFFFFF\"},\"showarrow\":false,\"text\":\"1\",\"x\":\"Common Buzzard\",\"xref\":\"x\",\"y\":\"Mute Swan\",\"yref\":\"y\"},{\"font\":{\"color\":\"#FFFFFF\"},\"showarrow\":false,\"text\":\"0\",\"x\":\"Common Kestrel\",\"xref\":\"x\",\"y\":\"Mute Swan\",\"yref\":\"y\"},{\"font\":{\"color\":\"#FFFFFF\"},\"showarrow\":false,\"text\":\"11\",\"x\":\"Common Snipe\",\"xref\":\"x\",\"y\":\"Mute Swan\",\"yref\":\"y\"},{\"font\":{\"color\":\"#FFFFFF\"},\"showarrow\":false,\"text\":\"1\",\"x\":\"Eurasian Curlew\",\"xref\":\"x\",\"y\":\"Mute Swan\",\"yref\":\"y\"},{\"font\":{\"color\":\"#FFFFFF\"},\"showarrow\":false,\"text\":\"0\",\"x\":\"European Herring Gull\",\"xref\":\"x\",\"y\":\"Mute Swan\",\"yref\":\"y\"},{\"font\":{\"color\":\"#FFFFFF\"},\"showarrow\":false,\"text\":\"0\",\"x\":\"European Robin\",\"xref\":\"x\",\"y\":\"Mute Swan\",\"yref\":\"y\"},{\"font\":{\"color\":\"#FFFFFF\"},\"showarrow\":false,\"text\":\"0\",\"x\":\"Meadow Pipit\",\"xref\":\"x\",\"y\":\"Mute Swan\",\"yref\":\"y\"},{\"font\":{\"color\":\"#FFFFFF\"},\"showarrow\":false,\"text\":\"14\",\"x\":\"Mute Swan\",\"xref\":\"x\",\"y\":\"Mute Swan\",\"yref\":\"y\"},{\"font\":{\"color\":\"#FFFFFF\"},\"showarrow\":false,\"text\":\"0\",\"x\":\"Northern Lapwing\",\"xref\":\"x\",\"y\":\"Mute Swan\",\"yref\":\"y\"},{\"font\":{\"color\":\"#FFFFFF\"},\"showarrow\":false,\"text\":\"0\",\"x\":\"Rook\",\"xref\":\"x\",\"y\":\"Mute Swan\",\"yref\":\"y\"},{\"font\":{\"color\":\"#FFFFFF\"},\"showarrow\":false,\"text\":\"3\",\"x\":\"Tundra Swan\",\"xref\":\"x\",\"y\":\"Mute Swan\",\"yref\":\"y\"},{\"font\":{\"color\":\"#FFFFFF\"},\"showarrow\":false,\"text\":\"0\",\"x\":\"Tundra Swan (Bewicks)\",\"xref\":\"x\",\"y\":\"Mute Swan\",\"yref\":\"y\"},{\"font\":{\"color\":\"#FFFFFF\"},\"showarrow\":false,\"text\":\"1\",\"x\":\"Common Buzzard\",\"xref\":\"x\",\"y\":\"Northern Lapwing\",\"yref\":\"y\"},{\"font\":{\"color\":\"#FFFFFF\"},\"showarrow\":false,\"text\":\"0\",\"x\":\"Common Kestrel\",\"xref\":\"x\",\"y\":\"Northern Lapwing\",\"yref\":\"y\"},{\"font\":{\"color\":\"#FFFFFF\"},\"showarrow\":false,\"text\":\"10\",\"x\":\"Common Snipe\",\"xref\":\"x\",\"y\":\"Northern Lapwing\",\"yref\":\"y\"},{\"font\":{\"color\":\"#FFFFFF\"},\"showarrow\":false,\"text\":\"0\",\"x\":\"Eurasian Curlew\",\"xref\":\"x\",\"y\":\"Northern Lapwing\",\"yref\":\"y\"},{\"font\":{\"color\":\"#FFFFFF\"},\"showarrow\":false,\"text\":\"2\",\"x\":\"European Herring Gull\",\"xref\":\"x\",\"y\":\"Northern Lapwing\",\"yref\":\"y\"},{\"font\":{\"color\":\"#FFFFFF\"},\"showarrow\":false,\"text\":\"2\",\"x\":\"European Robin\",\"xref\":\"x\",\"y\":\"Northern Lapwing\",\"yref\":\"y\"},{\"font\":{\"color\":\"#FFFFFF\"},\"showarrow\":false,\"text\":\"0\",\"x\":\"Meadow Pipit\",\"xref\":\"x\",\"y\":\"Northern Lapwing\",\"yref\":\"y\"},{\"font\":{\"color\":\"#FFFFFF\"},\"showarrow\":false,\"text\":\"1\",\"x\":\"Mute Swan\",\"xref\":\"x\",\"y\":\"Northern Lapwing\",\"yref\":\"y\"},{\"font\":{\"color\":\"#000000\"},\"showarrow\":false,\"text\":\"17\",\"x\":\"Northern Lapwing\",\"xref\":\"x\",\"y\":\"Northern Lapwing\",\"yref\":\"y\"},{\"font\":{\"color\":\"#FFFFFF\"},\"showarrow\":false,\"text\":\"0\",\"x\":\"Rook\",\"xref\":\"x\",\"y\":\"Northern Lapwing\",\"yref\":\"y\"},{\"font\":{\"color\":\"#FFFFFF\"},\"showarrow\":false,\"text\":\"0\",\"x\":\"Tundra Swan\",\"xref\":\"x\",\"y\":\"Northern Lapwing\",\"yref\":\"y\"},{\"font\":{\"color\":\"#FFFFFF\"},\"showarrow\":false,\"text\":\"0\",\"x\":\"Tundra Swan (Bewicks)\",\"xref\":\"x\",\"y\":\"Northern Lapwing\",\"yref\":\"y\"},{\"font\":{\"color\":\"#FFFFFF\"},\"showarrow\":false,\"text\":\"0\",\"x\":\"Common Buzzard\",\"xref\":\"x\",\"y\":\"Rook\",\"yref\":\"y\"},{\"font\":{\"color\":\"#FFFFFF\"},\"showarrow\":false,\"text\":\"0\",\"x\":\"Common Kestrel\",\"xref\":\"x\",\"y\":\"Rook\",\"yref\":\"y\"},{\"font\":{\"color\":\"#FFFFFF\"},\"showarrow\":false,\"text\":\"6\",\"x\":\"Common Snipe\",\"xref\":\"x\",\"y\":\"Rook\",\"yref\":\"y\"},{\"font\":{\"color\":\"#FFFFFF\"},\"showarrow\":false,\"text\":\"0\",\"x\":\"Eurasian Curlew\",\"xref\":\"x\",\"y\":\"Rook\",\"yref\":\"y\"},{\"font\":{\"color\":\"#FFFFFF\"},\"showarrow\":false,\"text\":\"1\",\"x\":\"European Herring Gull\",\"xref\":\"x\",\"y\":\"Rook\",\"yref\":\"y\"},{\"font\":{\"color\":\"#FFFFFF\"},\"showarrow\":false,\"text\":\"0\",\"x\":\"European Robin\",\"xref\":\"x\",\"y\":\"Rook\",\"yref\":\"y\"},{\"font\":{\"color\":\"#FFFFFF\"},\"showarrow\":false,\"text\":\"0\",\"x\":\"Meadow Pipit\",\"xref\":\"x\",\"y\":\"Rook\",\"yref\":\"y\"},{\"font\":{\"color\":\"#FFFFFF\"},\"showarrow\":false,\"text\":\"0\",\"x\":\"Mute Swan\",\"xref\":\"x\",\"y\":\"Rook\",\"yref\":\"y\"},{\"font\":{\"color\":\"#FFFFFF\"},\"showarrow\":false,\"text\":\"0\",\"x\":\"Northern Lapwing\",\"xref\":\"x\",\"y\":\"Rook\",\"yref\":\"y\"},{\"font\":{\"color\":\"#000000\"},\"showarrow\":false,\"text\":\"34\",\"x\":\"Rook\",\"xref\":\"x\",\"y\":\"Rook\",\"yref\":\"y\"},{\"font\":{\"color\":\"#FFFFFF\"},\"showarrow\":false,\"text\":\"0\",\"x\":\"Tundra Swan\",\"xref\":\"x\",\"y\":\"Rook\",\"yref\":\"y\"},{\"font\":{\"color\":\"#FFFFFF\"},\"showarrow\":false,\"text\":\"0\",\"x\":\"Tundra Swan (Bewicks)\",\"xref\":\"x\",\"y\":\"Rook\",\"yref\":\"y\"},{\"font\":{\"color\":\"#FFFFFF\"},\"showarrow\":false,\"text\":\"2\",\"x\":\"Common Buzzard\",\"xref\":\"x\",\"y\":\"Tundra Swan\",\"yref\":\"y\"},{\"font\":{\"color\":\"#FFFFFF\"},\"showarrow\":false,\"text\":\"0\",\"x\":\"Common Kestrel\",\"xref\":\"x\",\"y\":\"Tundra Swan\",\"yref\":\"y\"},{\"font\":{\"color\":\"#FFFFFF\"},\"showarrow\":false,\"text\":\"7\",\"x\":\"Common Snipe\",\"xref\":\"x\",\"y\":\"Tundra Swan\",\"yref\":\"y\"},{\"font\":{\"color\":\"#FFFFFF\"},\"showarrow\":false,\"text\":\"0\",\"x\":\"Eurasian Curlew\",\"xref\":\"x\",\"y\":\"Tundra Swan\",\"yref\":\"y\"},{\"font\":{\"color\":\"#FFFFFF\"},\"showarrow\":false,\"text\":\"0\",\"x\":\"European Herring Gull\",\"xref\":\"x\",\"y\":\"Tundra Swan\",\"yref\":\"y\"},{\"font\":{\"color\":\"#FFFFFF\"},\"showarrow\":false,\"text\":\"0\",\"x\":\"European Robin\",\"xref\":\"x\",\"y\":\"Tundra Swan\",\"yref\":\"y\"},{\"font\":{\"color\":\"#FFFFFF\"},\"showarrow\":false,\"text\":\"0\",\"x\":\"Meadow Pipit\",\"xref\":\"x\",\"y\":\"Tundra Swan\",\"yref\":\"y\"},{\"font\":{\"color\":\"#FFFFFF\"},\"showarrow\":false,\"text\":\"3\",\"x\":\"Mute Swan\",\"xref\":\"x\",\"y\":\"Tundra Swan\",\"yref\":\"y\"},{\"font\":{\"color\":\"#FFFFFF\"},\"showarrow\":false,\"text\":\"0\",\"x\":\"Northern Lapwing\",\"xref\":\"x\",\"y\":\"Tundra Swan\",\"yref\":\"y\"},{\"font\":{\"color\":\"#FFFFFF\"},\"showarrow\":false,\"text\":\"2\",\"x\":\"Rook\",\"xref\":\"x\",\"y\":\"Tundra Swan\",\"yref\":\"y\"},{\"font\":{\"color\":\"#FFFFFF\"},\"showarrow\":false,\"text\":\"16\",\"x\":\"Tundra Swan\",\"xref\":\"x\",\"y\":\"Tundra Swan\",\"yref\":\"y\"},{\"font\":{\"color\":\"#FFFFFF\"},\"showarrow\":false,\"text\":\"5\",\"x\":\"Tundra Swan (Bewicks)\",\"xref\":\"x\",\"y\":\"Tundra Swan\",\"yref\":\"y\"},{\"font\":{\"color\":\"#FFFFFF\"},\"showarrow\":false,\"text\":\"0\",\"x\":\"Common Buzzard\",\"xref\":\"x\",\"y\":\"Tundra Swan (Bewicks)\",\"yref\":\"y\"},{\"font\":{\"color\":\"#FFFFFF\"},\"showarrow\":false,\"text\":\"0\",\"x\":\"Common Kestrel\",\"xref\":\"x\",\"y\":\"Tundra Swan (Bewicks)\",\"yref\":\"y\"},{\"font\":{\"color\":\"#FFFFFF\"},\"showarrow\":false,\"text\":\"5\",\"x\":\"Common Snipe\",\"xref\":\"x\",\"y\":\"Tundra Swan (Bewicks)\",\"yref\":\"y\"},{\"font\":{\"color\":\"#FFFFFF\"},\"showarrow\":false,\"text\":\"0\",\"x\":\"Eurasian Curlew\",\"xref\":\"x\",\"y\":\"Tundra Swan (Bewicks)\",\"yref\":\"y\"},{\"font\":{\"color\":\"#FFFFFF\"},\"showarrow\":false,\"text\":\"1\",\"x\":\"European Herring Gull\",\"xref\":\"x\",\"y\":\"Tundra Swan (Bewicks)\",\"yref\":\"y\"},{\"font\":{\"color\":\"#FFFFFF\"},\"showarrow\":false,\"text\":\"0\",\"x\":\"European Robin\",\"xref\":\"x\",\"y\":\"Tundra Swan (Bewicks)\",\"yref\":\"y\"},{\"font\":{\"color\":\"#FFFFFF\"},\"showarrow\":false,\"text\":\"0\",\"x\":\"Meadow Pipit\",\"xref\":\"x\",\"y\":\"Tundra Swan (Bewicks)\",\"yref\":\"y\"},{\"font\":{\"color\":\"#FFFFFF\"},\"showarrow\":false,\"text\":\"1\",\"x\":\"Mute Swan\",\"xref\":\"x\",\"y\":\"Tundra Swan (Bewicks)\",\"yref\":\"y\"},{\"font\":{\"color\":\"#FFFFFF\"},\"showarrow\":false,\"text\":\"1\",\"x\":\"Northern Lapwing\",\"xref\":\"x\",\"y\":\"Tundra Swan (Bewicks)\",\"yref\":\"y\"},{\"font\":{\"color\":\"#FFFFFF\"},\"showarrow\":false,\"text\":\"1\",\"x\":\"Rook\",\"xref\":\"x\",\"y\":\"Tundra Swan (Bewicks)\",\"yref\":\"y\"},{\"font\":{\"color\":\"#FFFFFF\"},\"showarrow\":false,\"text\":\"5\",\"x\":\"Tundra Swan\",\"xref\":\"x\",\"y\":\"Tundra Swan (Bewicks)\",\"yref\":\"y\"},{\"font\":{\"color\":\"#000000\"},\"showarrow\":false,\"text\":\"17\",\"x\":\"Tundra Swan (Bewicks)\",\"xref\":\"x\",\"y\":\"Tundra Swan (Bewicks)\",\"yref\":\"y\"},{\"font\":{\"color\":\"black\",\"size\":14},\"showarrow\":false,\"text\":\"Predicted value\",\"x\":0.5,\"xref\":\"paper\",\"y\":-0.15,\"yref\":\"paper\"},{\"font\":{\"color\":\"black\",\"size\":14},\"showarrow\":false,\"text\":\"Real value\",\"textangle\":-90,\"x\":-0.26,\"xref\":\"paper\",\"y\":0.5,\"yref\":\"paper\"}],\"margin\":{\"l\":200,\"t\":50},\"template\":{\"data\":{\"bar\":[{\"error_x\":{\"color\":\"#2a3f5f\"},\"error_y\":{\"color\":\"#2a3f5f\"},\"marker\":{\"line\":{\"color\":\"#E5ECF6\",\"width\":0.5},\"pattern\":{\"fillmode\":\"overlay\",\"size\":10,\"solidity\":0.2}},\"type\":\"bar\"}],\"barpolar\":[{\"marker\":{\"line\":{\"color\":\"#E5ECF6\",\"width\":0.5},\"pattern\":{\"fillmode\":\"overlay\",\"size\":10,\"solidity\":0.2}},\"type\":\"barpolar\"}],\"carpet\":[{\"aaxis\":{\"endlinecolor\":\"#2a3f5f\",\"gridcolor\":\"white\",\"linecolor\":\"white\",\"minorgridcolor\":\"white\",\"startlinecolor\":\"#2a3f5f\"},\"baxis\":{\"endlinecolor\":\"#2a3f5f\",\"gridcolor\":\"white\",\"linecolor\":\"white\",\"minorgridcolor\":\"white\",\"startlinecolor\":\"#2a3f5f\"},\"type\":\"carpet\"}],\"choropleth\":[{\"colorbar\":{\"outlinewidth\":0,\"ticks\":\"\"},\"type\":\"choropleth\"}],\"contour\":[{\"colorbar\":{\"outlinewidth\":0,\"ticks\":\"\"},\"colorscale\":[[0.0,\"#0d0887\"],[0.1111111111111111,\"#46039f\"],[0.2222222222222222,\"#7201a8\"],[0.3333333333333333,\"#9c179e\"],[0.4444444444444444,\"#bd3786\"],[0.5555555555555556,\"#d8576b\"],[0.6666666666666666,\"#ed7953\"],[0.7777777777777778,\"#fb9f3a\"],[0.8888888888888888,\"#fdca26\"],[1.0,\"#f0f921\"]],\"type\":\"contour\"}],\"contourcarpet\":[{\"colorbar\":{\"outlinewidth\":0,\"ticks\":\"\"},\"type\":\"contourcarpet\"}],\"heatmap\":[{\"colorbar\":{\"outlinewidth\":0,\"ticks\":\"\"},\"colorscale\":[[0.0,\"#0d0887\"],[0.1111111111111111,\"#46039f\"],[0.2222222222222222,\"#7201a8\"],[0.3333333333333333,\"#9c179e\"],[0.4444444444444444,\"#bd3786\"],[0.5555555555555556,\"#d8576b\"],[0.6666666666666666,\"#ed7953\"],[0.7777777777777778,\"#fb9f3a\"],[0.8888888888888888,\"#fdca26\"],[1.0,\"#f0f921\"]],\"type\":\"heatmap\"}],\"heatmapgl\":[{\"colorbar\":{\"outlinewidth\":0,\"ticks\":\"\"},\"colorscale\":[[0.0,\"#0d0887\"],[0.1111111111111111,\"#46039f\"],[0.2222222222222222,\"#7201a8\"],[0.3333333333333333,\"#9c179e\"],[0.4444444444444444,\"#bd3786\"],[0.5555555555555556,\"#d8576b\"],[0.6666666666666666,\"#ed7953\"],[0.7777777777777778,\"#fb9f3a\"],[0.8888888888888888,\"#fdca26\"],[1.0,\"#f0f921\"]],\"type\":\"heatmapgl\"}],\"histogram\":[{\"marker\":{\"pattern\":{\"fillmode\":\"overlay\",\"size\":10,\"solidity\":0.2}},\"type\":\"histogram\"}],\"histogram2d\":[{\"colorbar\":{\"outlinewidth\":0,\"ticks\":\"\"},\"colorscale\":[[0.0,\"#0d0887\"],[0.1111111111111111,\"#46039f\"],[0.2222222222222222,\"#7201a8\"],[0.3333333333333333,\"#9c179e\"],[0.4444444444444444,\"#bd3786\"],[0.5555555555555556,\"#d8576b\"],[0.6666666666666666,\"#ed7953\"],[0.7777777777777778,\"#fb9f3a\"],[0.8888888888888888,\"#fdca26\"],[1.0,\"#f0f921\"]],\"type\":\"histogram2d\"}],\"histogram2dcontour\":[{\"colorbar\":{\"outlinewidth\":0,\"ticks\":\"\"},\"colorscale\":[[0.0,\"#0d0887\"],[0.1111111111111111,\"#46039f\"],[0.2222222222222222,\"#7201a8\"],[0.3333333333333333,\"#9c179e\"],[0.4444444444444444,\"#bd3786\"],[0.5555555555555556,\"#d8576b\"],[0.6666666666666666,\"#ed7953\"],[0.7777777777777778,\"#fb9f3a\"],[0.8888888888888888,\"#fdca26\"],[1.0,\"#f0f921\"]],\"type\":\"histogram2dcontour\"}],\"mesh3d\":[{\"colorbar\":{\"outlinewidth\":0,\"ticks\":\"\"},\"type\":\"mesh3d\"}],\"parcoords\":[{\"line\":{\"colorbar\":{\"outlinewidth\":0,\"ticks\":\"\"}},\"type\":\"parcoords\"}],\"pie\":[{\"automargin\":true,\"type\":\"pie\"}],\"scatter\":[{\"marker\":{\"colorbar\":{\"outlinewidth\":0,\"ticks\":\"\"}},\"type\":\"scatter\"}],\"scatter3d\":[{\"line\":{\"colorbar\":{\"outlinewidth\":0,\"ticks\":\"\"}},\"marker\":{\"colorbar\":{\"outlinewidth\":0,\"ticks\":\"\"}},\"type\":\"scatter3d\"}],\"scattercarpet\":[{\"marker\":{\"colorbar\":{\"outlinewidth\":0,\"ticks\":\"\"}},\"type\":\"scattercarpet\"}],\"scattergeo\":[{\"marker\":{\"colorbar\":{\"outlinewidth\":0,\"ticks\":\"\"}},\"type\":\"scattergeo\"}],\"scattergl\":[{\"marker\":{\"colorbar\":{\"outlinewidth\":0,\"ticks\":\"\"}},\"type\":\"scattergl\"}],\"scattermapbox\":[{\"marker\":{\"colorbar\":{\"outlinewidth\":0,\"ticks\":\"\"}},\"type\":\"scattermapbox\"}],\"scatterpolar\":[{\"marker\":{\"colorbar\":{\"outlinewidth\":0,\"ticks\":\"\"}},\"type\":\"scatterpolar\"}],\"scatterpolargl\":[{\"marker\":{\"colorbar\":{\"outlinewidth\":0,\"ticks\":\"\"}},\"type\":\"scatterpolargl\"}],\"scatterternary\":[{\"marker\":{\"colorbar\":{\"outlinewidth\":0,\"ticks\":\"\"}},\"type\":\"scatterternary\"}],\"surface\":[{\"colorbar\":{\"outlinewidth\":0,\"ticks\":\"\"},\"colorscale\":[[0.0,\"#0d0887\"],[0.1111111111111111,\"#46039f\"],[0.2222222222222222,\"#7201a8\"],[0.3333333333333333,\"#9c179e\"],[0.4444444444444444,\"#bd3786\"],[0.5555555555555556,\"#d8576b\"],[0.6666666666666666,\"#ed7953\"],[0.7777777777777778,\"#fb9f3a\"],[0.8888888888888888,\"#fdca26\"],[1.0,\"#f0f921\"]],\"type\":\"surface\"}],\"table\":[{\"cells\":{\"fill\":{\"color\":\"#EBF0F8\"},\"line\":{\"color\":\"white\"}},\"header\":{\"fill\":{\"color\":\"#C8D4E3\"},\"line\":{\"color\":\"white\"}},\"type\":\"table\"}]},\"layout\":{\"annotationdefaults\":{\"arrowcolor\":\"#2a3f5f\",\"arrowhead\":0,\"arrowwidth\":1},\"autotypenumbers\":\"strict\",\"coloraxis\":{\"colorbar\":{\"outlinewidth\":0,\"ticks\":\"\"}},\"colorscale\":{\"diverging\":[[0,\"#8e0152\"],[0.1,\"#c51b7d\"],[0.2,\"#de77ae\"],[0.3,\"#f1b6da\"],[0.4,\"#fde0ef\"],[0.5,\"#f7f7f7\"],[0.6,\"#e6f5d0\"],[0.7,\"#b8e186\"],[0.8,\"#7fbc41\"],[0.9,\"#4d9221\"],[1,\"#276419\"]],\"sequential\":[[0.0,\"#0d0887\"],[0.1111111111111111,\"#46039f\"],[0.2222222222222222,\"#7201a8\"],[0.3333333333333333,\"#9c179e\"],[0.4444444444444444,\"#bd3786\"],[0.5555555555555556,\"#d8576b\"],[0.6666666666666666,\"#ed7953\"],[0.7777777777777778,\"#fb9f3a\"],[0.8888888888888888,\"#fdca26\"],[1.0,\"#f0f921\"]],\"sequentialminus\":[[0.0,\"#0d0887\"],[0.1111111111111111,\"#46039f\"],[0.2222222222222222,\"#7201a8\"],[0.3333333333333333,\"#9c179e\"],[0.4444444444444444,\"#bd3786\"],[0.5555555555555556,\"#d8576b\"],[0.6666666666666666,\"#ed7953\"],[0.7777777777777778,\"#fb9f3a\"],[0.8888888888888888,\"#fdca26\"],[1.0,\"#f0f921\"]]},\"colorway\":[\"#636efa\",\"#EF553B\",\"#00cc96\",\"#ab63fa\",\"#FFA15A\",\"#19d3f3\",\"#FF6692\",\"#B6E880\",\"#FF97FF\",\"#FECB52\"],\"font\":{\"color\":\"#2a3f5f\"},\"geo\":{\"bgcolor\":\"white\",\"lakecolor\":\"white\",\"landcolor\":\"#E5ECF6\",\"showlakes\":true,\"showland\":true,\"subunitcolor\":\"white\"},\"hoverlabel\":{\"align\":\"left\"},\"hovermode\":\"closest\",\"mapbox\":{\"style\":\"light\"},\"paper_bgcolor\":\"white\",\"plot_bgcolor\":\"#E5ECF6\",\"polar\":{\"angularaxis\":{\"gridcolor\":\"white\",\"linecolor\":\"white\",\"ticks\":\"\"},\"bgcolor\":\"#E5ECF6\",\"radialaxis\":{\"gridcolor\":\"white\",\"linecolor\":\"white\",\"ticks\":\"\"}},\"scene\":{\"xaxis\":{\"backgroundcolor\":\"#E5ECF6\",\"gridcolor\":\"white\",\"gridwidth\":2,\"linecolor\":\"white\",\"showbackground\":true,\"ticks\":\"\",\"zerolinecolor\":\"white\"},\"yaxis\":{\"backgroundcolor\":\"#E5ECF6\",\"gridcolor\":\"white\",\"gridwidth\":2,\"linecolor\":\"white\",\"showbackground\":true,\"ticks\":\"\",\"zerolinecolor\":\"white\"},\"zaxis\":{\"backgroundcolor\":\"#E5ECF6\",\"gridcolor\":\"white\",\"gridwidth\":2,\"linecolor\":\"white\",\"showbackground\":true,\"ticks\":\"\",\"zerolinecolor\":\"white\"}},\"shapedefaults\":{\"line\":{\"color\":\"#2a3f5f\"}},\"ternary\":{\"aaxis\":{\"gridcolor\":\"white\",\"linecolor\":\"white\",\"ticks\":\"\"},\"baxis\":{\"gridcolor\":\"white\",\"linecolor\":\"white\",\"ticks\":\"\"},\"bgcolor\":\"#E5ECF6\",\"caxis\":{\"gridcolor\":\"white\",\"linecolor\":\"white\",\"ticks\":\"\"}},\"title\":{\"x\":0.05},\"xaxis\":{\"automargin\":true,\"gridcolor\":\"white\",\"linecolor\":\"white\",\"ticks\":\"\",\"title\":{\"standoff\":15},\"zerolinecolor\":\"white\",\"zerolinewidth\":2},\"yaxis\":{\"automargin\":true,\"gridcolor\":\"white\",\"linecolor\":\"white\",\"ticks\":\"\",\"title\":{\"standoff\":15},\"zerolinecolor\":\"white\",\"zerolinewidth\":2}}},\"title\":{\"text\":\"<i><b>Confusion<br>matrix</b></i>\",\"x\":0},\"xaxis\":{\"dtick\":1,\"gridcolor\":\"rgb(0, 0, 0)\",\"side\":\"top\",\"ticks\":\"\"},\"yaxis\":{\"autorange\":\"reversed\",\"dtick\":1,\"ticks\":\"\",\"ticksuffix\":\"  \"}},                        {\"responsive\": true}                    ).then(function(){\n",
       "                            \n",
       "var gd = document.getElementById('498d5f05-3c19-432b-b8ca-03941d7b97b3');\n",
       "var x = new MutationObserver(function (mutations, observer) {{\n",
       "        var display = window.getComputedStyle(gd).display;\n",
       "        if (!display || display === 'none') {{\n",
       "            console.log([gd, 'removed!']);\n",
       "            Plotly.purge(gd);\n",
       "            observer.disconnect();\n",
       "        }}\n",
       "}});\n",
       "\n",
       "// Listen for the removal of the full notebook cells\n",
       "var notebookContainer = gd.closest('#notebook-container');\n",
       "if (notebookContainer) {{\n",
       "    x.observe(notebookContainer, {childList: true});\n",
       "}}\n",
       "\n",
       "// Listen for the clearing of the current output cell\n",
       "var outputEl = gd.closest('.output');\n",
       "if (outputEl) {{\n",
       "    x.observe(outputEl, {childList: true});\n",
       "}}\n",
       "\n",
       "                        })                };                });            </script>        </div>"
      ]
     },
     "metadata": {},
     "output_type": "display_data"
    }
   ],
   "source": [
    "import plotly.figure_factory as ff\n",
    "\n",
    "z = cm\n",
    "\n",
    "x = categories\n",
    "y = categories\n",
    "#y.reverse()\n",
    "\n",
    "# change each element of z to type string for annotations\n",
    "z_text = [[str(y) for y in x] for x in z]\n",
    "\n",
    "# set up figure \n",
    "fig = ff.create_annotated_heatmap(z, x=x, y=y, annotation_text=z_text, colorscale='Viridis')\n",
    "\n",
    "# add title\n",
    "fig.update_layout(title_text='<i><b>Confusion<br>matrix</b></i>',\n",
    "                  #xaxis = dict(title='x'),\n",
    "                  #yaxis = dict(title='x')\n",
    "                  yaxis=dict(autorange='reversed'),\n",
    "                  title_x=0\n",
    "                 )\n",
    "\n",
    "# add custom xaxis title\n",
    "fig.add_annotation(dict(font=dict(color=\"black\",size=14),\n",
    "                        x=0.5,\n",
    "                        y=-0.15,\n",
    "                        showarrow=False,\n",
    "                        text=\"Predicted value\",\n",
    "                        xref=\"paper\",\n",
    "                        yref=\"paper\"))\n",
    "\n",
    "# add custom yaxis title\n",
    "fig.add_annotation(dict(font=dict(color=\"black\",size=14),\n",
    "                        x=-0.26,\n",
    "                        y=0.5,\n",
    "                        showarrow=False,\n",
    "                        text=\"Real value\",\n",
    "                        textangle=-90,\n",
    "                        xref=\"paper\",\n",
    "                        yref=\"paper\"))\n",
    "\n",
    "# adjust margins to make room for yaxis title\n",
    "fig.update_layout(margin=dict(t=50, l=200))\n",
    "\n",
    "# add colorbar\n",
    "fig['data'][0]['showscale'] = True\n",
    "fig.show()"
   ]
  },
  {
   "cell_type": "code",
   "execution_count": 172,
   "id": "fb43bd4e",
   "metadata": {},
   "outputs": [],
   "source": [
    "fig.write_html('confusion_matrix'+datetime.now().strftime(\"%Y%m%d-%H%M%S\").replace('-', '_')+'richfield_shallow_net.html')"
   ]
  },
  {
   "cell_type": "code",
   "execution_count": 173,
   "id": "82c7adce",
   "metadata": {},
   "outputs": [],
   "source": [
    "from sklearn.metrics import roc_curve, roc_auc_score, auc\n",
    "y_pred_proba = model.predict(test_ds)[::,1]\n",
    "#fpr, tpr, _  = roc_curve(y_true,  y_pred_proba)"
   ]
  },
  {
   "cell_type": "code",
   "execution_count": 174,
   "id": "47272a6a",
   "metadata": {},
   "outputs": [],
   "source": [
    "pred_lists = model.predict(test_ds)"
   ]
  },
  {
   "cell_type": "code",
   "execution_count": 175,
   "id": "6cba81d9",
   "metadata": {},
   "outputs": [],
   "source": [
    "pred_df = pd.DataFrame(pred_lists, columns = categories)"
   ]
  },
  {
   "cell_type": "code",
   "execution_count": 176,
   "id": "b7af7296",
   "metadata": {},
   "outputs": [],
   "source": [
    "pred_df_softmax = pred_df.apply(lambda x: np.exp(x - np.max(x))/np.exp(x - np.max(x)).sum(), axis=1)"
   ]
  },
  {
   "cell_type": "code",
   "execution_count": 177,
   "id": "03c89b41",
   "metadata": {},
   "outputs": [],
   "source": [
    "#pred_df_softmax.to_numpy()"
   ]
  },
  {
   "cell_type": "code",
   "execution_count": 178,
   "id": "5cec29ca",
   "metadata": {},
   "outputs": [],
   "source": [
    "from sklearn.preprocessing import OneHotEncoder\n",
    "onehot_data = OneHotEncoder(sparse=False)\n",
    "onehot_data = onehot_data.fit_transform(np.array(y_true).reshape(len(y_true),1))"
   ]
  },
  {
   "cell_type": "code",
   "execution_count": 179,
   "id": "0d0785e2",
   "metadata": {},
   "outputs": [],
   "source": [
    "#onehot_data\n",
    "from itertools import cycle"
   ]
  },
  {
   "cell_type": "code",
   "execution_count": 180,
   "id": "6d9ac858",
   "metadata": {},
   "outputs": [
    {
     "data": {
      "image/png": "[encoded data removed]",
      "text/plain": [
       "<Figure size 720x576 with 1 Axes>"
      ]
     },
     "metadata": {},
     "output_type": "display_data"
    }
   ],
   "source": [
    "fpr = dict()\n",
    "tpr = dict()\n",
    "roc_auc = dict()\n",
    "n_classes = len(categories)\n",
    "lw = 2\n",
    "plt.figure(figsize=(10, 8))\n",
    "for i in range(n_classes):\n",
    "    fpr[i], tpr[i], _ = roc_curve(onehot_data[:, i], pred_df_softmax.to_numpy()[:, i])\n",
    "    roc_auc[i] = auc(fpr[i], tpr[i])\n",
    "colors = cycle(['blue', 'red', 'green', 'orange', 'yellow'])\n",
    "for i, color in zip(range(n_classes), colors):\n",
    "    plt.plot(fpr[i], tpr[i], \n",
    "             #color=color, \n",
    "             lw=lw,\n",
    "             label='ROC curve of class {0} (area = {1:0.2f})'\n",
    "             ''.format(categories[i], roc_auc[i]))\n",
    "plt.plot([0, 1], [0, 1], 'k--', lw=lw)\n",
    "plt.xlim([-0.05, 1.0])\n",
    "plt.ylim([0.0, 1.05])\n",
    "plt.xlabel('False Positive Rate')\n",
    "plt.ylabel('True Positive Rate')\n",
    "plt.title('ROC for multi-class bird song classification')\n",
    "#plt.legend(loc=\"lower right\")\n",
    "plt.legend(bbox_to_anchor=(1.05, 1))#, loc='upper right')\n",
    "plt.show()"
   ]
  },
  {
   "cell_type": "code",
   "execution_count": 181,
   "id": "d1f24657",
   "metadata": {},
   "outputs": [
    {
     "name": "stdout",
     "output_type": "stream",
     "text": [
      "AUC of Common Buzzard: \t0.96\n",
      "AUC of Common Kestrel: \t0.98\n",
      "AUC of Common Snipe: \t0.91\n",
      "AUC of Eurasian Curlew: \t0.93\n",
      "AUC of European Herring Gull: \t0.97\n",
      "AUC of European Robin: \t0.99\n",
      "AUC of Meadow Pipit: \t0.98\n",
      "AUC of Mute Swan: \t0.93\n",
      "AUC of Northern Lapwing: \t0.87\n",
      "AUC of Rook: \t0.97\n",
      "AUC of Tundra Swan: \t0.88\n",
      "AUC of Tundra Swan (Bewicks): \t0.92\n"
     ]
    }
   ],
   "source": [
    "for i in range(n_classes):\n",
    "    print('AUC of {0}: \\t{1:0.2f}'.format(categories[i], roc_auc[i]))"
   ]
  },
  {
   "cell_type": "code",
   "execution_count": 182,
   "id": "f7ed4d11",
   "metadata": {},
   "outputs": [
    {
     "data": {
      "application/vnd.plotly.v1+json": {
       "config": {
        "plotlyServerURL": "https://plot.ly"
       },
       "data": [
        {
         "mode": "lines",
         "name": "ROC curve of Common Buzzard (area = 0.96)",
         "type": "scatter",
         "x": [
          0,
          0,
          0,
          0.002688172043010753,
          0.002688172043010753,
          0.008064516129032258,
          0.008064516129032258,
          0.013440860215053764,
          0.013440860215053764,
          0.016129032258064516,
          0.016129032258064516,
          0.021505376344086023,
          0.021505376344086023,
          0.053763440860215055,
          0.053763440860215055,
          0.06451612903225806,
          0.06451612903225806,
          0.13709677419354838,
          0.13709677419354838,
          0.271505376344086,
          0.271505376344086,
          0.5268817204301075,
          0.532258064516129,
          0.6639784946236559,
          0.6693548387096774,
          1
         ],
         "y": [
          0,
          0.04,
          0.32,
          0.32,
          0.48,
          0.48,
          0.52,
          0.52,
          0.6,
          0.6,
          0.68,
          0.68,
          0.72,
          0.72,
          0.8,
          0.8,
          0.88,
          0.88,
          0.96,
          0.96,
          1,
          1,
          1,
          1,
          1,
          1
         ]
        },
        {
         "mode": "lines",
         "name": "ROC curve of Common Kestrel (area = 0.98)",
         "type": "scatter",
         "x": [
          0,
          0,
          0,
          0.0027397260273972603,
          0.0027397260273972603,
          0.005479452054794521,
          0.005479452054794521,
          0.00821917808219178,
          0.00821917808219178,
          0.0136986301369863,
          0.0136986301369863,
          0.052054794520547946,
          0.052054794520547946,
          0.19726027397260273,
          0.19726027397260273,
          0.2328767123287671,
          0.2328767123287671,
          0.5698630136986301,
          0.5753424657534246,
          0.7095890410958904,
          0.7150684931506849,
          0.7178082191780822,
          0.7232876712328767,
          1
         ],
         "y": [
          0,
          0.09375,
          0.78125,
          0.78125,
          0.8125,
          0.8125,
          0.84375,
          0.84375,
          0.875,
          0.875,
          0.90625,
          0.90625,
          0.9375,
          0.9375,
          0.96875,
          0.96875,
          1,
          1,
          1,
          1,
          1,
          1,
          1,
          1
         ]
        },
        {
         "mode": "lines",
         "name": "ROC curve of Common Snipe (area = 0.91)",
         "type": "scatter",
         "x": [
          0,
          0,
          0,
          0.0028169014084507044,
          0.0028169014084507044,
          0.014084507042253521,
          0.014084507042253521,
          0.01971830985915493,
          0.01971830985915493,
          0.022535211267605635,
          0.022535211267605635,
          0.02535211267605634,
          0.02535211267605634,
          0.030985915492957747,
          0.030985915492957747,
          0.036619718309859155,
          0.036619718309859155,
          0.03943661971830986,
          0.03943661971830986,
          0.059154929577464786,
          0.059154929577464786,
          0.0676056338028169,
          0.0676056338028169,
          0.07323943661971831,
          0.07323943661971831,
          0.07887323943661972,
          0.07887323943661972,
          0.10985915492957747,
          0.10985915492957747,
          0.1323943661971831,
          0.1323943661971831,
          0.1352112676056338,
          0.1352112676056338,
          0.16901408450704225,
          0.16901408450704225,
          0.17183098591549295,
          0.17183098591549295,
          0.2028169014084507,
          0.2028169014084507,
          0.2084507042253521,
          0.2084507042253521,
          0.23943661971830985,
          0.23943661971830985,
          0.2647887323943662,
          0.2647887323943662,
          0.49295774647887325,
          0.49859154929577465,
          0.5859154929577465,
          0.5859154929577465,
          0.5915492957746479,
          0.5915492957746479,
          0.6535211267605634,
          0.6591549295774648,
          1
         ],
         "y": [
          0,
          0.023809523809523808,
          0.16666666666666666,
          0.16666666666666666,
          0.2619047619047619,
          0.2619047619047619,
          0.2857142857142857,
          0.2857142857142857,
          0.40476190476190477,
          0.40476190476190477,
          0.42857142857142855,
          0.42857142857142855,
          0.4523809523809524,
          0.4523809523809524,
          0.47619047619047616,
          0.47619047619047616,
          0.5,
          0.5,
          0.5238095238095238,
          0.5238095238095238,
          0.5476190476190477,
          0.5476190476190477,
          0.6190476190476191,
          0.6190476190476191,
          0.6904761904761905,
          0.6904761904761905,
          0.7142857142857143,
          0.7142857142857143,
          0.7380952380952381,
          0.7380952380952381,
          0.7619047619047619,
          0.7619047619047619,
          0.7857142857142857,
          0.7857142857142857,
          0.8095238095238095,
          0.8095238095238095,
          0.8333333333333334,
          0.8333333333333334,
          0.8571428571428571,
          0.8571428571428571,
          0.8809523809523809,
          0.8809523809523809,
          0.9047619047619048,
          0.9047619047619048,
          0.9523809523809523,
          0.9523809523809523,
          0.9523809523809523,
          0.9523809523809523,
          0.9761904761904762,
          0.9761904761904762,
          1,
          1,
          1,
          1
         ]
        },
        {
         "mode": "lines",
         "name": "ROC curve of Eurasian Curlew (area = 0.93)",
         "type": "scatter",
         "x": [
          0,
          0,
          0,
          0.00273224043715847,
          0.00273224043715847,
          0.00819672131147541,
          0.00819672131147541,
          0.07650273224043716,
          0.07650273224043716,
          0.09562841530054644,
          0.09562841530054644,
          0.10655737704918032,
          0.10655737704918032,
          0.13114754098360656,
          0.13114754098360656,
          0.13934426229508196,
          0.13934426229508196,
          0.14207650273224043,
          0.14207650273224043,
          0.273224043715847,
          0.273224043715847,
          0.3743169398907104,
          0.3743169398907104,
          0.4918032786885246,
          0.4972677595628415,
          0.4972677595628415,
          0.7213114754098361,
          0.726775956284153,
          0.76775956284153,
          0.773224043715847,
          1
         ],
         "y": [
          0,
          0.06451612903225806,
          0.41935483870967744,
          0.41935483870967744,
          0.5806451612903226,
          0.5806451612903226,
          0.6451612903225806,
          0.6451612903225806,
          0.6774193548387096,
          0.6774193548387096,
          0.7096774193548387,
          0.7096774193548387,
          0.7741935483870968,
          0.7741935483870968,
          0.8064516129032258,
          0.8064516129032258,
          0.8709677419354839,
          0.8709677419354839,
          0.9032258064516129,
          0.9032258064516129,
          0.9354838709677419,
          0.9354838709677419,
          0.967741935483871,
          0.967741935483871,
          0.967741935483871,
          1,
          1,
          1,
          1,
          1,
          1
         ]
        },
        {
         "mode": "lines",
         "name": "ROC curve of European Herring Gull (area = 0.97)",
         "type": "scatter",
         "x": [
          0,
          0,
          0,
          0.0027624309392265192,
          0.0027624309392265192,
          0.0055248618784530384,
          0.0055248618784530384,
          0.0055248618784530384,
          0.008287292817679558,
          0.008287292817679558,
          0.019337016574585635,
          0.019337016574585635,
          0.022099447513812154,
          0.022099447513812154,
          0.1132596685082873,
          0.1132596685082873,
          0.1270718232044199,
          0.1270718232044199,
          0.1298342541436464,
          0.1298342541436464,
          0.16574585635359115,
          0.16574585635359115,
          0.287292817679558,
          0.287292817679558,
          0.6574585635359116,
          0.6629834254143646,
          0.7817679558011049,
          0.787292817679558,
          1
         ],
         "y": [
          0,
          0.02857142857142857,
          0.45714285714285713,
          0.45714285714285713,
          0.5142857142857142,
          0.5142857142857142,
          0.5714285714285714,
          0.6,
          0.6,
          0.8,
          0.8,
          0.8285714285714286,
          0.8285714285714286,
          0.8571428571428571,
          0.8571428571428571,
          0.8857142857142857,
          0.8857142857142857,
          0.9142857142857143,
          0.9142857142857143,
          0.9428571428571428,
          0.9428571428571428,
          0.9714285714285714,
          0.9714285714285714,
          1,
          1,
          1,
          1,
          1,
          1
         ]
        },
        {
         "mode": "lines",
         "name": "ROC curve of European Robin (area = 0.99)",
         "type": "scatter",
         "x": [
          0,
          0,
          0,
          0.00273224043715847,
          0.00273224043715847,
          0.00546448087431694,
          0.00546448087431694,
          0.00819672131147541,
          0.00819672131147541,
          0.01366120218579235,
          0.01366120218579235,
          0.030054644808743168,
          0.030054644808743168,
          0.04918032786885246,
          0.04918032786885246,
          0.06557377049180328,
          0.06557377049180328,
          0.5218579234972678,
          0.5273224043715847,
          0.5655737704918032,
          0.5710382513661202,
          0.819672131147541,
          0.825136612021858,
          1
         ],
         "y": [
          0,
          0.0967741935483871,
          0.6451612903225806,
          0.6451612903225806,
          0.6774193548387096,
          0.6774193548387096,
          0.7419354838709677,
          0.7419354838709677,
          0.8387096774193549,
          0.8387096774193549,
          0.8709677419354839,
          0.8709677419354839,
          0.9354838709677419,
          0.9354838709677419,
          0.967741935483871,
          0.967741935483871,
          1,
          1,
          1,
          1,
          1,
          1,
          1,
          1
         ]
        },
        {
         "mode": "lines",
         "name": "ROC curve of Meadow Pipit (area = 0.98)",
         "type": "scatter",
         "x": [
          0,
          0,
          0,
          0,
          0,
          0.00273224043715847,
          0.00273224043715847,
          0.00819672131147541,
          0.00819672131147541,
          0.01912568306010929,
          0.01912568306010929,
          0.0273224043715847,
          0.0273224043715847,
          0.05737704918032787,
          0.05737704918032787,
          0.06557377049180328,
          0.06557377049180328,
          0.2185792349726776,
          0.2185792349726776,
          0.24863387978142076,
          0.24863387978142076,
          0.5273224043715847,
          0.5327868852459017,
          0.9098360655737705,
          0.9153005464480874,
          1
         ],
         "y": [
          0,
          0.16129032258064516,
          0.3870967741935484,
          0.45161290322580644,
          0.6451612903225806,
          0.6451612903225806,
          0.7419354838709677,
          0.7419354838709677,
          0.8064516129032258,
          0.8064516129032258,
          0.8387096774193549,
          0.8387096774193549,
          0.8709677419354839,
          0.8709677419354839,
          0.9032258064516129,
          0.9032258064516129,
          0.9354838709677419,
          0.9354838709677419,
          0.967741935483871,
          0.967741935483871,
          1,
          1,
          1,
          1,
          1,
          1
         ]
        },
        {
         "mode": "lines",
         "name": "ROC curve of Mute Swan (area = 0.93)",
         "type": "scatter",
         "x": [
          0,
          0.0027247956403269754,
          0.005449591280653951,
          0.005449591280653951,
          0.008174386920980926,
          0.008174386920980926,
          0.01907356948228883,
          0.01907356948228883,
          0.027247956403269755,
          0.027247956403269755,
          0.0326975476839237,
          0.0326975476839237,
          0.035422343324250684,
          0.035422343324250684,
          0.03814713896457766,
          0.03814713896457766,
          0.04632152588555858,
          0.04632152588555858,
          0.05722070844686648,
          0.05722070844686648,
          0.07629427792915532,
          0.07629427792915532,
          0.08174386920980926,
          0.08174386920980926,
          0.08719346049046321,
          0.09264305177111716,
          0.10626702997275204,
          0.10626702997275204,
          0.11171662125340599,
          0.11171662125340599,
          0.12806539509536785,
          0.12806539509536785,
          0.16348773841961853,
          0.16348773841961853,
          0.18256130790190736,
          0.18256130790190736,
          0.23978201634877383,
          0.23978201634877383,
          0.2561307901907357,
          0.2561307901907357,
          0.6730245231607629,
          0.6784741144414169,
          0.8010899182561307,
          0.8065395095367848,
          1
         ],
         "y": [
          0,
          0,
          0,
          0.26666666666666666,
          0.26666666666666666,
          0.36666666666666664,
          0.36666666666666664,
          0.4,
          0.4,
          0.43333333333333335,
          0.43333333333333335,
          0.4666666666666667,
          0.4666666666666667,
          0.5,
          0.5,
          0.5333333333333333,
          0.5333333333333333,
          0.5666666666666667,
          0.5666666666666667,
          0.6,
          0.6,
          0.6666666666666666,
          0.6666666666666666,
          0.7,
          0.7,
          0.7,
          0.7,
          0.7333333333333333,
          0.7333333333333333,
          0.8,
          0.8,
          0.8333333333333334,
          0.8333333333333334,
          0.8666666666666667,
          0.8666666666666667,
          0.9,
          0.9,
          0.9666666666666667,
          0.9666666666666667,
          1,
          1,
          1,
          1,
          1,
          1
         ]
        },
        {
         "mode": "lines",
         "name": "ROC curve of Northern Lapwing (area = 0.87)",
         "type": "scatter",
         "x": [
          0,
          0,
          0,
          0.03571428571428571,
          0.03571428571428571,
          0.04395604395604396,
          0.04395604395604396,
          0.07417582417582418,
          0.07417582417582418,
          0.08241758241758242,
          0.08241758241758242,
          0.08516483516483517,
          0.08516483516483517,
          0.13186813186813187,
          0.13186813186813187,
          0.14835164835164835,
          0.14835164835164835,
          0.17307692307692307,
          0.17307692307692307,
          0.4258241758241758,
          0.4258241758241758,
          0.4340659340659341,
          0.4340659340659341,
          0.47527472527472525,
          0.47527472527472525,
          0.5164835164835165,
          0.5164835164835165,
          0.5192307692307693,
          0.5247252747252747,
          0.5439560439560439,
          0.5494505494505495,
          0.7527472527472527,
          0.7527472527472527,
          0.8076923076923077,
          0.8131868131868132,
          0.8379120879120879,
          0.8379120879120879,
          1
         ],
         "y": [
          0,
          0.030303030303030304,
          0.5151515151515151,
          0.5151515151515151,
          0.5454545454545454,
          0.5454545454545454,
          0.6060606060606061,
          0.6060606060606061,
          0.6666666666666666,
          0.6666666666666666,
          0.696969696969697,
          0.696969696969697,
          0.7272727272727273,
          0.7272727272727273,
          0.7575757575757576,
          0.7575757575757576,
          0.7878787878787878,
          0.7878787878787878,
          0.8181818181818182,
          0.8181818181818182,
          0.8484848484848485,
          0.8484848484848485,
          0.8787878787878788,
          0.8787878787878788,
          0.9090909090909091,
          0.9090909090909091,
          0.9393939393939394,
          0.9393939393939394,
          0.9393939393939394,
          0.9393939393939394,
          0.9393939393939394,
          0.9393939393939394,
          0.9696969696969697,
          0.9696969696969697,
          0.9696969696969697,
          0.9696969696969697,
          1,
          1
         ]
        },
        {
         "mode": "lines",
         "name": "ROC curve of Rook (area = 0.97)",
         "type": "scatter",
         "x": [
          0,
          0,
          0,
          0.0056179775280898875,
          0.0056179775280898875,
          0.008426966292134831,
          0.008426966292134831,
          0.019662921348314606,
          0.019662921348314606,
          0.02247191011235955,
          0.02247191011235955,
          0.07865168539325842,
          0.07865168539325842,
          0.12359550561797752,
          0.12921348314606743,
          0.41292134831460675,
          0.41292134831460675,
          0.46629213483146065,
          0.46629213483146065,
          0.6685393258426966,
          0.6741573033707865,
          0.9101123595505618,
          0.9157303370786517,
          1
         ],
         "y": [
          0,
          0.14634146341463414,
          0.4878048780487805,
          0.4878048780487805,
          0.7317073170731707,
          0.7317073170731707,
          0.8780487804878049,
          0.8780487804878049,
          0.9024390243902439,
          0.9024390243902439,
          0.926829268292683,
          0.926829268292683,
          0.9512195121951219,
          0.9512195121951219,
          0.9512195121951219,
          0.9512195121951219,
          0.975609756097561,
          0.975609756097561,
          1,
          1,
          1,
          1,
          1,
          1
         ]
        },
        {
         "mode": "lines",
         "name": "ROC curve of Tundra Swan (area = 0.88)",
         "type": "scatter",
         "x": [
          0,
          0,
          0,
          0.011049723756906077,
          0.011049723756906077,
          0.019337016574585635,
          0.019337016574585635,
          0.022099447513812154,
          0.022099447513812154,
          0.024861878453038673,
          0.024861878453038673,
          0.027624309392265192,
          0.027624309392265192,
          0.03314917127071823,
          0.03314917127071823,
          0.04696132596685083,
          0.04696132596685083,
          0.052486187845303865,
          0.052486187845303865,
          0.058011049723756904,
          0.058011049723756904,
          0.07458563535911603,
          0.07458563535911603,
          0.0856353591160221,
          0.0856353591160221,
          0.10497237569060773,
          0.10497237569060773,
          0.10773480662983426,
          0.1132596685082873,
          0.13535911602209943,
          0.13535911602209943,
          0.1408839779005525,
          0.1408839779005525,
          0.143646408839779,
          0.143646408839779,
          0.17955801104972377,
          0.17955801104972377,
          0.20718232044198895,
          0.20718232044198895,
          0.23204419889502761,
          0.23204419889502761,
          0.34806629834254144,
          0.34806629834254144,
          0.39502762430939226,
          0.39502762430939226,
          0.6546961325966851,
          0.6602209944751382,
          0.7596685082872928,
          0.7596685082872928,
          0.7624309392265194,
          0.7624309392265194,
          0.7651933701657458,
          0.7707182320441989,
          1
         ],
         "y": [
          0,
          0.02857142857142857,
          0.22857142857142856,
          0.22857142857142856,
          0.3142857142857143,
          0.3142857142857143,
          0.34285714285714286,
          0.34285714285714286,
          0.37142857142857144,
          0.37142857142857144,
          0.4,
          0.4,
          0.42857142857142855,
          0.42857142857142855,
          0.4857142857142857,
          0.4857142857142857,
          0.5142857142857142,
          0.5142857142857142,
          0.5428571428571428,
          0.5428571428571428,
          0.6,
          0.6,
          0.6285714285714286,
          0.6285714285714286,
          0.6571428571428571,
          0.6571428571428571,
          0.6857142857142857,
          0.6857142857142857,
          0.6857142857142857,
          0.6857142857142857,
          0.7142857142857143,
          0.7142857142857143,
          0.7428571428571429,
          0.7428571428571429,
          0.7714285714285715,
          0.7714285714285715,
          0.8,
          0.8,
          0.8571428571428571,
          0.8571428571428571,
          0.8857142857142857,
          0.8857142857142857,
          0.9142857142857143,
          0.9142857142857143,
          0.9428571428571428,
          0.9428571428571428,
          0.9428571428571428,
          0.9428571428571428,
          0.9714285714285714,
          0.9714285714285714,
          1,
          1,
          1,
          1
         ]
        },
        {
         "mode": "lines",
         "name": "ROC curve of Tundra Swan (Bewicks) (area = 0.92)",
         "type": "scatter",
         "x": [
          0,
          0,
          0,
          0.00273224043715847,
          0.00273224043715847,
          0.01366120218579235,
          0.01366120218579235,
          0.01639344262295082,
          0.01639344262295082,
          0.02185792349726776,
          0.02185792349726776,
          0.02459016393442623,
          0.02459016393442623,
          0.03825136612021858,
          0.03825136612021858,
          0.040983606557377046,
          0.040983606557377046,
          0.04371584699453552,
          0.04371584699453552,
          0.04918032786885246,
          0.04918032786885246,
          0.0546448087431694,
          0.0546448087431694,
          0.06284153005464481,
          0.06284153005464481,
          0.16120218579234974,
          0.16120218579234974,
          0.23224043715846995,
          0.23224043715846995,
          0.2978142076502732,
          0.2978142076502732,
          0.4672131147540984,
          0.4726775956284153,
          0.7103825136612022,
          0.7103825136612022,
          0.7185792349726776,
          0.7240437158469946,
          0.8169398907103825,
          0.8224043715846995,
          1
         ],
         "y": [
          0,
          0.03225806451612903,
          0.25806451612903225,
          0.25806451612903225,
          0.2903225806451613,
          0.2903225806451613,
          0.3225806451612903,
          0.3225806451612903,
          0.45161290322580644,
          0.45161290322580644,
          0.5161290322580645,
          0.5161290322580645,
          0.5483870967741935,
          0.5483870967741935,
          0.5806451612903226,
          0.5806451612903226,
          0.6129032258064516,
          0.6129032258064516,
          0.7096774193548387,
          0.7096774193548387,
          0.7419354838709677,
          0.7419354838709677,
          0.7741935483870968,
          0.7741935483870968,
          0.8064516129032258,
          0.8064516129032258,
          0.8387096774193549,
          0.8387096774193549,
          0.9032258064516129,
          0.9032258064516129,
          0.967741935483871,
          0.967741935483871,
          0.967741935483871,
          0.967741935483871,
          1,
          1,
          1,
          1,
          1,
          1
         ]
        }
       ],
       "layout": {
        "template": {
         "data": {
          "bar": [
           {
            "error_x": {
             "color": "#2a3f5f"
            },
            "error_y": {
             "color": "#2a3f5f"
            },
            "marker": {
             "line": {
              "color": "#E5ECF6",
              "width": 0.5
             },
             "pattern": {
              "fillmode": "overlay",
              "size": 10,
              "solidity": 0.2
             }
            },
            "type": "bar"
           }
          ],
          "barpolar": [
           {
            "marker": {
             "line": {
              "color": "#E5ECF6",
              "width": 0.5
             },
             "pattern": {
              "fillmode": "overlay",
              "size": 10,
              "solidity": 0.2
             }
            },
            "type": "barpolar"
           }
          ],
          "carpet": [
           {
            "aaxis": {
             "endlinecolor": "#2a3f5f",
             "gridcolor": "white",
             "linecolor": "white",
             "minorgridcolor": "white",
             "startlinecolor": "#2a3f5f"
            },
            "baxis": {
             "endlinecolor": "#2a3f5f",
             "gridcolor": "white",
             "linecolor": "white",
             "minorgridcolor": "white",
             "startlinecolor": "#2a3f5f"
            },
            "type": "carpet"
           }
          ],
          "choropleth": [
           {
            "colorbar": {
             "outlinewidth": 0,
             "ticks": ""
            },
            "type": "choropleth"
           }
          ],
          "contour": [
           {
            "colorbar": {
             "outlinewidth": 0,
             "ticks": ""
            },
            "colorscale": [
             [
              0,
              "#0d0887"
             ],
             [
              0.1111111111111111,
              "#46039f"
             ],
             [
              0.2222222222222222,
              "#7201a8"
             ],
             [
              0.3333333333333333,
              "#9c179e"
             ],
             [
              0.4444444444444444,
              "#bd3786"
             ],
             [
              0.5555555555555556,
              "#d8576b"
             ],
             [
              0.6666666666666666,
              "#ed7953"
             ],
             [
              0.7777777777777778,
              "#fb9f3a"
             ],
             [
              0.8888888888888888,
              "#fdca26"
             ],
             [
              1,
              "#f0f921"
             ]
            ],
            "type": "contour"
           }
          ],
          "contourcarpet": [
           {
            "colorbar": {
             "outlinewidth": 0,
             "ticks": ""
            },
            "type": "contourcarpet"
           }
          ],
          "heatmap": [
           {
            "colorbar": {
             "outlinewidth": 0,
             "ticks": ""
            },
            "colorscale": [
             [
              0,
              "#0d0887"
             ],
             [
              0.1111111111111111,
              "#46039f"
             ],
             [
              0.2222222222222222,
              "#7201a8"
             ],
             [
              0.3333333333333333,
              "#9c179e"
             ],
             [
              0.4444444444444444,
              "#bd3786"
             ],
             [
              0.5555555555555556,
              "#d8576b"
             ],
             [
              0.6666666666666666,
              "#ed7953"
             ],
             [
              0.7777777777777778,
              "#fb9f3a"
             ],
             [
              0.8888888888888888,
              "#fdca26"
             ],
             [
              1,
              "#f0f921"
             ]
            ],
            "type": "heatmap"
           }
          ],
          "heatmapgl": [
           {
            "colorbar": {
             "outlinewidth": 0,
             "ticks": ""
            },
            "colorscale": [
             [
              0,
              "#0d0887"
             ],
             [
              0.1111111111111111,
              "#46039f"
             ],
             [
              0.2222222222222222,
              "#7201a8"
             ],
             [
              0.3333333333333333,
              "#9c179e"
             ],
             [
              0.4444444444444444,
              "#bd3786"
             ],
             [
              0.5555555555555556,
              "#d8576b"
             ],
             [
              0.6666666666666666,
              "#ed7953"
             ],
             [
              0.7777777777777778,
              "#fb9f3a"
             ],
             [
              0.8888888888888888,
              "#fdca26"
             ],
             [
              1,
              "#f0f921"
             ]
            ],
            "type": "heatmapgl"
           }
          ],
          "histogram": [
           {
            "marker": {
             "pattern": {
              "fillmode": "overlay",
              "size": 10,
              "solidity": 0.2
             }
            },
            "type": "histogram"
           }
          ],
          "histogram2d": [
           {
            "colorbar": {
             "outlinewidth": 0,
             "ticks": ""
            },
            "colorscale": [
             [
              0,
              "#0d0887"
             ],
             [
              0.1111111111111111,
              "#46039f"
             ],
             [
              0.2222222222222222,
              "#7201a8"
             ],
             [
              0.3333333333333333,
              "#9c179e"
             ],
             [
              0.4444444444444444,
              "#bd3786"
             ],
             [
              0.5555555555555556,
              "#d8576b"
             ],
             [
              0.6666666666666666,
              "#ed7953"
             ],
             [
              0.7777777777777778,
              "#fb9f3a"
             ],
             [
              0.8888888888888888,
              "#fdca26"
             ],
             [
              1,
              "#f0f921"
             ]
            ],
            "type": "histogram2d"
           }
          ],
          "histogram2dcontour": [
           {
            "colorbar": {
             "outlinewidth": 0,
             "ticks": ""
            },
            "colorscale": [
             [
              0,
              "#0d0887"
             ],
             [
              0.1111111111111111,
              "#46039f"
             ],
             [
              0.2222222222222222,
              "#7201a8"
             ],
             [
              0.3333333333333333,
              "#9c179e"
             ],
             [
              0.4444444444444444,
              "#bd3786"
             ],
             [
              0.5555555555555556,
              "#d8576b"
             ],
             [
              0.6666666666666666,
              "#ed7953"
             ],
             [
              0.7777777777777778,
              "#fb9f3a"
             ],
             [
              0.8888888888888888,
              "#fdca26"
             ],
             [
              1,
              "#f0f921"
             ]
            ],
            "type": "histogram2dcontour"
           }
          ],
          "mesh3d": [
           {
            "colorbar": {
             "outlinewidth": 0,
             "ticks": ""
            },
            "type": "mesh3d"
           }
          ],
          "parcoords": [
           {
            "line": {
             "colorbar": {
              "outlinewidth": 0,
              "ticks": ""
             }
            },
            "type": "parcoords"
           }
          ],
          "pie": [
           {
            "automargin": true,
            "type": "pie"
           }
          ],
          "scatter": [
           {
            "marker": {
             "colorbar": {
              "outlinewidth": 0,
              "ticks": ""
             }
            },
            "type": "scatter"
           }
          ],
          "scatter3d": [
           {
            "line": {
             "colorbar": {
              "outlinewidth": 0,
              "ticks": ""
             }
            },
            "marker": {
             "colorbar": {
              "outlinewidth": 0,
              "ticks": ""
             }
            },
            "type": "scatter3d"
           }
          ],
          "scattercarpet": [
           {
            "marker": {
             "colorbar": {
              "outlinewidth": 0,
              "ticks": ""
             }
            },
            "type": "scattercarpet"
           }
          ],
          "scattergeo": [
           {
            "marker": {
             "colorbar": {
              "outlinewidth": 0,
              "ticks": ""
             }
            },
            "type": "scattergeo"
           }
          ],
          "scattergl": [
           {
            "marker": {
             "colorbar": {
              "outlinewidth": 0,
              "ticks": ""
             }
            },
            "type": "scattergl"
           }
          ],
          "scattermapbox": [
           {
            "marker": {
             "colorbar": {
              "outlinewidth": 0,
              "ticks": ""
             }
            },
            "type": "scattermapbox"
           }
          ],
          "scatterpolar": [
           {
            "marker": {
             "colorbar": {
              "outlinewidth": 0,
              "ticks": ""
             }
            },
            "type": "scatterpolar"
           }
          ],
          "scatterpolargl": [
           {
            "marker": {
             "colorbar": {
              "outlinewidth": 0,
              "ticks": ""
             }
            },
            "type": "scatterpolargl"
           }
          ],
          "scatterternary": [
           {
            "marker": {
             "colorbar": {
              "outlinewidth": 0,
              "ticks": ""
             }
            },
            "type": "scatterternary"
           }
          ],
          "surface": [
           {
            "colorbar": {
             "outlinewidth": 0,
             "ticks": ""
            },
            "colorscale": [
             [
              0,
              "#0d0887"
             ],
             [
              0.1111111111111111,
              "#46039f"
             ],
             [
              0.2222222222222222,
              "#7201a8"
             ],
             [
              0.3333333333333333,
              "#9c179e"
             ],
             [
              0.4444444444444444,
              "#bd3786"
             ],
             [
              0.5555555555555556,
              "#d8576b"
             ],
             [
              0.6666666666666666,
              "#ed7953"
             ],
             [
              0.7777777777777778,
              "#fb9f3a"
             ],
             [
              0.8888888888888888,
              "#fdca26"
             ],
             [
              1,
              "#f0f921"
             ]
            ],
            "type": "surface"
           }
          ],
          "table": [
           {
            "cells": {
             "fill": {
              "color": "#EBF0F8"
             },
             "line": {
              "color": "white"
             }
            },
            "header": {
             "fill": {
              "color": "#C8D4E3"
             },
             "line": {
              "color": "white"
             }
            },
            "type": "table"
           }
          ]
         },
         "layout": {
          "annotationdefaults": {
           "arrowcolor": "#2a3f5f",
           "arrowhead": 0,
           "arrowwidth": 1
          },
          "autotypenumbers": "strict",
          "coloraxis": {
           "colorbar": {
            "outlinewidth": 0,
            "ticks": ""
           }
          },
          "colorscale": {
           "diverging": [
            [
             0,
             "#8e0152"
            ],
            [
             0.1,
             "#c51b7d"
            ],
            [
             0.2,
             "#de77ae"
            ],
            [
             0.3,
             "#f1b6da"
            ],
            [
             0.4,
             "#fde0ef"
            ],
            [
             0.5,
             "#f7f7f7"
            ],
            [
             0.6,
             "#e6f5d0"
            ],
            [
             0.7,
             "#b8e186"
            ],
            [
             0.8,
             "#7fbc41"
            ],
            [
             0.9,
             "#4d9221"
            ],
            [
             1,
             "#276419"
            ]
           ],
           "sequential": [
            [
             0,
             "#0d0887"
            ],
            [
             0.1111111111111111,
             "#46039f"
            ],
            [
             0.2222222222222222,
             "#7201a8"
            ],
            [
             0.3333333333333333,
             "#9c179e"
            ],
            [
             0.4444444444444444,
             "#bd3786"
            ],
            [
             0.5555555555555556,
             "#d8576b"
            ],
            [
             0.6666666666666666,
             "#ed7953"
            ],
            [
             0.7777777777777778,
             "#fb9f3a"
            ],
            [
             0.8888888888888888,
             "#fdca26"
            ],
            [
             1,
             "#f0f921"
            ]
           ],
           "sequentialminus": [
            [
             0,
             "#0d0887"
            ],
            [
             0.1111111111111111,
             "#46039f"
            ],
            [
             0.2222222222222222,
             "#7201a8"
            ],
            [
             0.3333333333333333,
             "#9c179e"
            ],
            [
             0.4444444444444444,
             "#bd3786"
            ],
            [
             0.5555555555555556,
             "#d8576b"
            ],
            [
             0.6666666666666666,
             "#ed7953"
            ],
            [
             0.7777777777777778,
             "#fb9f3a"
            ],
            [
             0.8888888888888888,
             "#fdca26"
            ],
            [
             1,
             "#f0f921"
            ]
           ]
          },
          "colorway": [
           "#636efa",
           "#EF553B",
           "#00cc96",
           "#ab63fa",
           "#FFA15A",
           "#19d3f3",
           "#FF6692",
           "#B6E880",
           "#FF97FF",
           "#FECB52"
          ],
          "font": {
           "color": "#2a3f5f"
          },
          "geo": {
           "bgcolor": "white",
           "lakecolor": "white",
           "landcolor": "#E5ECF6",
           "showlakes": true,
           "showland": true,
           "subunitcolor": "white"
          },
          "hoverlabel": {
           "align": "left"
          },
          "hovermode": "closest",
          "mapbox": {
           "style": "light"
          },
          "paper_bgcolor": "white",
          "plot_bgcolor": "#E5ECF6",
          "polar": {
           "angularaxis": {
            "gridcolor": "white",
            "linecolor": "white",
            "ticks": ""
           },
           "bgcolor": "#E5ECF6",
           "radialaxis": {
            "gridcolor": "white",
            "linecolor": "white",
            "ticks": ""
           }
          },
          "scene": {
           "xaxis": {
            "backgroundcolor": "#E5ECF6",
            "gridcolor": "white",
            "gridwidth": 2,
            "linecolor": "white",
            "showbackground": true,
            "ticks": "",
            "zerolinecolor": "white"
           },
           "yaxis": {
            "backgroundcolor": "#E5ECF6",
            "gridcolor": "white",
            "gridwidth": 2,
            "linecolor": "white",
            "showbackground": true,
            "ticks": "",
            "zerolinecolor": "white"
           },
           "zaxis": {
            "backgroundcolor": "#E5ECF6",
            "gridcolor": "white",
            "gridwidth": 2,
            "linecolor": "white",
            "showbackground": true,
            "ticks": "",
            "zerolinecolor": "white"
           }
          },
          "shapedefaults": {
           "line": {
            "color": "#2a3f5f"
           }
          },
          "ternary": {
           "aaxis": {
            "gridcolor": "white",
            "linecolor": "white",
            "ticks": ""
           },
           "baxis": {
            "gridcolor": "white",
            "linecolor": "white",
            "ticks": ""
           },
           "bgcolor": "#E5ECF6",
           "caxis": {
            "gridcolor": "white",
            "linecolor": "white",
            "ticks": ""
           }
          },
          "title": {
           "x": 0.05
          },
          "xaxis": {
           "automargin": true,
           "gridcolor": "white",
           "linecolor": "white",
           "ticks": "",
           "title": {
            "standoff": 15
           },
           "zerolinecolor": "white",
           "zerolinewidth": 2
          },
          "yaxis": {
           "automargin": true,
           "gridcolor": "white",
           "linecolor": "white",
           "ticks": "",
           "title": {
            "standoff": 15
           },
           "zerolinecolor": "white",
           "zerolinewidth": 2
          }
         }
        },
        "title": {
         "text": "ROC for multi-class bird song classification"
        },
        "xaxis": {
         "title": {
          "text": "False Positive Rate"
         }
        },
        "yaxis": {
         "title": {
          "text": "True Positive Rate"
         }
        }
       }
      },
      "text/html": [
       "<div>                            <div id=\"45da7111-1d8c-49d4-bed0-8389e3b4ec5b\" class=\"plotly-graph-div\" style=\"height:525px; width:100%;\"></div>            <script type=\"text/javascript\">                require([\"plotly\"], function(Plotly) {                    window.PLOTLYENV=window.PLOTLYENV || {};                                    if (document.getElementById(\"45da7111-1d8c-49d4-bed0-8389e3b4ec5b\")) {                    Plotly.newPlot(                        \"45da7111-1d8c-49d4-bed0-8389e3b4ec5b\",                        [{\"mode\":\"lines\",\"name\":\"ROC curve of Common Buzzard (area = 0.96)\",\"type\":\"scatter\",\"x\":[0.0,0.0,0.0,0.002688172043010753,0.002688172043010753,0.008064516129032258,0.008064516129032258,0.013440860215053764,0.013440860215053764,0.016129032258064516,0.016129032258064516,0.021505376344086023,0.021505376344086023,0.053763440860215055,0.053763440860215055,0.06451612903225806,0.06451612903225806,0.13709677419354838,0.13709677419354838,0.271505376344086,0.271505376344086,0.5268817204301075,0.532258064516129,0.6639784946236559,0.6693548387096774,1.0],\"y\":[0.0,0.04,0.32,0.32,0.48,0.48,0.52,0.52,0.6,0.6,0.68,0.68,0.72,0.72,0.8,0.8,0.88,0.88,0.96,0.96,1.0,1.0,1.0,1.0,1.0,1.0]},{\"mode\":\"lines\",\"name\":\"ROC curve of Common Kestrel (area = 0.98)\",\"type\":\"scatter\",\"x\":[0.0,0.0,0.0,0.0027397260273972603,0.0027397260273972603,0.005479452054794521,0.005479452054794521,0.00821917808219178,0.00821917808219178,0.0136986301369863,0.0136986301369863,0.052054794520547946,0.052054794520547946,0.19726027397260273,0.19726027397260273,0.2328767123287671,0.2328767123287671,0.5698630136986301,0.5753424657534246,0.7095890410958904,0.7150684931506849,0.7178082191780822,0.7232876712328767,1.0],\"y\":[0.0,0.09375,0.78125,0.78125,0.8125,0.8125,0.84375,0.84375,0.875,0.875,0.90625,0.90625,0.9375,0.9375,0.96875,0.96875,1.0,1.0,1.0,1.0,1.0,1.0,1.0,1.0]},{\"mode\":\"lines\",\"name\":\"ROC curve of Common Snipe (area = 0.91)\",\"type\":\"scatter\",\"x\":[0.0,0.0,0.0,0.0028169014084507044,0.0028169014084507044,0.014084507042253521,0.014084507042253521,0.01971830985915493,0.01971830985915493,0.022535211267605635,0.022535211267605635,0.02535211267605634,0.02535211267605634,0.030985915492957747,0.030985915492957747,0.036619718309859155,0.036619718309859155,0.03943661971830986,0.03943661971830986,0.059154929577464786,0.059154929577464786,0.0676056338028169,0.0676056338028169,0.07323943661971831,0.07323943661971831,0.07887323943661972,0.07887323943661972,0.10985915492957747,0.10985915492957747,0.1323943661971831,0.1323943661971831,0.1352112676056338,0.1352112676056338,0.16901408450704225,0.16901408450704225,0.17183098591549295,0.17183098591549295,0.2028169014084507,0.2028169014084507,0.2084507042253521,0.2084507042253521,0.23943661971830985,0.23943661971830985,0.2647887323943662,0.2647887323943662,0.49295774647887325,0.49859154929577465,0.5859154929577465,0.5859154929577465,0.5915492957746479,0.5915492957746479,0.6535211267605634,0.6591549295774648,1.0],\"y\":[0.0,0.023809523809523808,0.16666666666666666,0.16666666666666666,0.2619047619047619,0.2619047619047619,0.2857142857142857,0.2857142857142857,0.40476190476190477,0.40476190476190477,0.42857142857142855,0.42857142857142855,0.4523809523809524,0.4523809523809524,0.47619047619047616,0.47619047619047616,0.5,0.5,0.5238095238095238,0.5238095238095238,0.5476190476190477,0.5476190476190477,0.6190476190476191,0.6190476190476191,0.6904761904761905,0.6904761904761905,0.7142857142857143,0.7142857142857143,0.7380952380952381,0.7380952380952381,0.7619047619047619,0.7619047619047619,0.7857142857142857,0.7857142857142857,0.8095238095238095,0.8095238095238095,0.8333333333333334,0.8333333333333334,0.8571428571428571,0.8571428571428571,0.8809523809523809,0.8809523809523809,0.9047619047619048,0.9047619047619048,0.9523809523809523,0.9523809523809523,0.9523809523809523,0.9523809523809523,0.9761904761904762,0.9761904761904762,1.0,1.0,1.0,1.0]},{\"mode\":\"lines\",\"name\":\"ROC curve of Eurasian Curlew (area = 0.93)\",\"type\":\"scatter\",\"x\":[0.0,0.0,0.0,0.00273224043715847,0.00273224043715847,0.00819672131147541,0.00819672131147541,0.07650273224043716,0.07650273224043716,0.09562841530054644,0.09562841530054644,0.10655737704918032,0.10655737704918032,0.13114754098360656,0.13114754098360656,0.13934426229508196,0.13934426229508196,0.14207650273224043,0.14207650273224043,0.273224043715847,0.273224043715847,0.3743169398907104,0.3743169398907104,0.4918032786885246,0.4972677595628415,0.4972677595628415,0.7213114754098361,0.726775956284153,0.76775956284153,0.773224043715847,1.0],\"y\":[0.0,0.06451612903225806,0.41935483870967744,0.41935483870967744,0.5806451612903226,0.5806451612903226,0.6451612903225806,0.6451612903225806,0.6774193548387096,0.6774193548387096,0.7096774193548387,0.7096774193548387,0.7741935483870968,0.7741935483870968,0.8064516129032258,0.8064516129032258,0.8709677419354839,0.8709677419354839,0.9032258064516129,0.9032258064516129,0.9354838709677419,0.9354838709677419,0.967741935483871,0.967741935483871,0.967741935483871,1.0,1.0,1.0,1.0,1.0,1.0]},{\"mode\":\"lines\",\"name\":\"ROC curve of European Herring Gull (area = 0.97)\",\"type\":\"scatter\",\"x\":[0.0,0.0,0.0,0.0027624309392265192,0.0027624309392265192,0.0055248618784530384,0.0055248618784530384,0.0055248618784530384,0.008287292817679558,0.008287292817679558,0.019337016574585635,0.019337016574585635,0.022099447513812154,0.022099447513812154,0.1132596685082873,0.1132596685082873,0.1270718232044199,0.1270718232044199,0.1298342541436464,0.1298342541436464,0.16574585635359115,0.16574585635359115,0.287292817679558,0.287292817679558,0.6574585635359116,0.6629834254143646,0.7817679558011049,0.787292817679558,1.0],\"y\":[0.0,0.02857142857142857,0.45714285714285713,0.45714285714285713,0.5142857142857142,0.5142857142857142,0.5714285714285714,0.6,0.6,0.8,0.8,0.8285714285714286,0.8285714285714286,0.8571428571428571,0.8571428571428571,0.8857142857142857,0.8857142857142857,0.9142857142857143,0.9142857142857143,0.9428571428571428,0.9428571428571428,0.9714285714285714,0.9714285714285714,1.0,1.0,1.0,1.0,1.0,1.0]},{\"mode\":\"lines\",\"name\":\"ROC curve of European Robin (area = 0.99)\",\"type\":\"scatter\",\"x\":[0.0,0.0,0.0,0.00273224043715847,0.00273224043715847,0.00546448087431694,0.00546448087431694,0.00819672131147541,0.00819672131147541,0.01366120218579235,0.01366120218579235,0.030054644808743168,0.030054644808743168,0.04918032786885246,0.04918032786885246,0.06557377049180328,0.06557377049180328,0.5218579234972678,0.5273224043715847,0.5655737704918032,0.5710382513661202,0.819672131147541,0.825136612021858,1.0],\"y\":[0.0,0.0967741935483871,0.6451612903225806,0.6451612903225806,0.6774193548387096,0.6774193548387096,0.7419354838709677,0.7419354838709677,0.8387096774193549,0.8387096774193549,0.8709677419354839,0.8709677419354839,0.9354838709677419,0.9354838709677419,0.967741935483871,0.967741935483871,1.0,1.0,1.0,1.0,1.0,1.0,1.0,1.0]},{\"mode\":\"lines\",\"name\":\"ROC curve of Meadow Pipit (area = 0.98)\",\"type\":\"scatter\",\"x\":[0.0,0.0,0.0,0.0,0.0,0.00273224043715847,0.00273224043715847,0.00819672131147541,0.00819672131147541,0.01912568306010929,0.01912568306010929,0.0273224043715847,0.0273224043715847,0.05737704918032787,0.05737704918032787,0.06557377049180328,0.06557377049180328,0.2185792349726776,0.2185792349726776,0.24863387978142076,0.24863387978142076,0.5273224043715847,0.5327868852459017,0.9098360655737705,0.9153005464480874,1.0],\"y\":[0.0,0.16129032258064516,0.3870967741935484,0.45161290322580644,0.6451612903225806,0.6451612903225806,0.7419354838709677,0.7419354838709677,0.8064516129032258,0.8064516129032258,0.8387096774193549,0.8387096774193549,0.8709677419354839,0.8709677419354839,0.9032258064516129,0.9032258064516129,0.9354838709677419,0.9354838709677419,0.967741935483871,0.967741935483871,1.0,1.0,1.0,1.0,1.0,1.0]},{\"mode\":\"lines\",\"name\":\"ROC curve of Mute Swan (area = 0.93)\",\"type\":\"scatter\",\"x\":[0.0,0.0027247956403269754,0.005449591280653951,0.005449591280653951,0.008174386920980926,0.008174386920980926,0.01907356948228883,0.01907356948228883,0.027247956403269755,0.027247956403269755,0.0326975476839237,0.0326975476839237,0.035422343324250684,0.035422343324250684,0.03814713896457766,0.03814713896457766,0.04632152588555858,0.04632152588555858,0.05722070844686648,0.05722070844686648,0.07629427792915532,0.07629427792915532,0.08174386920980926,0.08174386920980926,0.08719346049046321,0.09264305177111716,0.10626702997275204,0.10626702997275204,0.11171662125340599,0.11171662125340599,0.12806539509536785,0.12806539509536785,0.16348773841961853,0.16348773841961853,0.18256130790190736,0.18256130790190736,0.23978201634877383,0.23978201634877383,0.2561307901907357,0.2561307901907357,0.6730245231607629,0.6784741144414169,0.8010899182561307,0.8065395095367848,1.0],\"y\":[0.0,0.0,0.0,0.26666666666666666,0.26666666666666666,0.36666666666666664,0.36666666666666664,0.4,0.4,0.43333333333333335,0.43333333333333335,0.4666666666666667,0.4666666666666667,0.5,0.5,0.5333333333333333,0.5333333333333333,0.5666666666666667,0.5666666666666667,0.6,0.6,0.6666666666666666,0.6666666666666666,0.7,0.7,0.7,0.7,0.7333333333333333,0.7333333333333333,0.8,0.8,0.8333333333333334,0.8333333333333334,0.8666666666666667,0.8666666666666667,0.9,0.9,0.9666666666666667,0.9666666666666667,1.0,1.0,1.0,1.0,1.0,1.0]},{\"mode\":\"lines\",\"name\":\"ROC curve of Northern Lapwing (area = 0.87)\",\"type\":\"scatter\",\"x\":[0.0,0.0,0.0,0.03571428571428571,0.03571428571428571,0.04395604395604396,0.04395604395604396,0.07417582417582418,0.07417582417582418,0.08241758241758242,0.08241758241758242,0.08516483516483517,0.08516483516483517,0.13186813186813187,0.13186813186813187,0.14835164835164835,0.14835164835164835,0.17307692307692307,0.17307692307692307,0.4258241758241758,0.4258241758241758,0.4340659340659341,0.4340659340659341,0.47527472527472525,0.47527472527472525,0.5164835164835165,0.5164835164835165,0.5192307692307693,0.5247252747252747,0.5439560439560439,0.5494505494505495,0.7527472527472527,0.7527472527472527,0.8076923076923077,0.8131868131868132,0.8379120879120879,0.8379120879120879,1.0],\"y\":[0.0,0.030303030303030304,0.5151515151515151,0.5151515151515151,0.5454545454545454,0.5454545454545454,0.6060606060606061,0.6060606060606061,0.6666666666666666,0.6666666666666666,0.696969696969697,0.696969696969697,0.7272727272727273,0.7272727272727273,0.7575757575757576,0.7575757575757576,0.7878787878787878,0.7878787878787878,0.8181818181818182,0.8181818181818182,0.8484848484848485,0.8484848484848485,0.8787878787878788,0.8787878787878788,0.9090909090909091,0.9090909090909091,0.9393939393939394,0.9393939393939394,0.9393939393939394,0.9393939393939394,0.9393939393939394,0.9393939393939394,0.9696969696969697,0.9696969696969697,0.9696969696969697,0.9696969696969697,1.0,1.0]},{\"mode\":\"lines\",\"name\":\"ROC curve of Rook (area = 0.97)\",\"type\":\"scatter\",\"x\":[0.0,0.0,0.0,0.0056179775280898875,0.0056179775280898875,0.008426966292134831,0.008426966292134831,0.019662921348314606,0.019662921348314606,0.02247191011235955,0.02247191011235955,0.07865168539325842,0.07865168539325842,0.12359550561797752,0.12921348314606743,0.41292134831460675,0.41292134831460675,0.46629213483146065,0.46629213483146065,0.6685393258426966,0.6741573033707865,0.9101123595505618,0.9157303370786517,1.0],\"y\":[0.0,0.14634146341463414,0.4878048780487805,0.4878048780487805,0.7317073170731707,0.7317073170731707,0.8780487804878049,0.8780487804878049,0.9024390243902439,0.9024390243902439,0.926829268292683,0.926829268292683,0.9512195121951219,0.9512195121951219,0.9512195121951219,0.9512195121951219,0.975609756097561,0.975609756097561,1.0,1.0,1.0,1.0,1.0,1.0]},{\"mode\":\"lines\",\"name\":\"ROC curve of Tundra Swan (area = 0.88)\",\"type\":\"scatter\",\"x\":[0.0,0.0,0.0,0.011049723756906077,0.011049723756906077,0.019337016574585635,0.019337016574585635,0.022099447513812154,0.022099447513812154,0.024861878453038673,0.024861878453038673,0.027624309392265192,0.027624309392265192,0.03314917127071823,0.03314917127071823,0.04696132596685083,0.04696132596685083,0.052486187845303865,0.052486187845303865,0.058011049723756904,0.058011049723756904,0.07458563535911603,0.07458563535911603,0.0856353591160221,0.0856353591160221,0.10497237569060773,0.10497237569060773,0.10773480662983426,0.1132596685082873,0.13535911602209943,0.13535911602209943,0.1408839779005525,0.1408839779005525,0.143646408839779,0.143646408839779,0.17955801104972377,0.17955801104972377,0.20718232044198895,0.20718232044198895,0.23204419889502761,0.23204419889502761,0.34806629834254144,0.34806629834254144,0.39502762430939226,0.39502762430939226,0.6546961325966851,0.6602209944751382,0.7596685082872928,0.7596685082872928,0.7624309392265194,0.7624309392265194,0.7651933701657458,0.7707182320441989,1.0],\"y\":[0.0,0.02857142857142857,0.22857142857142856,0.22857142857142856,0.3142857142857143,0.3142857142857143,0.34285714285714286,0.34285714285714286,0.37142857142857144,0.37142857142857144,0.4,0.4,0.42857142857142855,0.42857142857142855,0.4857142857142857,0.4857142857142857,0.5142857142857142,0.5142857142857142,0.5428571428571428,0.5428571428571428,0.6,0.6,0.6285714285714286,0.6285714285714286,0.6571428571428571,0.6571428571428571,0.6857142857142857,0.6857142857142857,0.6857142857142857,0.6857142857142857,0.7142857142857143,0.7142857142857143,0.7428571428571429,0.7428571428571429,0.7714285714285715,0.7714285714285715,0.8,0.8,0.8571428571428571,0.8571428571428571,0.8857142857142857,0.8857142857142857,0.9142857142857143,0.9142857142857143,0.9428571428571428,0.9428571428571428,0.9428571428571428,0.9428571428571428,0.9714285714285714,0.9714285714285714,1.0,1.0,1.0,1.0]},{\"mode\":\"lines\",\"name\":\"ROC curve of Tundra Swan (Bewicks) (area = 0.92)\",\"type\":\"scatter\",\"x\":[0.0,0.0,0.0,0.00273224043715847,0.00273224043715847,0.01366120218579235,0.01366120218579235,0.01639344262295082,0.01639344262295082,0.02185792349726776,0.02185792349726776,0.02459016393442623,0.02459016393442623,0.03825136612021858,0.03825136612021858,0.040983606557377046,0.040983606557377046,0.04371584699453552,0.04371584699453552,0.04918032786885246,0.04918032786885246,0.0546448087431694,0.0546448087431694,0.06284153005464481,0.06284153005464481,0.16120218579234974,0.16120218579234974,0.23224043715846995,0.23224043715846995,0.2978142076502732,0.2978142076502732,0.4672131147540984,0.4726775956284153,0.7103825136612022,0.7103825136612022,0.7185792349726776,0.7240437158469946,0.8169398907103825,0.8224043715846995,1.0],\"y\":[0.0,0.03225806451612903,0.25806451612903225,0.25806451612903225,0.2903225806451613,0.2903225806451613,0.3225806451612903,0.3225806451612903,0.45161290322580644,0.45161290322580644,0.5161290322580645,0.5161290322580645,0.5483870967741935,0.5483870967741935,0.5806451612903226,0.5806451612903226,0.6129032258064516,0.6129032258064516,0.7096774193548387,0.7096774193548387,0.7419354838709677,0.7419354838709677,0.7741935483870968,0.7741935483870968,0.8064516129032258,0.8064516129032258,0.8387096774193549,0.8387096774193549,0.9032258064516129,0.9032258064516129,0.967741935483871,0.967741935483871,0.967741935483871,0.967741935483871,1.0,1.0,1.0,1.0,1.0,1.0]}],                        {\"template\":{\"data\":{\"bar\":[{\"error_x\":{\"color\":\"#2a3f5f\"},\"error_y\":{\"color\":\"#2a3f5f\"},\"marker\":{\"line\":{\"color\":\"#E5ECF6\",\"width\":0.5},\"pattern\":{\"fillmode\":\"overlay\",\"size\":10,\"solidity\":0.2}},\"type\":\"bar\"}],\"barpolar\":[{\"marker\":{\"line\":{\"color\":\"#E5ECF6\",\"width\":0.5},\"pattern\":{\"fillmode\":\"overlay\",\"size\":10,\"solidity\":0.2}},\"type\":\"barpolar\"}],\"carpet\":[{\"aaxis\":{\"endlinecolor\":\"#2a3f5f\",\"gridcolor\":\"white\",\"linecolor\":\"white\",\"minorgridcolor\":\"white\",\"startlinecolor\":\"#2a3f5f\"},\"baxis\":{\"endlinecolor\":\"#2a3f5f\",\"gridcolor\":\"white\",\"linecolor\":\"white\",\"minorgridcolor\":\"white\",\"startlinecolor\":\"#2a3f5f\"},\"type\":\"carpet\"}],\"choropleth\":[{\"colorbar\":{\"outlinewidth\":0,\"ticks\":\"\"},\"type\":\"choropleth\"}],\"contour\":[{\"colorbar\":{\"outlinewidth\":0,\"ticks\":\"\"},\"colorscale\":[[0.0,\"#0d0887\"],[0.1111111111111111,\"#46039f\"],[0.2222222222222222,\"#7201a8\"],[0.3333333333333333,\"#9c179e\"],[0.4444444444444444,\"#bd3786\"],[0.5555555555555556,\"#d8576b\"],[0.6666666666666666,\"#ed7953\"],[0.7777777777777778,\"#fb9f3a\"],[0.8888888888888888,\"#fdca26\"],[1.0,\"#f0f921\"]],\"type\":\"contour\"}],\"contourcarpet\":[{\"colorbar\":{\"outlinewidth\":0,\"ticks\":\"\"},\"type\":\"contourcarpet\"}],\"heatmap\":[{\"colorbar\":{\"outlinewidth\":0,\"ticks\":\"\"},\"colorscale\":[[0.0,\"#0d0887\"],[0.1111111111111111,\"#46039f\"],[0.2222222222222222,\"#7201a8\"],[0.3333333333333333,\"#9c179e\"],[0.4444444444444444,\"#bd3786\"],[0.5555555555555556,\"#d8576b\"],[0.6666666666666666,\"#ed7953\"],[0.7777777777777778,\"#fb9f3a\"],[0.8888888888888888,\"#fdca26\"],[1.0,\"#f0f921\"]],\"type\":\"heatmap\"}],\"heatmapgl\":[{\"colorbar\":{\"outlinewidth\":0,\"ticks\":\"\"},\"colorscale\":[[0.0,\"#0d0887\"],[0.1111111111111111,\"#46039f\"],[0.2222222222222222,\"#7201a8\"],[0.3333333333333333,\"#9c179e\"],[0.4444444444444444,\"#bd3786\"],[0.5555555555555556,\"#d8576b\"],[0.6666666666666666,\"#ed7953\"],[0.7777777777777778,\"#fb9f3a\"],[0.8888888888888888,\"#fdca26\"],[1.0,\"#f0f921\"]],\"type\":\"heatmapgl\"}],\"histogram\":[{\"marker\":{\"pattern\":{\"fillmode\":\"overlay\",\"size\":10,\"solidity\":0.2}},\"type\":\"histogram\"}],\"histogram2d\":[{\"colorbar\":{\"outlinewidth\":0,\"ticks\":\"\"},\"colorscale\":[[0.0,\"#0d0887\"],[0.1111111111111111,\"#46039f\"],[0.2222222222222222,\"#7201a8\"],[0.3333333333333333,\"#9c179e\"],[0.4444444444444444,\"#bd3786\"],[0.5555555555555556,\"#d8576b\"],[0.6666666666666666,\"#ed7953\"],[0.7777777777777778,\"#fb9f3a\"],[0.8888888888888888,\"#fdca26\"],[1.0,\"#f0f921\"]],\"type\":\"histogram2d\"}],\"histogram2dcontour\":[{\"colorbar\":{\"outlinewidth\":0,\"ticks\":\"\"},\"colorscale\":[[0.0,\"#0d0887\"],[0.1111111111111111,\"#46039f\"],[0.2222222222222222,\"#7201a8\"],[0.3333333333333333,\"#9c179e\"],[0.4444444444444444,\"#bd3786\"],[0.5555555555555556,\"#d8576b\"],[0.6666666666666666,\"#ed7953\"],[0.7777777777777778,\"#fb9f3a\"],[0.8888888888888888,\"#fdca26\"],[1.0,\"#f0f921\"]],\"type\":\"histogram2dcontour\"}],\"mesh3d\":[{\"colorbar\":{\"outlinewidth\":0,\"ticks\":\"\"},\"type\":\"mesh3d\"}],\"parcoords\":[{\"line\":{\"colorbar\":{\"outlinewidth\":0,\"ticks\":\"\"}},\"type\":\"parcoords\"}],\"pie\":[{\"automargin\":true,\"type\":\"pie\"}],\"scatter\":[{\"marker\":{\"colorbar\":{\"outlinewidth\":0,\"ticks\":\"\"}},\"type\":\"scatter\"}],\"scatter3d\":[{\"line\":{\"colorbar\":{\"outlinewidth\":0,\"ticks\":\"\"}},\"marker\":{\"colorbar\":{\"outlinewidth\":0,\"ticks\":\"\"}},\"type\":\"scatter3d\"}],\"scattercarpet\":[{\"marker\":{\"colorbar\":{\"outlinewidth\":0,\"ticks\":\"\"}},\"type\":\"scattercarpet\"}],\"scattergeo\":[{\"marker\":{\"colorbar\":{\"outlinewidth\":0,\"ticks\":\"\"}},\"type\":\"scattergeo\"}],\"scattergl\":[{\"marker\":{\"colorbar\":{\"outlinewidth\":0,\"ticks\":\"\"}},\"type\":\"scattergl\"}],\"scattermapbox\":[{\"marker\":{\"colorbar\":{\"outlinewidth\":0,\"ticks\":\"\"}},\"type\":\"scattermapbox\"}],\"scatterpolar\":[{\"marker\":{\"colorbar\":{\"outlinewidth\":0,\"ticks\":\"\"}},\"type\":\"scatterpolar\"}],\"scatterpolargl\":[{\"marker\":{\"colorbar\":{\"outlinewidth\":0,\"ticks\":\"\"}},\"type\":\"scatterpolargl\"}],\"scatterternary\":[{\"marker\":{\"colorbar\":{\"outlinewidth\":0,\"ticks\":\"\"}},\"type\":\"scatterternary\"}],\"surface\":[{\"colorbar\":{\"outlinewidth\":0,\"ticks\":\"\"},\"colorscale\":[[0.0,\"#0d0887\"],[0.1111111111111111,\"#46039f\"],[0.2222222222222222,\"#7201a8\"],[0.3333333333333333,\"#9c179e\"],[0.4444444444444444,\"#bd3786\"],[0.5555555555555556,\"#d8576b\"],[0.6666666666666666,\"#ed7953\"],[0.7777777777777778,\"#fb9f3a\"],[0.8888888888888888,\"#fdca26\"],[1.0,\"#f0f921\"]],\"type\":\"surface\"}],\"table\":[{\"cells\":{\"fill\":{\"color\":\"#EBF0F8\"},\"line\":{\"color\":\"white\"}},\"header\":{\"fill\":{\"color\":\"#C8D4E3\"},\"line\":{\"color\":\"white\"}},\"type\":\"table\"}]},\"layout\":{\"annotationdefaults\":{\"arrowcolor\":\"#2a3f5f\",\"arrowhead\":0,\"arrowwidth\":1},\"autotypenumbers\":\"strict\",\"coloraxis\":{\"colorbar\":{\"outlinewidth\":0,\"ticks\":\"\"}},\"colorscale\":{\"diverging\":[[0,\"#8e0152\"],[0.1,\"#c51b7d\"],[0.2,\"#de77ae\"],[0.3,\"#f1b6da\"],[0.4,\"#fde0ef\"],[0.5,\"#f7f7f7\"],[0.6,\"#e6f5d0\"],[0.7,\"#b8e186\"],[0.8,\"#7fbc41\"],[0.9,\"#4d9221\"],[1,\"#276419\"]],\"sequential\":[[0.0,\"#0d0887\"],[0.1111111111111111,\"#46039f\"],[0.2222222222222222,\"#7201a8\"],[0.3333333333333333,\"#9c179e\"],[0.4444444444444444,\"#bd3786\"],[0.5555555555555556,\"#d8576b\"],[0.6666666666666666,\"#ed7953\"],[0.7777777777777778,\"#fb9f3a\"],[0.8888888888888888,\"#fdca26\"],[1.0,\"#f0f921\"]],\"sequentialminus\":[[0.0,\"#0d0887\"],[0.1111111111111111,\"#46039f\"],[0.2222222222222222,\"#7201a8\"],[0.3333333333333333,\"#9c179e\"],[0.4444444444444444,\"#bd3786\"],[0.5555555555555556,\"#d8576b\"],[0.6666666666666666,\"#ed7953\"],[0.7777777777777778,\"#fb9f3a\"],[0.8888888888888888,\"#fdca26\"],[1.0,\"#f0f921\"]]},\"colorway\":[\"#636efa\",\"#EF553B\",\"#00cc96\",\"#ab63fa\",\"#FFA15A\",\"#19d3f3\",\"#FF6692\",\"#B6E880\",\"#FF97FF\",\"#FECB52\"],\"font\":{\"color\":\"#2a3f5f\"},\"geo\":{\"bgcolor\":\"white\",\"lakecolor\":\"white\",\"landcolor\":\"#E5ECF6\",\"showlakes\":true,\"showland\":true,\"subunitcolor\":\"white\"},\"hoverlabel\":{\"align\":\"left\"},\"hovermode\":\"closest\",\"mapbox\":{\"style\":\"light\"},\"paper_bgcolor\":\"white\",\"plot_bgcolor\":\"#E5ECF6\",\"polar\":{\"angularaxis\":{\"gridcolor\":\"white\",\"linecolor\":\"white\",\"ticks\":\"\"},\"bgcolor\":\"#E5ECF6\",\"radialaxis\":{\"gridcolor\":\"white\",\"linecolor\":\"white\",\"ticks\":\"\"}},\"scene\":{\"xaxis\":{\"backgroundcolor\":\"#E5ECF6\",\"gridcolor\":\"white\",\"gridwidth\":2,\"linecolor\":\"white\",\"showbackground\":true,\"ticks\":\"\",\"zerolinecolor\":\"white\"},\"yaxis\":{\"backgroundcolor\":\"#E5ECF6\",\"gridcolor\":\"white\",\"gridwidth\":2,\"linecolor\":\"white\",\"showbackground\":true,\"ticks\":\"\",\"zerolinecolor\":\"white\"},\"zaxis\":{\"backgroundcolor\":\"#E5ECF6\",\"gridcolor\":\"white\",\"gridwidth\":2,\"linecolor\":\"white\",\"showbackground\":true,\"ticks\":\"\",\"zerolinecolor\":\"white\"}},\"shapedefaults\":{\"line\":{\"color\":\"#2a3f5f\"}},\"ternary\":{\"aaxis\":{\"gridcolor\":\"white\",\"linecolor\":\"white\",\"ticks\":\"\"},\"baxis\":{\"gridcolor\":\"white\",\"linecolor\":\"white\",\"ticks\":\"\"},\"bgcolor\":\"#E5ECF6\",\"caxis\":{\"gridcolor\":\"white\",\"linecolor\":\"white\",\"ticks\":\"\"}},\"title\":{\"x\":0.05},\"xaxis\":{\"automargin\":true,\"gridcolor\":\"white\",\"linecolor\":\"white\",\"ticks\":\"\",\"title\":{\"standoff\":15},\"zerolinecolor\":\"white\",\"zerolinewidth\":2},\"yaxis\":{\"automargin\":true,\"gridcolor\":\"white\",\"linecolor\":\"white\",\"ticks\":\"\",\"title\":{\"standoff\":15},\"zerolinecolor\":\"white\",\"zerolinewidth\":2}}},\"title\":{\"text\":\"ROC for multi-class bird song classification\"},\"xaxis\":{\"title\":{\"text\":\"False Positive Rate\"}},\"yaxis\":{\"title\":{\"text\":\"True Positive Rate\"}}},                        {\"responsive\": true}                    ).then(function(){\n",
       "                            \n",
       "var gd = document.getElementById('45da7111-1d8c-49d4-bed0-8389e3b4ec5b');\n",
       "var x = new MutationObserver(function (mutations, observer) {{\n",
       "        var display = window.getComputedStyle(gd).display;\n",
       "        if (!display || display === 'none') {{\n",
       "            console.log([gd, 'removed!']);\n",
       "            Plotly.purge(gd);\n",
       "            observer.disconnect();\n",
       "        }}\n",
       "}});\n",
       "\n",
       "// Listen for the removal of the full notebook cells\n",
       "var notebookContainer = gd.closest('#notebook-container');\n",
       "if (notebookContainer) {{\n",
       "    x.observe(notebookContainer, {childList: true});\n",
       "}}\n",
       "\n",
       "// Listen for the clearing of the current output cell\n",
       "var outputEl = gd.closest('.output');\n",
       "if (outputEl) {{\n",
       "    x.observe(outputEl, {childList: true});\n",
       "}}\n",
       "\n",
       "                        })                };                });            </script>        </div>"
      ]
     },
     "metadata": {},
     "output_type": "display_data"
    }
   ],
   "source": [
    "fig = go.Figure()\n",
    "#colors = cycle(['blue', 'red', 'green', 'orange', 'yellow'])\n",
    "for i in range(n_classes):\n",
    "    fig.add_trace(go.Scatter(x = fpr[i], y = tpr[i], \n",
    "                             mode = 'lines', \n",
    "                             name = 'ROC curve of {0} (area = {1:0.2f})'.format(categories[i], roc_auc[i])))\n",
    "fig.update_layout(title       = 'ROC for multi-class bird song classification',\n",
    "                  xaxis_title = 'False Positive Rate',\n",
    "                  yaxis_title = 'True Positive Rate')\n",
    "\n",
    "fig.show()"
   ]
  },
  {
   "cell_type": "markdown",
   "id": "8d96fdf1",
   "metadata": {},
   "source": [
    "# Multi-channel work"
   ]
  },
  {
   "cell_type": "code",
   "execution_count": 183,
   "id": "2549d453",
   "metadata": {},
   "outputs": [],
   "source": [
    "choices = ['AbsRe', 'AbsIm', 'Mod', 'AbsAng']"
   ]
  },
  {
   "cell_type": "code",
   "execution_count": 184,
   "id": "c874ed5f",
   "metadata": {},
   "outputs": [],
   "source": [
    "train_ds_mult = preprocess_dataset(train_files)\n",
    "test_ds_mult  = preprocess_dataset(test_files)"
   ]
  },
  {
   "cell_type": "code",
   "execution_count": 185,
   "id": "65f06284",
   "metadata": {},
   "outputs": [],
   "source": [
    "for spec, lab in train_ds_mult.take(1):\n",
    "    input_shape_mult = spec.shape\n",
    "    #print(lab)\n",
    "    #print(lab)"
   ]
  },
  {
   "cell_type": "code",
   "execution_count": 186,
   "id": "97593ede",
   "metadata": {},
   "outputs": [],
   "source": [
    "batch_size    = 32\n",
    "train_ds_mult = train_ds_mult.batch(batch_size)\n",
    "test_ds_mult  = test_ds_mult.batch(batch_size)\n",
    "train_ds_mult = train_ds_mult.cache().prefetch(AUTOTUNE)\n",
    "test_ds_mult  = test_ds_mult.cache().prefetch(AUTOTUNE)"
   ]
  },
  {
   "cell_type": "code",
   "execution_count": 187,
   "id": "b6334a00",
   "metadata": {},
   "outputs": [],
   "source": [
    "model_config = model.get_config()\n",
    "tf_shape     = input_shape_mult\n",
    "model_config[\"layers\"][0][\"config\"][\"batch_input_shape\"] = (None, tf_shape[0], tf_shape[1], tf_shape[2])"
   ]
  },
  {
   "cell_type": "code",
   "execution_count": 188,
   "id": "a5388c00",
   "metadata": {},
   "outputs": [
    {
     "name": "stdout",
     "output_type": "stream",
     "text": [
      "Model: \"sequential_3\"\n",
      "_________________________________________________________________\n",
      "Layer (type)                 Output Shape              Param #   \n",
      "=================================================================\n",
      "conv2d_9 (Conv2D)            (None, 254, 998, 16)      592       \n",
      "_________________________________________________________________\n",
      "max_pooling2d_9 (MaxPooling2 (None, 127, 499, 16)      0         \n",
      "_________________________________________________________________\n",
      "conv2d_10 (Conv2D)           (None, 125, 497, 16)      2320      \n",
      "_________________________________________________________________\n",
      "max_pooling2d_10 (MaxPooling (None, 62, 248, 16)       0         \n",
      "_________________________________________________________________\n",
      "conv2d_11 (Conv2D)           (None, 60, 246, 32)       4640      \n",
      "_________________________________________________________________\n",
      "max_pooling2d_11 (MaxPooling (None, 30, 123, 32)       0         \n",
      "_________________________________________________________________\n",
      "flatten_3 (Flatten)          (None, 118080)            0         \n",
      "_________________________________________________________________\n",
      "dropout_6 (Dropout)          (None, 118080)            0         \n",
      "_________________________________________________________________\n",
      "dense_6 (Dense)              (None, 64)                7557184   \n",
      "_________________________________________________________________\n",
      "dropout_7 (Dropout)          (None, 64)                0         \n",
      "_________________________________________________________________\n",
      "dense_7 (Dense)              (None, 12)                780       \n",
      "=================================================================\n",
      "Total params: 7,565,516\n",
      "Trainable params: 7,565,516\n",
      "Non-trainable params: 0\n",
      "_________________________________________________________________\n"
     ]
    }
   ],
   "source": [
    "model_mult = tf.keras.Sequential.from_config(model_config)\n",
    "model_mult.summary()"
   ]
  },
  {
   "cell_type": "code",
   "execution_count": 189,
   "id": "2288e495",
   "metadata": {},
   "outputs": [],
   "source": [
    "#need to copy the weights from other model\n",
    "#from https://towardsdatascience.com/implementing-transfer-learning-from-rgb-to-multi-channel-imagery-f87924679166\n",
    "# Expand weights dimension to match new input channels\n",
    "def multify_weights(kernel, out_channels):\n",
    "    mean_1d = np.mean(kernel, axis=-2).reshape(kernel[:,:,-1:,:].shape)\n",
    "    tiled   = np.tile(mean_1d, (out_channels, 1))\n",
    "    return(tiled)\n",
    "\n",
    "\n",
    "# Loop through layers of both original model \n",
    "# and custom model and copy over weights \n",
    "# layer_modify refers to first convolutional layer\n",
    "def copy_weights_tl(model_orig, custom_model, layer_modify):\n",
    "    layer_to_modify = [layer_modify]\n",
    "\n",
    "    conf = custom_model.get_config()\n",
    "    layer_names   = [conf['layers'][x]['config']['name'] for x in range(len(conf['layers']))]\n",
    "    input_channel = conf[\"layers\"][0][\"config\"][\"batch_input_shape\"][-1]\n",
    "    #old_input_channel = model_orig.get_config()[\"layers\"][0][\"config\"][\"batch_input_shape\"][-1]\n",
    "\n",
    "    for layer in model_orig.layers:\n",
    "        if layer.name in layer_names:\n",
    "            if layer.get_weights() != []:\n",
    "                target_layer = custom_model.get_layer(layer.name)\n",
    "\n",
    "                if layer.name in layer_to_modify:    \n",
    "                    kernels = layer.get_weights()[0]\n",
    "                    biases  = layer.get_weights()[1]\n",
    "            \n",
    "                    kernels_extra_channel = multify_weights(kernels, input_channel)\n",
    "                    #print('kernels_extra_channel', kernels_extra_channel.shape)                                \n",
    "                    target_layer.set_weights([kernels_extra_channel, biases])\n",
    "                    target_layer.trainable = False\n",
    "\n",
    "                else:\n",
    "                    target_layer.set_weights(layer.get_weights())\n",
    "                    target_layer.trainable = False"
   ]
  },
  {
   "cell_type": "code",
   "execution_count": 190,
   "id": "e0a92ef0",
   "metadata": {},
   "outputs": [],
   "source": [
    "copy_weights_tl(model, model_mult, model_config[\"layers\"][1]['config']['name'])"
   ]
  },
  {
   "cell_type": "code",
   "execution_count": 191,
   "id": "5af1237d",
   "metadata": {},
   "outputs": [],
   "source": [
    "#model_config[\"layers\"][1][\"config\"][\"groups\"] = len(choices)"
   ]
  },
  {
   "cell_type": "code",
   "execution_count": 192,
   "id": "969021b8",
   "metadata": {
    "scrolled": true
   },
   "outputs": [
    {
     "data": {
      "text/plain": [
       "[{'class_name': 'InputLayer',\n",
       "  'config': {'batch_input_shape': (None, 256, 1000, 4),\n",
       "   'dtype': 'float32',\n",
       "   'sparse': False,\n",
       "   'ragged': False,\n",
       "   'name': 'input_3'}},\n",
       " {'class_name': 'Conv2D',\n",
       "  'config': {'name': 'conv2d_9',\n",
       "   'trainable': True,\n",
       "   'dtype': 'float32',\n",
       "   'filters': 16,\n",
       "   'kernel_size': (3, 3),\n",
       "   'strides': (1, 1),\n",
       "   'padding': 'valid',\n",
       "   'data_format': 'channels_last',\n",
       "   'dilation_rate': (1, 1),\n",
       "   'groups': 1,\n",
       "   'activation': 'relu',\n",
       "   'use_bias': True,\n",
       "   'kernel_initializer': {'class_name': 'GlorotUniform',\n",
       "    'config': {'seed': None}},\n",
       "   'bias_initializer': {'class_name': 'Zeros', 'config': {}},\n",
       "   'kernel_regularizer': None,\n",
       "   'bias_regularizer': None,\n",
       "   'activity_regularizer': None,\n",
       "   'kernel_constraint': None,\n",
       "   'bias_constraint': None}},\n",
       " {'class_name': 'MaxPooling2D',\n",
       "  'config': {'name': 'max_pooling2d_9',\n",
       "   'trainable': True,\n",
       "   'dtype': 'float32',\n",
       "   'pool_size': (2, 2),\n",
       "   'padding': 'valid',\n",
       "   'strides': (2, 2),\n",
       "   'data_format': 'channels_last'}},\n",
       " {'class_name': 'Conv2D',\n",
       "  'config': {'name': 'conv2d_10',\n",
       "   'trainable': True,\n",
       "   'dtype': 'float32',\n",
       "   'filters': 16,\n",
       "   'kernel_size': (3, 3),\n",
       "   'strides': (1, 1),\n",
       "   'padding': 'valid',\n",
       "   'data_format': 'channels_last',\n",
       "   'dilation_rate': (1, 1),\n",
       "   'groups': 1,\n",
       "   'activation': 'relu',\n",
       "   'use_bias': True,\n",
       "   'kernel_initializer': {'class_name': 'GlorotUniform',\n",
       "    'config': {'seed': None}},\n",
       "   'bias_initializer': {'class_name': 'Zeros', 'config': {}},\n",
       "   'kernel_regularizer': None,\n",
       "   'bias_regularizer': None,\n",
       "   'activity_regularizer': None,\n",
       "   'kernel_constraint': None,\n",
       "   'bias_constraint': None}},\n",
       " {'class_name': 'MaxPooling2D',\n",
       "  'config': {'name': 'max_pooling2d_10',\n",
       "   'trainable': True,\n",
       "   'dtype': 'float32',\n",
       "   'pool_size': (2, 2),\n",
       "   'padding': 'valid',\n",
       "   'strides': (2, 2),\n",
       "   'data_format': 'channels_last'}},\n",
       " {'class_name': 'Conv2D',\n",
       "  'config': {'name': 'conv2d_11',\n",
       "   'trainable': True,\n",
       "   'dtype': 'float32',\n",
       "   'filters': 32,\n",
       "   'kernel_size': (3, 3),\n",
       "   'strides': (1, 1),\n",
       "   'padding': 'valid',\n",
       "   'data_format': 'channels_last',\n",
       "   'dilation_rate': (1, 1),\n",
       "   'groups': 1,\n",
       "   'activation': 'relu',\n",
       "   'use_bias': True,\n",
       "   'kernel_initializer': {'class_name': 'GlorotUniform',\n",
       "    'config': {'seed': None}},\n",
       "   'bias_initializer': {'class_name': 'Zeros', 'config': {}},\n",
       "   'kernel_regularizer': None,\n",
       "   'bias_regularizer': None,\n",
       "   'activity_regularizer': None,\n",
       "   'kernel_constraint': None,\n",
       "   'bias_constraint': None}},\n",
       " {'class_name': 'MaxPooling2D',\n",
       "  'config': {'name': 'max_pooling2d_11',\n",
       "   'trainable': True,\n",
       "   'dtype': 'float32',\n",
       "   'pool_size': (2, 2),\n",
       "   'padding': 'valid',\n",
       "   'strides': (2, 2),\n",
       "   'data_format': 'channels_last'}},\n",
       " {'class_name': 'Flatten',\n",
       "  'config': {'name': 'flatten_3',\n",
       "   'trainable': True,\n",
       "   'dtype': 'float32',\n",
       "   'data_format': 'channels_last'}},\n",
       " {'class_name': 'Dropout',\n",
       "  'config': {'name': 'dropout_6',\n",
       "   'trainable': True,\n",
       "   'dtype': 'float32',\n",
       "   'rate': 0.5,\n",
       "   'noise_shape': None,\n",
       "   'seed': None}},\n",
       " {'class_name': 'Dense',\n",
       "  'config': {'name': 'dense_6',\n",
       "   'trainable': True,\n",
       "   'dtype': 'float32',\n",
       "   'units': 64,\n",
       "   'activation': 'relu',\n",
       "   'use_bias': True,\n",
       "   'kernel_initializer': {'class_name': 'GlorotUniform',\n",
       "    'config': {'seed': None}},\n",
       "   'bias_initializer': {'class_name': 'Zeros', 'config': {}},\n",
       "   'kernel_regularizer': {'class_name': 'L2',\n",
       "    'config': {'l2': 0.0010000000474974513}},\n",
       "   'bias_regularizer': None,\n",
       "   'activity_regularizer': None,\n",
       "   'kernel_constraint': None,\n",
       "   'bias_constraint': None}},\n",
       " {'class_name': 'Dropout',\n",
       "  'config': {'name': 'dropout_7',\n",
       "   'trainable': True,\n",
       "   'dtype': 'float32',\n",
       "   'rate': 0.5,\n",
       "   'noise_shape': None,\n",
       "   'seed': None}},\n",
       " {'class_name': 'Dense',\n",
       "  'config': {'name': 'dense_7',\n",
       "   'trainable': True,\n",
       "   'dtype': 'float32',\n",
       "   'units': 12,\n",
       "   'activation': 'linear',\n",
       "   'use_bias': True,\n",
       "   'kernel_initializer': {'class_name': 'GlorotUniform',\n",
       "    'config': {'seed': None}},\n",
       "   'bias_initializer': {'class_name': 'Zeros', 'config': {}},\n",
       "   'kernel_regularizer': None,\n",
       "   'bias_regularizer': None,\n",
       "   'activity_regularizer': None,\n",
       "   'kernel_constraint': None,\n",
       "   'bias_constraint': None}}]"
      ]
     },
     "execution_count": 192,
     "metadata": {},
     "output_type": "execute_result"
    }
   ],
   "source": [
    "model_config[\"layers\"]#[3]['config']['name']"
   ]
  },
  {
   "cell_type": "code",
   "execution_count": 193,
   "id": "c3a6e548",
   "metadata": {},
   "outputs": [],
   "source": [
    "model_mult.compile(\n",
    "    optimizer = tf.keras.optimizers.Adam(learning_rate=0.0001),\n",
    "    loss      = tf.keras.losses.SparseCategoricalCrossentropy(from_logits=True),\n",
    "    metrics   = 'accuracy',\n",
    ")"
   ]
  },
  {
   "cell_type": "code",
   "execution_count": 194,
   "id": "6effdcff",
   "metadata": {},
   "outputs": [
    {
     "name": "stdout",
     "output_type": "stream",
     "text": [
      "Epoch 1/10\n",
      "50/50 [==============================] - 68s 1s/step - loss: 0.8950 - accuracy: 0.7633 - val_loss: 1.8201 - val_accuracy: 0.6801\n",
      "Epoch 2/10\n",
      "50/50 [==============================] - 35s 692ms/step - loss: 0.8753 - accuracy: 0.7771 - val_loss: 1.8201 - val_accuracy: 0.6801\n",
      "Epoch 3/10\n",
      "50/50 [==============================] - 35s 700ms/step - loss: 0.8833 - accuracy: 0.7645 - val_loss: 1.8201 - val_accuracy: 0.6801\n",
      "Epoch 00003: early stopping\n"
     ]
    }
   ],
   "source": [
    "EPOCHS = 10\n",
    "history_mult = model_mult.fit(\n",
    "    train_ds_mult, \n",
    "    validation_data = test_ds_mult,  \n",
    "    epochs          = EPOCHS,\n",
    "    callbacks       = tf.keras.callbacks.EarlyStopping(verbose=1, patience=2)\n",
    ")"
   ]
  },
  {
   "cell_type": "code",
   "execution_count": 195,
   "id": "3a228fa9",
   "metadata": {},
   "outputs": [],
   "source": [
    "model_mult.save('models/'+datetime.now().strftime(\"%Y%m%d-%H%M%S\").replace('-', '_')+'richfield_shallow_net'+'mult'+'.h5')"
   ]
  },
  {
   "cell_type": "code",
   "execution_count": 196,
   "id": "83439e8e",
   "metadata": {},
   "outputs": [],
   "source": [
    "model_mult_fresh = tf.keras.Sequential.from_config(model_config)"
   ]
  },
  {
   "cell_type": "code",
   "execution_count": 197,
   "id": "277e5d78",
   "metadata": {},
   "outputs": [],
   "source": [
    "model_mult_fresh.compile(\n",
    "    optimizer = tf.keras.optimizers.Adam(learning_rate=0.0001),\n",
    "    loss      = tf.keras.losses.SparseCategoricalCrossentropy(from_logits=True),\n",
    "    metrics   = 'accuracy',\n",
    ")"
   ]
  },
  {
   "cell_type": "code",
   "execution_count": 198,
   "id": "d6a322ad",
   "metadata": {},
   "outputs": [
    {
     "name": "stdout",
     "output_type": "stream",
     "text": [
      "Epoch 1/10\n",
      "50/50 [==============================] - 118s 2s/step - loss: 2.4413 - accuracy: 0.2273 - val_loss: 2.1074 - val_accuracy: 0.3854\n",
      "Epoch 2/10\n",
      "50/50 [==============================] - 117s 2s/step - loss: 2.0397 - accuracy: 0.3662 - val_loss: 1.8208 - val_accuracy: 0.4685\n",
      "Epoch 3/10\n",
      "50/50 [==============================] - 115s 2s/step - loss: 1.7880 - accuracy: 0.4621 - val_loss: 1.6662 - val_accuracy: 0.5315\n",
      "Epoch 4/10\n",
      "50/50 [==============================] - 116s 2s/step - loss: 1.6263 - accuracy: 0.5057 - val_loss: 1.5390 - val_accuracy: 0.5743\n",
      "Epoch 5/10\n",
      "50/50 [==============================] - 117s 2s/step - loss: 1.4435 - accuracy: 0.5764 - val_loss: 1.4338 - val_accuracy: 0.6297\n",
      "Epoch 6/10\n",
      "50/50 [==============================] - 113s 2s/step - loss: 1.3129 - accuracy: 0.6263 - val_loss: 1.3317 - val_accuracy: 0.6675\n",
      "Epoch 7/10\n",
      "50/50 [==============================] - 114s 2s/step - loss: 1.1675 - accuracy: 0.6528 - val_loss: 1.3016 - val_accuracy: 0.6725\n",
      "Epoch 8/10\n",
      "50/50 [==============================] - 113s 2s/step - loss: 1.0868 - accuracy: 0.6951 - val_loss: 1.2467 - val_accuracy: 0.6877\n",
      "Epoch 9/10\n",
      "50/50 [==============================] - 114s 2s/step - loss: 1.0220 - accuracy: 0.7058 - val_loss: 1.2022 - val_accuracy: 0.6952\n",
      "Epoch 10/10\n",
      "50/50 [==============================] - 112s 2s/step - loss: 0.9536 - accuracy: 0.7418 - val_loss: 1.2382 - val_accuracy: 0.6977\n"
     ]
    }
   ],
   "source": [
    "EPOCHS = 10\n",
    "history_mult_fresh = model_mult_fresh.fit(\n",
    "    train_ds_mult, \n",
    "    validation_data = test_ds_mult,  \n",
    "    epochs          = EPOCHS,\n",
    "    #callbacks       = tf.keras.callbacks.EarlyStopping(verbose=1, patience=2)\n",
    ")"
   ]
  },
  {
   "cell_type": "code",
   "execution_count": 199,
   "id": "4e7d9ded",
   "metadata": {},
   "outputs": [],
   "source": [
    "model_mult_fresh.save('models/'+datetime.now().strftime(\"%Y%m%d-%H%M%S\").replace('-', '_')+'richfield_shallow_net'+'mult_fresh'+'.h5')"
   ]
  },
  {
   "cell_type": "code",
   "execution_count": 200,
   "id": "5df7ad73",
   "metadata": {},
   "outputs": [
    {
     "name": "stdout",
     "output_type": "stream",
     "text": [
      "Model: \"sequential_3\"\n",
      "_________________________________________________________________\n",
      "Layer (type)                 Output Shape              Param #   \n",
      "=================================================================\n",
      "conv2d_9 (Conv2D)            (None, 254, 998, 16)      160       \n",
      "_________________________________________________________________\n",
      "max_pooling2d_9 (MaxPooling2 (None, 127, 499, 16)      0         \n",
      "_________________________________________________________________\n",
      "conv2d_10 (Conv2D)           (None, 125, 497, 16)      2320      \n",
      "_________________________________________________________________\n",
      "max_pooling2d_10 (MaxPooling (None, 62, 248, 16)       0         \n",
      "_________________________________________________________________\n",
      "conv2d_11 (Conv2D)           (None, 60, 246, 32)       4640      \n",
      "_________________________________________________________________\n",
      "max_pooling2d_11 (MaxPooling (None, 30, 123, 32)       0         \n",
      "_________________________________________________________________\n",
      "flatten_3 (Flatten)          (None, 118080)            0         \n",
      "_________________________________________________________________\n",
      "dropout_6 (Dropout)          (None, 118080)            0         \n",
      "_________________________________________________________________\n",
      "dense_6 (Dense)              (None, 64)                7557184   \n",
      "_________________________________________________________________\n",
      "dropout_7 (Dropout)          (None, 64)                0         \n",
      "_________________________________________________________________\n",
      "dense_7 (Dense)              (None, 12)                780       \n",
      "=================================================================\n",
      "Total params: 7,565,084\n",
      "Trainable params: 7,565,084\n",
      "Non-trainable params: 0\n",
      "_________________________________________________________________\n"
     ]
    }
   ],
   "source": [
    "model_mult_sep = models.Sequential([\n",
    "    layers.DepthwiseConv2D(\n",
    "        depth_multiplier=1,\n",
    "        kernel_size=(3, 3),\n",
    "        input_shape=input_shape_mult),\n",
    "    layers.Conv2D(16, 3, activation='relu'),\n",
    "    layers.MaxPooling2D(),\n",
    "    layers.Conv2D(16, 3, activation='relu'),\n",
    "    layers.MaxPooling2D(),\n",
    "    layers.Conv2D(32, 3, activation='relu'),\n",
    "    layers.MaxPooling2D(),\n",
    "    layers.Flatten(),\n",
    "    layers.Dropout(0.5),\n",
    "    layers.Dense(64, activation='relu', kernel_regularizer=regularizers.l2(0.001)),\n",
    "    layers.Dropout(0.5),\n",
    "    layers.Dense(num_labels),\n",
    "])\n",
    "\n",
    "model_mult_sep.summary()"
   ]
  },
  {
   "cell_type": "code",
   "execution_count": 201,
   "id": "f8ddbfee",
   "metadata": {},
   "outputs": [],
   "source": [
    "model_mult_sep.compile(\n",
    "    optimizer = tf.keras.optimizers.Adam(learning_rate=0.0001),\n",
    "    loss      = tf.keras.losses.SparseCategoricalCrossentropy(from_logits=True),\n",
    "    metrics   = 'accuracy',\n",
    ")"
   ]
  },
  {
   "cell_type": "code",
   "execution_count": 202,
   "id": "76b97e10",
   "metadata": {},
   "outputs": [
    {
     "name": "stdout",
     "output_type": "stream",
     "text": [
      "Epoch 1/10\n",
      "50/50 [==============================] - 143s 3s/step - loss: 2.4205 - accuracy: 0.2285 - val_loss: 2.0769 - val_accuracy: 0.3879\n",
      "Epoch 2/10\n",
      "50/50 [==============================] - 141s 3s/step - loss: 2.0766 - accuracy: 0.3643 - val_loss: 1.8296 - val_accuracy: 0.4685\n",
      "Epoch 3/10\n",
      "50/50 [==============================] - 138s 3s/step - loss: 1.8585 - accuracy: 0.4205 - val_loss: 1.6579 - val_accuracy: 0.5088\n",
      "Epoch 4/10\n",
      "50/50 [==============================] - 138s 3s/step - loss: 1.6602 - accuracy: 0.4943 - val_loss: 1.5469 - val_accuracy: 0.5315\n",
      "Epoch 5/10\n",
      "50/50 [==============================] - 136s 3s/step - loss: 1.5397 - accuracy: 0.5290 - val_loss: 1.4961 - val_accuracy: 0.5567\n",
      "Epoch 6/10\n",
      "50/50 [==============================] - 138s 3s/step - loss: 1.4016 - accuracy: 0.5701 - val_loss: 1.3780 - val_accuracy: 0.5894\n",
      "Epoch 7/10\n",
      "50/50 [==============================] - 140s 3s/step - loss: 1.2860 - accuracy: 0.5985 - val_loss: 1.3364 - val_accuracy: 0.6322\n",
      "Epoch 8/10\n",
      "50/50 [==============================] - 149s 3s/step - loss: 1.2627 - accuracy: 0.6376 - val_loss: 1.2711 - val_accuracy: 0.6725\n",
      "Epoch 9/10\n",
      "50/50 [==============================] - 147s 3s/step - loss: 1.1494 - accuracy: 0.6553 - val_loss: 1.2177 - val_accuracy: 0.6625\n",
      "Epoch 10/10\n",
      "50/50 [==============================] - 133s 3s/step - loss: 1.1161 - accuracy: 0.6749 - val_loss: 1.2507 - val_accuracy: 0.6851\n"
     ]
    }
   ],
   "source": [
    "EPOCHS = 10\n",
    "history_mult_sep = model_mult_sep.fit(\n",
    "    train_ds_mult, \n",
    "    validation_data = test_ds_mult,  \n",
    "    epochs          = EPOCHS,\n",
    "    #callbacks       = tf.keras.callbacks.EarlyStopping(verbose=1, patience=2)\n",
    ")"
   ]
  },
  {
   "cell_type": "code",
   "execution_count": 203,
   "id": "7f3735cf",
   "metadata": {},
   "outputs": [],
   "source": [
    "model_mult_sep.save('models/'+datetime.now().strftime(\"%Y%m%d-%H%M%S\").replace('-', '_')+'richfield_shallow_net'+'mult_sep'+'.h5')"
   ]
  },
  {
   "cell_type": "markdown",
   "id": "e902ffb5",
   "metadata": {},
   "source": [
    "## Outline of script needed:\n",
    "for i in 1,...,20 iterations\n",
    "-  shuffles files\n",
    "-  seperates into train/test\n",
    "-  For different combinations of Mod (default), AbsRe, AbsIm, AbsArg\n",
    "    -  create spectrogram features (X) and labels (y)\n",
    "    -  create training and test tensorflow datasets and batch\n",
    "    -  train from scratch for 5,10,25,50 epochs\n",
    "    -  record history(loss, accuracy), yTrue and yPred,  \n",
    "    -  save confusion matrices\n",
    "-  Also try \n",
    "    - work on making the convolution kernel different for each channel, and for the output to be the mean \n",
    "    - freeze layers (all but first or last) to fine tune training\n",
    "    - Transfer learning from BirdNet\n"
   ]
  }
 ],
 "metadata": {
  "kernelspec": {
   "display_name": "Python 3",
   "language": "python",
   "name": "python3"
  },
  "language_info": {
   "codemirror_mode": {
    "name": "ipython",
    "version": 3
   },
   "file_extension": ".py",
   "mimetype": "text/x-python",
   "name": "python",
   "nbconvert_exporter": "python",
   "pygments_lexer": "ipython3",
   "version": "3.8.8"
  }
 },
 "nbformat": 4,
 "nbformat_minor": 5
}
