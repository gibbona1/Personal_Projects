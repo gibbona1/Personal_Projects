{
 "cells": [
  {
   "cell_type": "markdown",
   "id": "52393092",
   "metadata": {},
   "source": [
    "From https://medium.com/m2mtechconnect/classifying-music-and-speech-with-machine-learning-e036ffab002e"
   ]
  },
  {
   "cell_type": "code",
   "execution_count": 1,
   "id": "feba8de1",
   "metadata": {},
   "outputs": [],
   "source": [
    "import numpy as np\n",
    "import pandas as pd\n",
    "import os\n",
    "import pathlib\n",
    "import matplotlib.pyplot as plt\n",
    "import seaborn as sns\n",
    "from IPython import display\n",
    "from sklearn.model_selection import train_test_split\n",
    "import tensorflow as tf\n",
    "from tensorflow.keras.layers.experimental import preprocessing\n",
    "from tensorflow.keras import layers, regularizers, optimizers, losses, models\n",
    "#import tensorflow_datasets as tfds"
   ]
  },
  {
   "cell_type": "code",
   "execution_count": 2,
   "id": "0d7b1fba",
   "metadata": {},
   "outputs": [],
   "source": [
    "import ffmpeg\n",
    "from pydub import AudioSegment"
   ]
  },
  {
   "cell_type": "code",
   "execution_count": 3,
   "id": "abed730f",
   "metadata": {},
   "outputs": [],
   "source": [
    "from tf_helpers import *"
   ]
  },
  {
   "cell_type": "code",
   "execution_count": 4,
   "id": "b4a4f839",
   "metadata": {},
   "outputs": [],
   "source": [
    "from data_set_params import DataSetParams\n",
    "from scipy.io import wavfile\n",
    "params = DataSetParams()"
   ]
  },
  {
   "cell_type": "code",
   "execution_count": 5,
   "id": "47d47368",
   "metadata": {},
   "outputs": [
    {
     "data": {
      "text/plain": [
       "['Common Buzzard',\n",
       " 'Common Kestrel',\n",
       " 'Common Snipe',\n",
       " 'Eurasian Curlew',\n",
       " 'European Herring Gull',\n",
       " 'European Robin',\n",
       " 'Meadow Pipit',\n",
       " 'Mute Swan',\n",
       " 'Northern Lapwing',\n",
       " 'Rook',\n",
       " 'Tundra Swan',\n",
       " 'Tundra Swan (Bewicks)']"
      ]
     },
     "execution_count": 5,
     "metadata": {},
     "output_type": "execute_result"
    }
   ],
   "source": [
    "#data_dir = pathlib.Path('/root/tensorflow_datasets/downloads/extracted/TAR_GZ.opihi.cs.uvic.ca_sound_music_speechbya81rFcWfLSW6ey5cynqyeq2qiePcL-7asMoNO6IQ0.tar.gz/music_speech')\n",
    "data_dir   = 'richfield_birds_split'#'dublin_dl_birds_split'#\n",
    "categories = np.array(tf.io.gfile.listdir(data_dir))\n",
    "categories = [category for category in categories if 'wav' not in category]\n",
    "categories"
   ]
  },
  {
   "cell_type": "code",
   "execution_count": 6,
   "id": "6ec0e8a1",
   "metadata": {},
   "outputs": [],
   "source": [
    "#AudioSegment.ffprobe  = \"/usr/local/bin/ffmpeg\""
   ]
  },
  {
   "cell_type": "code",
   "execution_count": 7,
   "id": "d865b805",
   "metadata": {},
   "outputs": [],
   "source": [
    "def get_label(file_path):\n",
    "    parts = tf.strings.split(file_path, os.path.sep)\n",
    "\n",
    "    # Note: You'll use indexing here instead of tuple unpacking to enable this \n",
    "    # to work in a TensorFlow graph.\n",
    "    return parts[-2]"
   ]
  },
  {
   "cell_type": "code",
   "execution_count": 8,
   "id": "27ca4fcf",
   "metadata": {},
   "outputs": [],
   "source": [
    "filenames = tf.io.gfile.glob(str(data_dir) + '/*/*')\n",
    "#filenames = tf.io.gfile.glob('birds/*/*')\n",
    "filenames = [filename for filename in filenames if 'wav' in filename]\n",
    "filenames = tf.random.shuffle(filenames)"
   ]
  },
  {
   "cell_type": "code",
   "execution_count": 9,
   "id": "8f445e25",
   "metadata": {},
   "outputs": [
    {
     "data": {
      "text/plain": [
       "<tf.Tensor: shape=(2840,), dtype=string, numpy=\n",
       "array([b'richfield_birds_split\\\\Northern Lapwing\\\\xc652090_start_0_0.wav',\n",
       "       b'richfield_birds_split\\\\Mute Swan\\\\xc640258_left_start_3_30.wav',\n",
       "       b'richfield_birds_split\\\\European Robin\\\\xc678277_left_start_10_15.wav',\n",
       "       ..., b'richfield_birds_split\\\\Rook\\\\xc674819_start_0_0.wav',\n",
       "       b'richfield_birds_split\\\\Common Kestrel\\\\xc608722_left_start_0_0.wav',\n",
       "       b'richfield_birds_split\\\\Common Snipe\\\\xc675105_left_start_4_15.wav'],\n",
       "      dtype=object)>"
      ]
     },
     "execution_count": 9,
     "metadata": {},
     "output_type": "execute_result"
    }
   ],
   "source": [
    "filenames"
   ]
  },
  {
   "cell_type": "code",
   "execution_count": 10,
   "id": "cb823b18",
   "metadata": {},
   "outputs": [],
   "source": [
    "all_labs = [get_label(y).numpy().decode() for y in filenames]"
   ]
  },
  {
   "cell_type": "code",
   "execution_count": 11,
   "id": "88bd0fdf",
   "metadata": {},
   "outputs": [],
   "source": [
    "filename_df = pd.DataFrame({'name': filenames.numpy(),\n",
    "                            'label': all_labs\n",
    "                           })"
   ]
  },
  {
   "cell_type": "code",
   "execution_count": 12,
   "id": "b65f6c48",
   "metadata": {},
   "outputs": [
    {
     "data": {
      "text/html": [
       "<div>\n",
       "<style scoped>\n",
       "    .dataframe tbody tr th:only-of-type {\n",
       "        vertical-align: middle;\n",
       "    }\n",
       "\n",
       "    .dataframe tbody tr th {\n",
       "        vertical-align: top;\n",
       "    }\n",
       "\n",
       "    .dataframe thead th {\n",
       "        text-align: right;\n",
       "    }\n",
       "</style>\n",
       "<table border=\"1\" class=\"dataframe\">\n",
       "  <thead>\n",
       "    <tr style=\"text-align: right;\">\n",
       "      <th></th>\n",
       "      <th>name</th>\n",
       "      <th>label</th>\n",
       "    </tr>\n",
       "  </thead>\n",
       "  <tbody>\n",
       "    <tr>\n",
       "      <th>0</th>\n",
       "      <td>b'richfield_birds_split\\\\Northern Lapwing\\\\xc6...</td>\n",
       "      <td>Northern Lapwing</td>\n",
       "    </tr>\n",
       "    <tr>\n",
       "      <th>1</th>\n",
       "      <td>b'richfield_birds_split\\\\Mute Swan\\\\xc640258_l...</td>\n",
       "      <td>Mute Swan</td>\n",
       "    </tr>\n",
       "    <tr>\n",
       "      <th>2</th>\n",
       "      <td>b'richfield_birds_split\\\\European Robin\\\\xc678...</td>\n",
       "      <td>European Robin</td>\n",
       "    </tr>\n",
       "    <tr>\n",
       "      <th>3</th>\n",
       "      <td>b'richfield_birds_split\\\\Meadow Pipit\\\\xc59596...</td>\n",
       "      <td>Meadow Pipit</td>\n",
       "    </tr>\n",
       "    <tr>\n",
       "      <th>4</th>\n",
       "      <td>b'richfield_birds_split\\\\Common Kestrel\\\\xc672...</td>\n",
       "      <td>Common Kestrel</td>\n",
       "    </tr>\n",
       "    <tr>\n",
       "      <th>...</th>\n",
       "      <td>...</td>\n",
       "      <td>...</td>\n",
       "    </tr>\n",
       "    <tr>\n",
       "      <th>2835</th>\n",
       "      <td>b'richfield_birds_split\\\\Meadow Pipit\\\\xc66682...</td>\n",
       "      <td>Meadow Pipit</td>\n",
       "    </tr>\n",
       "    <tr>\n",
       "      <th>2836</th>\n",
       "      <td>b'richfield_birds_split\\\\European Herring Gull...</td>\n",
       "      <td>European Herring Gull</td>\n",
       "    </tr>\n",
       "    <tr>\n",
       "      <th>2837</th>\n",
       "      <td>b'richfield_birds_split\\\\Rook\\\\xc674819_start_...</td>\n",
       "      <td>Rook</td>\n",
       "    </tr>\n",
       "    <tr>\n",
       "      <th>2838</th>\n",
       "      <td>b'richfield_birds_split\\\\Common Kestrel\\\\xc608...</td>\n",
       "      <td>Common Kestrel</td>\n",
       "    </tr>\n",
       "    <tr>\n",
       "      <th>2839</th>\n",
       "      <td>b'richfield_birds_split\\\\Common Snipe\\\\xc67510...</td>\n",
       "      <td>Common Snipe</td>\n",
       "    </tr>\n",
       "  </tbody>\n",
       "</table>\n",
       "<p>2840 rows × 2 columns</p>\n",
       "</div>"
      ],
      "text/plain": [
       "                                                   name                  label\n",
       "0     b'richfield_birds_split\\\\Northern Lapwing\\\\xc6...       Northern Lapwing\n",
       "1     b'richfield_birds_split\\\\Mute Swan\\\\xc640258_l...              Mute Swan\n",
       "2     b'richfield_birds_split\\\\European Robin\\\\xc678...         European Robin\n",
       "3     b'richfield_birds_split\\\\Meadow Pipit\\\\xc59596...           Meadow Pipit\n",
       "4     b'richfield_birds_split\\\\Common Kestrel\\\\xc672...         Common Kestrel\n",
       "...                                                 ...                    ...\n",
       "2835  b'richfield_birds_split\\\\Meadow Pipit\\\\xc66682...           Meadow Pipit\n",
       "2836  b'richfield_birds_split\\\\European Herring Gull...  European Herring Gull\n",
       "2837  b'richfield_birds_split\\\\Rook\\\\xc674819_start_...                   Rook\n",
       "2838  b'richfield_birds_split\\\\Common Kestrel\\\\xc608...         Common Kestrel\n",
       "2839  b'richfield_birds_split\\\\Common Snipe\\\\xc67510...           Common Snipe\n",
       "\n",
       "[2840 rows x 2 columns]"
      ]
     },
     "execution_count": 12,
     "metadata": {},
     "output_type": "execute_result"
    }
   ],
   "source": [
    "filename_df"
   ]
  },
  {
   "cell_type": "code",
   "execution_count": 13,
   "id": "fad75438",
   "metadata": {},
   "outputs": [],
   "source": [
    "from sklearn.model_selection import train_test_split\n",
    "train, test = train_test_split(filename_df, test_size=0.2, stratify=filename_df[['label']])"
   ]
  },
  {
   "cell_type": "code",
   "execution_count": 14,
   "id": "389c54ad",
   "metadata": {},
   "outputs": [
    {
     "name": "stdout",
     "output_type": "stream",
     "text": [
      "Training set size: 2272\n",
      "Validation set size: 568\n"
     ]
    }
   ],
   "source": [
    "#TRAIN_SIZE = 0.8\n",
    "\n",
    "#cutoff = int(len(filenames) * TRAIN_SIZE)\n",
    "#train_files = filenames[:cutoff]\n",
    "#test_files  = filenames[cutoff:]\n",
    "train_files = tf.random.shuffle(train['name'])\n",
    "test_files  = tf.random.shuffle(test['name'])\n",
    "\n",
    "print('Training set size:', len(train_files))\n",
    "print('Validation set size:', len(test_files))"
   ]
  },
  {
   "cell_type": "code",
   "execution_count": 15,
   "id": "49130ac6",
   "metadata": {},
   "outputs": [],
   "source": [
    "AUTOTUNE = tf.data.experimental.AUTOTUNE"
   ]
  },
  {
   "cell_type": "code",
   "execution_count": 16,
   "id": "8b78550f",
   "metadata": {},
   "outputs": [
    {
     "data": {
      "text/plain": [
       "<tf.Tensor: shape=(), dtype=int32, numpy=44100>"
      ]
     },
     "execution_count": 16,
     "metadata": {},
     "output_type": "execute_result"
    }
   ],
   "source": [
    "audio, sr = tf.audio.decode_wav(tf.io.read_file(train_files[0].numpy()))\n",
    "sr"
   ]
  },
  {
   "cell_type": "code",
   "execution_count": 17,
   "id": "39b61978",
   "metadata": {},
   "outputs": [],
   "source": [
    "#import tensorflow as tf\n",
    "#from tensorflow.keras.layers import Concatenate"
   ]
  },
  {
   "cell_type": "code",
   "execution_count": 18,
   "id": "ed837946",
   "metadata": {},
   "outputs": [],
   "source": [
    "train_labs = [tf.argmax(get_label(y) == categories) for y in train_files]\n",
    "test_labs  = [tf.argmax(get_label(y) == categories) for y in test_files]"
   ]
  },
  {
   "cell_type": "code",
   "execution_count": 19,
   "id": "876133bd",
   "metadata": {},
   "outputs": [],
   "source": [
    "train_labs_sort = train_labs\n",
    "test_labs_sort  = test_labs\n",
    "train_labs_sort.sort()\n",
    "test_labs_sort.sort()"
   ]
  },
  {
   "cell_type": "code",
   "execution_count": 20,
   "id": "9017d2e1",
   "metadata": {},
   "outputs": [
    {
     "data": {
      "text/plain": [
       "Text(0.5, 1.0, 'Test')"
      ]
     },
     "execution_count": 20,
     "metadata": {},
     "output_type": "execute_result"
    },
    {
     "data": {
      "image/png": "[encoded data removed]",
      "text/plain": [
       "<Figure size 2880x360 with 2 Axes>"
      ]
     },
     "metadata": {
      "needs_background": "light"
     },
     "output_type": "display_data"
    }
   ],
   "source": [
    "f, axes = plt.subplots(1, 2, figsize = (40,5))\n",
    "l = []\n",
    "for i in train_labs_sort:\n",
    "    l.append(categories[i])\n",
    "sns.set_style('darkgrid')\n",
    "sns.countplot(x = l, ax=axes[0])\n",
    "lb = axes[0].get_xlabel()\n",
    "axes[0].set_xlabel(lb, fontsize=8)\n",
    "axes[0].set_title(\"Train\", size = 14)\n",
    "\n",
    "lt = []\n",
    "for i in test_labs_sort:\n",
    "    lt.append(categories[i])\n",
    "sns.set_style('darkgrid')\n",
    "sns.countplot(x = lt, ax=axes[1])\n",
    "lbt = axes[1].get_xlabel()\n",
    "axes[1].set_xlabel(lbt, fontsize=10)\n",
    "axes[1].set_title(\"Test\", size = 14)"
   ]
  },
  {
   "cell_type": "code",
   "execution_count": 21,
   "id": "f1924fec",
   "metadata": {},
   "outputs": [],
   "source": [
    "num_labels = len(categories)"
   ]
  },
  {
   "cell_type": "code",
   "execution_count": 22,
   "id": "2549d453",
   "metadata": {},
   "outputs": [],
   "source": [
    "choices = ['AbsRe', 'AbsIm', 'Mod', 'AbsAng']"
   ]
  },
  {
   "cell_type": "code",
   "execution_count": 23,
   "id": "c874ed5f",
   "metadata": {
    "scrolled": true
   },
   "outputs": [],
   "source": [
    "train_ds_mult = preprocess_dataset(train_files, choices, categories, req_width=750)\n",
    "test_ds_mult  = preprocess_dataset(test_files,  choices, categories, req_width=750)"
   ]
  },
  {
   "cell_type": "code",
   "execution_count": 24,
   "id": "8c2013cc",
   "metadata": {},
   "outputs": [
    {
     "name": "stdout",
     "output_type": "stream",
     "text": [
      "(512, 750, 1)\n",
      "European Robin\n"
     ]
    }
   ],
   "source": [
    "for spec, lab in train_ds_mult.take(1):\n",
    "    spec = spec\n",
    "    input_shape = tf.expand_dims(spec[:,:,0], axis=-1).shape\n",
    "    #input_shape = spec[:,:,0].shape\n",
    "    print(input_shape)\n",
    "    print(categories[lab])"
   ]
  },
  {
   "cell_type": "code",
   "execution_count": 25,
   "id": "3a9c8800",
   "metadata": {},
   "outputs": [],
   "source": [
    "#tmp_spec = tf.stack(spec)\n",
    "#spec\n",
    "#tf.data.Dataset.zip(tuple(tf.expand_dims(x_ind, axis=-1) for x_ind in xs_tmp))\n",
    "#tuple([1,2,3])\n",
    "#tmp_spec = tf.unstack(tmp_spec, axis=-1)\n",
    "#tmp_spec = [tf.expand_dims(x_ind, axis=-1) for x_ind in xs_tmp]\n",
    "#tmp_spec"
   ]
  },
  {
   "cell_type": "code",
   "execution_count": 26,
   "id": "e60c19e0",
   "metadata": {},
   "outputs": [
    {
     "data": {
      "image/png": "[encoded data removed]",
      "text/plain": [
       "<Figure size 432x288 with 1 Axes>"
      ]
     },
     "metadata": {},
     "output_type": "display_data"
    }
   ],
   "source": [
    "plt.imshow(np.log(spec[:,:,0]))\n",
    "plt.grid(False)"
   ]
  },
  {
   "cell_type": "code",
   "execution_count": 27,
   "id": "fdc628ce",
   "metadata": {},
   "outputs": [],
   "source": [
    "y_train = np.array([y for x,y in train_ds_mult])\n",
    "y_test  = np.array([y for x,y in test_ds_mult])\n",
    "#y_train = train_labs\n",
    "#y_test  = test_labs"
   ]
  },
  {
   "cell_type": "code",
   "execution_count": 28,
   "id": "3a635b64",
   "metadata": {},
   "outputs": [],
   "source": [
    "x_tmp  = [x for x,y in train_ds_mult]\n",
    "x_tmp  = tf.stack(x_tmp)\n",
    "xs_tmp = tf.unstack(x_tmp, axis=-1)\n",
    "xs_tmp = [tf.expand_dims(x_ind, axis=-1) for x_ind in xs_tmp]"
   ]
  },
  {
   "cell_type": "code",
   "execution_count": 29,
   "id": "b71c1976",
   "metadata": {},
   "outputs": [],
   "source": [
    "x_tmp_test  = [x for x,y in test_ds_mult]\n",
    "x_tmp_test  = tf.stack(x_tmp_test)\n",
    "xs_tmp_test = tf.unstack(x_tmp_test, axis=-1)\n",
    "xs_tmp_test = [tf.expand_dims(x_ind, axis=-1) for x_ind in xs_tmp_test]"
   ]
  },
  {
   "cell_type": "code",
   "execution_count": 30,
   "id": "92aba269",
   "metadata": {},
   "outputs": [],
   "source": [
    "num_channels = len(xs_tmp)"
   ]
  },
  {
   "cell_type": "code",
   "execution_count": 31,
   "id": "6ce3880f",
   "metadata": {},
   "outputs": [
    {
     "data": {
      "text/plain": [
       "TensorShape([512, 750, 1])"
      ]
     },
     "execution_count": 31,
     "metadata": {},
     "output_type": "execute_result"
    }
   ],
   "source": [
    "input_shape"
   ]
  },
  {
   "cell_type": "code",
   "execution_count": 32,
   "id": "b26948e5",
   "metadata": {},
   "outputs": [
    {
     "data": {
      "text/plain": [
       "TensorShape([512, 750, 1])"
      ]
     },
     "execution_count": 32,
     "metadata": {},
     "output_type": "execute_result"
    }
   ],
   "source": [
    "xs_tmp_test[0].shape[1:]"
   ]
  },
  {
   "cell_type": "code",
   "execution_count": 33,
   "id": "93ff240c",
   "metadata": {},
   "outputs": [],
   "source": [
    "model = concat_model(input_shape, num_channels = len(xs_tmp), num_classes = len(categories))"
   ]
  },
  {
   "cell_type": "code",
   "execution_count": 34,
   "id": "ec798eb9",
   "metadata": {},
   "outputs": [
    {
     "name": "stdout",
     "output_type": "stream",
     "text": [
      "Model: \"model\"\n",
      "__________________________________________________________________________________________________\n",
      "Layer (type)                    Output Shape         Param #     Connected to                     \n",
      "==================================================================================================\n",
      "input_1 (InputLayer)            [(None, 512, 750, 1) 0                                            \n",
      "__________________________________________________________________________________________________\n",
      "input_2 (InputLayer)            [(None, 512, 750, 1) 0                                            \n",
      "__________________________________________________________________________________________________\n",
      "input_3 (InputLayer)            [(None, 512, 750, 1) 0                                            \n",
      "__________________________________________________________________________________________________\n",
      "input_4 (InputLayer)            [(None, 512, 750, 1) 0                                            \n",
      "__________________________________________________________________________________________________\n",
      "resizing (Resizing)             (None, 100, 150, 1)  0           input_1[0][0]                    \n",
      "__________________________________________________________________________________________________\n",
      "resizing_1 (Resizing)           (None, 100, 150, 1)  0           input_2[0][0]                    \n",
      "__________________________________________________________________________________________________\n",
      "resizing_2 (Resizing)           (None, 100, 150, 1)  0           input_3[0][0]                    \n",
      "__________________________________________________________________________________________________\n",
      "resizing_3 (Resizing)           (None, 100, 150, 1)  0           input_4[0][0]                    \n",
      "__________________________________________________________________________________________________\n",
      "conv2d (Conv2D)                 (None, 98, 148, 16)  160         resizing[0][0]                   \n",
      "__________________________________________________________________________________________________\n",
      "conv2d_3 (Conv2D)               (None, 98, 148, 16)  160         resizing_1[0][0]                 \n",
      "__________________________________________________________________________________________________\n",
      "conv2d_6 (Conv2D)               (None, 98, 148, 16)  160         resizing_2[0][0]                 \n",
      "__________________________________________________________________________________________________\n",
      "conv2d_9 (Conv2D)               (None, 98, 148, 16)  160         resizing_3[0][0]                 \n",
      "__________________________________________________________________________________________________\n",
      "max_pooling2d (MaxPooling2D)    (None, 49, 74, 16)   0           conv2d[0][0]                     \n",
      "__________________________________________________________________________________________________\n",
      "max_pooling2d_3 (MaxPooling2D)  (None, 49, 74, 16)   0           conv2d_3[0][0]                   \n",
      "__________________________________________________________________________________________________\n",
      "max_pooling2d_6 (MaxPooling2D)  (None, 49, 74, 16)   0           conv2d_6[0][0]                   \n",
      "__________________________________________________________________________________________________\n",
      "max_pooling2d_9 (MaxPooling2D)  (None, 49, 74, 16)   0           conv2d_9[0][0]                   \n",
      "__________________________________________________________________________________________________\n",
      "conv2d_1 (Conv2D)               (None, 47, 72, 16)   2320        max_pooling2d[0][0]              \n",
      "__________________________________________________________________________________________________\n",
      "conv2d_4 (Conv2D)               (None, 47, 72, 16)   2320        max_pooling2d_3[0][0]            \n",
      "__________________________________________________________________________________________________\n",
      "conv2d_7 (Conv2D)               (None, 47, 72, 16)   2320        max_pooling2d_6[0][0]            \n",
      "__________________________________________________________________________________________________\n",
      "conv2d_10 (Conv2D)              (None, 47, 72, 16)   2320        max_pooling2d_9[0][0]            \n",
      "__________________________________________________________________________________________________\n",
      "max_pooling2d_1 (MaxPooling2D)  (None, 23, 36, 16)   0           conv2d_1[0][0]                   \n",
      "__________________________________________________________________________________________________\n",
      "max_pooling2d_4 (MaxPooling2D)  (None, 23, 36, 16)   0           conv2d_4[0][0]                   \n",
      "__________________________________________________________________________________________________\n",
      "max_pooling2d_7 (MaxPooling2D)  (None, 23, 36, 16)   0           conv2d_7[0][0]                   \n",
      "__________________________________________________________________________________________________\n",
      "max_pooling2d_10 (MaxPooling2D) (None, 23, 36, 16)   0           conv2d_10[0][0]                  \n",
      "__________________________________________________________________________________________________\n",
      "conv2d_2 (Conv2D)               (None, 21, 34, 32)   4640        max_pooling2d_1[0][0]            \n",
      "__________________________________________________________________________________________________\n",
      "conv2d_5 (Conv2D)               (None, 21, 34, 32)   4640        max_pooling2d_4[0][0]            \n",
      "__________________________________________________________________________________________________\n",
      "conv2d_8 (Conv2D)               (None, 21, 34, 32)   4640        max_pooling2d_7[0][0]            \n",
      "__________________________________________________________________________________________________\n",
      "conv2d_11 (Conv2D)              (None, 21, 34, 32)   4640        max_pooling2d_10[0][0]           \n",
      "__________________________________________________________________________________________________\n",
      "max_pooling2d_2 (MaxPooling2D)  (None, 10, 17, 32)   0           conv2d_2[0][0]                   \n",
      "__________________________________________________________________________________________________\n",
      "max_pooling2d_5 (MaxPooling2D)  (None, 10, 17, 32)   0           conv2d_5[0][0]                   \n",
      "__________________________________________________________________________________________________\n",
      "max_pooling2d_8 (MaxPooling2D)  (None, 10, 17, 32)   0           conv2d_8[0][0]                   \n",
      "__________________________________________________________________________________________________\n",
      "max_pooling2d_11 (MaxPooling2D) (None, 10, 17, 32)   0           conv2d_11[0][0]                  \n",
      "__________________________________________________________________________________________________\n",
      "flatten (Flatten)               (None, 5440)         0           max_pooling2d_2[0][0]            \n",
      "__________________________________________________________________________________________________\n",
      "flatten_1 (Flatten)             (None, 5440)         0           max_pooling2d_5[0][0]            \n",
      "__________________________________________________________________________________________________\n",
      "flatten_2 (Flatten)             (None, 5440)         0           max_pooling2d_8[0][0]            \n",
      "__________________________________________________________________________________________________\n",
      "flatten_3 (Flatten)             (None, 5440)         0           max_pooling2d_11[0][0]           \n",
      "__________________________________________________________________________________________________\n",
      "concatenate (Concatenate)       (None, 21760)        0           flatten[0][0]                    \n",
      "                                                                 flatten_1[0][0]                  \n",
      "                                                                 flatten_2[0][0]                  \n",
      "                                                                 flatten_3[0][0]                  \n",
      "__________________________________________________________________________________________________\n",
      "dropout (Dropout)               (None, 21760)        0           concatenate[0][0]                \n",
      "__________________________________________________________________________________________________\n",
      "dense (Dense)                   (None, 64)           1392704     dropout[0][0]                    \n",
      "__________________________________________________________________________________________________\n",
      "dropout_1 (Dropout)             (None, 64)           0           dense[0][0]                      \n",
      "__________________________________________________________________________________________________\n",
      "dense_1 (Dense)                 (None, 12)           780         dropout_1[0][0]                  \n",
      "==================================================================================================\n",
      "Total params: 1,421,964\n",
      "Trainable params: 1,421,964\n",
      "Non-trainable params: 0\n",
      "__________________________________________________________________________________________________\n"
     ]
    }
   ],
   "source": [
    "model.summary()"
   ]
  },
  {
   "cell_type": "code",
   "execution_count": 35,
   "id": "163d3240",
   "metadata": {},
   "outputs": [
    {
     "name": "stdout",
     "output_type": "stream",
     "text": [
      "Epoch 1/10\n",
      "71/71 [==============================] - 54s 739ms/step - loss: 2.5210 - accuracy: 0.1893 - val_loss: 2.2709 - val_accuracy: 0.2993\n",
      "Epoch 2/10\n",
      "71/71 [==============================] - 44s 627ms/step - loss: 2.2738 - accuracy: 0.2786 - val_loss: 2.0865 - val_accuracy: 0.3345\n",
      "Epoch 3/10\n",
      "71/71 [==============================] - 43s 610ms/step - loss: 2.1200 - accuracy: 0.3231 - val_loss: 1.9535 - val_accuracy: 0.3873\n",
      "Epoch 4/10\n",
      "71/71 [==============================] - 49s 690ms/step - loss: 1.9970 - accuracy: 0.3724 - val_loss: 1.8357 - val_accuracy: 0.4771\n",
      "Epoch 5/10\n",
      "71/71 [==============================] - 44s 622ms/step - loss: 1.8973 - accuracy: 0.4115 - val_loss: 1.7437 - val_accuracy: 0.4965\n",
      "Epoch 6/10\n",
      "71/71 [==============================] - 50s 703ms/step - loss: 1.8055 - accuracy: 0.4494 - val_loss: 1.6521 - val_accuracy: 0.5282\n",
      "Epoch 7/10\n",
      "71/71 [==============================] - 50s 703ms/step - loss: 1.6929 - accuracy: 0.4815 - val_loss: 1.5519 - val_accuracy: 0.5845\n",
      "Epoch 8/10\n",
      "71/71 [==============================] - 45s 640ms/step - loss: 1.6245 - accuracy: 0.5026 - val_loss: 1.5366 - val_accuracy: 0.5951\n",
      "Epoch 9/10\n",
      "71/71 [==============================] - 48s 683ms/step - loss: 1.6063 - accuracy: 0.5088 - val_loss: 1.4960 - val_accuracy: 0.6021\n",
      "Epoch 10/10\n",
      "71/71 [==============================] - 45s 638ms/step - loss: 1.4864 - accuracy: 0.5594 - val_loss: 1.4483 - val_accuracy: 0.6268\n"
     ]
    }
   ],
   "source": [
    "history = model.fit(xs_tmp, y_train,\n",
    "                    validation_data = (xs_tmp_test, y_test),\n",
    "                    epochs          = 10,\n",
    "                    batch_size      = 32)"
   ]
  },
  {
   "cell_type": "code",
   "execution_count": 36,
   "id": "a50222c0",
   "metadata": {},
   "outputs": [
    {
     "data": {
      "image/png": "[encoded data removed]",
      "text/plain": [
       "<Figure size 432x288 with 1 Axes>"
      ]
     },
     "metadata": {},
     "output_type": "display_data"
    },
    {
     "data": {
      "image/png": "[encoded data removed]",
      "text/plain": [
       "<Figure size 432x288 with 1 Axes>"
      ]
     },
     "metadata": {},
     "output_type": "display_data"
    }
   ],
   "source": [
    "metrics = history.history\n",
    "plt.plot(history.epoch, metrics['loss'], metrics['val_loss'])\n",
    "plt.legend(['loss', 'val_loss'])\n",
    "plt.show()\n",
    "plt.plot(history.epoch, metrics['accuracy'], metrics['val_accuracy'])\n",
    "plt.legend(['accuracy', 'val_accuracy'])\n",
    "plt.show()"
   ]
  },
  {
   "cell_type": "code",
   "execution_count": 42,
   "id": "a57c70c6",
   "metadata": {},
   "outputs": [
    {
     "name": "stdout",
     "output_type": "stream",
     "text": [
      "Epoch 1/40\n",
      "71/71 [==============================] - 94s 1s/step - loss: 1.4341 - accuracy: 0.5739 - val_loss: 1.3899 - val_accuracy: 0.6285\n",
      "Epoch 2/40\n",
      "71/71 [==============================] - 81s 1s/step - loss: 1.3846 - accuracy: 0.5920 - val_loss: 1.3739 - val_accuracy: 0.6303\n",
      "Epoch 3/40\n",
      "71/71 [==============================] - 77s 1s/step - loss: 1.3396 - accuracy: 0.6210 - val_loss: 1.3471 - val_accuracy: 0.6620\n",
      "Epoch 4/40\n",
      "71/71 [==============================] - 81s 1s/step - loss: 1.2872 - accuracy: 0.6285 - val_loss: 1.3346 - val_accuracy: 0.6303\n",
      "Epoch 5/40\n",
      "71/71 [==============================] - 78s 1s/step - loss: 1.2922 - accuracy: 0.6180 - val_loss: 1.2983 - val_accuracy: 0.6690\n",
      "Epoch 6/40\n",
      "71/71 [==============================] - 81s 1s/step - loss: 1.2261 - accuracy: 0.6430 - val_loss: 1.2779 - val_accuracy: 0.6567\n",
      "Epoch 7/40\n",
      "71/71 [==============================] - 79s 1s/step - loss: 1.2045 - accuracy: 0.6651 - val_loss: 1.2684 - val_accuracy: 0.6919\n",
      "Epoch 8/40\n",
      "71/71 [==============================] - 83s 1s/step - loss: 1.1500 - accuracy: 0.6730 - val_loss: 1.2577 - val_accuracy: 0.6602\n",
      "Epoch 9/40\n",
      "71/71 [==============================] - 81s 1s/step - loss: 1.1455 - accuracy: 0.6893 - val_loss: 1.2304 - val_accuracy: 0.6620\n",
      "Epoch 10/40\n",
      "71/71 [==============================] - 87s 1s/step - loss: 1.0856 - accuracy: 0.6910 - val_loss: 1.2148 - val_accuracy: 0.6673\n",
      "Epoch 11/40\n",
      "71/71 [==============================] - 94s 1s/step - loss: 1.0820 - accuracy: 0.6915 - val_loss: 1.1839 - val_accuracy: 0.6919\n",
      "Epoch 12/40\n",
      "71/71 [==============================] - 87s 1s/step - loss: 1.0563 - accuracy: 0.7091 - val_loss: 1.1816 - val_accuracy: 0.6831\n",
      "Epoch 13/40\n",
      "71/71 [==============================] - 84s 1s/step - loss: 1.0106 - accuracy: 0.7183 - val_loss: 1.1692 - val_accuracy: 0.6761\n",
      "Epoch 14/40\n",
      "71/71 [==============================] - 81s 1s/step - loss: 1.0072 - accuracy: 0.7302 - val_loss: 1.1927 - val_accuracy: 0.6937\n",
      "Epoch 15/40\n",
      "71/71 [==============================] - 80s 1s/step - loss: 0.9538 - accuracy: 0.7443 - val_loss: 1.1420 - val_accuracy: 0.6989\n",
      "Epoch 16/40\n",
      "71/71 [==============================] - 84s 1s/step - loss: 0.9606 - accuracy: 0.7394 - val_loss: 1.1430 - val_accuracy: 0.7060\n",
      "Epoch 17/40\n",
      "71/71 [==============================] - 85s 1s/step - loss: 0.9417 - accuracy: 0.7500 - val_loss: 1.1686 - val_accuracy: 0.6919\n",
      "Epoch 18/40\n",
      "71/71 [==============================] - 84s 1s/step - loss: 0.8979 - accuracy: 0.7610 - val_loss: 1.1472 - val_accuracy: 0.6989\n",
      "Epoch 19/40\n",
      "71/71 [==============================] - 82s 1s/step - loss: 0.8993 - accuracy: 0.7654 - val_loss: 1.1324 - val_accuracy: 0.7113\n",
      "Epoch 20/40\n",
      "71/71 [==============================] - 76s 1s/step - loss: 0.8318 - accuracy: 0.7812 - val_loss: 1.1183 - val_accuracy: 0.7254\n",
      "Epoch 21/40\n",
      "71/71 [==============================] - 49s 689ms/step - loss: 0.7964 - accuracy: 0.7997 - val_loss: 1.1056 - val_accuracy: 0.7201\n",
      "Epoch 22/40\n",
      "71/71 [==============================] - 48s 673ms/step - loss: 0.8123 - accuracy: 0.7945 - val_loss: 1.0891 - val_accuracy: 0.7377\n",
      "Epoch 23/40\n",
      "71/71 [==============================] - 49s 688ms/step - loss: 0.7974 - accuracy: 0.7989 - val_loss: 1.1061 - val_accuracy: 0.7289\n",
      "Epoch 24/40\n",
      "71/71 [==============================] - 47s 663ms/step - loss: 0.7726 - accuracy: 0.8099 - val_loss: 1.1211 - val_accuracy: 0.6989\n",
      "Epoch 25/40\n",
      "71/71 [==============================] - 50s 704ms/step - loss: 0.7580 - accuracy: 0.8187 - val_loss: 1.0946 - val_accuracy: 0.7271\n",
      "Epoch 26/40\n",
      "71/71 [==============================] - 55s 772ms/step - loss: 0.7170 - accuracy: 0.8261 - val_loss: 1.1292 - val_accuracy: 0.7236\n",
      "Epoch 27/40\n",
      "71/71 [==============================] - 55s 784ms/step - loss: 0.7149 - accuracy: 0.8358 - val_loss: 1.1054 - val_accuracy: 0.7289\n",
      "Epoch 28/40\n",
      "71/71 [==============================] - 49s 690ms/step - loss: 0.6808 - accuracy: 0.8336 - val_loss: 1.1150 - val_accuracy: 0.7412\n",
      "Epoch 29/40\n",
      "71/71 [==============================] - 47s 659ms/step - loss: 0.6777 - accuracy: 0.8433 - val_loss: 1.0949 - val_accuracy: 0.7236\n",
      "Epoch 30/40\n",
      "71/71 [==============================] - 53s 752ms/step - loss: 0.6428 - accuracy: 0.8587 - val_loss: 1.0900 - val_accuracy: 0.7306\n",
      "Epoch 31/40\n",
      "71/71 [==============================] - 56s 787ms/step - loss: 0.6325 - accuracy: 0.8596 - val_loss: 1.1133 - val_accuracy: 0.7236\n",
      "Epoch 32/40\n",
      "71/71 [==============================] - 55s 784ms/step - loss: 0.6231 - accuracy: 0.8675 - val_loss: 1.1167 - val_accuracy: 0.7201\n",
      "Epoch 33/40\n",
      "71/71 [==============================] - 45s 637ms/step - loss: 0.6105 - accuracy: 0.8666 - val_loss: 1.0968 - val_accuracy: 0.7165\n",
      "Epoch 34/40\n",
      "71/71 [==============================] - 43s 601ms/step - loss: 0.5923 - accuracy: 0.8781 - val_loss: 1.0942 - val_accuracy: 0.7271\n",
      "Epoch 35/40\n",
      "71/71 [==============================] - 45s 630ms/step - loss: 0.5665 - accuracy: 0.8847 - val_loss: 1.0860 - val_accuracy: 0.7236\n",
      "Epoch 36/40\n",
      "71/71 [==============================] - 45s 640ms/step - loss: 0.5407 - accuracy: 0.8966 - val_loss: 1.1032 - val_accuracy: 0.7254\n",
      "Epoch 37/40\n",
      "71/71 [==============================] - 43s 611ms/step - loss: 0.5376 - accuracy: 0.8961 - val_loss: 1.1112 - val_accuracy: 0.7289\n",
      "Epoch 38/40\n",
      "71/71 [==============================] - 45s 632ms/step - loss: 0.5277 - accuracy: 0.8913 - val_loss: 1.0990 - val_accuracy: 0.7236\n",
      "Epoch 39/40\n",
      "71/71 [==============================] - 44s 629ms/step - loss: 0.5267 - accuracy: 0.9036 - val_loss: 1.1177 - val_accuracy: 0.7236\n",
      "Epoch 40/40\n",
      "71/71 [==============================] - 47s 663ms/step - loss: 0.4976 - accuracy: 0.9062 - val_loss: 1.1241 - val_accuracy: 0.7183\n"
     ]
    }
   ],
   "source": [
    "history2 = model.fit(xs_tmp, y_train,\n",
    "                    validation_data = (xs_tmp_test, y_test),\n",
    "                    epochs          = 40,\n",
    "                    batch_size      = 32)"
   ]
  },
  {
   "cell_type": "code",
   "execution_count": 43,
   "id": "76a216a9",
   "metadata": {},
   "outputs": [],
   "source": [
    "#todo: confusion matrix and other \n",
    "y_pred = np.argmax(model.predict(xs_tmp_test), axis=-1)\n",
    "y_true = y_test"
   ]
  },
  {
   "cell_type": "code",
   "execution_count": 44,
   "id": "b040fea3",
   "metadata": {},
   "outputs": [],
   "source": [
    "pred_lists = model.predict(xs_tmp_test)\n",
    "pred_df = pd.DataFrame(pred_lists, columns = categories)\n",
    "pred_df_softmax = pred_df.apply(lambda x: np.exp(x - np.max(x))/np.exp(x - np.max(x)).sum(), axis=1)"
   ]
  },
  {
   "cell_type": "code",
   "execution_count": 45,
   "id": "8cb8655b",
   "metadata": {},
   "outputs": [
    {
     "data": {
      "text/plain": [
       "array([[57,  0,  1,  6,  0,  1,  0,  1,  1,  2,  0,  0],\n",
       "       [ 7, 33,  1,  0,  1,  2,  1,  0,  0,  0,  2,  0],\n",
       "       [ 0,  1, 24,  5,  2,  0,  0,  3,  1,  1,  2,  0],\n",
       "       [ 6,  0,  2, 32,  1,  0,  0,  0,  1,  4,  0,  0],\n",
       "       [ 3,  4,  4,  0, 20,  1,  0,  0,  0,  5,  0,  1],\n",
       "       [ 0,  3,  1,  0,  0, 60,  0,  0,  0,  0,  0,  0],\n",
       "       [ 4,  0,  0,  0,  0,  3, 17,  0,  0,  0,  0,  0],\n",
       "       [ 2,  0,  2,  0,  2,  0,  1, 36,  0,  5,  2,  1],\n",
       "       [ 1,  2,  5,  6,  3,  1,  0,  0, 13,  0,  1,  0],\n",
       "       [ 2,  0,  0,  0,  0,  1,  0,  4,  0, 85,  1,  0],\n",
       "       [ 0,  0,  3,  0,  0,  0,  0,  5,  1,  1, 20,  8],\n",
       "       [ 2,  0,  1,  0,  3,  0,  0,  5,  0,  0,  5, 11]], dtype=int64)"
      ]
     },
     "execution_count": 45,
     "metadata": {},
     "output_type": "execute_result"
    }
   ],
   "source": [
    "from sklearn.metrics import confusion_matrix\n",
    "cm = confusion_matrix(y_true, y_pred)\n",
    "cm"
   ]
  },
  {
   "cell_type": "code",
   "execution_count": 46,
   "id": "32f7b191",
   "metadata": {},
   "outputs": [
    {
     "data": {
      "application/vnd.plotly.v1+json": {
       "config": {
        "plotlyServerURL": "https://plot.ly"
       },
       "data": [
        {
         "colorscale": [
          [
           0,
           "#440154"
          ],
          [
           0.1111111111111111,
           "#482878"
          ],
          [
           0.2222222222222222,
           "#3e4989"
          ],
          [
           0.3333333333333333,
           "#31688e"
          ],
          [
           0.4444444444444444,
           "#26828e"
          ],
          [
           0.5555555555555556,
           "#1f9e89"
          ],
          [
           0.6666666666666666,
           "#35b779"
          ],
          [
           0.7777777777777778,
           "#6ece58"
          ],
          [
           0.8888888888888888,
           "#b5de2b"
          ],
          [
           1,
           "#fde725"
          ]
         ],
         "reversescale": false,
         "showscale": true,
         "type": "heatmap",
         "x": [
          "Common Buzzard",
          "Common Kestrel",
          "Common Snipe",
          "Eurasian Curlew",
          "European Herring Gull",
          "European Robin",
          "Meadow Pipit",
          "Mute Swan",
          "Northern Lapwing",
          "Rook",
          "Tundra Swan",
          "Tundra Swan (Bewicks)"
         ],
         "y": [
          "Common Buzzard",
          "Common Kestrel",
          "Common Snipe",
          "Eurasian Curlew",
          "European Herring Gull",
          "European Robin",
          "Meadow Pipit",
          "Mute Swan",
          "Northern Lapwing",
          "Rook",
          "Tundra Swan",
          "Tundra Swan (Bewicks)"
         ],
         "z": [
          [
           57,
           0,
           1,
           6,
           0,
           1,
           0,
           1,
           1,
           2,
           0,
           0
          ],
          [
           7,
           33,
           1,
           0,
           1,
           2,
           1,
           0,
           0,
           0,
           2,
           0
          ],
          [
           0,
           1,
           24,
           5,
           2,
           0,
           0,
           3,
           1,
           1,
           2,
           0
          ],
          [
           6,
           0,
           2,
           32,
           1,
           0,
           0,
           0,
           1,
           4,
           0,
           0
          ],
          [
           3,
           4,
           4,
           0,
           20,
           1,
           0,
           0,
           0,
           5,
           0,
           1
          ],
          [
           0,
           3,
           1,
           0,
           0,
           60,
           0,
           0,
           0,
           0,
           0,
           0
          ],
          [
           4,
           0,
           0,
           0,
           0,
           3,
           17,
           0,
           0,
           0,
           0,
           0
          ],
          [
           2,
           0,
           2,
           0,
           2,
           0,
           1,
           36,
           0,
           5,
           2,
           1
          ],
          [
           1,
           2,
           5,
           6,
           3,
           1,
           0,
           0,
           13,
           0,
           1,
           0
          ],
          [
           2,
           0,
           0,
           0,
           0,
           1,
           0,
           4,
           0,
           85,
           1,
           0
          ],
          [
           0,
           0,
           3,
           0,
           0,
           0,
           0,
           5,
           1,
           1,
           20,
           8
          ],
          [
           2,
           0,
           1,
           0,
           3,
           0,
           0,
           5,
           0,
           0,
           5,
           11
          ]
         ]
        }
       ],
       "layout": {
        "annotations": [
         {
          "font": {
           "color": "#000000"
          },
          "showarrow": false,
          "text": "57",
          "x": "Common Buzzard",
          "xref": "x",
          "y": "Common Buzzard",
          "yref": "y"
         },
         {
          "font": {
           "color": "#FFFFFF"
          },
          "showarrow": false,
          "text": "0",
          "x": "Common Kestrel",
          "xref": "x",
          "y": "Common Buzzard",
          "yref": "y"
         },
         {
          "font": {
           "color": "#FFFFFF"
          },
          "showarrow": false,
          "text": "1",
          "x": "Common Snipe",
          "xref": "x",
          "y": "Common Buzzard",
          "yref": "y"
         },
         {
          "font": {
           "color": "#FFFFFF"
          },
          "showarrow": false,
          "text": "6",
          "x": "Eurasian Curlew",
          "xref": "x",
          "y": "Common Buzzard",
          "yref": "y"
         },
         {
          "font": {
           "color": "#FFFFFF"
          },
          "showarrow": false,
          "text": "0",
          "x": "European Herring Gull",
          "xref": "x",
          "y": "Common Buzzard",
          "yref": "y"
         },
         {
          "font": {
           "color": "#FFFFFF"
          },
          "showarrow": false,
          "text": "1",
          "x": "European Robin",
          "xref": "x",
          "y": "Common Buzzard",
          "yref": "y"
         },
         {
          "font": {
           "color": "#FFFFFF"
          },
          "showarrow": false,
          "text": "0",
          "x": "Meadow Pipit",
          "xref": "x",
          "y": "Common Buzzard",
          "yref": "y"
         },
         {
          "font": {
           "color": "#FFFFFF"
          },
          "showarrow": false,
          "text": "1",
          "x": "Mute Swan",
          "xref": "x",
          "y": "Common Buzzard",
          "yref": "y"
         },
         {
          "font": {
           "color": "#FFFFFF"
          },
          "showarrow": false,
          "text": "1",
          "x": "Northern Lapwing",
          "xref": "x",
          "y": "Common Buzzard",
          "yref": "y"
         },
         {
          "font": {
           "color": "#FFFFFF"
          },
          "showarrow": false,
          "text": "2",
          "x": "Rook",
          "xref": "x",
          "y": "Common Buzzard",
          "yref": "y"
         },
         {
          "font": {
           "color": "#FFFFFF"
          },
          "showarrow": false,
          "text": "0",
          "x": "Tundra Swan",
          "xref": "x",
          "y": "Common Buzzard",
          "yref": "y"
         },
         {
          "font": {
           "color": "#FFFFFF"
          },
          "showarrow": false,
          "text": "0",
          "x": "Tundra Swan (Bewicks)",
          "xref": "x",
          "y": "Common Buzzard",
          "yref": "y"
         },
         {
          "font": {
           "color": "#FFFFFF"
          },
          "showarrow": false,
          "text": "7",
          "x": "Common Buzzard",
          "xref": "x",
          "y": "Common Kestrel",
          "yref": "y"
         },
         {
          "font": {
           "color": "#FFFFFF"
          },
          "showarrow": false,
          "text": "33",
          "x": "Common Kestrel",
          "xref": "x",
          "y": "Common Kestrel",
          "yref": "y"
         },
         {
          "font": {
           "color": "#FFFFFF"
          },
          "showarrow": false,
          "text": "1",
          "x": "Common Snipe",
          "xref": "x",
          "y": "Common Kestrel",
          "yref": "y"
         },
         {
          "font": {
           "color": "#FFFFFF"
          },
          "showarrow": false,
          "text": "0",
          "x": "Eurasian Curlew",
          "xref": "x",
          "y": "Common Kestrel",
          "yref": "y"
         },
         {
          "font": {
           "color": "#FFFFFF"
          },
          "showarrow": false,
          "text": "1",
          "x": "European Herring Gull",
          "xref": "x",
          "y": "Common Kestrel",
          "yref": "y"
         },
         {
          "font": {
           "color": "#FFFFFF"
          },
          "showarrow": false,
          "text": "2",
          "x": "European Robin",
          "xref": "x",
          "y": "Common Kestrel",
          "yref": "y"
         },
         {
          "font": {
           "color": "#FFFFFF"
          },
          "showarrow": false,
          "text": "1",
          "x": "Meadow Pipit",
          "xref": "x",
          "y": "Common Kestrel",
          "yref": "y"
         },
         {
          "font": {
           "color": "#FFFFFF"
          },
          "showarrow": false,
          "text": "0",
          "x": "Mute Swan",
          "xref": "x",
          "y": "Common Kestrel",
          "yref": "y"
         },
         {
          "font": {
           "color": "#FFFFFF"
          },
          "showarrow": false,
          "text": "0",
          "x": "Northern Lapwing",
          "xref": "x",
          "y": "Common Kestrel",
          "yref": "y"
         },
         {
          "font": {
           "color": "#FFFFFF"
          },
          "showarrow": false,
          "text": "0",
          "x": "Rook",
          "xref": "x",
          "y": "Common Kestrel",
          "yref": "y"
         },
         {
          "font": {
           "color": "#FFFFFF"
          },
          "showarrow": false,
          "text": "2",
          "x": "Tundra Swan",
          "xref": "x",
          "y": "Common Kestrel",
          "yref": "y"
         },
         {
          "font": {
           "color": "#FFFFFF"
          },
          "showarrow": false,
          "text": "0",
          "x": "Tundra Swan (Bewicks)",
          "xref": "x",
          "y": "Common Kestrel",
          "yref": "y"
         },
         {
          "font": {
           "color": "#FFFFFF"
          },
          "showarrow": false,
          "text": "0",
          "x": "Common Buzzard",
          "xref": "x",
          "y": "Common Snipe",
          "yref": "y"
         },
         {
          "font": {
           "color": "#FFFFFF"
          },
          "showarrow": false,
          "text": "1",
          "x": "Common Kestrel",
          "xref": "x",
          "y": "Common Snipe",
          "yref": "y"
         },
         {
          "font": {
           "color": "#FFFFFF"
          },
          "showarrow": false,
          "text": "24",
          "x": "Common Snipe",
          "xref": "x",
          "y": "Common Snipe",
          "yref": "y"
         },
         {
          "font": {
           "color": "#FFFFFF"
          },
          "showarrow": false,
          "text": "5",
          "x": "Eurasian Curlew",
          "xref": "x",
          "y": "Common Snipe",
          "yref": "y"
         },
         {
          "font": {
           "color": "#FFFFFF"
          },
          "showarrow": false,
          "text": "2",
          "x": "European Herring Gull",
          "xref": "x",
          "y": "Common Snipe",
          "yref": "y"
         },
         {
          "font": {
           "color": "#FFFFFF"
          },
          "showarrow": false,
          "text": "0",
          "x": "European Robin",
          "xref": "x",
          "y": "Common Snipe",
          "yref": "y"
         },
         {
          "font": {
           "color": "#FFFFFF"
          },
          "showarrow": false,
          "text": "0",
          "x": "Meadow Pipit",
          "xref": "x",
          "y": "Common Snipe",
          "yref": "y"
         },
         {
          "font": {
           "color": "#FFFFFF"
          },
          "showarrow": false,
          "text": "3",
          "x": "Mute Swan",
          "xref": "x",
          "y": "Common Snipe",
          "yref": "y"
         },
         {
          "font": {
           "color": "#FFFFFF"
          },
          "showarrow": false,
          "text": "1",
          "x": "Northern Lapwing",
          "xref": "x",
          "y": "Common Snipe",
          "yref": "y"
         },
         {
          "font": {
           "color": "#FFFFFF"
          },
          "showarrow": false,
          "text": "1",
          "x": "Rook",
          "xref": "x",
          "y": "Common Snipe",
          "yref": "y"
         },
         {
          "font": {
           "color": "#FFFFFF"
          },
          "showarrow": false,
          "text": "2",
          "x": "Tundra Swan",
          "xref": "x",
          "y": "Common Snipe",
          "yref": "y"
         },
         {
          "font": {
           "color": "#FFFFFF"
          },
          "showarrow": false,
          "text": "0",
          "x": "Tundra Swan (Bewicks)",
          "xref": "x",
          "y": "Common Snipe",
          "yref": "y"
         },
         {
          "font": {
           "color": "#FFFFFF"
          },
          "showarrow": false,
          "text": "6",
          "x": "Common Buzzard",
          "xref": "x",
          "y": "Eurasian Curlew",
          "yref": "y"
         },
         {
          "font": {
           "color": "#FFFFFF"
          },
          "showarrow": false,
          "text": "0",
          "x": "Common Kestrel",
          "xref": "x",
          "y": "Eurasian Curlew",
          "yref": "y"
         },
         {
          "font": {
           "color": "#FFFFFF"
          },
          "showarrow": false,
          "text": "2",
          "x": "Common Snipe",
          "xref": "x",
          "y": "Eurasian Curlew",
          "yref": "y"
         },
         {
          "font": {
           "color": "#FFFFFF"
          },
          "showarrow": false,
          "text": "32",
          "x": "Eurasian Curlew",
          "xref": "x",
          "y": "Eurasian Curlew",
          "yref": "y"
         },
         {
          "font": {
           "color": "#FFFFFF"
          },
          "showarrow": false,
          "text": "1",
          "x": "European Herring Gull",
          "xref": "x",
          "y": "Eurasian Curlew",
          "yref": "y"
         },
         {
          "font": {
           "color": "#FFFFFF"
          },
          "showarrow": false,
          "text": "0",
          "x": "European Robin",
          "xref": "x",
          "y": "Eurasian Curlew",
          "yref": "y"
         },
         {
          "font": {
           "color": "#FFFFFF"
          },
          "showarrow": false,
          "text": "0",
          "x": "Meadow Pipit",
          "xref": "x",
          "y": "Eurasian Curlew",
          "yref": "y"
         },
         {
          "font": {
           "color": "#FFFFFF"
          },
          "showarrow": false,
          "text": "0",
          "x": "Mute Swan",
          "xref": "x",
          "y": "Eurasian Curlew",
          "yref": "y"
         },
         {
          "font": {
           "color": "#FFFFFF"
          },
          "showarrow": false,
          "text": "1",
          "x": "Northern Lapwing",
          "xref": "x",
          "y": "Eurasian Curlew",
          "yref": "y"
         },
         {
          "font": {
           "color": "#FFFFFF"
          },
          "showarrow": false,
          "text": "4",
          "x": "Rook",
          "xref": "x",
          "y": "Eurasian Curlew",
          "yref": "y"
         },
         {
          "font": {
           "color": "#FFFFFF"
          },
          "showarrow": false,
          "text": "0",
          "x": "Tundra Swan",
          "xref": "x",
          "y": "Eurasian Curlew",
          "yref": "y"
         },
         {
          "font": {
           "color": "#FFFFFF"
          },
          "showarrow": false,
          "text": "0",
          "x": "Tundra Swan (Bewicks)",
          "xref": "x",
          "y": "Eurasian Curlew",
          "yref": "y"
         },
         {
          "font": {
           "color": "#FFFFFF"
          },
          "showarrow": false,
          "text": "3",
          "x": "Common Buzzard",
          "xref": "x",
          "y": "European Herring Gull",
          "yref": "y"
         },
         {
          "font": {
           "color": "#FFFFFF"
          },
          "showarrow": false,
          "text": "4",
          "x": "Common Kestrel",
          "xref": "x",
          "y": "European Herring Gull",
          "yref": "y"
         },
         {
          "font": {
           "color": "#FFFFFF"
          },
          "showarrow": false,
          "text": "4",
          "x": "Common Snipe",
          "xref": "x",
          "y": "European Herring Gull",
          "yref": "y"
         },
         {
          "font": {
           "color": "#FFFFFF"
          },
          "showarrow": false,
          "text": "0",
          "x": "Eurasian Curlew",
          "xref": "x",
          "y": "European Herring Gull",
          "yref": "y"
         },
         {
          "font": {
           "color": "#FFFFFF"
          },
          "showarrow": false,
          "text": "20",
          "x": "European Herring Gull",
          "xref": "x",
          "y": "European Herring Gull",
          "yref": "y"
         },
         {
          "font": {
           "color": "#FFFFFF"
          },
          "showarrow": false,
          "text": "1",
          "x": "European Robin",
          "xref": "x",
          "y": "European Herring Gull",
          "yref": "y"
         },
         {
          "font": {
           "color": "#FFFFFF"
          },
          "showarrow": false,
          "text": "0",
          "x": "Meadow Pipit",
          "xref": "x",
          "y": "European Herring Gull",
          "yref": "y"
         },
         {
          "font": {
           "color": "#FFFFFF"
          },
          "showarrow": false,
          "text": "0",
          "x": "Mute Swan",
          "xref": "x",
          "y": "European Herring Gull",
          "yref": "y"
         },
         {
          "font": {
           "color": "#FFFFFF"
          },
          "showarrow": false,
          "text": "0",
          "x": "Northern Lapwing",
          "xref": "x",
          "y": "European Herring Gull",
          "yref": "y"
         },
         {
          "font": {
           "color": "#FFFFFF"
          },
          "showarrow": false,
          "text": "5",
          "x": "Rook",
          "xref": "x",
          "y": "European Herring Gull",
          "yref": "y"
         },
         {
          "font": {
           "color": "#FFFFFF"
          },
          "showarrow": false,
          "text": "0",
          "x": "Tundra Swan",
          "xref": "x",
          "y": "European Herring Gull",
          "yref": "y"
         },
         {
          "font": {
           "color": "#FFFFFF"
          },
          "showarrow": false,
          "text": "1",
          "x": "Tundra Swan (Bewicks)",
          "xref": "x",
          "y": "European Herring Gull",
          "yref": "y"
         },
         {
          "font": {
           "color": "#FFFFFF"
          },
          "showarrow": false,
          "text": "0",
          "x": "Common Buzzard",
          "xref": "x",
          "y": "European Robin",
          "yref": "y"
         },
         {
          "font": {
           "color": "#FFFFFF"
          },
          "showarrow": false,
          "text": "3",
          "x": "Common Kestrel",
          "xref": "x",
          "y": "European Robin",
          "yref": "y"
         },
         {
          "font": {
           "color": "#FFFFFF"
          },
          "showarrow": false,
          "text": "1",
          "x": "Common Snipe",
          "xref": "x",
          "y": "European Robin",
          "yref": "y"
         },
         {
          "font": {
           "color": "#FFFFFF"
          },
          "showarrow": false,
          "text": "0",
          "x": "Eurasian Curlew",
          "xref": "x",
          "y": "European Robin",
          "yref": "y"
         },
         {
          "font": {
           "color": "#FFFFFF"
          },
          "showarrow": false,
          "text": "0",
          "x": "European Herring Gull",
          "xref": "x",
          "y": "European Robin",
          "yref": "y"
         },
         {
          "font": {
           "color": "#000000"
          },
          "showarrow": false,
          "text": "60",
          "x": "European Robin",
          "xref": "x",
          "y": "European Robin",
          "yref": "y"
         },
         {
          "font": {
           "color": "#FFFFFF"
          },
          "showarrow": false,
          "text": "0",
          "x": "Meadow Pipit",
          "xref": "x",
          "y": "European Robin",
          "yref": "y"
         },
         {
          "font": {
           "color": "#FFFFFF"
          },
          "showarrow": false,
          "text": "0",
          "x": "Mute Swan",
          "xref": "x",
          "y": "European Robin",
          "yref": "y"
         },
         {
          "font": {
           "color": "#FFFFFF"
          },
          "showarrow": false,
          "text": "0",
          "x": "Northern Lapwing",
          "xref": "x",
          "y": "European Robin",
          "yref": "y"
         },
         {
          "font": {
           "color": "#FFFFFF"
          },
          "showarrow": false,
          "text": "0",
          "x": "Rook",
          "xref": "x",
          "y": "European Robin",
          "yref": "y"
         },
         {
          "font": {
           "color": "#FFFFFF"
          },
          "showarrow": false,
          "text": "0",
          "x": "Tundra Swan",
          "xref": "x",
          "y": "European Robin",
          "yref": "y"
         },
         {
          "font": {
           "color": "#FFFFFF"
          },
          "showarrow": false,
          "text": "0",
          "x": "Tundra Swan (Bewicks)",
          "xref": "x",
          "y": "European Robin",
          "yref": "y"
         },
         {
          "font": {
           "color": "#FFFFFF"
          },
          "showarrow": false,
          "text": "4",
          "x": "Common Buzzard",
          "xref": "x",
          "y": "Meadow Pipit",
          "yref": "y"
         },
         {
          "font": {
           "color": "#FFFFFF"
          },
          "showarrow": false,
          "text": "0",
          "x": "Common Kestrel",
          "xref": "x",
          "y": "Meadow Pipit",
          "yref": "y"
         },
         {
          "font": {
           "color": "#FFFFFF"
          },
          "showarrow": false,
          "text": "0",
          "x": "Common Snipe",
          "xref": "x",
          "y": "Meadow Pipit",
          "yref": "y"
         },
         {
          "font": {
           "color": "#FFFFFF"
          },
          "showarrow": false,
          "text": "0",
          "x": "Eurasian Curlew",
          "xref": "x",
          "y": "Meadow Pipit",
          "yref": "y"
         },
         {
          "font": {
           "color": "#FFFFFF"
          },
          "showarrow": false,
          "text": "0",
          "x": "European Herring Gull",
          "xref": "x",
          "y": "Meadow Pipit",
          "yref": "y"
         },
         {
          "font": {
           "color": "#FFFFFF"
          },
          "showarrow": false,
          "text": "3",
          "x": "European Robin",
          "xref": "x",
          "y": "Meadow Pipit",
          "yref": "y"
         },
         {
          "font": {
           "color": "#FFFFFF"
          },
          "showarrow": false,
          "text": "17",
          "x": "Meadow Pipit",
          "xref": "x",
          "y": "Meadow Pipit",
          "yref": "y"
         },
         {
          "font": {
           "color": "#FFFFFF"
          },
          "showarrow": false,
          "text": "0",
          "x": "Mute Swan",
          "xref": "x",
          "y": "Meadow Pipit",
          "yref": "y"
         },
         {
          "font": {
           "color": "#FFFFFF"
          },
          "showarrow": false,
          "text": "0",
          "x": "Northern Lapwing",
          "xref": "x",
          "y": "Meadow Pipit",
          "yref": "y"
         },
         {
          "font": {
           "color": "#FFFFFF"
          },
          "showarrow": false,
          "text": "0",
          "x": "Rook",
          "xref": "x",
          "y": "Meadow Pipit",
          "yref": "y"
         },
         {
          "font": {
           "color": "#FFFFFF"
          },
          "showarrow": false,
          "text": "0",
          "x": "Tundra Swan",
          "xref": "x",
          "y": "Meadow Pipit",
          "yref": "y"
         },
         {
          "font": {
           "color": "#FFFFFF"
          },
          "showarrow": false,
          "text": "0",
          "x": "Tundra Swan (Bewicks)",
          "xref": "x",
          "y": "Meadow Pipit",
          "yref": "y"
         },
         {
          "font": {
           "color": "#FFFFFF"
          },
          "showarrow": false,
          "text": "2",
          "x": "Common Buzzard",
          "xref": "x",
          "y": "Mute Swan",
          "yref": "y"
         },
         {
          "font": {
           "color": "#FFFFFF"
          },
          "showarrow": false,
          "text": "0",
          "x": "Common Kestrel",
          "xref": "x",
          "y": "Mute Swan",
          "yref": "y"
         },
         {
          "font": {
           "color": "#FFFFFF"
          },
          "showarrow": false,
          "text": "2",
          "x": "Common Snipe",
          "xref": "x",
          "y": "Mute Swan",
          "yref": "y"
         },
         {
          "font": {
           "color": "#FFFFFF"
          },
          "showarrow": false,
          "text": "0",
          "x": "Eurasian Curlew",
          "xref": "x",
          "y": "Mute Swan",
          "yref": "y"
         },
         {
          "font": {
           "color": "#FFFFFF"
          },
          "showarrow": false,
          "text": "2",
          "x": "European Herring Gull",
          "xref": "x",
          "y": "Mute Swan",
          "yref": "y"
         },
         {
          "font": {
           "color": "#FFFFFF"
          },
          "showarrow": false,
          "text": "0",
          "x": "European Robin",
          "xref": "x",
          "y": "Mute Swan",
          "yref": "y"
         },
         {
          "font": {
           "color": "#FFFFFF"
          },
          "showarrow": false,
          "text": "1",
          "x": "Meadow Pipit",
          "xref": "x",
          "y": "Mute Swan",
          "yref": "y"
         },
         {
          "font": {
           "color": "#FFFFFF"
          },
          "showarrow": false,
          "text": "36",
          "x": "Mute Swan",
          "xref": "x",
          "y": "Mute Swan",
          "yref": "y"
         },
         {
          "font": {
           "color": "#FFFFFF"
          },
          "showarrow": false,
          "text": "0",
          "x": "Northern Lapwing",
          "xref": "x",
          "y": "Mute Swan",
          "yref": "y"
         },
         {
          "font": {
           "color": "#FFFFFF"
          },
          "showarrow": false,
          "text": "5",
          "x": "Rook",
          "xref": "x",
          "y": "Mute Swan",
          "yref": "y"
         },
         {
          "font": {
           "color": "#FFFFFF"
          },
          "showarrow": false,
          "text": "2",
          "x": "Tundra Swan",
          "xref": "x",
          "y": "Mute Swan",
          "yref": "y"
         },
         {
          "font": {
           "color": "#FFFFFF"
          },
          "showarrow": false,
          "text": "1",
          "x": "Tundra Swan (Bewicks)",
          "xref": "x",
          "y": "Mute Swan",
          "yref": "y"
         },
         {
          "font": {
           "color": "#FFFFFF"
          },
          "showarrow": false,
          "text": "1",
          "x": "Common Buzzard",
          "xref": "x",
          "y": "Northern Lapwing",
          "yref": "y"
         },
         {
          "font": {
           "color": "#FFFFFF"
          },
          "showarrow": false,
          "text": "2",
          "x": "Common Kestrel",
          "xref": "x",
          "y": "Northern Lapwing",
          "yref": "y"
         },
         {
          "font": {
           "color": "#FFFFFF"
          },
          "showarrow": false,
          "text": "5",
          "x": "Common Snipe",
          "xref": "x",
          "y": "Northern Lapwing",
          "yref": "y"
         },
         {
          "font": {
           "color": "#FFFFFF"
          },
          "showarrow": false,
          "text": "6",
          "x": "Eurasian Curlew",
          "xref": "x",
          "y": "Northern Lapwing",
          "yref": "y"
         },
         {
          "font": {
           "color": "#FFFFFF"
          },
          "showarrow": false,
          "text": "3",
          "x": "European Herring Gull",
          "xref": "x",
          "y": "Northern Lapwing",
          "yref": "y"
         },
         {
          "font": {
           "color": "#FFFFFF"
          },
          "showarrow": false,
          "text": "1",
          "x": "European Robin",
          "xref": "x",
          "y": "Northern Lapwing",
          "yref": "y"
         },
         {
          "font": {
           "color": "#FFFFFF"
          },
          "showarrow": false,
          "text": "0",
          "x": "Meadow Pipit",
          "xref": "x",
          "y": "Northern Lapwing",
          "yref": "y"
         },
         {
          "font": {
           "color": "#FFFFFF"
          },
          "showarrow": false,
          "text": "0",
          "x": "Mute Swan",
          "xref": "x",
          "y": "Northern Lapwing",
          "yref": "y"
         },
         {
          "font": {
           "color": "#FFFFFF"
          },
          "showarrow": false,
          "text": "13",
          "x": "Northern Lapwing",
          "xref": "x",
          "y": "Northern Lapwing",
          "yref": "y"
         },
         {
          "font": {
           "color": "#FFFFFF"
          },
          "showarrow": false,
          "text": "0",
          "x": "Rook",
          "xref": "x",
          "y": "Northern Lapwing",
          "yref": "y"
         },
         {
          "font": {
           "color": "#FFFFFF"
          },
          "showarrow": false,
          "text": "1",
          "x": "Tundra Swan",
          "xref": "x",
          "y": "Northern Lapwing",
          "yref": "y"
         },
         {
          "font": {
           "color": "#FFFFFF"
          },
          "showarrow": false,
          "text": "0",
          "x": "Tundra Swan (Bewicks)",
          "xref": "x",
          "y": "Northern Lapwing",
          "yref": "y"
         },
         {
          "font": {
           "color": "#FFFFFF"
          },
          "showarrow": false,
          "text": "2",
          "x": "Common Buzzard",
          "xref": "x",
          "y": "Rook",
          "yref": "y"
         },
         {
          "font": {
           "color": "#FFFFFF"
          },
          "showarrow": false,
          "text": "0",
          "x": "Common Kestrel",
          "xref": "x",
          "y": "Rook",
          "yref": "y"
         },
         {
          "font": {
           "color": "#FFFFFF"
          },
          "showarrow": false,
          "text": "0",
          "x": "Common Snipe",
          "xref": "x",
          "y": "Rook",
          "yref": "y"
         },
         {
          "font": {
           "color": "#FFFFFF"
          },
          "showarrow": false,
          "text": "0",
          "x": "Eurasian Curlew",
          "xref": "x",
          "y": "Rook",
          "yref": "y"
         },
         {
          "font": {
           "color": "#FFFFFF"
          },
          "showarrow": false,
          "text": "0",
          "x": "European Herring Gull",
          "xref": "x",
          "y": "Rook",
          "yref": "y"
         },
         {
          "font": {
           "color": "#FFFFFF"
          },
          "showarrow": false,
          "text": "1",
          "x": "European Robin",
          "xref": "x",
          "y": "Rook",
          "yref": "y"
         },
         {
          "font": {
           "color": "#FFFFFF"
          },
          "showarrow": false,
          "text": "0",
          "x": "Meadow Pipit",
          "xref": "x",
          "y": "Rook",
          "yref": "y"
         },
         {
          "font": {
           "color": "#FFFFFF"
          },
          "showarrow": false,
          "text": "4",
          "x": "Mute Swan",
          "xref": "x",
          "y": "Rook",
          "yref": "y"
         },
         {
          "font": {
           "color": "#FFFFFF"
          },
          "showarrow": false,
          "text": "0",
          "x": "Northern Lapwing",
          "xref": "x",
          "y": "Rook",
          "yref": "y"
         },
         {
          "font": {
           "color": "#000000"
          },
          "showarrow": false,
          "text": "85",
          "x": "Rook",
          "xref": "x",
          "y": "Rook",
          "yref": "y"
         },
         {
          "font": {
           "color": "#FFFFFF"
          },
          "showarrow": false,
          "text": "1",
          "x": "Tundra Swan",
          "xref": "x",
          "y": "Rook",
          "yref": "y"
         },
         {
          "font": {
           "color": "#FFFFFF"
          },
          "showarrow": false,
          "text": "0",
          "x": "Tundra Swan (Bewicks)",
          "xref": "x",
          "y": "Rook",
          "yref": "y"
         },
         {
          "font": {
           "color": "#FFFFFF"
          },
          "showarrow": false,
          "text": "0",
          "x": "Common Buzzard",
          "xref": "x",
          "y": "Tundra Swan",
          "yref": "y"
         },
         {
          "font": {
           "color": "#FFFFFF"
          },
          "showarrow": false,
          "text": "0",
          "x": "Common Kestrel",
          "xref": "x",
          "y": "Tundra Swan",
          "yref": "y"
         },
         {
          "font": {
           "color": "#FFFFFF"
          },
          "showarrow": false,
          "text": "3",
          "x": "Common Snipe",
          "xref": "x",
          "y": "Tundra Swan",
          "yref": "y"
         },
         {
          "font": {
           "color": "#FFFFFF"
          },
          "showarrow": false,
          "text": "0",
          "x": "Eurasian Curlew",
          "xref": "x",
          "y": "Tundra Swan",
          "yref": "y"
         },
         {
          "font": {
           "color": "#FFFFFF"
          },
          "showarrow": false,
          "text": "0",
          "x": "European Herring Gull",
          "xref": "x",
          "y": "Tundra Swan",
          "yref": "y"
         },
         {
          "font": {
           "color": "#FFFFFF"
          },
          "showarrow": false,
          "text": "0",
          "x": "European Robin",
          "xref": "x",
          "y": "Tundra Swan",
          "yref": "y"
         },
         {
          "font": {
           "color": "#FFFFFF"
          },
          "showarrow": false,
          "text": "0",
          "x": "Meadow Pipit",
          "xref": "x",
          "y": "Tundra Swan",
          "yref": "y"
         },
         {
          "font": {
           "color": "#FFFFFF"
          },
          "showarrow": false,
          "text": "5",
          "x": "Mute Swan",
          "xref": "x",
          "y": "Tundra Swan",
          "yref": "y"
         },
         {
          "font": {
           "color": "#FFFFFF"
          },
          "showarrow": false,
          "text": "1",
          "x": "Northern Lapwing",
          "xref": "x",
          "y": "Tundra Swan",
          "yref": "y"
         },
         {
          "font": {
           "color": "#FFFFFF"
          },
          "showarrow": false,
          "text": "1",
          "x": "Rook",
          "xref": "x",
          "y": "Tundra Swan",
          "yref": "y"
         },
         {
          "font": {
           "color": "#FFFFFF"
          },
          "showarrow": false,
          "text": "20",
          "x": "Tundra Swan",
          "xref": "x",
          "y": "Tundra Swan",
          "yref": "y"
         },
         {
          "font": {
           "color": "#FFFFFF"
          },
          "showarrow": false,
          "text": "8",
          "x": "Tundra Swan (Bewicks)",
          "xref": "x",
          "y": "Tundra Swan",
          "yref": "y"
         },
         {
          "font": {
           "color": "#FFFFFF"
          },
          "showarrow": false,
          "text": "2",
          "x": "Common Buzzard",
          "xref": "x",
          "y": "Tundra Swan (Bewicks)",
          "yref": "y"
         },
         {
          "font": {
           "color": "#FFFFFF"
          },
          "showarrow": false,
          "text": "0",
          "x": "Common Kestrel",
          "xref": "x",
          "y": "Tundra Swan (Bewicks)",
          "yref": "y"
         },
         {
          "font": {
           "color": "#FFFFFF"
          },
          "showarrow": false,
          "text": "1",
          "x": "Common Snipe",
          "xref": "x",
          "y": "Tundra Swan (Bewicks)",
          "yref": "y"
         },
         {
          "font": {
           "color": "#FFFFFF"
          },
          "showarrow": false,
          "text": "0",
          "x": "Eurasian Curlew",
          "xref": "x",
          "y": "Tundra Swan (Bewicks)",
          "yref": "y"
         },
         {
          "font": {
           "color": "#FFFFFF"
          },
          "showarrow": false,
          "text": "3",
          "x": "European Herring Gull",
          "xref": "x",
          "y": "Tundra Swan (Bewicks)",
          "yref": "y"
         },
         {
          "font": {
           "color": "#FFFFFF"
          },
          "showarrow": false,
          "text": "0",
          "x": "European Robin",
          "xref": "x",
          "y": "Tundra Swan (Bewicks)",
          "yref": "y"
         },
         {
          "font": {
           "color": "#FFFFFF"
          },
          "showarrow": false,
          "text": "0",
          "x": "Meadow Pipit",
          "xref": "x",
          "y": "Tundra Swan (Bewicks)",
          "yref": "y"
         },
         {
          "font": {
           "color": "#FFFFFF"
          },
          "showarrow": false,
          "text": "5",
          "x": "Mute Swan",
          "xref": "x",
          "y": "Tundra Swan (Bewicks)",
          "yref": "y"
         },
         {
          "font": {
           "color": "#FFFFFF"
          },
          "showarrow": false,
          "text": "0",
          "x": "Northern Lapwing",
          "xref": "x",
          "y": "Tundra Swan (Bewicks)",
          "yref": "y"
         },
         {
          "font": {
           "color": "#FFFFFF"
          },
          "showarrow": false,
          "text": "0",
          "x": "Rook",
          "xref": "x",
          "y": "Tundra Swan (Bewicks)",
          "yref": "y"
         },
         {
          "font": {
           "color": "#FFFFFF"
          },
          "showarrow": false,
          "text": "5",
          "x": "Tundra Swan",
          "xref": "x",
          "y": "Tundra Swan (Bewicks)",
          "yref": "y"
         },
         {
          "font": {
           "color": "#FFFFFF"
          },
          "showarrow": false,
          "text": "11",
          "x": "Tundra Swan (Bewicks)",
          "xref": "x",
          "y": "Tundra Swan (Bewicks)",
          "yref": "y"
         },
         {
          "font": {
           "color": "black",
           "size": 14
          },
          "showarrow": false,
          "text": "Predicted value",
          "x": 0.5,
          "xref": "paper",
          "y": -0.15,
          "yref": "paper"
         },
         {
          "font": {
           "color": "black",
           "size": 14
          },
          "showarrow": false,
          "text": "Real value",
          "textangle": -90,
          "x": -0.26,
          "xref": "paper",
          "y": 0.5,
          "yref": "paper"
         }
        ],
        "margin": {
         "l": 200,
         "t": 50
        },
        "template": {
         "data": {
          "bar": [
           {
            "error_x": {
             "color": "#2a3f5f"
            },
            "error_y": {
             "color": "#2a3f5f"
            },
            "marker": {
             "line": {
              "color": "#E5ECF6",
              "width": 0.5
             },
             "pattern": {
              "fillmode": "overlay",
              "size": 10,
              "solidity": 0.2
             }
            },
            "type": "bar"
           }
          ],
          "barpolar": [
           {
            "marker": {
             "line": {
              "color": "#E5ECF6",
              "width": 0.5
             },
             "pattern": {
              "fillmode": "overlay",
              "size": 10,
              "solidity": 0.2
             }
            },
            "type": "barpolar"
           }
          ],
          "carpet": [
           {
            "aaxis": {
             "endlinecolor": "#2a3f5f",
             "gridcolor": "white",
             "linecolor": "white",
             "minorgridcolor": "white",
             "startlinecolor": "#2a3f5f"
            },
            "baxis": {
             "endlinecolor": "#2a3f5f",
             "gridcolor": "white",
             "linecolor": "white",
             "minorgridcolor": "white",
             "startlinecolor": "#2a3f5f"
            },
            "type": "carpet"
           }
          ],
          "choropleth": [
           {
            "colorbar": {
             "outlinewidth": 0,
             "ticks": ""
            },
            "type": "choropleth"
           }
          ],
          "contour": [
           {
            "colorbar": {
             "outlinewidth": 0,
             "ticks": ""
            },
            "colorscale": [
             [
              0,
              "#0d0887"
             ],
             [
              0.1111111111111111,
              "#46039f"
             ],
             [
              0.2222222222222222,
              "#7201a8"
             ],
             [
              0.3333333333333333,
              "#9c179e"
             ],
             [
              0.4444444444444444,
              "#bd3786"
             ],
             [
              0.5555555555555556,
              "#d8576b"
             ],
             [
              0.6666666666666666,
              "#ed7953"
             ],
             [
              0.7777777777777778,
              "#fb9f3a"
             ],
             [
              0.8888888888888888,
              "#fdca26"
             ],
             [
              1,
              "#f0f921"
             ]
            ],
            "type": "contour"
           }
          ],
          "contourcarpet": [
           {
            "colorbar": {
             "outlinewidth": 0,
             "ticks": ""
            },
            "type": "contourcarpet"
           }
          ],
          "heatmap": [
           {
            "colorbar": {
             "outlinewidth": 0,
             "ticks": ""
            },
            "colorscale": [
             [
              0,
              "#0d0887"
             ],
             [
              0.1111111111111111,
              "#46039f"
             ],
             [
              0.2222222222222222,
              "#7201a8"
             ],
             [
              0.3333333333333333,
              "#9c179e"
             ],
             [
              0.4444444444444444,
              "#bd3786"
             ],
             [
              0.5555555555555556,
              "#d8576b"
             ],
             [
              0.6666666666666666,
              "#ed7953"
             ],
             [
              0.7777777777777778,
              "#fb9f3a"
             ],
             [
              0.8888888888888888,
              "#fdca26"
             ],
             [
              1,
              "#f0f921"
             ]
            ],
            "type": "heatmap"
           }
          ],
          "heatmapgl": [
           {
            "colorbar": {
             "outlinewidth": 0,
             "ticks": ""
            },
            "colorscale": [
             [
              0,
              "#0d0887"
             ],
             [
              0.1111111111111111,
              "#46039f"
             ],
             [
              0.2222222222222222,
              "#7201a8"
             ],
             [
              0.3333333333333333,
              "#9c179e"
             ],
             [
              0.4444444444444444,
              "#bd3786"
             ],
             [
              0.5555555555555556,
              "#d8576b"
             ],
             [
              0.6666666666666666,
              "#ed7953"
             ],
             [
              0.7777777777777778,
              "#fb9f3a"
             ],
             [
              0.8888888888888888,
              "#fdca26"
             ],
             [
              1,
              "#f0f921"
             ]
            ],
            "type": "heatmapgl"
           }
          ],
          "histogram": [
           {
            "marker": {
             "pattern": {
              "fillmode": "overlay",
              "size": 10,
              "solidity": 0.2
             }
            },
            "type": "histogram"
           }
          ],
          "histogram2d": [
           {
            "colorbar": {
             "outlinewidth": 0,
             "ticks": ""
            },
            "colorscale": [
             [
              0,
              "#0d0887"
             ],
             [
              0.1111111111111111,
              "#46039f"
             ],
             [
              0.2222222222222222,
              "#7201a8"
             ],
             [
              0.3333333333333333,
              "#9c179e"
             ],
             [
              0.4444444444444444,
              "#bd3786"
             ],
             [
              0.5555555555555556,
              "#d8576b"
             ],
             [
              0.6666666666666666,
              "#ed7953"
             ],
             [
              0.7777777777777778,
              "#fb9f3a"
             ],
             [
              0.8888888888888888,
              "#fdca26"
             ],
             [
              1,
              "#f0f921"
             ]
            ],
            "type": "histogram2d"
           }
          ],
          "histogram2dcontour": [
           {
            "colorbar": {
             "outlinewidth": 0,
             "ticks": ""
            },
            "colorscale": [
             [
              0,
              "#0d0887"
             ],
             [
              0.1111111111111111,
              "#46039f"
             ],
             [
              0.2222222222222222,
              "#7201a8"
             ],
             [
              0.3333333333333333,
              "#9c179e"
             ],
             [
              0.4444444444444444,
              "#bd3786"
             ],
             [
              0.5555555555555556,
              "#d8576b"
             ],
             [
              0.6666666666666666,
              "#ed7953"
             ],
             [
              0.7777777777777778,
              "#fb9f3a"
             ],
             [
              0.8888888888888888,
              "#fdca26"
             ],
             [
              1,
              "#f0f921"
             ]
            ],
            "type": "histogram2dcontour"
           }
          ],
          "mesh3d": [
           {
            "colorbar": {
             "outlinewidth": 0,
             "ticks": ""
            },
            "type": "mesh3d"
           }
          ],
          "parcoords": [
           {
            "line": {
             "colorbar": {
              "outlinewidth": 0,
              "ticks": ""
             }
            },
            "type": "parcoords"
           }
          ],
          "pie": [
           {
            "automargin": true,
            "type": "pie"
           }
          ],
          "scatter": [
           {
            "marker": {
             "colorbar": {
              "outlinewidth": 0,
              "ticks": ""
             }
            },
            "type": "scatter"
           }
          ],
          "scatter3d": [
           {
            "line": {
             "colorbar": {
              "outlinewidth": 0,
              "ticks": ""
             }
            },
            "marker": {
             "colorbar": {
              "outlinewidth": 0,
              "ticks": ""
             }
            },
            "type": "scatter3d"
           }
          ],
          "scattercarpet": [
           {
            "marker": {
             "colorbar": {
              "outlinewidth": 0,
              "ticks": ""
             }
            },
            "type": "scattercarpet"
           }
          ],
          "scattergeo": [
           {
            "marker": {
             "colorbar": {
              "outlinewidth": 0,
              "ticks": ""
             }
            },
            "type": "scattergeo"
           }
          ],
          "scattergl": [
           {
            "marker": {
             "colorbar": {
              "outlinewidth": 0,
              "ticks": ""
             }
            },
            "type": "scattergl"
           }
          ],
          "scattermapbox": [
           {
            "marker": {
             "colorbar": {
              "outlinewidth": 0,
              "ticks": ""
             }
            },
            "type": "scattermapbox"
           }
          ],
          "scatterpolar": [
           {
            "marker": {
             "colorbar": {
              "outlinewidth": 0,
              "ticks": ""
             }
            },
            "type": "scatterpolar"
           }
          ],
          "scatterpolargl": [
           {
            "marker": {
             "colorbar": {
              "outlinewidth": 0,
              "ticks": ""
             }
            },
            "type": "scatterpolargl"
           }
          ],
          "scatterternary": [
           {
            "marker": {
             "colorbar": {
              "outlinewidth": 0,
              "ticks": ""
             }
            },
            "type": "scatterternary"
           }
          ],
          "surface": [
           {
            "colorbar": {
             "outlinewidth": 0,
             "ticks": ""
            },
            "colorscale": [
             [
              0,
              "#0d0887"
             ],
             [
              0.1111111111111111,
              "#46039f"
             ],
             [
              0.2222222222222222,
              "#7201a8"
             ],
             [
              0.3333333333333333,
              "#9c179e"
             ],
             [
              0.4444444444444444,
              "#bd3786"
             ],
             [
              0.5555555555555556,
              "#d8576b"
             ],
             [
              0.6666666666666666,
              "#ed7953"
             ],
             [
              0.7777777777777778,
              "#fb9f3a"
             ],
             [
              0.8888888888888888,
              "#fdca26"
             ],
             [
              1,
              "#f0f921"
             ]
            ],
            "type": "surface"
           }
          ],
          "table": [
           {
            "cells": {
             "fill": {
              "color": "#EBF0F8"
             },
             "line": {
              "color": "white"
             }
            },
            "header": {
             "fill": {
              "color": "#C8D4E3"
             },
             "line": {
              "color": "white"
             }
            },
            "type": "table"
           }
          ]
         },
         "layout": {
          "annotationdefaults": {
           "arrowcolor": "#2a3f5f",
           "arrowhead": 0,
           "arrowwidth": 1
          },
          "autotypenumbers": "strict",
          "coloraxis": {
           "colorbar": {
            "outlinewidth": 0,
            "ticks": ""
           }
          },
          "colorscale": {
           "diverging": [
            [
             0,
             "#8e0152"
            ],
            [
             0.1,
             "#c51b7d"
            ],
            [
             0.2,
             "#de77ae"
            ],
            [
             0.3,
             "#f1b6da"
            ],
            [
             0.4,
             "#fde0ef"
            ],
            [
             0.5,
             "#f7f7f7"
            ],
            [
             0.6,
             "#e6f5d0"
            ],
            [
             0.7,
             "#b8e186"
            ],
            [
             0.8,
             "#7fbc41"
            ],
            [
             0.9,
             "#4d9221"
            ],
            [
             1,
             "#276419"
            ]
           ],
           "sequential": [
            [
             0,
             "#0d0887"
            ],
            [
             0.1111111111111111,
             "#46039f"
            ],
            [
             0.2222222222222222,
             "#7201a8"
            ],
            [
             0.3333333333333333,
             "#9c179e"
            ],
            [
             0.4444444444444444,
             "#bd3786"
            ],
            [
             0.5555555555555556,
             "#d8576b"
            ],
            [
             0.6666666666666666,
             "#ed7953"
            ],
            [
             0.7777777777777778,
             "#fb9f3a"
            ],
            [
             0.8888888888888888,
             "#fdca26"
            ],
            [
             1,
             "#f0f921"
            ]
           ],
           "sequentialminus": [
            [
             0,
             "#0d0887"
            ],
            [
             0.1111111111111111,
             "#46039f"
            ],
            [
             0.2222222222222222,
             "#7201a8"
            ],
            [
             0.3333333333333333,
             "#9c179e"
            ],
            [
             0.4444444444444444,
             "#bd3786"
            ],
            [
             0.5555555555555556,
             "#d8576b"
            ],
            [
             0.6666666666666666,
             "#ed7953"
            ],
            [
             0.7777777777777778,
             "#fb9f3a"
            ],
            [
             0.8888888888888888,
             "#fdca26"
            ],
            [
             1,
             "#f0f921"
            ]
           ]
          },
          "colorway": [
           "#636efa",
           "#EF553B",
           "#00cc96",
           "#ab63fa",
           "#FFA15A",
           "#19d3f3",
           "#FF6692",
           "#B6E880",
           "#FF97FF",
           "#FECB52"
          ],
          "font": {
           "color": "#2a3f5f"
          },
          "geo": {
           "bgcolor": "white",
           "lakecolor": "white",
           "landcolor": "#E5ECF6",
           "showlakes": true,
           "showland": true,
           "subunitcolor": "white"
          },
          "hoverlabel": {
           "align": "left"
          },
          "hovermode": "closest",
          "mapbox": {
           "style": "light"
          },
          "paper_bgcolor": "white",
          "plot_bgcolor": "#E5ECF6",
          "polar": {
           "angularaxis": {
            "gridcolor": "white",
            "linecolor": "white",
            "ticks": ""
           },
           "bgcolor": "#E5ECF6",
           "radialaxis": {
            "gridcolor": "white",
            "linecolor": "white",
            "ticks": ""
           }
          },
          "scene": {
           "xaxis": {
            "backgroundcolor": "#E5ECF6",
            "gridcolor": "white",
            "gridwidth": 2,
            "linecolor": "white",
            "showbackground": true,
            "ticks": "",
            "zerolinecolor": "white"
           },
           "yaxis": {
            "backgroundcolor": "#E5ECF6",
            "gridcolor": "white",
            "gridwidth": 2,
            "linecolor": "white",
            "showbackground": true,
            "ticks": "",
            "zerolinecolor": "white"
           },
           "zaxis": {
            "backgroundcolor": "#E5ECF6",
            "gridcolor": "white",
            "gridwidth": 2,
            "linecolor": "white",
            "showbackground": true,
            "ticks": "",
            "zerolinecolor": "white"
           }
          },
          "shapedefaults": {
           "line": {
            "color": "#2a3f5f"
           }
          },
          "ternary": {
           "aaxis": {
            "gridcolor": "white",
            "linecolor": "white",
            "ticks": ""
           },
           "baxis": {
            "gridcolor": "white",
            "linecolor": "white",
            "ticks": ""
           },
           "bgcolor": "#E5ECF6",
           "caxis": {
            "gridcolor": "white",
            "linecolor": "white",
            "ticks": ""
           }
          },
          "title": {
           "x": 0.05
          },
          "xaxis": {
           "automargin": true,
           "gridcolor": "white",
           "linecolor": "white",
           "ticks": "",
           "title": {
            "standoff": 15
           },
           "zerolinecolor": "white",
           "zerolinewidth": 2
          },
          "yaxis": {
           "automargin": true,
           "gridcolor": "white",
           "linecolor": "white",
           "ticks": "",
           "title": {
            "standoff": 15
           },
           "zerolinecolor": "white",
           "zerolinewidth": 2
          }
         }
        },
        "title": {
         "text": "<i><b>Confusion<br>matrix</b></i>",
         "x": 0
        },
        "xaxis": {
         "dtick": 1,
         "gridcolor": "rgb(0, 0, 0)",
         "side": "top",
         "ticks": ""
        },
        "yaxis": {
         "autorange": "reversed",
         "dtick": 1,
         "ticks": "",
         "ticksuffix": "  "
        }
       }
      },
      "text/html": [
       "<div>                            <div id=\"76d4cb38-851b-4e02-8e66-79995d99b6d7\" class=\"plotly-graph-div\" style=\"height:525px; width:100%;\"></div>            <script type=\"text/javascript\">                require([\"plotly\"], function(Plotly) {                    window.PLOTLYENV=window.PLOTLYENV || {};                                    if (document.getElementById(\"76d4cb38-851b-4e02-8e66-79995d99b6d7\")) {                    Plotly.newPlot(                        \"76d4cb38-851b-4e02-8e66-79995d99b6d7\",                        [{\"colorscale\":[[0.0,\"#440154\"],[0.1111111111111111,\"#482878\"],[0.2222222222222222,\"#3e4989\"],[0.3333333333333333,\"#31688e\"],[0.4444444444444444,\"#26828e\"],[0.5555555555555556,\"#1f9e89\"],[0.6666666666666666,\"#35b779\"],[0.7777777777777778,\"#6ece58\"],[0.8888888888888888,\"#b5de2b\"],[1.0,\"#fde725\"]],\"reversescale\":false,\"showscale\":true,\"type\":\"heatmap\",\"x\":[\"Common Buzzard\",\"Common Kestrel\",\"Common Snipe\",\"Eurasian Curlew\",\"European Herring Gull\",\"European Robin\",\"Meadow Pipit\",\"Mute Swan\",\"Northern Lapwing\",\"Rook\",\"Tundra Swan\",\"Tundra Swan (Bewicks)\"],\"y\":[\"Common Buzzard\",\"Common Kestrel\",\"Common Snipe\",\"Eurasian Curlew\",\"European Herring Gull\",\"European Robin\",\"Meadow Pipit\",\"Mute Swan\",\"Northern Lapwing\",\"Rook\",\"Tundra Swan\",\"Tundra Swan (Bewicks)\"],\"z\":[[57,0,1,6,0,1,0,1,1,2,0,0],[7,33,1,0,1,2,1,0,0,0,2,0],[0,1,24,5,2,0,0,3,1,1,2,0],[6,0,2,32,1,0,0,0,1,4,0,0],[3,4,4,0,20,1,0,0,0,5,0,1],[0,3,1,0,0,60,0,0,0,0,0,0],[4,0,0,0,0,3,17,0,0,0,0,0],[2,0,2,0,2,0,1,36,0,5,2,1],[1,2,5,6,3,1,0,0,13,0,1,0],[2,0,0,0,0,1,0,4,0,85,1,0],[0,0,3,0,0,0,0,5,1,1,20,8],[2,0,1,0,3,0,0,5,0,0,5,11]]}],                        {\"annotations\":[{\"font\":{\"color\":\"#000000\"},\"showarrow\":false,\"text\":\"57\",\"x\":\"Common Buzzard\",\"xref\":\"x\",\"y\":\"Common Buzzard\",\"yref\":\"y\"},{\"font\":{\"color\":\"#FFFFFF\"},\"showarrow\":false,\"text\":\"0\",\"x\":\"Common Kestrel\",\"xref\":\"x\",\"y\":\"Common Buzzard\",\"yref\":\"y\"},{\"font\":{\"color\":\"#FFFFFF\"},\"showarrow\":false,\"text\":\"1\",\"x\":\"Common Snipe\",\"xref\":\"x\",\"y\":\"Common Buzzard\",\"yref\":\"y\"},{\"font\":{\"color\":\"#FFFFFF\"},\"showarrow\":false,\"text\":\"6\",\"x\":\"Eurasian Curlew\",\"xref\":\"x\",\"y\":\"Common Buzzard\",\"yref\":\"y\"},{\"font\":{\"color\":\"#FFFFFF\"},\"showarrow\":false,\"text\":\"0\",\"x\":\"European Herring Gull\",\"xref\":\"x\",\"y\":\"Common Buzzard\",\"yref\":\"y\"},{\"font\":{\"color\":\"#FFFFFF\"},\"showarrow\":false,\"text\":\"1\",\"x\":\"European Robin\",\"xref\":\"x\",\"y\":\"Common Buzzard\",\"yref\":\"y\"},{\"font\":{\"color\":\"#FFFFFF\"},\"showarrow\":false,\"text\":\"0\",\"x\":\"Meadow Pipit\",\"xref\":\"x\",\"y\":\"Common Buzzard\",\"yref\":\"y\"},{\"font\":{\"color\":\"#FFFFFF\"},\"showarrow\":false,\"text\":\"1\",\"x\":\"Mute Swan\",\"xref\":\"x\",\"y\":\"Common Buzzard\",\"yref\":\"y\"},{\"font\":{\"color\":\"#FFFFFF\"},\"showarrow\":false,\"text\":\"1\",\"x\":\"Northern Lapwing\",\"xref\":\"x\",\"y\":\"Common Buzzard\",\"yref\":\"y\"},{\"font\":{\"color\":\"#FFFFFF\"},\"showarrow\":false,\"text\":\"2\",\"x\":\"Rook\",\"xref\":\"x\",\"y\":\"Common Buzzard\",\"yref\":\"y\"},{\"font\":{\"color\":\"#FFFFFF\"},\"showarrow\":false,\"text\":\"0\",\"x\":\"Tundra Swan\",\"xref\":\"x\",\"y\":\"Common Buzzard\",\"yref\":\"y\"},{\"font\":{\"color\":\"#FFFFFF\"},\"showarrow\":false,\"text\":\"0\",\"x\":\"Tundra Swan (Bewicks)\",\"xref\":\"x\",\"y\":\"Common Buzzard\",\"yref\":\"y\"},{\"font\":{\"color\":\"#FFFFFF\"},\"showarrow\":false,\"text\":\"7\",\"x\":\"Common Buzzard\",\"xref\":\"x\",\"y\":\"Common Kestrel\",\"yref\":\"y\"},{\"font\":{\"color\":\"#FFFFFF\"},\"showarrow\":false,\"text\":\"33\",\"x\":\"Common Kestrel\",\"xref\":\"x\",\"y\":\"Common Kestrel\",\"yref\":\"y\"},{\"font\":{\"color\":\"#FFFFFF\"},\"showarrow\":false,\"text\":\"1\",\"x\":\"Common Snipe\",\"xref\":\"x\",\"y\":\"Common Kestrel\",\"yref\":\"y\"},{\"font\":{\"color\":\"#FFFFFF\"},\"showarrow\":false,\"text\":\"0\",\"x\":\"Eurasian Curlew\",\"xref\":\"x\",\"y\":\"Common Kestrel\",\"yref\":\"y\"},{\"font\":{\"color\":\"#FFFFFF\"},\"showarrow\":false,\"text\":\"1\",\"x\":\"European Herring Gull\",\"xref\":\"x\",\"y\":\"Common Kestrel\",\"yref\":\"y\"},{\"font\":{\"color\":\"#FFFFFF\"},\"showarrow\":false,\"text\":\"2\",\"x\":\"European Robin\",\"xref\":\"x\",\"y\":\"Common Kestrel\",\"yref\":\"y\"},{\"font\":{\"color\":\"#FFFFFF\"},\"showarrow\":false,\"text\":\"1\",\"x\":\"Meadow Pipit\",\"xref\":\"x\",\"y\":\"Common Kestrel\",\"yref\":\"y\"},{\"font\":{\"color\":\"#FFFFFF\"},\"showarrow\":false,\"text\":\"0\",\"x\":\"Mute Swan\",\"xref\":\"x\",\"y\":\"Common Kestrel\",\"yref\":\"y\"},{\"font\":{\"color\":\"#FFFFFF\"},\"showarrow\":false,\"text\":\"0\",\"x\":\"Northern Lapwing\",\"xref\":\"x\",\"y\":\"Common Kestrel\",\"yref\":\"y\"},{\"font\":{\"color\":\"#FFFFFF\"},\"showarrow\":false,\"text\":\"0\",\"x\":\"Rook\",\"xref\":\"x\",\"y\":\"Common Kestrel\",\"yref\":\"y\"},{\"font\":{\"color\":\"#FFFFFF\"},\"showarrow\":false,\"text\":\"2\",\"x\":\"Tundra Swan\",\"xref\":\"x\",\"y\":\"Common Kestrel\",\"yref\":\"y\"},{\"font\":{\"color\":\"#FFFFFF\"},\"showarrow\":false,\"text\":\"0\",\"x\":\"Tundra Swan (Bewicks)\",\"xref\":\"x\",\"y\":\"Common Kestrel\",\"yref\":\"y\"},{\"font\":{\"color\":\"#FFFFFF\"},\"showarrow\":false,\"text\":\"0\",\"x\":\"Common Buzzard\",\"xref\":\"x\",\"y\":\"Common Snipe\",\"yref\":\"y\"},{\"font\":{\"color\":\"#FFFFFF\"},\"showarrow\":false,\"text\":\"1\",\"x\":\"Common Kestrel\",\"xref\":\"x\",\"y\":\"Common Snipe\",\"yref\":\"y\"},{\"font\":{\"color\":\"#FFFFFF\"},\"showarrow\":false,\"text\":\"24\",\"x\":\"Common Snipe\",\"xref\":\"x\",\"y\":\"Common Snipe\",\"yref\":\"y\"},{\"font\":{\"color\":\"#FFFFFF\"},\"showarrow\":false,\"text\":\"5\",\"x\":\"Eurasian Curlew\",\"xref\":\"x\",\"y\":\"Common Snipe\",\"yref\":\"y\"},{\"font\":{\"color\":\"#FFFFFF\"},\"showarrow\":false,\"text\":\"2\",\"x\":\"European Herring Gull\",\"xref\":\"x\",\"y\":\"Common Snipe\",\"yref\":\"y\"},{\"font\":{\"color\":\"#FFFFFF\"},\"showarrow\":false,\"text\":\"0\",\"x\":\"European Robin\",\"xref\":\"x\",\"y\":\"Common Snipe\",\"yref\":\"y\"},{\"font\":{\"color\":\"#FFFFFF\"},\"showarrow\":false,\"text\":\"0\",\"x\":\"Meadow Pipit\",\"xref\":\"x\",\"y\":\"Common Snipe\",\"yref\":\"y\"},{\"font\":{\"color\":\"#FFFFFF\"},\"showarrow\":false,\"text\":\"3\",\"x\":\"Mute Swan\",\"xref\":\"x\",\"y\":\"Common Snipe\",\"yref\":\"y\"},{\"font\":{\"color\":\"#FFFFFF\"},\"showarrow\":false,\"text\":\"1\",\"x\":\"Northern Lapwing\",\"xref\":\"x\",\"y\":\"Common Snipe\",\"yref\":\"y\"},{\"font\":{\"color\":\"#FFFFFF\"},\"showarrow\":false,\"text\":\"1\",\"x\":\"Rook\",\"xref\":\"x\",\"y\":\"Common Snipe\",\"yref\":\"y\"},{\"font\":{\"color\":\"#FFFFFF\"},\"showarrow\":false,\"text\":\"2\",\"x\":\"Tundra Swan\",\"xref\":\"x\",\"y\":\"Common Snipe\",\"yref\":\"y\"},{\"font\":{\"color\":\"#FFFFFF\"},\"showarrow\":false,\"text\":\"0\",\"x\":\"Tundra Swan (Bewicks)\",\"xref\":\"x\",\"y\":\"Common Snipe\",\"yref\":\"y\"},{\"font\":{\"color\":\"#FFFFFF\"},\"showarrow\":false,\"text\":\"6\",\"x\":\"Common Buzzard\",\"xref\":\"x\",\"y\":\"Eurasian Curlew\",\"yref\":\"y\"},{\"font\":{\"color\":\"#FFFFFF\"},\"showarrow\":false,\"text\":\"0\",\"x\":\"Common Kestrel\",\"xref\":\"x\",\"y\":\"Eurasian Curlew\",\"yref\":\"y\"},{\"font\":{\"color\":\"#FFFFFF\"},\"showarrow\":false,\"text\":\"2\",\"x\":\"Common Snipe\",\"xref\":\"x\",\"y\":\"Eurasian Curlew\",\"yref\":\"y\"},{\"font\":{\"color\":\"#FFFFFF\"},\"showarrow\":false,\"text\":\"32\",\"x\":\"Eurasian Curlew\",\"xref\":\"x\",\"y\":\"Eurasian Curlew\",\"yref\":\"y\"},{\"font\":{\"color\":\"#FFFFFF\"},\"showarrow\":false,\"text\":\"1\",\"x\":\"European Herring Gull\",\"xref\":\"x\",\"y\":\"Eurasian Curlew\",\"yref\":\"y\"},{\"font\":{\"color\":\"#FFFFFF\"},\"showarrow\":false,\"text\":\"0\",\"x\":\"European Robin\",\"xref\":\"x\",\"y\":\"Eurasian Curlew\",\"yref\":\"y\"},{\"font\":{\"color\":\"#FFFFFF\"},\"showarrow\":false,\"text\":\"0\",\"x\":\"Meadow Pipit\",\"xref\":\"x\",\"y\":\"Eurasian Curlew\",\"yref\":\"y\"},{\"font\":{\"color\":\"#FFFFFF\"},\"showarrow\":false,\"text\":\"0\",\"x\":\"Mute Swan\",\"xref\":\"x\",\"y\":\"Eurasian Curlew\",\"yref\":\"y\"},{\"font\":{\"color\":\"#FFFFFF\"},\"showarrow\":false,\"text\":\"1\",\"x\":\"Northern Lapwing\",\"xref\":\"x\",\"y\":\"Eurasian Curlew\",\"yref\":\"y\"},{\"font\":{\"color\":\"#FFFFFF\"},\"showarrow\":false,\"text\":\"4\",\"x\":\"Rook\",\"xref\":\"x\",\"y\":\"Eurasian Curlew\",\"yref\":\"y\"},{\"font\":{\"color\":\"#FFFFFF\"},\"showarrow\":false,\"text\":\"0\",\"x\":\"Tundra Swan\",\"xref\":\"x\",\"y\":\"Eurasian Curlew\",\"yref\":\"y\"},{\"font\":{\"color\":\"#FFFFFF\"},\"showarrow\":false,\"text\":\"0\",\"x\":\"Tundra Swan (Bewicks)\",\"xref\":\"x\",\"y\":\"Eurasian Curlew\",\"yref\":\"y\"},{\"font\":{\"color\":\"#FFFFFF\"},\"showarrow\":false,\"text\":\"3\",\"x\":\"Common Buzzard\",\"xref\":\"x\",\"y\":\"European Herring Gull\",\"yref\":\"y\"},{\"font\":{\"color\":\"#FFFFFF\"},\"showarrow\":false,\"text\":\"4\",\"x\":\"Common Kestrel\",\"xref\":\"x\",\"y\":\"European Herring Gull\",\"yref\":\"y\"},{\"font\":{\"color\":\"#FFFFFF\"},\"showarrow\":false,\"text\":\"4\",\"x\":\"Common Snipe\",\"xref\":\"x\",\"y\":\"European Herring Gull\",\"yref\":\"y\"},{\"font\":{\"color\":\"#FFFFFF\"},\"showarrow\":false,\"text\":\"0\",\"x\":\"Eurasian Curlew\",\"xref\":\"x\",\"y\":\"European Herring Gull\",\"yref\":\"y\"},{\"font\":{\"color\":\"#FFFFFF\"},\"showarrow\":false,\"text\":\"20\",\"x\":\"European Herring Gull\",\"xref\":\"x\",\"y\":\"European Herring Gull\",\"yref\":\"y\"},{\"font\":{\"color\":\"#FFFFFF\"},\"showarrow\":false,\"text\":\"1\",\"x\":\"European Robin\",\"xref\":\"x\",\"y\":\"European Herring Gull\",\"yref\":\"y\"},{\"font\":{\"color\":\"#FFFFFF\"},\"showarrow\":false,\"text\":\"0\",\"x\":\"Meadow Pipit\",\"xref\":\"x\",\"y\":\"European Herring Gull\",\"yref\":\"y\"},{\"font\":{\"color\":\"#FFFFFF\"},\"showarrow\":false,\"text\":\"0\",\"x\":\"Mute Swan\",\"xref\":\"x\",\"y\":\"European Herring Gull\",\"yref\":\"y\"},{\"font\":{\"color\":\"#FFFFFF\"},\"showarrow\":false,\"text\":\"0\",\"x\":\"Northern Lapwing\",\"xref\":\"x\",\"y\":\"European Herring Gull\",\"yref\":\"y\"},{\"font\":{\"color\":\"#FFFFFF\"},\"showarrow\":false,\"text\":\"5\",\"x\":\"Rook\",\"xref\":\"x\",\"y\":\"European Herring Gull\",\"yref\":\"y\"},{\"font\":{\"color\":\"#FFFFFF\"},\"showarrow\":false,\"text\":\"0\",\"x\":\"Tundra Swan\",\"xref\":\"x\",\"y\":\"European Herring Gull\",\"yref\":\"y\"},{\"font\":{\"color\":\"#FFFFFF\"},\"showarrow\":false,\"text\":\"1\",\"x\":\"Tundra Swan (Bewicks)\",\"xref\":\"x\",\"y\":\"European Herring Gull\",\"yref\":\"y\"},{\"font\":{\"color\":\"#FFFFFF\"},\"showarrow\":false,\"text\":\"0\",\"x\":\"Common Buzzard\",\"xref\":\"x\",\"y\":\"European Robin\",\"yref\":\"y\"},{\"font\":{\"color\":\"#FFFFFF\"},\"showarrow\":false,\"text\":\"3\",\"x\":\"Common Kestrel\",\"xref\":\"x\",\"y\":\"European Robin\",\"yref\":\"y\"},{\"font\":{\"color\":\"#FFFFFF\"},\"showarrow\":false,\"text\":\"1\",\"x\":\"Common Snipe\",\"xref\":\"x\",\"y\":\"European Robin\",\"yref\":\"y\"},{\"font\":{\"color\":\"#FFFFFF\"},\"showarrow\":false,\"text\":\"0\",\"x\":\"Eurasian Curlew\",\"xref\":\"x\",\"y\":\"European Robin\",\"yref\":\"y\"},{\"font\":{\"color\":\"#FFFFFF\"},\"showarrow\":false,\"text\":\"0\",\"x\":\"European Herring Gull\",\"xref\":\"x\",\"y\":\"European Robin\",\"yref\":\"y\"},{\"font\":{\"color\":\"#000000\"},\"showarrow\":false,\"text\":\"60\",\"x\":\"European Robin\",\"xref\":\"x\",\"y\":\"European Robin\",\"yref\":\"y\"},{\"font\":{\"color\":\"#FFFFFF\"},\"showarrow\":false,\"text\":\"0\",\"x\":\"Meadow Pipit\",\"xref\":\"x\",\"y\":\"European Robin\",\"yref\":\"y\"},{\"font\":{\"color\":\"#FFFFFF\"},\"showarrow\":false,\"text\":\"0\",\"x\":\"Mute Swan\",\"xref\":\"x\",\"y\":\"European Robin\",\"yref\":\"y\"},{\"font\":{\"color\":\"#FFFFFF\"},\"showarrow\":false,\"text\":\"0\",\"x\":\"Northern Lapwing\",\"xref\":\"x\",\"y\":\"European Robin\",\"yref\":\"y\"},{\"font\":{\"color\":\"#FFFFFF\"},\"showarrow\":false,\"text\":\"0\",\"x\":\"Rook\",\"xref\":\"x\",\"y\":\"European Robin\",\"yref\":\"y\"},{\"font\":{\"color\":\"#FFFFFF\"},\"showarrow\":false,\"text\":\"0\",\"x\":\"Tundra Swan\",\"xref\":\"x\",\"y\":\"European Robin\",\"yref\":\"y\"},{\"font\":{\"color\":\"#FFFFFF\"},\"showarrow\":false,\"text\":\"0\",\"x\":\"Tundra Swan (Bewicks)\",\"xref\":\"x\",\"y\":\"European Robin\",\"yref\":\"y\"},{\"font\":{\"color\":\"#FFFFFF\"},\"showarrow\":false,\"text\":\"4\",\"x\":\"Common Buzzard\",\"xref\":\"x\",\"y\":\"Meadow Pipit\",\"yref\":\"y\"},{\"font\":{\"color\":\"#FFFFFF\"},\"showarrow\":false,\"text\":\"0\",\"x\":\"Common Kestrel\",\"xref\":\"x\",\"y\":\"Meadow Pipit\",\"yref\":\"y\"},{\"font\":{\"color\":\"#FFFFFF\"},\"showarrow\":false,\"text\":\"0\",\"x\":\"Common Snipe\",\"xref\":\"x\",\"y\":\"Meadow Pipit\",\"yref\":\"y\"},{\"font\":{\"color\":\"#FFFFFF\"},\"showarrow\":false,\"text\":\"0\",\"x\":\"Eurasian Curlew\",\"xref\":\"x\",\"y\":\"Meadow Pipit\",\"yref\":\"y\"},{\"font\":{\"color\":\"#FFFFFF\"},\"showarrow\":false,\"text\":\"0\",\"x\":\"European Herring Gull\",\"xref\":\"x\",\"y\":\"Meadow Pipit\",\"yref\":\"y\"},{\"font\":{\"color\":\"#FFFFFF\"},\"showarrow\":false,\"text\":\"3\",\"x\":\"European Robin\",\"xref\":\"x\",\"y\":\"Meadow Pipit\",\"yref\":\"y\"},{\"font\":{\"color\":\"#FFFFFF\"},\"showarrow\":false,\"text\":\"17\",\"x\":\"Meadow Pipit\",\"xref\":\"x\",\"y\":\"Meadow Pipit\",\"yref\":\"y\"},{\"font\":{\"color\":\"#FFFFFF\"},\"showarrow\":false,\"text\":\"0\",\"x\":\"Mute Swan\",\"xref\":\"x\",\"y\":\"Meadow Pipit\",\"yref\":\"y\"},{\"font\":{\"color\":\"#FFFFFF\"},\"showarrow\":false,\"text\":\"0\",\"x\":\"Northern Lapwing\",\"xref\":\"x\",\"y\":\"Meadow Pipit\",\"yref\":\"y\"},{\"font\":{\"color\":\"#FFFFFF\"},\"showarrow\":false,\"text\":\"0\",\"x\":\"Rook\",\"xref\":\"x\",\"y\":\"Meadow Pipit\",\"yref\":\"y\"},{\"font\":{\"color\":\"#FFFFFF\"},\"showarrow\":false,\"text\":\"0\",\"x\":\"Tundra Swan\",\"xref\":\"x\",\"y\":\"Meadow Pipit\",\"yref\":\"y\"},{\"font\":{\"color\":\"#FFFFFF\"},\"showarrow\":false,\"text\":\"0\",\"x\":\"Tundra Swan (Bewicks)\",\"xref\":\"x\",\"y\":\"Meadow Pipit\",\"yref\":\"y\"},{\"font\":{\"color\":\"#FFFFFF\"},\"showarrow\":false,\"text\":\"2\",\"x\":\"Common Buzzard\",\"xref\":\"x\",\"y\":\"Mute Swan\",\"yref\":\"y\"},{\"font\":{\"color\":\"#FFFFFF\"},\"showarrow\":false,\"text\":\"0\",\"x\":\"Common Kestrel\",\"xref\":\"x\",\"y\":\"Mute Swan\",\"yref\":\"y\"},{\"font\":{\"color\":\"#FFFFFF\"},\"showarrow\":false,\"text\":\"2\",\"x\":\"Common Snipe\",\"xref\":\"x\",\"y\":\"Mute Swan\",\"yref\":\"y\"},{\"font\":{\"color\":\"#FFFFFF\"},\"showarrow\":false,\"text\":\"0\",\"x\":\"Eurasian Curlew\",\"xref\":\"x\",\"y\":\"Mute Swan\",\"yref\":\"y\"},{\"font\":{\"color\":\"#FFFFFF\"},\"showarrow\":false,\"text\":\"2\",\"x\":\"European Herring Gull\",\"xref\":\"x\",\"y\":\"Mute Swan\",\"yref\":\"y\"},{\"font\":{\"color\":\"#FFFFFF\"},\"showarrow\":false,\"text\":\"0\",\"x\":\"European Robin\",\"xref\":\"x\",\"y\":\"Mute Swan\",\"yref\":\"y\"},{\"font\":{\"color\":\"#FFFFFF\"},\"showarrow\":false,\"text\":\"1\",\"x\":\"Meadow Pipit\",\"xref\":\"x\",\"y\":\"Mute Swan\",\"yref\":\"y\"},{\"font\":{\"color\":\"#FFFFFF\"},\"showarrow\":false,\"text\":\"36\",\"x\":\"Mute Swan\",\"xref\":\"x\",\"y\":\"Mute Swan\",\"yref\":\"y\"},{\"font\":{\"color\":\"#FFFFFF\"},\"showarrow\":false,\"text\":\"0\",\"x\":\"Northern Lapwing\",\"xref\":\"x\",\"y\":\"Mute Swan\",\"yref\":\"y\"},{\"font\":{\"color\":\"#FFFFFF\"},\"showarrow\":false,\"text\":\"5\",\"x\":\"Rook\",\"xref\":\"x\",\"y\":\"Mute Swan\",\"yref\":\"y\"},{\"font\":{\"color\":\"#FFFFFF\"},\"showarrow\":false,\"text\":\"2\",\"x\":\"Tundra Swan\",\"xref\":\"x\",\"y\":\"Mute Swan\",\"yref\":\"y\"},{\"font\":{\"color\":\"#FFFFFF\"},\"showarrow\":false,\"text\":\"1\",\"x\":\"Tundra Swan (Bewicks)\",\"xref\":\"x\",\"y\":\"Mute Swan\",\"yref\":\"y\"},{\"font\":{\"color\":\"#FFFFFF\"},\"showarrow\":false,\"text\":\"1\",\"x\":\"Common Buzzard\",\"xref\":\"x\",\"y\":\"Northern Lapwing\",\"yref\":\"y\"},{\"font\":{\"color\":\"#FFFFFF\"},\"showarrow\":false,\"text\":\"2\",\"x\":\"Common Kestrel\",\"xref\":\"x\",\"y\":\"Northern Lapwing\",\"yref\":\"y\"},{\"font\":{\"color\":\"#FFFFFF\"},\"showarrow\":false,\"text\":\"5\",\"x\":\"Common Snipe\",\"xref\":\"x\",\"y\":\"Northern Lapwing\",\"yref\":\"y\"},{\"font\":{\"color\":\"#FFFFFF\"},\"showarrow\":false,\"text\":\"6\",\"x\":\"Eurasian Curlew\",\"xref\":\"x\",\"y\":\"Northern Lapwing\",\"yref\":\"y\"},{\"font\":{\"color\":\"#FFFFFF\"},\"showarrow\":false,\"text\":\"3\",\"x\":\"European Herring Gull\",\"xref\":\"x\",\"y\":\"Northern Lapwing\",\"yref\":\"y\"},{\"font\":{\"color\":\"#FFFFFF\"},\"showarrow\":false,\"text\":\"1\",\"x\":\"European Robin\",\"xref\":\"x\",\"y\":\"Northern Lapwing\",\"yref\":\"y\"},{\"font\":{\"color\":\"#FFFFFF\"},\"showarrow\":false,\"text\":\"0\",\"x\":\"Meadow Pipit\",\"xref\":\"x\",\"y\":\"Northern Lapwing\",\"yref\":\"y\"},{\"font\":{\"color\":\"#FFFFFF\"},\"showarrow\":false,\"text\":\"0\",\"x\":\"Mute Swan\",\"xref\":\"x\",\"y\":\"Northern Lapwing\",\"yref\":\"y\"},{\"font\":{\"color\":\"#FFFFFF\"},\"showarrow\":false,\"text\":\"13\",\"x\":\"Northern Lapwing\",\"xref\":\"x\",\"y\":\"Northern Lapwing\",\"yref\":\"y\"},{\"font\":{\"color\":\"#FFFFFF\"},\"showarrow\":false,\"text\":\"0\",\"x\":\"Rook\",\"xref\":\"x\",\"y\":\"Northern Lapwing\",\"yref\":\"y\"},{\"font\":{\"color\":\"#FFFFFF\"},\"showarrow\":false,\"text\":\"1\",\"x\":\"Tundra Swan\",\"xref\":\"x\",\"y\":\"Northern Lapwing\",\"yref\":\"y\"},{\"font\":{\"color\":\"#FFFFFF\"},\"showarrow\":false,\"text\":\"0\",\"x\":\"Tundra Swan (Bewicks)\",\"xref\":\"x\",\"y\":\"Northern Lapwing\",\"yref\":\"y\"},{\"font\":{\"color\":\"#FFFFFF\"},\"showarrow\":false,\"text\":\"2\",\"x\":\"Common Buzzard\",\"xref\":\"x\",\"y\":\"Rook\",\"yref\":\"y\"},{\"font\":{\"color\":\"#FFFFFF\"},\"showarrow\":false,\"text\":\"0\",\"x\":\"Common Kestrel\",\"xref\":\"x\",\"y\":\"Rook\",\"yref\":\"y\"},{\"font\":{\"color\":\"#FFFFFF\"},\"showarrow\":false,\"text\":\"0\",\"x\":\"Common Snipe\",\"xref\":\"x\",\"y\":\"Rook\",\"yref\":\"y\"},{\"font\":{\"color\":\"#FFFFFF\"},\"showarrow\":false,\"text\":\"0\",\"x\":\"Eurasian Curlew\",\"xref\":\"x\",\"y\":\"Rook\",\"yref\":\"y\"},{\"font\":{\"color\":\"#FFFFFF\"},\"showarrow\":false,\"text\":\"0\",\"x\":\"European Herring Gull\",\"xref\":\"x\",\"y\":\"Rook\",\"yref\":\"y\"},{\"font\":{\"color\":\"#FFFFFF\"},\"showarrow\":false,\"text\":\"1\",\"x\":\"European Robin\",\"xref\":\"x\",\"y\":\"Rook\",\"yref\":\"y\"},{\"font\":{\"color\":\"#FFFFFF\"},\"showarrow\":false,\"text\":\"0\",\"x\":\"Meadow Pipit\",\"xref\":\"x\",\"y\":\"Rook\",\"yref\":\"y\"},{\"font\":{\"color\":\"#FFFFFF\"},\"showarrow\":false,\"text\":\"4\",\"x\":\"Mute Swan\",\"xref\":\"x\",\"y\":\"Rook\",\"yref\":\"y\"},{\"font\":{\"color\":\"#FFFFFF\"},\"showarrow\":false,\"text\":\"0\",\"x\":\"Northern Lapwing\",\"xref\":\"x\",\"y\":\"Rook\",\"yref\":\"y\"},{\"font\":{\"color\":\"#000000\"},\"showarrow\":false,\"text\":\"85\",\"x\":\"Rook\",\"xref\":\"x\",\"y\":\"Rook\",\"yref\":\"y\"},{\"font\":{\"color\":\"#FFFFFF\"},\"showarrow\":false,\"text\":\"1\",\"x\":\"Tundra Swan\",\"xref\":\"x\",\"y\":\"Rook\",\"yref\":\"y\"},{\"font\":{\"color\":\"#FFFFFF\"},\"showarrow\":false,\"text\":\"0\",\"x\":\"Tundra Swan (Bewicks)\",\"xref\":\"x\",\"y\":\"Rook\",\"yref\":\"y\"},{\"font\":{\"color\":\"#FFFFFF\"},\"showarrow\":false,\"text\":\"0\",\"x\":\"Common Buzzard\",\"xref\":\"x\",\"y\":\"Tundra Swan\",\"yref\":\"y\"},{\"font\":{\"color\":\"#FFFFFF\"},\"showarrow\":false,\"text\":\"0\",\"x\":\"Common Kestrel\",\"xref\":\"x\",\"y\":\"Tundra Swan\",\"yref\":\"y\"},{\"font\":{\"color\":\"#FFFFFF\"},\"showarrow\":false,\"text\":\"3\",\"x\":\"Common Snipe\",\"xref\":\"x\",\"y\":\"Tundra Swan\",\"yref\":\"y\"},{\"font\":{\"color\":\"#FFFFFF\"},\"showarrow\":false,\"text\":\"0\",\"x\":\"Eurasian Curlew\",\"xref\":\"x\",\"y\":\"Tundra Swan\",\"yref\":\"y\"},{\"font\":{\"color\":\"#FFFFFF\"},\"showarrow\":false,\"text\":\"0\",\"x\":\"European Herring Gull\",\"xref\":\"x\",\"y\":\"Tundra Swan\",\"yref\":\"y\"},{\"font\":{\"color\":\"#FFFFFF\"},\"showarrow\":false,\"text\":\"0\",\"x\":\"European Robin\",\"xref\":\"x\",\"y\":\"Tundra Swan\",\"yref\":\"y\"},{\"font\":{\"color\":\"#FFFFFF\"},\"showarrow\":false,\"text\":\"0\",\"x\":\"Meadow Pipit\",\"xref\":\"x\",\"y\":\"Tundra Swan\",\"yref\":\"y\"},{\"font\":{\"color\":\"#FFFFFF\"},\"showarrow\":false,\"text\":\"5\",\"x\":\"Mute Swan\",\"xref\":\"x\",\"y\":\"Tundra Swan\",\"yref\":\"y\"},{\"font\":{\"color\":\"#FFFFFF\"},\"showarrow\":false,\"text\":\"1\",\"x\":\"Northern Lapwing\",\"xref\":\"x\",\"y\":\"Tundra Swan\",\"yref\":\"y\"},{\"font\":{\"color\":\"#FFFFFF\"},\"showarrow\":false,\"text\":\"1\",\"x\":\"Rook\",\"xref\":\"x\",\"y\":\"Tundra Swan\",\"yref\":\"y\"},{\"font\":{\"color\":\"#FFFFFF\"},\"showarrow\":false,\"text\":\"20\",\"x\":\"Tundra Swan\",\"xref\":\"x\",\"y\":\"Tundra Swan\",\"yref\":\"y\"},{\"font\":{\"color\":\"#FFFFFF\"},\"showarrow\":false,\"text\":\"8\",\"x\":\"Tundra Swan (Bewicks)\",\"xref\":\"x\",\"y\":\"Tundra Swan\",\"yref\":\"y\"},{\"font\":{\"color\":\"#FFFFFF\"},\"showarrow\":false,\"text\":\"2\",\"x\":\"Common Buzzard\",\"xref\":\"x\",\"y\":\"Tundra Swan (Bewicks)\",\"yref\":\"y\"},{\"font\":{\"color\":\"#FFFFFF\"},\"showarrow\":false,\"text\":\"0\",\"x\":\"Common Kestrel\",\"xref\":\"x\",\"y\":\"Tundra Swan (Bewicks)\",\"yref\":\"y\"},{\"font\":{\"color\":\"#FFFFFF\"},\"showarrow\":false,\"text\":\"1\",\"x\":\"Common Snipe\",\"xref\":\"x\",\"y\":\"Tundra Swan (Bewicks)\",\"yref\":\"y\"},{\"font\":{\"color\":\"#FFFFFF\"},\"showarrow\":false,\"text\":\"0\",\"x\":\"Eurasian Curlew\",\"xref\":\"x\",\"y\":\"Tundra Swan (Bewicks)\",\"yref\":\"y\"},{\"font\":{\"color\":\"#FFFFFF\"},\"showarrow\":false,\"text\":\"3\",\"x\":\"European Herring Gull\",\"xref\":\"x\",\"y\":\"Tundra Swan (Bewicks)\",\"yref\":\"y\"},{\"font\":{\"color\":\"#FFFFFF\"},\"showarrow\":false,\"text\":\"0\",\"x\":\"European Robin\",\"xref\":\"x\",\"y\":\"Tundra Swan (Bewicks)\",\"yref\":\"y\"},{\"font\":{\"color\":\"#FFFFFF\"},\"showarrow\":false,\"text\":\"0\",\"x\":\"Meadow Pipit\",\"xref\":\"x\",\"y\":\"Tundra Swan (Bewicks)\",\"yref\":\"y\"},{\"font\":{\"color\":\"#FFFFFF\"},\"showarrow\":false,\"text\":\"5\",\"x\":\"Mute Swan\",\"xref\":\"x\",\"y\":\"Tundra Swan (Bewicks)\",\"yref\":\"y\"},{\"font\":{\"color\":\"#FFFFFF\"},\"showarrow\":false,\"text\":\"0\",\"x\":\"Northern Lapwing\",\"xref\":\"x\",\"y\":\"Tundra Swan (Bewicks)\",\"yref\":\"y\"},{\"font\":{\"color\":\"#FFFFFF\"},\"showarrow\":false,\"text\":\"0\",\"x\":\"Rook\",\"xref\":\"x\",\"y\":\"Tundra Swan (Bewicks)\",\"yref\":\"y\"},{\"font\":{\"color\":\"#FFFFFF\"},\"showarrow\":false,\"text\":\"5\",\"x\":\"Tundra Swan\",\"xref\":\"x\",\"y\":\"Tundra Swan (Bewicks)\",\"yref\":\"y\"},{\"font\":{\"color\":\"#FFFFFF\"},\"showarrow\":false,\"text\":\"11\",\"x\":\"Tundra Swan (Bewicks)\",\"xref\":\"x\",\"y\":\"Tundra Swan (Bewicks)\",\"yref\":\"y\"},{\"font\":{\"color\":\"black\",\"size\":14},\"showarrow\":false,\"text\":\"Predicted value\",\"x\":0.5,\"xref\":\"paper\",\"y\":-0.15,\"yref\":\"paper\"},{\"font\":{\"color\":\"black\",\"size\":14},\"showarrow\":false,\"text\":\"Real value\",\"textangle\":-90,\"x\":-0.26,\"xref\":\"paper\",\"y\":0.5,\"yref\":\"paper\"}],\"margin\":{\"l\":200,\"t\":50},\"template\":{\"data\":{\"bar\":[{\"error_x\":{\"color\":\"#2a3f5f\"},\"error_y\":{\"color\":\"#2a3f5f\"},\"marker\":{\"line\":{\"color\":\"#E5ECF6\",\"width\":0.5},\"pattern\":{\"fillmode\":\"overlay\",\"size\":10,\"solidity\":0.2}},\"type\":\"bar\"}],\"barpolar\":[{\"marker\":{\"line\":{\"color\":\"#E5ECF6\",\"width\":0.5},\"pattern\":{\"fillmode\":\"overlay\",\"size\":10,\"solidity\":0.2}},\"type\":\"barpolar\"}],\"carpet\":[{\"aaxis\":{\"endlinecolor\":\"#2a3f5f\",\"gridcolor\":\"white\",\"linecolor\":\"white\",\"minorgridcolor\":\"white\",\"startlinecolor\":\"#2a3f5f\"},\"baxis\":{\"endlinecolor\":\"#2a3f5f\",\"gridcolor\":\"white\",\"linecolor\":\"white\",\"minorgridcolor\":\"white\",\"startlinecolor\":\"#2a3f5f\"},\"type\":\"carpet\"}],\"choropleth\":[{\"colorbar\":{\"outlinewidth\":0,\"ticks\":\"\"},\"type\":\"choropleth\"}],\"contour\":[{\"colorbar\":{\"outlinewidth\":0,\"ticks\":\"\"},\"colorscale\":[[0.0,\"#0d0887\"],[0.1111111111111111,\"#46039f\"],[0.2222222222222222,\"#7201a8\"],[0.3333333333333333,\"#9c179e\"],[0.4444444444444444,\"#bd3786\"],[0.5555555555555556,\"#d8576b\"],[0.6666666666666666,\"#ed7953\"],[0.7777777777777778,\"#fb9f3a\"],[0.8888888888888888,\"#fdca26\"],[1.0,\"#f0f921\"]],\"type\":\"contour\"}],\"contourcarpet\":[{\"colorbar\":{\"outlinewidth\":0,\"ticks\":\"\"},\"type\":\"contourcarpet\"}],\"heatmap\":[{\"colorbar\":{\"outlinewidth\":0,\"ticks\":\"\"},\"colorscale\":[[0.0,\"#0d0887\"],[0.1111111111111111,\"#46039f\"],[0.2222222222222222,\"#7201a8\"],[0.3333333333333333,\"#9c179e\"],[0.4444444444444444,\"#bd3786\"],[0.5555555555555556,\"#d8576b\"],[0.6666666666666666,\"#ed7953\"],[0.7777777777777778,\"#fb9f3a\"],[0.8888888888888888,\"#fdca26\"],[1.0,\"#f0f921\"]],\"type\":\"heatmap\"}],\"heatmapgl\":[{\"colorbar\":{\"outlinewidth\":0,\"ticks\":\"\"},\"colorscale\":[[0.0,\"#0d0887\"],[0.1111111111111111,\"#46039f\"],[0.2222222222222222,\"#7201a8\"],[0.3333333333333333,\"#9c179e\"],[0.4444444444444444,\"#bd3786\"],[0.5555555555555556,\"#d8576b\"],[0.6666666666666666,\"#ed7953\"],[0.7777777777777778,\"#fb9f3a\"],[0.8888888888888888,\"#fdca26\"],[1.0,\"#f0f921\"]],\"type\":\"heatmapgl\"}],\"histogram\":[{\"marker\":{\"pattern\":{\"fillmode\":\"overlay\",\"size\":10,\"solidity\":0.2}},\"type\":\"histogram\"}],\"histogram2d\":[{\"colorbar\":{\"outlinewidth\":0,\"ticks\":\"\"},\"colorscale\":[[0.0,\"#0d0887\"],[0.1111111111111111,\"#46039f\"],[0.2222222222222222,\"#7201a8\"],[0.3333333333333333,\"#9c179e\"],[0.4444444444444444,\"#bd3786\"],[0.5555555555555556,\"#d8576b\"],[0.6666666666666666,\"#ed7953\"],[0.7777777777777778,\"#fb9f3a\"],[0.8888888888888888,\"#fdca26\"],[1.0,\"#f0f921\"]],\"type\":\"histogram2d\"}],\"histogram2dcontour\":[{\"colorbar\":{\"outlinewidth\":0,\"ticks\":\"\"},\"colorscale\":[[0.0,\"#0d0887\"],[0.1111111111111111,\"#46039f\"],[0.2222222222222222,\"#7201a8\"],[0.3333333333333333,\"#9c179e\"],[0.4444444444444444,\"#bd3786\"],[0.5555555555555556,\"#d8576b\"],[0.6666666666666666,\"#ed7953\"],[0.7777777777777778,\"#fb9f3a\"],[0.8888888888888888,\"#fdca26\"],[1.0,\"#f0f921\"]],\"type\":\"histogram2dcontour\"}],\"mesh3d\":[{\"colorbar\":{\"outlinewidth\":0,\"ticks\":\"\"},\"type\":\"mesh3d\"}],\"parcoords\":[{\"line\":{\"colorbar\":{\"outlinewidth\":0,\"ticks\":\"\"}},\"type\":\"parcoords\"}],\"pie\":[{\"automargin\":true,\"type\":\"pie\"}],\"scatter\":[{\"marker\":{\"colorbar\":{\"outlinewidth\":0,\"ticks\":\"\"}},\"type\":\"scatter\"}],\"scatter3d\":[{\"line\":{\"colorbar\":{\"outlinewidth\":0,\"ticks\":\"\"}},\"marker\":{\"colorbar\":{\"outlinewidth\":0,\"ticks\":\"\"}},\"type\":\"scatter3d\"}],\"scattercarpet\":[{\"marker\":{\"colorbar\":{\"outlinewidth\":0,\"ticks\":\"\"}},\"type\":\"scattercarpet\"}],\"scattergeo\":[{\"marker\":{\"colorbar\":{\"outlinewidth\":0,\"ticks\":\"\"}},\"type\":\"scattergeo\"}],\"scattergl\":[{\"marker\":{\"colorbar\":{\"outlinewidth\":0,\"ticks\":\"\"}},\"type\":\"scattergl\"}],\"scattermapbox\":[{\"marker\":{\"colorbar\":{\"outlinewidth\":0,\"ticks\":\"\"}},\"type\":\"scattermapbox\"}],\"scatterpolar\":[{\"marker\":{\"colorbar\":{\"outlinewidth\":0,\"ticks\":\"\"}},\"type\":\"scatterpolar\"}],\"scatterpolargl\":[{\"marker\":{\"colorbar\":{\"outlinewidth\":0,\"ticks\":\"\"}},\"type\":\"scatterpolargl\"}],\"scatterternary\":[{\"marker\":{\"colorbar\":{\"outlinewidth\":0,\"ticks\":\"\"}},\"type\":\"scatterternary\"}],\"surface\":[{\"colorbar\":{\"outlinewidth\":0,\"ticks\":\"\"},\"colorscale\":[[0.0,\"#0d0887\"],[0.1111111111111111,\"#46039f\"],[0.2222222222222222,\"#7201a8\"],[0.3333333333333333,\"#9c179e\"],[0.4444444444444444,\"#bd3786\"],[0.5555555555555556,\"#d8576b\"],[0.6666666666666666,\"#ed7953\"],[0.7777777777777778,\"#fb9f3a\"],[0.8888888888888888,\"#fdca26\"],[1.0,\"#f0f921\"]],\"type\":\"surface\"}],\"table\":[{\"cells\":{\"fill\":{\"color\":\"#EBF0F8\"},\"line\":{\"color\":\"white\"}},\"header\":{\"fill\":{\"color\":\"#C8D4E3\"},\"line\":{\"color\":\"white\"}},\"type\":\"table\"}]},\"layout\":{\"annotationdefaults\":{\"arrowcolor\":\"#2a3f5f\",\"arrowhead\":0,\"arrowwidth\":1},\"autotypenumbers\":\"strict\",\"coloraxis\":{\"colorbar\":{\"outlinewidth\":0,\"ticks\":\"\"}},\"colorscale\":{\"diverging\":[[0,\"#8e0152\"],[0.1,\"#c51b7d\"],[0.2,\"#de77ae\"],[0.3,\"#f1b6da\"],[0.4,\"#fde0ef\"],[0.5,\"#f7f7f7\"],[0.6,\"#e6f5d0\"],[0.7,\"#b8e186\"],[0.8,\"#7fbc41\"],[0.9,\"#4d9221\"],[1,\"#276419\"]],\"sequential\":[[0.0,\"#0d0887\"],[0.1111111111111111,\"#46039f\"],[0.2222222222222222,\"#7201a8\"],[0.3333333333333333,\"#9c179e\"],[0.4444444444444444,\"#bd3786\"],[0.5555555555555556,\"#d8576b\"],[0.6666666666666666,\"#ed7953\"],[0.7777777777777778,\"#fb9f3a\"],[0.8888888888888888,\"#fdca26\"],[1.0,\"#f0f921\"]],\"sequentialminus\":[[0.0,\"#0d0887\"],[0.1111111111111111,\"#46039f\"],[0.2222222222222222,\"#7201a8\"],[0.3333333333333333,\"#9c179e\"],[0.4444444444444444,\"#bd3786\"],[0.5555555555555556,\"#d8576b\"],[0.6666666666666666,\"#ed7953\"],[0.7777777777777778,\"#fb9f3a\"],[0.8888888888888888,\"#fdca26\"],[1.0,\"#f0f921\"]]},\"colorway\":[\"#636efa\",\"#EF553B\",\"#00cc96\",\"#ab63fa\",\"#FFA15A\",\"#19d3f3\",\"#FF6692\",\"#B6E880\",\"#FF97FF\",\"#FECB52\"],\"font\":{\"color\":\"#2a3f5f\"},\"geo\":{\"bgcolor\":\"white\",\"lakecolor\":\"white\",\"landcolor\":\"#E5ECF6\",\"showlakes\":true,\"showland\":true,\"subunitcolor\":\"white\"},\"hoverlabel\":{\"align\":\"left\"},\"hovermode\":\"closest\",\"mapbox\":{\"style\":\"light\"},\"paper_bgcolor\":\"white\",\"plot_bgcolor\":\"#E5ECF6\",\"polar\":{\"angularaxis\":{\"gridcolor\":\"white\",\"linecolor\":\"white\",\"ticks\":\"\"},\"bgcolor\":\"#E5ECF6\",\"radialaxis\":{\"gridcolor\":\"white\",\"linecolor\":\"white\",\"ticks\":\"\"}},\"scene\":{\"xaxis\":{\"backgroundcolor\":\"#E5ECF6\",\"gridcolor\":\"white\",\"gridwidth\":2,\"linecolor\":\"white\",\"showbackground\":true,\"ticks\":\"\",\"zerolinecolor\":\"white\"},\"yaxis\":{\"backgroundcolor\":\"#E5ECF6\",\"gridcolor\":\"white\",\"gridwidth\":2,\"linecolor\":\"white\",\"showbackground\":true,\"ticks\":\"\",\"zerolinecolor\":\"white\"},\"zaxis\":{\"backgroundcolor\":\"#E5ECF6\",\"gridcolor\":\"white\",\"gridwidth\":2,\"linecolor\":\"white\",\"showbackground\":true,\"ticks\":\"\",\"zerolinecolor\":\"white\"}},\"shapedefaults\":{\"line\":{\"color\":\"#2a3f5f\"}},\"ternary\":{\"aaxis\":{\"gridcolor\":\"white\",\"linecolor\":\"white\",\"ticks\":\"\"},\"baxis\":{\"gridcolor\":\"white\",\"linecolor\":\"white\",\"ticks\":\"\"},\"bgcolor\":\"#E5ECF6\",\"caxis\":{\"gridcolor\":\"white\",\"linecolor\":\"white\",\"ticks\":\"\"}},\"title\":{\"x\":0.05},\"xaxis\":{\"automargin\":true,\"gridcolor\":\"white\",\"linecolor\":\"white\",\"ticks\":\"\",\"title\":{\"standoff\":15},\"zerolinecolor\":\"white\",\"zerolinewidth\":2},\"yaxis\":{\"automargin\":true,\"gridcolor\":\"white\",\"linecolor\":\"white\",\"ticks\":\"\",\"title\":{\"standoff\":15},\"zerolinecolor\":\"white\",\"zerolinewidth\":2}}},\"title\":{\"text\":\"<i><b>Confusion<br>matrix</b></i>\",\"x\":0},\"xaxis\":{\"dtick\":1,\"gridcolor\":\"rgb(0, 0, 0)\",\"side\":\"top\",\"ticks\":\"\"},\"yaxis\":{\"autorange\":\"reversed\",\"dtick\":1,\"ticks\":\"\",\"ticksuffix\":\"  \"}},                        {\"responsive\": true}                    ).then(function(){\n",
       "                            \n",
       "var gd = document.getElementById('76d4cb38-851b-4e02-8e66-79995d99b6d7');\n",
       "var x = new MutationObserver(function (mutations, observer) {{\n",
       "        var display = window.getComputedStyle(gd).display;\n",
       "        if (!display || display === 'none') {{\n",
       "            console.log([gd, 'removed!']);\n",
       "            Plotly.purge(gd);\n",
       "            observer.disconnect();\n",
       "        }}\n",
       "}});\n",
       "\n",
       "// Listen for the removal of the full notebook cells\n",
       "var notebookContainer = gd.closest('#notebook-container');\n",
       "if (notebookContainer) {{\n",
       "    x.observe(notebookContainer, {childList: true});\n",
       "}}\n",
       "\n",
       "// Listen for the clearing of the current output cell\n",
       "var outputEl = gd.closest('.output');\n",
       "if (outputEl) {{\n",
       "    x.observe(outputEl, {childList: true});\n",
       "}}\n",
       "\n",
       "                        })                };                });            </script>        </div>"
      ]
     },
     "metadata": {},
     "output_type": "display_data"
    }
   ],
   "source": [
    "import plotly.figure_factory as ff\n",
    "\n",
    "z = cm\n",
    "\n",
    "x = categories\n",
    "y = categories\n",
    "#y.reverse()\n",
    "\n",
    "# change each element of z to type string for annotations\n",
    "z_text = [[str(y) for y in x] for x in z]\n",
    "\n",
    "# set up figure \n",
    "fig = ff.create_annotated_heatmap(z, x=x, y=y, annotation_text=z_text, colorscale='Viridis')\n",
    "\n",
    "# add title\n",
    "fig.update_layout(title_text='<i><b>Confusion<br>matrix</b></i>',\n",
    "                  #xaxis = dict(title='x'),\n",
    "                  #yaxis = dict(title='x')\n",
    "                  yaxis=dict(autorange='reversed'),\n",
    "                  title_x=0\n",
    "                 )\n",
    "\n",
    "# add custom xaxis title\n",
    "fig.add_annotation(dict(font=dict(color=\"black\",size=14),\n",
    "                        x=0.5,\n",
    "                        y=-0.15,\n",
    "                        showarrow=False,\n",
    "                        text=\"Predicted value\",\n",
    "                        xref=\"paper\",\n",
    "                        yref=\"paper\"))\n",
    "\n",
    "# add custom yaxis title\n",
    "fig.add_annotation(dict(font=dict(color=\"black\",size=14),\n",
    "                        x=-0.26,\n",
    "                        y=0.5,\n",
    "                        showarrow=False,\n",
    "                        text=\"Real value\",\n",
    "                        textangle=-90,\n",
    "                        xref=\"paper\",\n",
    "                        yref=\"paper\"))\n",
    "\n",
    "# adjust margins to make room for yaxis title\n",
    "fig.update_layout(margin=dict(t=50, l=200))\n",
    "\n",
    "# add colorbar\n",
    "fig['data'][0]['showscale'] = True\n",
    "fig.show()"
   ]
  },
  {
   "cell_type": "code",
   "execution_count": null,
   "id": "dfad9899",
   "metadata": {},
   "outputs": [],
   "source": []
  }
 ],
 "metadata": {
  "kernelspec": {
   "display_name": "Python 3",
   "language": "python",
   "name": "python3"
  },
  "language_info": {
   "codemirror_mode": {
    "name": "ipython",
    "version": 3
   },
   "file_extension": ".py",
   "mimetype": "text/x-python",
   "name": "python",
   "nbconvert_exporter": "python",
   "pygments_lexer": "ipython3",
   "version": "3.8.8"
  }
 },
 "nbformat": 4,
 "nbformat_minor": 5
}
