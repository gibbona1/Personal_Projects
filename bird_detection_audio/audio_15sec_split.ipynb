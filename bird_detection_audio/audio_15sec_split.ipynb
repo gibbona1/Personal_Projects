{
 "cells": [
  {
   "cell_type": "code",
   "execution_count": 11,
   "id": "711b9180",
   "metadata": {},
   "outputs": [],
   "source": [
    "import os\n",
    "import numpy as np\n",
    "from glob import glob\n",
    "from scipy.io import wavfile"
   ]
  },
  {
   "cell_type": "code",
   "execution_count": 12,
   "id": "c511e662",
   "metadata": {},
   "outputs": [],
   "source": [
    "base_folder = 'dublin_dl_birds'\n",
    "save_folder = 'dublin_dl_birds_split'\n",
    "categories  = os.listdir(base_folder)\n",
    "for c in categories:\n",
    "    new_subfolder = os.path.join(save_folder, c)\n",
    "    if os.path.isdir(new_subfolder) == False:\n",
    "        os.mkdir(new_subfolder)"
   ]
  },
  {
   "cell_type": "code",
   "execution_count": 13,
   "id": "5f8ed725",
   "metadata": {},
   "outputs": [],
   "source": [
    "#for c in categories:\n",
    "#    new_subfolder = os.path.join(save_folder, c)\n",
    "#    for fname in os.listdir(new_subfolder):\n",
    "#        os.remove(os.path.join(new_subfolder, fname))"
   ]
  },
  {
   "cell_type": "code",
   "execution_count": 14,
   "id": "29fece89",
   "metadata": {},
   "outputs": [],
   "source": [
    "filenames = glob(base_folder+'/*/*')"
   ]
  },
  {
   "cell_type": "markdown",
   "id": "3267a35a",
   "metadata": {},
   "source": [
    "seperate into 15 second clips"
   ]
  },
  {
   "cell_type": "code",
   "execution_count": 15,
   "id": "49dc33b8",
   "metadata": {},
   "outputs": [],
   "source": [
    "for file_name in filenames:\n",
    "    pre, ext  = os.path.splitext(file_name)\n",
    "    samp_rate, audio = wavfile.read(file_name)\n",
    "    file_dur = len(audio)#/samp_rate\n",
    "    st_pos   = np.arange(0, file_dur, 15*samp_rate)\n",
    "    for st_p in st_pos:\n",
    "        en_p         = int(st_p + 15*samp_rate) # 15*samp_rate\n",
    "        audio_samp   = audio[st_p:en_p]\n",
    "        pre_cut      = '\\\\'.join(pre.split('\\\\')[1:])\n",
    "        st_p_sec     = np.array(st_p)/samp_rate\n",
    "        st_p_min     = (st_p_sec /60).astype(int)\n",
    "        st_p_sec_rem = (st_p_sec - st_p_min*60).astype(int)\n",
    "        extra_str    = '_start_' + str(st_p_min) + '_' + str(st_p_sec_rem)\n",
    "        sav_str      = save_folder +'\\\\'+ pre_cut + extra_str + ext\n",
    "        wavfile.write(sav_str, samp_rate, audio_samp)"
   ]
  },
  {
   "cell_type": "code",
   "execution_count": null,
   "id": "4e99412f",
   "metadata": {},
   "outputs": [],
   "source": []
  }
 ],
 "metadata": {
  "kernelspec": {
   "display_name": "Python 3",
   "language": "python",
   "name": "python3"
  },
  "language_info": {
   "codemirror_mode": {
    "name": "ipython",
    "version": 3
   },
   "file_extension": ".py",
   "mimetype": "text/x-python",
   "name": "python",
   "nbconvert_exporter": "python",
   "pygments_lexer": "ipython3",
   "version": "3.8.8"
  }
 },
 "nbformat": 4,
 "nbformat_minor": 5
}
