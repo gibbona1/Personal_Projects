{
 "cells": [
  {
   "cell_type": "markdown",
   "id": "52393092",
   "metadata": {},
   "source": [
    "From https://medium.com/m2mtechconnect/classifying-music-and-speech-with-machine-learning-e036ffab002e"
   ]
  },
  {
   "cell_type": "code",
   "execution_count": 1,
   "id": "feba8de1",
   "metadata": {},
   "outputs": [],
   "source": [
    "import numpy as np\n",
    "import pandas as pd\n",
    "import os\n",
    "import pathlib\n",
    "import matplotlib.pyplot as plt\n",
    "import seaborn as sns\n",
    "from IPython import display\n",
    "from sklearn.model_selection import train_test_split\n",
    "import tensorflow as tf\n",
    "from tensorflow.keras.layers.experimental import preprocessing\n",
    "from tensorflow.keras import layers, regularizers, models\n",
    "#import tensorflow_datasets as tfds\n",
    "from datetime import datetime"
   ]
  },
  {
   "cell_type": "code",
   "execution_count": 2,
   "id": "d95d45ec",
   "metadata": {},
   "outputs": [],
   "source": [
    "import time"
   ]
  },
  {
   "cell_type": "code",
   "execution_count": 3,
   "id": "0d7b1fba",
   "metadata": {},
   "outputs": [],
   "source": [
    "import ffmpeg\n",
    "from pydub import AudioSegment"
   ]
  },
  {
   "cell_type": "code",
   "execution_count": 4,
   "id": "47c05df5",
   "metadata": {},
   "outputs": [],
   "source": [
    "from tf_helpers import *"
   ]
  },
  {
   "cell_type": "code",
   "execution_count": 5,
   "id": "07c22ae2",
   "metadata": {},
   "outputs": [],
   "source": [
    "from sklearn.metrics import confusion_matrix, roc_curve, roc_auc_score, auc\n",
    "import plotly.figure_factory as ff\n",
    "from sklearn.preprocessing import OneHotEncoder"
   ]
  },
  {
   "cell_type": "code",
   "execution_count": 6,
   "id": "b4a4f839",
   "metadata": {},
   "outputs": [],
   "source": [
    "from data_set_params import DataSetParams\n",
    "from scipy.io import wavfile\n",
    "params = DataSetParams()"
   ]
  },
  {
   "cell_type": "code",
   "execution_count": 7,
   "id": "47d47368",
   "metadata": {},
   "outputs": [
    {
     "data": {
      "text/plain": [
       "['Common Buzzard',\n",
       " 'Common Kestrel',\n",
       " 'Common Snipe',\n",
       " 'Eurasian Curlew',\n",
       " 'European Herring Gull',\n",
       " 'European Robin',\n",
       " 'Meadow Pipit',\n",
       " 'Mute Swan',\n",
       " 'Northern Lapwing',\n",
       " 'Rook',\n",
       " 'Tundra Swan',\n",
       " 'Tundra Swan (Bewicks)']"
      ]
     },
     "execution_count": 7,
     "metadata": {},
     "output_type": "execute_result"
    }
   ],
   "source": [
    "#data_dir = pathlib.Path('/root/tensorflow_datasets/downloads/extracted/TAR_GZ.opihi.cs.uvic.ca_sound_music_speechbya81rFcWfLSW6ey5cynqyeq2qiePcL-7asMoNO6IQ0.tar.gz/music_speech')\n",
    "data_dir   = 'richfield_birds_split'#'dublin_dl_birds_split'#\n",
    "categories = np.array(tf.io.gfile.listdir(data_dir))\n",
    "categories = [category for category in categories if 'wav' not in category]\n",
    "categories"
   ]
  },
  {
   "cell_type": "code",
   "execution_count": 8,
   "id": "27ca4fcf",
   "metadata": {},
   "outputs": [],
   "source": [
    "filenames = tf.io.gfile.glob(str(data_dir) + '/*/*')\n",
    "filenames = [filename for filename in filenames if 'wav' in filename]\n",
    "#filenames = tf.random.shuffle(filenames)\n",
    "#filenames"
   ]
  },
  {
   "cell_type": "code",
   "execution_count": 9,
   "id": "8a076225",
   "metadata": {},
   "outputs": [
    {
     "name": "stdout",
     "output_type": "stream",
     "text": [
      "Number of total examples: 1981\n",
      "Number of categories 12\n",
      "Example file tensor: richfield_birds\\Tundra Swan\\xc1137.wav\n"
     ]
    }
   ],
   "source": [
    "num_samples = len(filenames)\n",
    "print('Number of total examples:', num_samples)\n",
    "print('Number of categories', len(categories))\n",
    "#print('Number of examples per label:',\n",
    "#      len(tf.io.gfile.listdir(str(pathlib.Path(data_dir)/categories[0]))))\n",
    "print('Example file tensor:', filenames[0])"
   ]
  },
  {
   "cell_type": "code",
   "execution_count": 10,
   "id": "a3f84ffb",
   "metadata": {},
   "outputs": [],
   "source": [
    "AUTOTUNE   = tf.data.experimental.AUTOTUNE\n",
    "TRAIN_SIZE = 0.8\n",
    "cutoff     = int(len(filenames) * TRAIN_SIZE)"
   ]
  },
  {
   "cell_type": "code",
   "execution_count": 11,
   "id": "1d6a55bc",
   "metadata": {},
   "outputs": [],
   "source": [
    "choice_list = []\n",
    "choices_lst = ['Mod', 'AbsRe', 'AbsIm', 'AbsAng']\n",
    "import itertools\n",
    "for L in range(1,len(choices_lst)+1):\n",
    "    for subset in itertools.combinations(choices_lst, L):\n",
    "        choice_list.append(list(subset))"
   ]
  },
  {
   "cell_type": "code",
   "execution_count": 13,
   "id": "35bf14b6",
   "metadata": {},
   "outputs": [],
   "source": [
    "#choice_list = choice_list[:4]"
   ]
  },
  {
   "cell_type": "code",
   "execution_count": 14,
   "id": "6f574dcf",
   "metadata": {},
   "outputs": [],
   "source": [
    "#choice_list = choice_list[4:]"
   ]
  },
  {
   "cell_type": "code",
   "execution_count": 15,
   "id": "b61e4ef1",
   "metadata": {},
   "outputs": [],
   "source": [
    "choice_list = [x for x in choice_list if 'Mod' in x]"
   ]
  },
  {
   "cell_type": "code",
   "execution_count": 16,
   "id": "795e9d79",
   "metadata": {},
   "outputs": [],
   "source": [
    "def find_sub_list(sl,l):\n",
    "    results=[]\n",
    "    sll=len(sl)\n",
    "    for i,e in enumerate(l):\n",
    "        for j in range(sll):\n",
    "            if sl[j] == l[i]:\n",
    "                results.append(i)\n",
    "\n",
    "    return results"
   ]
  },
  {
   "cell_type": "markdown",
   "id": "e902ffb5",
   "metadata": {},
   "source": [
    "## Outline of script needed:\n",
    "for i in 1,...,20 iterations\n",
    "-  shuffles files\n",
    "-  seperates into train/test\n",
    "-  For different combinations of Mod (default), AbsRe, AbsIm, AbsArg\n",
    "    -  create spectrogram features (X) and labels (y)\n",
    "    -  create training and test tensorflow datasets and batch\n",
    "    -  train from scratch for 5,10,25,50 epochs\n",
    "    -  record history(loss, accuracy), yTrue and yPred,  \n",
    "    -  save confusion matrices\n",
    "-  Also try \n",
    "    - work on making the convolution kernel different for each channel, and for the output to be the mean \n",
    "    - freeze layers (all but first or last) to fine tune training\n",
    "    - Transfer learning from BirdNet\n"
   ]
  },
  {
   "cell_type": "code",
   "execution_count": 36,
   "id": "509762a8",
   "metadata": {},
   "outputs": [],
   "source": [
    "def main_model_run(filenames, index):\n",
    "    filenames   = tf.random.shuffle(filenames)\n",
    "    train_files = filenames[:cutoff]\n",
    "    test_files  = filenames[cutoff:]\n",
    "    \n",
    "    choices_all = ['Mod', 'AbsRe', 'AbsIm', 'AbsAng']\n",
    "\n",
    "    def concat_xy(ds):\n",
    "            x_tmp  = [x for x,y in ds]\n",
    "            x_tmp  = tf.stack(x_tmp)\n",
    "            xs_tmp = tf.unstack(x_tmp, axis=-1)\n",
    "            xs_tmp = [tf.expand_dims(x_ind, axis=-1) for x_ind in xs_tmp]\n",
    "            y      = np.array([y for x,y in ds])\n",
    "            return xs_tmp, y\n",
    "    \n",
    "    train_ds = preprocess_dataset(train_files, choices_all, categories)\n",
    "    test_ds  = preprocess_dataset(test_files, choices_all, categories)\n",
    "    \n",
    "    print('Getting data')\n",
    "    X_train_all, y_train = concat_xy(train_ds)\n",
    "    X_test_all, y_test   = concat_xy(test_ds)\n",
    "    print(\"Done\")\n",
    "    \n",
    "    filename_idx = datetime.now().strftime(\"%Y%m%d-%H%M%S\").replace('-', '_')+'_'+data_dir+'_concat'+str(index)\n",
    "    \n",
    "    np.save('filenames/'+'filenames'+filename_idx+'.npy', filenames.numpy())\n",
    "    print(\"index: \", index)\n",
    "    for choices in choice_list:\n",
    "        print('Choices: ', ''.join(choices))\n",
    "        \n",
    "        sub_idx  = find_sub_list(choices, choices_all)\n",
    "        X_train = [X_train_all[idx] for idx in sub_idx]\n",
    "        X_test  = [X_test_all[idx] for idx in sub_idx]\n",
    "        #y_train = [y_train_all[idx] for idx in sub_idx]\n",
    "        #y_test  = [y_test_all[idx] for idx in sub_idx]\n",
    "        \n",
    "        input_shape = X_train[0].shape[1:]\n",
    "            \n",
    "        num_channels = len(X_train)\n",
    "        num_classes  = len(categories)\n",
    "        \n",
    "        filename_run = filename_idx + ''.join(choices)+'_'\n",
    "        #print(not os.path.isdir('checkpoints/'+filename_run))\n",
    "        #if not os.path.isdir('checkpoints/'+filename_run):\n",
    "        #    os.mkdir('checkpoints/'+filename_run)\n",
    "        \n",
    "        #checkpoint_path = 'checkpoints/'+filename_run+\"/cp-{epoch:04d}.ckpt\"\n",
    "        #checkpoint_dir = os.path.dirname(checkpoint_path)\n",
    "        \n",
    "        #cp_callback = tf.keras.callbacks.ModelCheckpoint(\n",
    "        #    filepath= checkpoint_path, \n",
    "        #    verbose = 1, \n",
    "        #    save_weights_only = True,\n",
    "        #    save_freq = 5*batch_size)\n",
    "        \n",
    "        #model   = main_cnn(input_shape, num_classes)\n",
    "        model = concat_model(input_shape, num_channels, num_classes)\n",
    "        \n",
    "        #model.save_weights(checkpoint_path.format(epoch=0))\n",
    "        \n",
    "        EPOCHS  = 10\n",
    "        history = model.fit(X_train, y_train,\n",
    "                            validation_data = (X_test, y_test),\n",
    "                            #callbacks       = [cp_callback],\n",
    "                            epochs          = EPOCHS,\n",
    "                            batch_size      = 32)\n",
    "        \n",
    "        pd.DataFrame(history.history).to_csv('model_history/'+'model_history'+filename_run+'.csv')\n",
    "        \n",
    "        \n",
    "        model.save('models/'+filename_run+'.h5')\n",
    "        y_pred = np.argmax(model.predict(X_test), axis=-1)\n",
    "        y_true = y_test\n",
    "        \n",
    "        np.save('y_pred/'+'y_pred'+filename_run+'.npy', y_pred)\n",
    "        np.save('y_true/'+'y_true'+filename_run+'.npy', y_true)\n",
    "        \n",
    "        #cm = confusion_matrix(y_true, y_pred)\n",
    "        \n",
    "        #fig = plotly_cm(cm, categories)\n",
    "        #fig.write_html('confusion_matrix/'+'confusion_matrix'+filename_run+'.html')\n",
    "        \n",
    "        #pred_lists = model.predict(test_ds)\n",
    "        #pred_df    = pd.DataFrame(pred_lists, columns = categories)\n",
    "        #pred_df_softmax = pred_df.apply(lambda x: np.exp(x - np.max(x))/np.exp(x - np.max(x)).sum(), axis=1)\n",
    "        \n",
    "        #pred_df_softmax.to_csv('pred_df_softmax/'+'pred_df_softmax'+filename_run+'.csv')"
   ]
  },
  {
   "cell_type": "code",
   "execution_count": 45,
   "id": "67f5e510",
   "metadata": {},
   "outputs": [
    {
     "name": "stdout",
     "output_type": "stream",
     "text": [
      "9\n"
     ]
    }
   ],
   "source": [
    "for i in range(9,10):\n",
    "    print(i)"
   ]
  },
  {
   "cell_type": "code",
   "execution_count": 37,
   "id": "5b784448",
   "metadata": {},
   "outputs": [],
   "source": [
    "tic = time.time()"
   ]
  },
  {
   "cell_type": "code",
   "execution_count": 46,
   "id": "78bed81b",
   "metadata": {},
   "outputs": [
    {
     "name": "stdout",
     "output_type": "stream",
     "text": [
      "Getting data\n",
      "Done\n",
      "index:  9\n",
      "Choices:  Mod\n",
      "Epoch 1/10\n",
      "50/50 [==============================] - 8s 152ms/step - loss: 2.6502 - accuracy: 0.1376 - val_loss: 2.3028 - val_accuracy: 0.3123\n",
      "Epoch 2/10\n",
      "50/50 [==============================] - 9s 182ms/step - loss: 2.3102 - accuracy: 0.2614 - val_loss: 2.1486 - val_accuracy: 0.3652\n",
      "Epoch 3/10\n",
      "50/50 [==============================] - 10s 196ms/step - loss: 2.2152 - accuracy: 0.3037 - val_loss: 2.0345 - val_accuracy: 0.4584\n",
      "Epoch 4/10\n",
      "50/50 [==============================] - 10s 196ms/step - loss: 2.0569 - accuracy: 0.3813 - val_loss: 1.9321 - val_accuracy: 0.4761\n",
      "Epoch 5/10\n",
      "50/50 [==============================] - 10s 202ms/step - loss: 1.9409 - accuracy: 0.4369 - val_loss: 1.8463 - val_accuracy: 0.4987\n",
      "Epoch 6/10\n",
      "50/50 [==============================] - 11s 212ms/step - loss: 1.8483 - accuracy: 0.4388 - val_loss: 1.7762 - val_accuracy: 0.5214\n",
      "Epoch 7/10\n",
      "50/50 [==============================] - 11s 218ms/step - loss: 1.7726 - accuracy: 0.4779 - val_loss: 1.7122 - val_accuracy: 0.5264\n",
      "Epoch 8/10\n",
      "50/50 [==============================] - 11s 215ms/step - loss: 1.7135 - accuracy: 0.4842 - val_loss: 1.6471 - val_accuracy: 0.5869\n",
      "Epoch 9/10\n",
      "50/50 [==============================] - 11s 216ms/step - loss: 1.6597 - accuracy: 0.5000 - val_loss: 1.6068 - val_accuracy: 0.5869\n",
      "Epoch 10/10\n",
      "50/50 [==============================] - 11s 216ms/step - loss: 1.6055 - accuracy: 0.5152 - val_loss: 1.5700 - val_accuracy: 0.5819\n",
      "Choices:  ModAbsRe\n",
      "Epoch 1/10\n",
      "50/50 [==============================] - 19s 368ms/step - loss: 2.5262 - accuracy: 0.1812 - val_loss: 2.2637 - val_accuracy: 0.3275\n",
      "Epoch 2/10\n",
      "50/50 [==============================] - 19s 382ms/step - loss: 2.2348 - accuracy: 0.2948 - val_loss: 2.0581 - val_accuracy: 0.4584\n",
      "Epoch 3/10\n",
      "50/50 [==============================] - 20s 403ms/step - loss: 2.0380 - accuracy: 0.3864 - val_loss: 1.9323 - val_accuracy: 0.4584\n",
      "Epoch 4/10\n",
      "50/50 [==============================] - 19s 370ms/step - loss: 1.9470 - accuracy: 0.4261 - val_loss: 1.8039 - val_accuracy: 0.5264\n",
      "Epoch 5/10\n",
      "50/50 [==============================] - 17s 342ms/step - loss: 1.8407 - accuracy: 0.4533 - val_loss: 1.7345 - val_accuracy: 0.5340\n",
      "Epoch 6/10\n",
      "50/50 [==============================] - 17s 330ms/step - loss: 1.7122 - accuracy: 0.4931 - val_loss: 1.6403 - val_accuracy: 0.5693\n",
      "Epoch 7/10\n",
      "50/50 [==============================] - 16s 324ms/step - loss: 1.6500 - accuracy: 0.5145 - val_loss: 1.5825 - val_accuracy: 0.5970\n",
      "Epoch 8/10\n",
      "50/50 [==============================] - 16s 321ms/step - loss: 1.5552 - accuracy: 0.5486 - val_loss: 1.5288 - val_accuracy: 0.5819\n",
      "Epoch 9/10\n",
      "50/50 [==============================] - 15s 306ms/step - loss: 1.5083 - accuracy: 0.5650 - val_loss: 1.4828 - val_accuracy: 0.6045\n",
      "Epoch 10/10\n",
      "50/50 [==============================] - 16s 323ms/step - loss: 1.4303 - accuracy: 0.5896 - val_loss: 1.4400 - val_accuracy: 0.6272\n",
      "Choices:  ModAbsIm\n",
      "Epoch 1/10\n",
      "50/50 [==============================] - 18s 357ms/step - loss: 2.5162 - accuracy: 0.1850 - val_loss: 2.2527 - val_accuracy: 0.3627\n",
      "Epoch 2/10\n",
      "50/50 [==============================] - 18s 365ms/step - loss: 2.2335 - accuracy: 0.3157 - val_loss: 2.0405 - val_accuracy: 0.4710\n",
      "Epoch 3/10\n",
      "50/50 [==============================] - 18s 365ms/step - loss: 2.0441 - accuracy: 0.3927 - val_loss: 1.8844 - val_accuracy: 0.5013\n",
      "Epoch 4/10\n",
      "50/50 [==============================] - 18s 357ms/step - loss: 1.9113 - accuracy: 0.4249 - val_loss: 1.7572 - val_accuracy: 0.5340\n",
      "Epoch 5/10\n",
      "50/50 [==============================] - 17s 339ms/step - loss: 1.7714 - accuracy: 0.4773 - val_loss: 1.6822 - val_accuracy: 0.5340\n",
      "Epoch 6/10\n",
      "50/50 [==============================] - 16s 326ms/step - loss: 1.6957 - accuracy: 0.4905 - val_loss: 1.6154 - val_accuracy: 0.5416\n",
      "Epoch 7/10\n",
      "50/50 [==============================] - 16s 320ms/step - loss: 1.6012 - accuracy: 0.5341 - val_loss: 1.5430 - val_accuracy: 0.5693\n",
      "Epoch 8/10\n",
      "50/50 [==============================] - 16s 313ms/step - loss: 1.5384 - accuracy: 0.5448 - val_loss: 1.5385 - val_accuracy: 0.5668\n",
      "Epoch 9/10\n",
      "50/50 [==============================] - 17s 333ms/step - loss: 1.4674 - accuracy: 0.5707 - val_loss: 1.4514 - val_accuracy: 0.5793\n",
      "Epoch 10/10\n",
      "50/50 [==============================] - 18s 358ms/step - loss: 1.4026 - accuracy: 0.5846 - val_loss: 1.4254 - val_accuracy: 0.6096\n",
      "Choices:  ModAbsAng\n",
      "Epoch 1/10\n",
      "50/50 [==============================] - 19s 364ms/step - loss: 2.6395 - accuracy: 0.1080 - val_loss: 2.5128 - val_accuracy: 0.1839\n",
      "Epoch 2/10\n",
      "50/50 [==============================] - 18s 357ms/step - loss: 2.4729 - accuracy: 0.1667 - val_loss: 2.3615 - val_accuracy: 0.2897\n",
      "Epoch 3/10\n",
      "50/50 [==============================] - 17s 338ms/step - loss: 2.3417 - accuracy: 0.2494 - val_loss: 2.1727 - val_accuracy: 0.3778\n",
      "Epoch 4/10\n",
      "50/50 [==============================] - 16s 324ms/step - loss: 2.1627 - accuracy: 0.3194 - val_loss: 1.9528 - val_accuracy: 0.4458\n",
      "Epoch 5/10\n",
      "50/50 [==============================] - 16s 317ms/step - loss: 2.0140 - accuracy: 0.4028 - val_loss: 1.8349 - val_accuracy: 0.4736\n",
      "Epoch 6/10\n",
      "50/50 [==============================] - 16s 314ms/step - loss: 1.8853 - accuracy: 0.4324 - val_loss: 1.7587 - val_accuracy: 0.5013\n",
      "Epoch 7/10\n",
      "50/50 [==============================] - 16s 327ms/step - loss: 1.7857 - accuracy: 0.4779 - val_loss: 1.6407 - val_accuracy: 0.5491\n",
      "Epoch 8/10\n",
      "50/50 [==============================] - 18s 359ms/step - loss: 1.6693 - accuracy: 0.5284 - val_loss: 1.5608 - val_accuracy: 0.5668\n",
      "Epoch 9/10\n",
      "50/50 [==============================] - 18s 362ms/step - loss: 1.5844 - accuracy: 0.5297 - val_loss: 1.5232 - val_accuracy: 0.5869\n",
      "Epoch 10/10\n",
      "50/50 [==============================] - 18s 353ms/step - loss: 1.4992 - accuracy: 0.5694 - val_loss: 1.4721 - val_accuracy: 0.5768\n",
      "Choices:  ModAbsReAbsIm\n",
      "Epoch 1/10\n",
      "50/50 [==============================] - 24s 477ms/step - loss: 2.5104 - accuracy: 0.1686 - val_loss: 2.1765 - val_accuracy: 0.3904\n",
      "Epoch 2/10\n",
      "50/50 [==============================] - 23s 458ms/step - loss: 2.1628 - accuracy: 0.3535 - val_loss: 1.9845 - val_accuracy: 0.4710\n",
      "Epoch 3/10\n",
      "50/50 [==============================] - 22s 440ms/step - loss: 1.9728 - accuracy: 0.4293 - val_loss: 1.8240 - val_accuracy: 0.5013\n",
      "Epoch 4/10\n",
      "50/50 [==============================] - 22s 450ms/step - loss: 1.8150 - accuracy: 0.4798 - val_loss: 1.7086 - val_accuracy: 0.5491\n",
      "Epoch 5/10\n",
      "50/50 [==============================] - 24s 475ms/step - loss: 1.6786 - accuracy: 0.5082 - val_loss: 1.6275 - val_accuracy: 0.5542\n",
      "Epoch 6/10\n",
      "50/50 [==============================] - 26s 522ms/step - loss: 1.5916 - accuracy: 0.5372 - val_loss: 1.5557 - val_accuracy: 0.5617\n",
      "Epoch 7/10\n",
      "50/50 [==============================] - 26s 517ms/step - loss: 1.4924 - accuracy: 0.5739 - val_loss: 1.4703 - val_accuracy: 0.6146\n",
      "Epoch 8/10\n",
      "50/50 [==============================] - 25s 506ms/step - loss: 1.4511 - accuracy: 0.5909 - val_loss: 1.4304 - val_accuracy: 0.6020\n",
      "Epoch 9/10\n",
      "50/50 [==============================] - 25s 495ms/step - loss: 1.3596 - accuracy: 0.6218 - val_loss: 1.4023 - val_accuracy: 0.6222\n",
      "Epoch 10/10\n",
      "50/50 [==============================] - 23s 453ms/step - loss: 1.3128 - accuracy: 0.6395 - val_loss: 1.3427 - val_accuracy: 0.6524\n",
      "Choices:  ModAbsReAbsAng\n",
      "Epoch 1/10\n",
      "50/50 [==============================] - 25s 482ms/step - loss: 2.5420 - accuracy: 0.1534 - val_loss: 2.2487 - val_accuracy: 0.3275\n",
      "Epoch 2/10\n",
      "50/50 [==============================] - 26s 516ms/step - loss: 2.1998 - accuracy: 0.2860 - val_loss: 1.9506 - val_accuracy: 0.4987\n",
      "Epoch 3/10\n",
      "50/50 [==============================] - 26s 526ms/step - loss: 2.0023 - accuracy: 0.3838 - val_loss: 1.8146 - val_accuracy: 0.4937\n",
      "Epoch 4/10\n",
      "50/50 [==============================] - 25s 509ms/step - loss: 1.8231 - accuracy: 0.4545 - val_loss: 1.7042 - val_accuracy: 0.5063\n",
      "Epoch 5/10\n",
      "50/50 [==============================] - 24s 473ms/step - loss: 1.6602 - accuracy: 0.5101 - val_loss: 1.6308 - val_accuracy: 0.5516\n",
      "Epoch 6/10\n",
      "50/50 [==============================] - 22s 450ms/step - loss: 1.5584 - accuracy: 0.5518 - val_loss: 1.5584 - val_accuracy: 0.5844\n",
      "Epoch 7/10\n",
      "50/50 [==============================] - 22s 435ms/step - loss: 1.4766 - accuracy: 0.5789 - val_loss: 1.4957 - val_accuracy: 0.5945\n",
      "Epoch 8/10\n",
      "50/50 [==============================] - 23s 455ms/step - loss: 1.3969 - accuracy: 0.5941 - val_loss: 1.4308 - val_accuracy: 0.5945\n",
      "Epoch 9/10\n",
      "50/50 [==============================] - 25s 506ms/step - loss: 1.3027 - accuracy: 0.6301 - val_loss: 1.3845 - val_accuracy: 0.6096\n",
      "Epoch 10/10\n",
      "50/50 [==============================] - 26s 521ms/step - loss: 1.2522 - accuracy: 0.6490 - val_loss: 1.3467 - val_accuracy: 0.6222\n",
      "Choices:  ModAbsImAbsAng\n",
      "Epoch 1/10\n",
      "50/50 [==============================] - 25s 485ms/step - loss: 2.5579 - accuracy: 0.1458 - val_loss: 2.3617 - val_accuracy: 0.2317\n",
      "Epoch 2/10\n",
      "50/50 [==============================] - 23s 455ms/step - loss: 2.3067 - accuracy: 0.2468 - val_loss: 2.1266 - val_accuracy: 0.3678\n",
      "Epoch 3/10\n",
      "50/50 [==============================] - 22s 438ms/step - loss: 2.1108 - accuracy: 0.3365 - val_loss: 1.8947 - val_accuracy: 0.4685\n",
      "Epoch 4/10\n",
      "50/50 [==============================] - 22s 433ms/step - loss: 1.9344 - accuracy: 0.3902 - val_loss: 1.7778 - val_accuracy: 0.5063\n",
      "Epoch 5/10\n",
      "50/50 [==============================] - 24s 482ms/step - loss: 1.7737 - accuracy: 0.4653 - val_loss: 1.6924 - val_accuracy: 0.5466\n",
      "Epoch 6/10\n",
      "50/50 [==============================] - 26s 514ms/step - loss: 1.6768 - accuracy: 0.5013 - val_loss: 1.6022 - val_accuracy: 0.5642\n",
      "Epoch 7/10\n",
      "50/50 [==============================] - 25s 504ms/step - loss: 1.6070 - accuracy: 0.5303 - val_loss: 1.5136 - val_accuracy: 0.5945\n",
      "Epoch 8/10\n",
      "50/50 [==============================] - 24s 478ms/step - loss: 1.5034 - accuracy: 0.5657 - val_loss: 1.4831 - val_accuracy: 0.6071\n",
      "Epoch 9/10\n",
      "50/50 [==============================] - 23s 455ms/step - loss: 1.4303 - accuracy: 0.5846 - val_loss: 1.4006 - val_accuracy: 0.6045\n",
      "Epoch 10/10\n",
      "50/50 [==============================] - 22s 439ms/step - loss: 1.3333 - accuracy: 0.6130 - val_loss: 1.3612 - val_accuracy: 0.6146\n",
      "Choices:  ModAbsReAbsImAbsAng\n",
      "Epoch 1/10\n",
      "50/50 [==============================] - 29s 566ms/step - loss: 2.5333 - accuracy: 0.1578 - val_loss: 2.2308 - val_accuracy: 0.3627\n",
      "Epoch 2/10\n",
      "50/50 [==============================] - 31s 621ms/step - loss: 2.2209 - accuracy: 0.2898 - val_loss: 2.0087 - val_accuracy: 0.4156\n",
      "Epoch 3/10\n",
      "50/50 [==============================] - 34s 681ms/step - loss: 2.0132 - accuracy: 0.3838 - val_loss: 1.8582 - val_accuracy: 0.4811\n",
      "Epoch 4/10\n",
      "50/50 [==============================] - 34s 680ms/step - loss: 1.8314 - accuracy: 0.4388 - val_loss: 1.7259 - val_accuracy: 0.5113\n",
      "Epoch 5/10\n",
      "50/50 [==============================] - 31s 614ms/step - loss: 1.7207 - accuracy: 0.4811 - val_loss: 1.6702 - val_accuracy: 0.5290\n",
      "Epoch 6/10\n",
      "50/50 [==============================] - 29s 581ms/step - loss: 1.6071 - accuracy: 0.5215 - val_loss: 1.5568 - val_accuracy: 0.5668\n",
      "Epoch 7/10\n",
      "50/50 [==============================] - 32s 650ms/step - loss: 1.4865 - accuracy: 0.5682 - val_loss: 1.5132 - val_accuracy: 0.6045\n",
      "Epoch 8/10\n",
      "50/50 [==============================] - 34s 682ms/step - loss: 1.4371 - accuracy: 0.5859 - val_loss: 1.4286 - val_accuracy: 0.6020\n",
      "Epoch 9/10\n",
      "50/50 [==============================] - 34s 677ms/step - loss: 1.3284 - accuracy: 0.6168 - val_loss: 1.3828 - val_accuracy: 0.5995\n",
      "Epoch 10/10\n",
      "50/50 [==============================] - 34s 684ms/step - loss: 1.2428 - accuracy: 0.6370 - val_loss: 1.3224 - val_accuracy: 0.6599\n",
      "9534.956919670105\n"
     ]
    }
   ],
   "source": [
    "for i in range(6):\n",
    "    main_model_run(filenames, i)\n",
    "    print(time.time()-tic)"
   ]
  },
  {
   "cell_type": "code",
   "execution_count": 39,
   "id": "9ec2d640",
   "metadata": {},
   "outputs": [],
   "source": [
    "toc = time.time()"
   ]
  },
  {
   "cell_type": "code",
   "execution_count": 40,
   "id": "48d8e8dd",
   "metadata": {},
   "outputs": [
    {
     "name": "stdout",
     "output_type": "stream",
     "text": [
      "7679.616468906403\n"
     ]
    }
   ],
   "source": [
    "print(toc-tic)"
   ]
  },
  {
   "cell_type": "code",
   "execution_count": 41,
   "id": "4d2c0df1",
   "metadata": {},
   "outputs": [],
   "source": [
    "train_files = filenames[:cutoff]\n",
    "test_files  = filenames[cutoff:]\n",
    "\n",
    "choices_all = ['Mod', 'AbsRe', 'AbsIm', 'AbsAng']\n",
    "\n",
    "def concat_xy(ds):\n",
    "        x_tmp  = [x for x,y in ds]\n",
    "        x_tmp  = tf.stack(x_tmp)\n",
    "        xs_tmp = tf.unstack(x_tmp, axis=-1)\n",
    "        xs_tmp = [tf.expand_dims(x_ind, axis=-1) for x_ind in xs_tmp]\n",
    "        y      = np.array([y for x,y in ds])\n",
    "        return xs_tmp, y\n",
    "\n",
    "train_ds = preprocess_dataset(train_files, choices_all, categories)"
   ]
  },
  {
   "cell_type": "code",
   "execution_count": 42,
   "id": "483e57d6",
   "metadata": {},
   "outputs": [],
   "source": [
    "#X_train_all, y_train_all = concat_xy(train_ds)"
   ]
  },
  {
   "cell_type": "code",
   "execution_count": 43,
   "id": "69524914",
   "metadata": {},
   "outputs": [],
   "source": [
    "#y_train_all"
   ]
  }
 ],
 "metadata": {
  "kernelspec": {
   "display_name": "Python 3",
   "language": "python",
   "name": "python3"
  },
  "language_info": {
   "codemirror_mode": {
    "name": "ipython",
    "version": 3
   },
   "file_extension": ".py",
   "mimetype": "text/x-python",
   "name": "python",
   "nbconvert_exporter": "python",
   "pygments_lexer": "ipython3",
   "version": "3.8.8"
  }
 },
 "nbformat": 4,
 "nbformat_minor": 5
}
