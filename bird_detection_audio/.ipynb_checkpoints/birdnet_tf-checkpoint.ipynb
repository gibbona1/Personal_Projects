{
 "cells": [
  {
   "cell_type": "code",
   "execution_count": 1,
   "id": "0155d093",
   "metadata": {},
   "outputs": [],
   "source": [
    "import pickle\n",
    "import numpy as np\n",
    "import pandas as pd\n",
    "import matplotlib.pyplot as plt\n",
    "import seaborn as sns"
   ]
  },
  {
   "cell_type": "code",
   "execution_count": 2,
   "id": "8f1762cc",
   "metadata": {},
   "outputs": [],
   "source": [
    "birdnet_file = 'BirdNET_Soundscape_Model.pkl'"
   ]
  },
  {
   "cell_type": "code",
   "execution_count": 3,
   "id": "becf2905",
   "metadata": {},
   "outputs": [],
   "source": [
    "NONLINEARITY = 'relu'\n",
    "FILTERS = [8, 16, 32, 64, 128]\n",
    "KERNEL_SIZES = [(5, 5), (3, 3), (3, 3), (3, 3), (3, 3)]\n",
    "RESNET_K = 4\n",
    "RESNET_N = 3"
   ]
  },
  {
   "cell_type": "code",
   "execution_count": 4,
   "id": "f0b0f4e0",
   "metadata": {},
   "outputs": [],
   "source": [
    "with open(birdnet_file, 'rb') as f:\n",
    "    loaded_model = pickle.load(f, encoding='latin1')"
   ]
  },
  {
   "cell_type": "code",
   "execution_count": 5,
   "id": "13e59b3f",
   "metadata": {},
   "outputs": [],
   "source": [
    "def without_keys(d, keys):\n",
    "    return {x: d[x] for x in d if x not in keys}"
   ]
  },
  {
   "cell_type": "code",
   "execution_count": 6,
   "id": "4953c8ae",
   "metadata": {},
   "outputs": [
    {
     "data": {
      "text/plain": [
       "{'im_dim': 1,\n",
       " 'spec_fmin': 150,\n",
       " 'spec_fmax': 15000,\n",
       " 'zero_centered_normalization': False,\n",
       " 'win_len': 512,\n",
       " 'sample_rate': 48000,\n",
       " 'spec_type': 'melspec',\n",
       " 'magnitude_scale': 'nonlinear',\n",
       " 'spec_length': 3.0,\n",
       " 'im_size': (384, 64)}"
      ]
     },
     "execution_count": 6,
     "metadata": {},
     "output_type": "execute_result"
    }
   ],
   "source": [
    "without_keys(loaded_model, ['classes', 'params', 'confidence_thresholds'])#.keys()"
   ]
  },
  {
   "cell_type": "code",
   "execution_count": 7,
   "id": "ef3bafe4",
   "metadata": {},
   "outputs": [],
   "source": [
    "classes = loaded_model['classes']"
   ]
  },
  {
   "cell_type": "code",
   "execution_count": 8,
   "id": "08e65c1a",
   "metadata": {},
   "outputs": [],
   "source": [
    "classes_names = [c.split('_')[1] for c in classes]"
   ]
  },
  {
   "cell_type": "code",
   "execution_count": 9,
   "id": "3e5d82bc",
   "metadata": {},
   "outputs": [],
   "source": [
    "classes_names_sort = classes_names\n",
    "classes_names_sort.sort()"
   ]
  },
  {
   "cell_type": "code",
   "execution_count": 10,
   "id": "4262239f",
   "metadata": {},
   "outputs": [
    {
     "name": "stdout",
     "output_type": "stream",
     "text": [
      "Audouin's Gull\n",
      "Black-headed Gull\n",
      "Bonaparte's Gull\n",
      "California Gull\n",
      "Caspian Gull\n",
      "Franklin's Gull\n",
      "Glaucous Gull\n",
      "Glaucous-winged Gull\n",
      "Great Black-backed Gull\n",
      "Gull-billed Tern\n",
      "Heermann's Gull\n",
      "Herring Gull\n",
      "Laughing Gull\n",
      "Lesser Black-backed Gull\n",
      "Little Gull\n",
      "Mediterranean Gull\n",
      "Mew Gull\n",
      "Pallas's Gull\n",
      "Ring-billed Gull\n",
      "Ross's Gull\n",
      "Sabine's Gull\n",
      "Slender-billed Gull\n",
      "Western Gull\n",
      "Yellow-legged Gull\n"
     ]
    }
   ],
   "source": [
    "for c in classes_names_sort:\n",
    "    if 'Gull' in c:\n",
    "        print(c)"
   ]
  },
  {
   "cell_type": "code",
   "execution_count": 11,
   "id": "d21ceafa",
   "metadata": {},
   "outputs": [],
   "source": [
    "import os\n",
    "rich_classes = os.listdir('richfield_birds_split')"
   ]
  },
  {
   "cell_type": "code",
   "execution_count": 12,
   "id": "0435c93a",
   "metadata": {},
   "outputs": [
    {
     "data": {
      "text/plain": [
       "['Common Buzzard',\n",
       " 'Common Kestrel',\n",
       " 'Common Snipe',\n",
       " 'Eurasian Curlew',\n",
       " 'European Herring Gull',\n",
       " 'European Robin',\n",
       " 'Meadow Pipit',\n",
       " 'Mute Swan',\n",
       " 'Northern Lapwing',\n",
       " 'Rook',\n",
       " 'Tundra Swan',\n",
       " 'Tundra Swan (Bewicks)']"
      ]
     },
     "execution_count": 12,
     "metadata": {},
     "output_type": "execute_result"
    }
   ],
   "source": [
    "#rich_classes[1] = 'Eurasian Kestrel'\n",
    "#rich_classes[4] = 'Herring Gull'\n",
    "rich_classes"
   ]
  },
  {
   "cell_type": "code",
   "execution_count": 13,
   "id": "4224321e",
   "metadata": {},
   "outputs": [
    {
     "data": {
      "text/plain": [
       "['Common Buzzard',\n",
       " 'Common Snipe',\n",
       " 'Eurasian Curlew',\n",
       " 'European Robin',\n",
       " 'Meadow Pipit',\n",
       " 'Mute Swan',\n",
       " 'Northern Lapwing',\n",
       " 'Rook',\n",
       " 'Tundra Swan']"
      ]
     },
     "execution_count": 13,
     "metadata": {},
     "output_type": "execute_result"
    }
   ],
   "source": [
    "sub_classes = [c for c in classes_names if c in rich_classes]\n",
    "sub_classes"
   ]
  },
  {
   "cell_type": "code",
   "execution_count": 14,
   "id": "58348513",
   "metadata": {},
   "outputs": [],
   "source": [
    "l_params = loaded_model['params']"
   ]
  },
  {
   "cell_type": "code",
   "execution_count": 15,
   "id": "125a6c73",
   "metadata": {},
   "outputs": [],
   "source": [
    "#loaded_model['im_size']"
   ]
  },
  {
   "cell_type": "code",
   "execution_count": 16,
   "id": "dfda2223",
   "metadata": {},
   "outputs": [],
   "source": [
    "#loaded_model.keys()"
   ]
  },
  {
   "cell_type": "code",
   "execution_count": 17,
   "id": "81e54964",
   "metadata": {},
   "outputs": [],
   "source": [
    "def input_layer_fn(x):\n",
    "    return (x['im_size'][0], x['im_size'][1], x['im_dim'])\n",
    "input_shape = input_layer_fn(loaded_model)"
   ]
  },
  {
   "cell_type": "code",
   "execution_count": 18,
   "id": "08e74b2b",
   "metadata": {},
   "outputs": [],
   "source": [
    "import tensorflow as tf\n",
    "from tensorflow.keras import layers"
   ]
  },
  {
   "cell_type": "code",
   "execution_count": 19,
   "id": "c8b429e8",
   "metadata": {},
   "outputs": [],
   "source": [
    "#input_layer_fn(loaded_model)"
   ]
  },
  {
   "cell_type": "code",
   "execution_count": 20,
   "id": "3f0096b3",
   "metadata": {},
   "outputs": [],
   "source": [
    "def logmeanexp(x, axis = 1, keepdims = False, sharpness = 5):\n",
    "    # in between maximum (high sharpness) and mean (low sharpness)\n",
    "    # https://arxiv.org/abs/1411.6228, Eq. 6\n",
    "    # return T.log(T.mean(T.exp(sharpness * x), axis, keepdims=keepdims)) / sharpness\n",
    "    # more stable version (Theano can only stabilize the plain logsumexp)\n",
    "    xmax  = tf.reduce_max(x, axis, keepdims=True)\n",
    "    xmax2 = tf.reduce_min(x, axis, keepdims=keepdims)\n",
    "    x = sharpness * (x - xmax)\n",
    "    y = tf.math.log(tf.reduce_mean(tf.math.exp(x), axis, keepdims=keepdims))\n",
    "    y = y / sharpness + xmax2\n",
    "    return y"
   ]
  },
  {
   "cell_type": "code",
   "execution_count": 21,
   "id": "27aff338",
   "metadata": {},
   "outputs": [],
   "source": [
    "def resblock(net_in, filters, kernel_size, stride=1, preactivated=True, block_id=1, name=''):\n",
    "\n",
    "    # Pre-activation\n",
    "    if block_id > 1:\n",
    "        net_pre = tf.keras.layers.ReLU()(net_in)\n",
    "    else:\n",
    "        net_pre = net_in\n",
    "\n",
    "    # Pre-activated shortcut?\n",
    "    if preactivated:\n",
    "        net_in = net_pre\n",
    "\n",
    "    # Bottleneck Convolution\n",
    "    if stride > 1:\n",
    "        net_pre = layers.Conv2D(net_pre.shape[-1], \n",
    "                                kernel_size = 1,\n",
    "                                padding     = 'same',\n",
    "                                activation  = 'relu')(net_pre)\n",
    "        net_pre = layers.BatchNormalization()(net_pre)\n",
    "    \n",
    "    # First Convolution     \n",
    "    net = layers.Conv2D(net_pre.shape[-1], \n",
    "                        kernel_size = kernel_size,\n",
    "                        padding     = 'same',\n",
    "                        activation  = 'relu')(net_pre)\n",
    "    net = layers.BatchNormalization()(net)\n",
    "\n",
    "    # Pooling layer\n",
    "    if stride > 1:\n",
    "        net = layers.MaxPooling2D(pool_size=(stride, stride))(net)\n",
    "\n",
    "    # Dropout Layer\n",
    "    net = layers.Dropout(0.5)(net)        \n",
    "\n",
    "    # Second Convolution\n",
    "    net = layers.Conv2D(filters, \n",
    "                        kernel_size = kernel_size,\n",
    "                        padding     = 'same')(net)\n",
    "    net = layers.BatchNormalization()(net)\n",
    "    \n",
    "    # Shortcut Layer\n",
    "    if not net.shape.as_list() == net_in.shape.as_list():\n",
    "\n",
    "        # Average pooling\n",
    "        shortcut = layers.AveragePooling2D(pool_size=(stride, stride), strides=stride)(net_in)\n",
    "\n",
    "        # Shortcut convolution\n",
    "        shortcut = layers.Conv2D(filters, \n",
    "                                 kernel_size = 1,\n",
    "                                 padding     = 'same')(shortcut)\n",
    "        shortcut = layers.BatchNormalization()(shortcut)\n",
    "        \n",
    "    else:\n",
    "        # Shortcut = input\n",
    "        shortcut = net_in\n",
    "    \n",
    "    # Merge Layer\n",
    "    out = layers.Add()([net, shortcut])\n",
    "    \n",
    "    return out"
   ]
  },
  {
   "cell_type": "code",
   "execution_count": 22,
   "id": "e6dc9fea",
   "metadata": {},
   "outputs": [],
   "source": [
    "def classificationBranch(net, kernel_size):\n",
    "\n",
    "    # Post Convolution\n",
    "    x = layers.Conv2D(int(FILTERS[-1] * RESNET_K), kernel_size,\n",
    "                  #padding     = 'same',\n",
    "                  activation  = 'relu')(net)\n",
    "    x = layers.BatchNormalization()(x)\n",
    "    x = layers.Dropout(0.5)(x)\n",
    "    \n",
    "    # Dense Convolution\n",
    "    x = layers.Conv2D(int(FILTERS[-1] * RESNET_K * 2), 1,\n",
    "                  #padding     = 'same',\n",
    "                  activation  = 'relu')(x)\n",
    "    x = layers.BatchNormalization()(x)\n",
    "    x = layers.Dropout(0.5)(x)\n",
    "    \n",
    "    # Class Convolution\n",
    "    x = layers.Conv2D(len(classes), 1,\n",
    "                      activation  = 'relu')(x)\n",
    "    x = layers.Flatten()(x)\n",
    "    #x = layers.MaxPooling2D(pool_size=(x.shape[1], x.shape[2]))(x)\n",
    "    x = layers.Dense(len(sub_classes))(x)\n",
    "    return x"
   ]
  },
  {
   "cell_type": "code",
   "execution_count": 23,
   "id": "d54aa911",
   "metadata": {},
   "outputs": [],
   "source": [
    "def buildNet(input_shp):\n",
    "    net_shape = loaded_model['im_size']\n",
    "\n",
    "    # Input layer for images\n",
    "    input_net = tf.keras.Input(input_shp)\n",
    "    \n",
    "    net = layers.Resizing(net_shape[0], net_shape[1])(input_net)\n",
    "\n",
    "    # Pre-processing stage\n",
    "    net = layers.Conv2D(int(FILTERS[0] * RESNET_K), 5,\n",
    "                        padding = 'same',\n",
    "                        activation  = 'relu')(net)\n",
    "    net = layers.BatchNormalization()(net)\n",
    "    \n",
    "    # Max pooling\n",
    "    net = layers.MaxPooling2D(pool_size=(2, 1))(net)\n",
    "\n",
    "    # Residual Stacks\n",
    "    for i in range(1, len(FILTERS)):\n",
    "        #print(\"i\",i)\n",
    "        net = resblock(net,\n",
    "                       filters=int(FILTERS[i] * RESNET_K),\n",
    "                       kernel_size=KERNEL_SIZES[i],\n",
    "                       stride=2,\n",
    "                       preactivated=True,\n",
    "                       block_id=i,\n",
    "                       name='BLOCK ' + str(i) + '-1')\n",
    "        \n",
    "        for j in range(1, RESNET_N):\n",
    "            #print(\"j\",j)\n",
    "            net = resblock(net,\n",
    "                           filters=int(FILTERS[i] * RESNET_K),\n",
    "                           kernel_size=KERNEL_SIZES[i],\n",
    "                           preactivated=False,\n",
    "                           block_id=i+j,\n",
    "                           name='BLOCK ' + str(i) + '-' + str(j + 1))\n",
    "    \n",
    "    # Post Activation\n",
    "    net = layers.BatchNormalization()(net)\n",
    "    net = layers.ReLU()(net)\n",
    "    \n",
    "    # Classification branch\n",
    "    net = classificationBranch(net,  (10, 4)) \n",
    "    \n",
    "    # Pooling\n",
    "    #net = layers.GlobalAveragePooling2D()(net)\n",
    "    #net = layers.Lambda(logmeanexp)(net)\n",
    "    #net = layers.Lambda(tf.squeeze)(net)\n",
    "    \n",
    "    # Sigmoid output\n",
    "    out = layers.Softmax()(net)\n",
    "    \n",
    "    out = tf.keras.Model(inputs=input_net, outputs= out)\n",
    "    return out"
   ]
  },
  {
   "cell_type": "code",
   "execution_count": 24,
   "id": "03fa99bc",
   "metadata": {},
   "outputs": [],
   "source": [
    "birdnet_model = buildNet((100, 180, 1))"
   ]
  },
  {
   "cell_type": "code",
   "execution_count": 25,
   "id": "92b85b1f",
   "metadata": {},
   "outputs": [
    {
     "data": {
      "text/plain": [
       "keras.engine.functional.Functional"
      ]
     },
     "execution_count": 25,
     "metadata": {},
     "output_type": "execute_result"
    }
   ],
   "source": [
    "type(birdnet_model)"
   ]
  },
  {
   "cell_type": "code",
   "execution_count": 26,
   "id": "7202f2c8",
   "metadata": {},
   "outputs": [
    {
     "name": "stdout",
     "output_type": "stream",
     "text": [
      "Model: \"model\"\n",
      "__________________________________________________________________________________________________\n",
      "Layer (type)                    Output Shape         Param #     Connected to                     \n",
      "==================================================================================================\n",
      "input_1 (InputLayer)            [(None, 100, 180, 1) 0                                            \n",
      "__________________________________________________________________________________________________\n",
      "resizing (Resizing)             (None, 384, 64, 1)   0           input_1[0][0]                    \n",
      "__________________________________________________________________________________________________\n",
      "conv2d (Conv2D)                 (None, 384, 64, 32)  832         resizing[0][0]                   \n",
      "__________________________________________________________________________________________________\n",
      "batch_normalization (BatchNorma (None, 384, 64, 32)  128         conv2d[0][0]                     \n",
      "__________________________________________________________________________________________________\n",
      "max_pooling2d (MaxPooling2D)    (None, 192, 64, 32)  0           batch_normalization[0][0]        \n",
      "__________________________________________________________________________________________________\n",
      "conv2d_1 (Conv2D)               (None, 192, 64, 32)  1056        max_pooling2d[0][0]              \n",
      "__________________________________________________________________________________________________\n",
      "batch_normalization_1 (BatchNor (None, 192, 64, 32)  128         conv2d_1[0][0]                   \n",
      "__________________________________________________________________________________________________\n",
      "conv2d_2 (Conv2D)               (None, 192, 64, 32)  9248        batch_normalization_1[0][0]      \n",
      "__________________________________________________________________________________________________\n",
      "batch_normalization_2 (BatchNor (None, 192, 64, 32)  128         conv2d_2[0][0]                   \n",
      "__________________________________________________________________________________________________\n",
      "max_pooling2d_1 (MaxPooling2D)  (None, 96, 32, 32)   0           batch_normalization_2[0][0]      \n",
      "__________________________________________________________________________________________________\n",
      "dropout (Dropout)               (None, 96, 32, 32)   0           max_pooling2d_1[0][0]            \n",
      "__________________________________________________________________________________________________\n",
      "average_pooling2d (AveragePooli (None, 96, 32, 32)   0           max_pooling2d[0][0]              \n",
      "__________________________________________________________________________________________________\n",
      "conv2d_3 (Conv2D)               (None, 96, 32, 64)   18496       dropout[0][0]                    \n",
      "__________________________________________________________________________________________________\n",
      "conv2d_4 (Conv2D)               (None, 96, 32, 64)   2112        average_pooling2d[0][0]          \n",
      "__________________________________________________________________________________________________\n",
      "batch_normalization_3 (BatchNor (None, 96, 32, 64)   256         conv2d_3[0][0]                   \n",
      "__________________________________________________________________________________________________\n",
      "batch_normalization_4 (BatchNor (None, 96, 32, 64)   256         conv2d_4[0][0]                   \n",
      "__________________________________________________________________________________________________\n",
      "add (Add)                       (None, 96, 32, 64)   0           batch_normalization_3[0][0]      \n",
      "                                                                 batch_normalization_4[0][0]      \n",
      "__________________________________________________________________________________________________\n",
      "re_lu (ReLU)                    (None, 96, 32, 64)   0           add[0][0]                        \n",
      "__________________________________________________________________________________________________\n",
      "conv2d_5 (Conv2D)               (None, 96, 32, 64)   36928       re_lu[0][0]                      \n",
      "__________________________________________________________________________________________________\n",
      "batch_normalization_5 (BatchNor (None, 96, 32, 64)   256         conv2d_5[0][0]                   \n",
      "__________________________________________________________________________________________________\n",
      "dropout_1 (Dropout)             (None, 96, 32, 64)   0           batch_normalization_5[0][0]      \n",
      "__________________________________________________________________________________________________\n",
      "conv2d_6 (Conv2D)               (None, 96, 32, 64)   36928       dropout_1[0][0]                  \n",
      "__________________________________________________________________________________________________\n",
      "batch_normalization_6 (BatchNor (None, 96, 32, 64)   256         conv2d_6[0][0]                   \n",
      "__________________________________________________________________________________________________\n",
      "add_1 (Add)                     (None, 96, 32, 64)   0           batch_normalization_6[0][0]      \n",
      "                                                                 add[0][0]                        \n",
      "__________________________________________________________________________________________________\n",
      "re_lu_1 (ReLU)                  (None, 96, 32, 64)   0           add_1[0][0]                      \n",
      "__________________________________________________________________________________________________\n",
      "conv2d_7 (Conv2D)               (None, 96, 32, 64)   36928       re_lu_1[0][0]                    \n",
      "__________________________________________________________________________________________________\n",
      "batch_normalization_7 (BatchNor (None, 96, 32, 64)   256         conv2d_7[0][0]                   \n",
      "__________________________________________________________________________________________________\n",
      "dropout_2 (Dropout)             (None, 96, 32, 64)   0           batch_normalization_7[0][0]      \n",
      "__________________________________________________________________________________________________\n",
      "conv2d_8 (Conv2D)               (None, 96, 32, 64)   36928       dropout_2[0][0]                  \n",
      "__________________________________________________________________________________________________\n",
      "batch_normalization_8 (BatchNor (None, 96, 32, 64)   256         conv2d_8[0][0]                   \n",
      "__________________________________________________________________________________________________\n",
      "add_2 (Add)                     (None, 96, 32, 64)   0           batch_normalization_8[0][0]      \n",
      "                                                                 add_1[0][0]                      \n",
      "__________________________________________________________________________________________________\n",
      "re_lu_2 (ReLU)                  (None, 96, 32, 64)   0           add_2[0][0]                      \n",
      "__________________________________________________________________________________________________\n",
      "conv2d_9 (Conv2D)               (None, 96, 32, 64)   4160        re_lu_2[0][0]                    \n",
      "__________________________________________________________________________________________________\n",
      "batch_normalization_9 (BatchNor (None, 96, 32, 64)   256         conv2d_9[0][0]                   \n",
      "__________________________________________________________________________________________________\n",
      "conv2d_10 (Conv2D)              (None, 96, 32, 64)   36928       batch_normalization_9[0][0]      \n",
      "__________________________________________________________________________________________________\n",
      "batch_normalization_10 (BatchNo (None, 96, 32, 64)   256         conv2d_10[0][0]                  \n",
      "__________________________________________________________________________________________________\n",
      "max_pooling2d_2 (MaxPooling2D)  (None, 48, 16, 64)   0           batch_normalization_10[0][0]     \n",
      "__________________________________________________________________________________________________\n",
      "dropout_3 (Dropout)             (None, 48, 16, 64)   0           max_pooling2d_2[0][0]            \n",
      "__________________________________________________________________________________________________\n",
      "average_pooling2d_1 (AveragePoo (None, 48, 16, 64)   0           re_lu_2[0][0]                    \n",
      "__________________________________________________________________________________________________\n",
      "conv2d_11 (Conv2D)              (None, 48, 16, 128)  73856       dropout_3[0][0]                  \n",
      "__________________________________________________________________________________________________\n",
      "conv2d_12 (Conv2D)              (None, 48, 16, 128)  8320        average_pooling2d_1[0][0]        \n",
      "__________________________________________________________________________________________________\n",
      "batch_normalization_11 (BatchNo (None, 48, 16, 128)  512         conv2d_11[0][0]                  \n",
      "__________________________________________________________________________________________________\n",
      "batch_normalization_12 (BatchNo (None, 48, 16, 128)  512         conv2d_12[0][0]                  \n",
      "__________________________________________________________________________________________________\n",
      "add_3 (Add)                     (None, 48, 16, 128)  0           batch_normalization_11[0][0]     \n",
      "                                                                 batch_normalization_12[0][0]     \n",
      "__________________________________________________________________________________________________\n",
      "re_lu_3 (ReLU)                  (None, 48, 16, 128)  0           add_3[0][0]                      \n",
      "__________________________________________________________________________________________________\n",
      "conv2d_13 (Conv2D)              (None, 48, 16, 128)  147584      re_lu_3[0][0]                    \n",
      "__________________________________________________________________________________________________\n",
      "batch_normalization_13 (BatchNo (None, 48, 16, 128)  512         conv2d_13[0][0]                  \n",
      "__________________________________________________________________________________________________\n",
      "dropout_4 (Dropout)             (None, 48, 16, 128)  0           batch_normalization_13[0][0]     \n",
      "__________________________________________________________________________________________________\n",
      "conv2d_14 (Conv2D)              (None, 48, 16, 128)  147584      dropout_4[0][0]                  \n",
      "__________________________________________________________________________________________________\n",
      "batch_normalization_14 (BatchNo (None, 48, 16, 128)  512         conv2d_14[0][0]                  \n",
      "__________________________________________________________________________________________________\n",
      "add_4 (Add)                     (None, 48, 16, 128)  0           batch_normalization_14[0][0]     \n",
      "                                                                 add_3[0][0]                      \n",
      "__________________________________________________________________________________________________\n",
      "re_lu_4 (ReLU)                  (None, 48, 16, 128)  0           add_4[0][0]                      \n",
      "__________________________________________________________________________________________________\n",
      "conv2d_15 (Conv2D)              (None, 48, 16, 128)  147584      re_lu_4[0][0]                    \n",
      "__________________________________________________________________________________________________\n",
      "batch_normalization_15 (BatchNo (None, 48, 16, 128)  512         conv2d_15[0][0]                  \n",
      "__________________________________________________________________________________________________\n",
      "dropout_5 (Dropout)             (None, 48, 16, 128)  0           batch_normalization_15[0][0]     \n",
      "__________________________________________________________________________________________________\n",
      "conv2d_16 (Conv2D)              (None, 48, 16, 128)  147584      dropout_5[0][0]                  \n",
      "__________________________________________________________________________________________________\n",
      "batch_normalization_16 (BatchNo (None, 48, 16, 128)  512         conv2d_16[0][0]                  \n",
      "__________________________________________________________________________________________________\n",
      "add_5 (Add)                     (None, 48, 16, 128)  0           batch_normalization_16[0][0]     \n",
      "                                                                 add_4[0][0]                      \n",
      "__________________________________________________________________________________________________\n",
      "re_lu_5 (ReLU)                  (None, 48, 16, 128)  0           add_5[0][0]                      \n",
      "__________________________________________________________________________________________________\n",
      "conv2d_17 (Conv2D)              (None, 48, 16, 128)  16512       re_lu_5[0][0]                    \n",
      "__________________________________________________________________________________________________\n",
      "batch_normalization_17 (BatchNo (None, 48, 16, 128)  512         conv2d_17[0][0]                  \n",
      "__________________________________________________________________________________________________\n",
      "conv2d_18 (Conv2D)              (None, 48, 16, 128)  147584      batch_normalization_17[0][0]     \n",
      "__________________________________________________________________________________________________\n",
      "batch_normalization_18 (BatchNo (None, 48, 16, 128)  512         conv2d_18[0][0]                  \n",
      "__________________________________________________________________________________________________\n",
      "max_pooling2d_3 (MaxPooling2D)  (None, 24, 8, 128)   0           batch_normalization_18[0][0]     \n",
      "__________________________________________________________________________________________________\n",
      "dropout_6 (Dropout)             (None, 24, 8, 128)   0           max_pooling2d_3[0][0]            \n",
      "__________________________________________________________________________________________________\n",
      "average_pooling2d_2 (AveragePoo (None, 24, 8, 128)   0           re_lu_5[0][0]                    \n",
      "__________________________________________________________________________________________________\n",
      "conv2d_19 (Conv2D)              (None, 24, 8, 256)   295168      dropout_6[0][0]                  \n",
      "__________________________________________________________________________________________________\n",
      "conv2d_20 (Conv2D)              (None, 24, 8, 256)   33024       average_pooling2d_2[0][0]        \n",
      "__________________________________________________________________________________________________\n",
      "batch_normalization_19 (BatchNo (None, 24, 8, 256)   1024        conv2d_19[0][0]                  \n",
      "__________________________________________________________________________________________________\n",
      "batch_normalization_20 (BatchNo (None, 24, 8, 256)   1024        conv2d_20[0][0]                  \n",
      "__________________________________________________________________________________________________\n",
      "add_6 (Add)                     (None, 24, 8, 256)   0           batch_normalization_19[0][0]     \n",
      "                                                                 batch_normalization_20[0][0]     \n",
      "__________________________________________________________________________________________________\n",
      "re_lu_6 (ReLU)                  (None, 24, 8, 256)   0           add_6[0][0]                      \n",
      "__________________________________________________________________________________________________\n",
      "conv2d_21 (Conv2D)              (None, 24, 8, 256)   590080      re_lu_6[0][0]                    \n",
      "__________________________________________________________________________________________________\n",
      "batch_normalization_21 (BatchNo (None, 24, 8, 256)   1024        conv2d_21[0][0]                  \n",
      "__________________________________________________________________________________________________\n",
      "dropout_7 (Dropout)             (None, 24, 8, 256)   0           batch_normalization_21[0][0]     \n",
      "__________________________________________________________________________________________________\n",
      "conv2d_22 (Conv2D)              (None, 24, 8, 256)   590080      dropout_7[0][0]                  \n",
      "__________________________________________________________________________________________________\n",
      "batch_normalization_22 (BatchNo (None, 24, 8, 256)   1024        conv2d_22[0][0]                  \n",
      "__________________________________________________________________________________________________\n",
      "add_7 (Add)                     (None, 24, 8, 256)   0           batch_normalization_22[0][0]     \n",
      "                                                                 add_6[0][0]                      \n",
      "__________________________________________________________________________________________________\n",
      "re_lu_7 (ReLU)                  (None, 24, 8, 256)   0           add_7[0][0]                      \n",
      "__________________________________________________________________________________________________\n",
      "conv2d_23 (Conv2D)              (None, 24, 8, 256)   590080      re_lu_7[0][0]                    \n",
      "__________________________________________________________________________________________________\n",
      "batch_normalization_23 (BatchNo (None, 24, 8, 256)   1024        conv2d_23[0][0]                  \n",
      "__________________________________________________________________________________________________\n",
      "dropout_8 (Dropout)             (None, 24, 8, 256)   0           batch_normalization_23[0][0]     \n",
      "__________________________________________________________________________________________________\n",
      "conv2d_24 (Conv2D)              (None, 24, 8, 256)   590080      dropout_8[0][0]                  \n",
      "__________________________________________________________________________________________________\n",
      "batch_normalization_24 (BatchNo (None, 24, 8, 256)   1024        conv2d_24[0][0]                  \n",
      "__________________________________________________________________________________________________\n",
      "add_8 (Add)                     (None, 24, 8, 256)   0           batch_normalization_24[0][0]     \n",
      "                                                                 add_7[0][0]                      \n",
      "__________________________________________________________________________________________________\n",
      "re_lu_8 (ReLU)                  (None, 24, 8, 256)   0           add_8[0][0]                      \n",
      "__________________________________________________________________________________________________\n",
      "conv2d_25 (Conv2D)              (None, 24, 8, 256)   65792       re_lu_8[0][0]                    \n",
      "__________________________________________________________________________________________________\n",
      "batch_normalization_25 (BatchNo (None, 24, 8, 256)   1024        conv2d_25[0][0]                  \n",
      "__________________________________________________________________________________________________\n",
      "conv2d_26 (Conv2D)              (None, 24, 8, 256)   590080      batch_normalization_25[0][0]     \n",
      "__________________________________________________________________________________________________\n",
      "batch_normalization_26 (BatchNo (None, 24, 8, 256)   1024        conv2d_26[0][0]                  \n",
      "__________________________________________________________________________________________________\n",
      "max_pooling2d_4 (MaxPooling2D)  (None, 12, 4, 256)   0           batch_normalization_26[0][0]     \n",
      "__________________________________________________________________________________________________\n",
      "dropout_9 (Dropout)             (None, 12, 4, 256)   0           max_pooling2d_4[0][0]            \n",
      "__________________________________________________________________________________________________\n",
      "average_pooling2d_3 (AveragePoo (None, 12, 4, 256)   0           re_lu_8[0][0]                    \n",
      "__________________________________________________________________________________________________\n",
      "conv2d_27 (Conv2D)              (None, 12, 4, 512)   1180160     dropout_9[0][0]                  \n",
      "__________________________________________________________________________________________________\n",
      "conv2d_28 (Conv2D)              (None, 12, 4, 512)   131584      average_pooling2d_3[0][0]        \n",
      "__________________________________________________________________________________________________\n",
      "batch_normalization_27 (BatchNo (None, 12, 4, 512)   2048        conv2d_27[0][0]                  \n",
      "__________________________________________________________________________________________________\n",
      "batch_normalization_28 (BatchNo (None, 12, 4, 512)   2048        conv2d_28[0][0]                  \n",
      "__________________________________________________________________________________________________\n",
      "add_9 (Add)                     (None, 12, 4, 512)   0           batch_normalization_27[0][0]     \n",
      "                                                                 batch_normalization_28[0][0]     \n",
      "__________________________________________________________________________________________________\n",
      "re_lu_9 (ReLU)                  (None, 12, 4, 512)   0           add_9[0][0]                      \n",
      "__________________________________________________________________________________________________\n",
      "conv2d_29 (Conv2D)              (None, 12, 4, 512)   2359808     re_lu_9[0][0]                    \n",
      "__________________________________________________________________________________________________\n",
      "batch_normalization_29 (BatchNo (None, 12, 4, 512)   2048        conv2d_29[0][0]                  \n",
      "__________________________________________________________________________________________________\n",
      "dropout_10 (Dropout)            (None, 12, 4, 512)   0           batch_normalization_29[0][0]     \n",
      "__________________________________________________________________________________________________\n",
      "conv2d_30 (Conv2D)              (None, 12, 4, 512)   2359808     dropout_10[0][0]                 \n",
      "__________________________________________________________________________________________________\n",
      "batch_normalization_30 (BatchNo (None, 12, 4, 512)   2048        conv2d_30[0][0]                  \n",
      "__________________________________________________________________________________________________\n",
      "add_10 (Add)                    (None, 12, 4, 512)   0           batch_normalization_30[0][0]     \n",
      "                                                                 add_9[0][0]                      \n",
      "__________________________________________________________________________________________________\n",
      "re_lu_10 (ReLU)                 (None, 12, 4, 512)   0           add_10[0][0]                     \n",
      "__________________________________________________________________________________________________\n",
      "conv2d_31 (Conv2D)              (None, 12, 4, 512)   2359808     re_lu_10[0][0]                   \n",
      "__________________________________________________________________________________________________\n",
      "batch_normalization_31 (BatchNo (None, 12, 4, 512)   2048        conv2d_31[0][0]                  \n",
      "__________________________________________________________________________________________________\n",
      "dropout_11 (Dropout)            (None, 12, 4, 512)   0           batch_normalization_31[0][0]     \n",
      "__________________________________________________________________________________________________\n",
      "conv2d_32 (Conv2D)              (None, 12, 4, 512)   2359808     dropout_11[0][0]                 \n",
      "__________________________________________________________________________________________________\n",
      "batch_normalization_32 (BatchNo (None, 12, 4, 512)   2048        conv2d_32[0][0]                  \n",
      "__________________________________________________________________________________________________\n",
      "add_11 (Add)                    (None, 12, 4, 512)   0           batch_normalization_32[0][0]     \n",
      "                                                                 add_10[0][0]                     \n",
      "__________________________________________________________________________________________________\n",
      "batch_normalization_33 (BatchNo (None, 12, 4, 512)   2048        add_11[0][0]                     \n",
      "__________________________________________________________________________________________________\n",
      "re_lu_11 (ReLU)                 (None, 12, 4, 512)   0           batch_normalization_33[0][0]     \n",
      "__________________________________________________________________________________________________\n",
      "conv2d_33 (Conv2D)              (None, 3, 1, 512)    10486272    re_lu_11[0][0]                   \n",
      "__________________________________________________________________________________________________\n",
      "batch_normalization_34 (BatchNo (None, 3, 1, 512)    2048        conv2d_33[0][0]                  \n",
      "__________________________________________________________________________________________________\n",
      "dropout_12 (Dropout)            (None, 3, 1, 512)    0           batch_normalization_34[0][0]     \n",
      "__________________________________________________________________________________________________\n",
      "conv2d_34 (Conv2D)              (None, 3, 1, 1024)   525312      dropout_12[0][0]                 \n",
      "__________________________________________________________________________________________________\n",
      "batch_normalization_35 (BatchNo (None, 3, 1, 1024)   4096        conv2d_34[0][0]                  \n",
      "__________________________________________________________________________________________________\n",
      "dropout_13 (Dropout)            (None, 3, 1, 1024)   0           batch_normalization_35[0][0]     \n",
      "__________________________________________________________________________________________________\n",
      "conv2d_35 (Conv2D)              (None, 3, 1, 987)    1011675     dropout_13[0][0]                 \n",
      "__________________________________________________________________________________________________\n",
      "flatten (Flatten)               (None, 2961)         0           conv2d_35[0][0]                  \n",
      "__________________________________________________________________________________________________\n",
      "dense (Dense)                   (None, 9)            26658       flatten[0][0]                    \n",
      "__________________________________________________________________________________________________\n",
      "softmax (Softmax)               (None, 9)            0           dense[0][0]                      \n",
      "==================================================================================================\n",
      "Total params: 27,237,629\n",
      "Trainable params: 27,220,029\n",
      "Non-trainable params: 17,600\n",
      "__________________________________________________________________________________________________\n"
     ]
    }
   ],
   "source": [
    "birdnet_model.summary()"
   ]
  },
  {
   "cell_type": "code",
   "execution_count": 27,
   "id": "399157b5",
   "metadata": {},
   "outputs": [],
   "source": [
    "#Check parameters and try load theano/lasagne ones into it"
   ]
  },
  {
   "cell_type": "code",
   "execution_count": 28,
   "id": "2ecd15ab",
   "metadata": {},
   "outputs": [
    {
     "name": "stderr",
     "output_type": "stream",
     "text": [
      "C:\\Users\\Anthony\\Anaconda3\\lib\\site-packages\\keras\\utils\\generic_utils.py:494: CustomMaskWarning: Custom mask layers require a config and must override get_config. When loading, the custom mask layer must be passed to the custom_objects argument.\n",
      "  warnings.warn('Custom mask layers require a config and must override '\n"
     ]
    }
   ],
   "source": [
    "model_config = birdnet_model.get_config()"
   ]
  },
  {
   "cell_type": "code",
   "execution_count": 29,
   "id": "8d1c4453",
   "metadata": {
    "scrolled": true
   },
   "outputs": [],
   "source": [
    "i=0\n",
    "conv_layer_indices = []\n",
    "bn_layer_indices   = []\n",
    "for layer in birdnet_model.layers:\n",
    "    if layer.name.startswith('conv'):\n",
    "        conv_layer_indices.append(i)\n",
    "    if layer.name.startswith('batch_norm'):\n",
    "        bn_layer_indices.append(i)\n",
    "    #print(i)\n",
    "    i += 1\n",
    "    #print(layer.name)\n",
    "    #lyr = layer.get_weights()\n",
    "    #if(len(lyr)==0):\n",
    "    #    print(lyr)\n",
    "    #else:\n",
    "    #    print(lyr[0].shape)\n",
    "    #    print(lyr[1].shape)\n",
    "    #    if layer.name.startswith('batch_norm'):\n",
    "    #        print(lyr[2].shape)\n",
    "    #        print(lyr[3].shape)"
   ]
  },
  {
   "cell_type": "code",
   "execution_count": 30,
   "id": "db364717",
   "metadata": {},
   "outputs": [],
   "source": [
    "#len(l_params)"
   ]
  },
  {
   "cell_type": "code",
   "execution_count": 31,
   "id": "0fc085ba",
   "metadata": {
    "scrolled": true
   },
   "outputs": [],
   "source": [
    "i=0\n",
    "conv_layer_indices_params = []\n",
    "bn_layer_indices_params   = []\n",
    "for p in l_params:#[0].shape\n",
    "    #print(i)\n",
    "    if len(p.shape) == 4:\n",
    "        conv_layer_indices_params.append(i)\n",
    "        bn_layer_indices_params.append(i+1)\n",
    "        if i+5 < len(l_params) and not len(l_params[i+5].shape) == 4:\n",
    "            bn_layer_indices_params.append(i+5)\n",
    "        #print(p.transpose().shape)\n",
    "    #else:\n",
    "        #print(p.shape)\n",
    "    i += 1\n",
    "bn_layer_indices_params = bn_layer_indices_params[:-1]"
   ]
  },
  {
   "cell_type": "code",
   "execution_count": 32,
   "id": "e8bb222e",
   "metadata": {},
   "outputs": [],
   "source": [
    "#print(conv_layer_indices)"
   ]
  },
  {
   "cell_type": "code",
   "execution_count": 33,
   "id": "498f3189",
   "metadata": {},
   "outputs": [],
   "source": [
    "#print(conv_layer_indices_params)"
   ]
  },
  {
   "cell_type": "code",
   "execution_count": 34,
   "id": "9ef2140f",
   "metadata": {},
   "outputs": [],
   "source": [
    "#print(len(conv_layer_indices_params))\n",
    "#print(len(conv_layer_indices))"
   ]
  },
  {
   "cell_type": "code",
   "execution_count": 35,
   "id": "4e65f284",
   "metadata": {},
   "outputs": [],
   "source": [
    "#print(bn_layer_indices)"
   ]
  },
  {
   "cell_type": "code",
   "execution_count": 36,
   "id": "cb5ef426",
   "metadata": {},
   "outputs": [],
   "source": [
    "#print(bn_layer_indices_params)"
   ]
  },
  {
   "cell_type": "code",
   "execution_count": 37,
   "id": "456f1455",
   "metadata": {},
   "outputs": [],
   "source": [
    "#print(len(bn_layer_indices))\n",
    "#print(len(bn_layer_indices_params))"
   ]
  },
  {
   "cell_type": "code",
   "execution_count": 38,
   "id": "06268baf",
   "metadata": {},
   "outputs": [],
   "source": [
    "#Check batch norm shapes to copy are equal\n",
    "#for i in range(len(bn_layer_indices)):\n",
    "#    lyr = birdnet_model.layers[bn_layer_indices[i]].get_weights()\n",
    "#    if(len(lyr)==0):\n",
    "#        print(bn_layer_indices[i], \n",
    "#              lyr,'-',\n",
    "#              bn_layer_indices_params[i], \n",
    "#              l_params[bn_layer_indices_params[i]].shape)\n",
    "#    else:\n",
    "#        print(bn_layer_indices[i], \n",
    "#              lyr[0].shape,'-',\n",
    "#              bn_layer_indices_params[i],\n",
    "#              l_params[bn_layer_indices_params[i]].shape)   "
   ]
  },
  {
   "cell_type": "code",
   "execution_count": 39,
   "id": "c5845cdb",
   "metadata": {},
   "outputs": [],
   "source": [
    "def copy_conv_weights(model, l_params, tf_indices, param_indices):\n",
    "    conf = model.get_config()\n",
    "    layer_names = [conf['layers'][x]['config']['name'] for x in range(len(conf['layers']))]\n",
    "    conv_layer_names = [x for x in layer_names if x.startswith('conv')]\n",
    "    for idx, layer in enumerate(model.layers):\n",
    "        if layer.name in conv_layer_names:\n",
    "            idy = param_indices[tf_indices.index(idx)]\n",
    "            #print(l_params[idy].transpose().shape)\n",
    "            #print(l_params[idy+1].transpose().shape)\n",
    "            #layer.set_weights([l_params[idy].transpose(),params[idy+1].transpose()])\n",
    "            layer.set_weights([l_params[idy].transpose(),tf.zeros(l_params[idy+1].transpose().shape)])"
   ]
  },
  {
   "cell_type": "code",
   "execution_count": 40,
   "id": "b3f3fff7",
   "metadata": {},
   "outputs": [],
   "source": [
    "#layer.set_weights([l_params[idy].transpose(),tf.zeros(l_params[idy+1].transpose().shape)])"
   ]
  },
  {
   "cell_type": "code",
   "execution_count": 41,
   "id": "73091341",
   "metadata": {},
   "outputs": [],
   "source": [
    "#batch norm weights\n",
    "def copy_bn_weights(model, l_params, tf_indices, param_indices):\n",
    "    conf = model.get_config()\n",
    "    layer_names = [conf['layers'][x]['config']['name'] for x in range(len(conf['layers']))]\n",
    "    bn_layer_names = [x for x in layer_names if x.startswith('batch_norm')]\n",
    "    #print(bn_layer_names)\n",
    "    for idx, layer in enumerate(model.layers):\n",
    "        if layer.name in bn_layer_names:\n",
    "            #print('idx',idx)\n",
    "            #print('tf_indices.index(idx)',tf_indices.index(idx))\n",
    "            #print(param_indices[tf_indices.index(idx)])\n",
    "            idy = param_indices[tf_indices.index(idx)]\n",
    "            layer.set_weights([l_params[idy], l_params[idy+1], l_params[idy+2], l_params[idy+3]])"
   ]
  },
  {
   "cell_type": "code",
   "execution_count": 42,
   "id": "38608fa6",
   "metadata": {},
   "outputs": [],
   "source": [
    "copy_conv_weights(birdnet_model, l_params, conv_layer_indices, conv_layer_indices_params)"
   ]
  },
  {
   "cell_type": "code",
   "execution_count": 43,
   "id": "7f7e7efc",
   "metadata": {},
   "outputs": [],
   "source": [
    "copy_bn_weights(birdnet_model, l_params, bn_layer_indices, bn_layer_indices_params)"
   ]
  },
  {
   "cell_type": "markdown",
   "id": "7d0cce0f",
   "metadata": {},
   "source": [
    "## Get spec data from helper functions"
   ]
  },
  {
   "cell_type": "code",
   "execution_count": 44,
   "id": "a9837c6d",
   "metadata": {},
   "outputs": [],
   "source": [
    "from tf_helpers import *"
   ]
  },
  {
   "cell_type": "code",
   "execution_count": 45,
   "id": "0efea813",
   "metadata": {},
   "outputs": [
    {
     "data": {
      "text/plain": [
       "['Common Buzzard',\n",
       " 'Common Kestrel',\n",
       " 'Common Snipe',\n",
       " 'Eurasian Curlew',\n",
       " 'European Herring Gull',\n",
       " 'European Robin',\n",
       " 'Meadow Pipit',\n",
       " 'Mute Swan',\n",
       " 'Northern Lapwing',\n",
       " 'Rook',\n",
       " 'Tundra Swan',\n",
       " 'Tundra Swan (Bewicks)']"
      ]
     },
     "execution_count": 45,
     "metadata": {},
     "output_type": "execute_result"
    }
   ],
   "source": [
    "#data_dir = pathlib.Path('/root/tensorflow_datasets/downloads/extracted/TAR_GZ.opihi.cs.uvic.ca_sound_music_speechbya81rFcWfLSW6ey5cynqyeq2qiePcL-7asMoNO6IQ0.tar.gz/music_speech')\n",
    "data_dir   = 'richfield_birds_split'#'dublin_dl_birds_split'#\n",
    "categories = np.array(tf.io.gfile.listdir(data_dir))\n",
    "categories = [category for category in categories if 'wav' not in category]\n",
    "categories"
   ]
  },
  {
   "cell_type": "code",
   "execution_count": 46,
   "id": "4f5f74dd",
   "metadata": {},
   "outputs": [],
   "source": [
    "def get_label(file_path):\n",
    "    parts = tf.strings.split(file_path, os.path.sep)\n",
    "\n",
    "    # Note: You'll use indexing here instead of tuple unpacking to enable this \n",
    "    # to work in a TensorFlow graph.\n",
    "    return parts[-2]"
   ]
  },
  {
   "cell_type": "code",
   "execution_count": 47,
   "id": "7edbca1d",
   "metadata": {},
   "outputs": [],
   "source": [
    "filenames = tf.io.gfile.glob(str(data_dir) + '/*/*')\n",
    "#filenames = tf.io.gfile.glob('birds/*/*')\n",
    "filenames = [filename for filename in filenames if 'wav' in filename and get_label(filename) in sub_classes]\n",
    "filenames = tf.random.shuffle(filenames)"
   ]
  },
  {
   "cell_type": "code",
   "execution_count": 48,
   "id": "b2653e93",
   "metadata": {},
   "outputs": [],
   "source": [
    "all_labs = [get_label(y).numpy().decode() for y in filenames]\n",
    "filename_df = pd.DataFrame({'name': filenames.numpy(),\n",
    "                            'label': all_labs\n",
    "                           })"
   ]
  },
  {
   "cell_type": "code",
   "execution_count": 49,
   "id": "48df9589",
   "metadata": {},
   "outputs": [],
   "source": [
    "from sklearn.model_selection import train_test_split\n",
    "train, test = train_test_split(filename_df, test_size=0.2, stratify=filename_df[['label']])\n",
    "train_files = tf.random.shuffle(train['name'])\n",
    "test_files  = tf.random.shuffle(test['name'])"
   ]
  },
  {
   "cell_type": "code",
   "execution_count": 50,
   "id": "700597ed",
   "metadata": {},
   "outputs": [],
   "source": [
    "train_labs = [tf.argmax(get_label(y) == categories) for y in train_files]\n",
    "test_labs  = [tf.argmax(get_label(y) == categories) for y in test_files]\n",
    "train_labs_sort = train_labs\n",
    "test_labs_sort  = test_labs\n",
    "train_labs_sort.sort()\n",
    "test_labs_sort.sort()"
   ]
  },
  {
   "cell_type": "code",
   "execution_count": 51,
   "id": "95232d2c",
   "metadata": {},
   "outputs": [
    {
     "data": {
      "text/plain": [
       "Text(0.5, 1.0, 'Test')"
      ]
     },
     "execution_count": 51,
     "metadata": {},
     "output_type": "execute_result"
    },
    {
     "data": {
      "image/png": "[encoded data removed]",
      "text/plain": [
       "<Figure size 2880x360 with 2 Axes>"
      ]
     },
     "metadata": {
      "needs_background": "light"
     },
     "output_type": "display_data"
    }
   ],
   "source": [
    "f, axes = plt.subplots(1, 2, figsize = (40,5))\n",
    "l = []\n",
    "for i in train_labs_sort:\n",
    "    l.append(categories[i])\n",
    "sns.set_style('darkgrid')\n",
    "sns.countplot(x = l, ax=axes[0])\n",
    "lb = axes[0].get_xlabel()\n",
    "axes[0].set_xlabel(lb, fontsize=8)\n",
    "axes[0].set_title(\"Train\", size = 14)\n",
    "\n",
    "lt = []\n",
    "for i in test_labs_sort:\n",
    "    lt.append(categories[i])\n",
    "sns.set_style('darkgrid')\n",
    "sns.countplot(x = lt, ax=axes[1])\n",
    "lbt = axes[1].get_xlabel()\n",
    "axes[1].set_xlabel(lbt, fontsize=10)\n",
    "axes[1].set_title(\"Test\", size = 14)"
   ]
  },
  {
   "cell_type": "code",
   "execution_count": 52,
   "id": "7fd9613d",
   "metadata": {},
   "outputs": [],
   "source": [
    "train_ds_mult = preprocess_dataset(train_files, choices=['Mod'], categories=sub_classes, req_width=200)\n",
    "test_ds_mult  = preprocess_dataset(test_files,  choices=['Mod'], categories=sub_classes, req_width=200)"
   ]
  },
  {
   "cell_type": "code",
   "execution_count": 53,
   "id": "31b2999d",
   "metadata": {},
   "outputs": [],
   "source": [
    "#X_train = [x for x,y in train_ds_mult]\n",
    "#y_train = [y for x,y in train_ds_mult]\n",
    "#X_test  = [x for x,y in test_ds_mult]\n",
    "#y_test  = [y for x,y in test_ds_mult]"
   ]
  },
  {
   "cell_type": "code",
   "execution_count": 54,
   "id": "ea31b5db",
   "metadata": {},
   "outputs": [],
   "source": [
    "#y_test"
   ]
  },
  {
   "cell_type": "code",
   "execution_count": 55,
   "id": "f95fe22a",
   "metadata": {},
   "outputs": [
    {
     "name": "stdout",
     "output_type": "stream",
     "text": [
      "(256, 200, 1)\n",
      "Alexandrine Parakeet\n"
     ]
    }
   ],
   "source": [
    "for spec, lab in train_ds_mult.take(1):\n",
    "    spec = spec\n",
    "    input_shape = tf.expand_dims(spec[:,:,0], axis=-1).shape\n",
    "    print(input_shape)\n",
    "    print(classes_names[lab])"
   ]
  },
  {
   "cell_type": "code",
   "execution_count": 56,
   "id": "51894a98",
   "metadata": {},
   "outputs": [
    {
     "data": {
      "text/plain": [
       "TensorShape([256, 200, 1])"
      ]
     },
     "execution_count": 56,
     "metadata": {},
     "output_type": "execute_result"
    }
   ],
   "source": [
    "spec.shape"
   ]
  },
  {
   "cell_type": "code",
   "execution_count": 57,
   "id": "612a5132",
   "metadata": {},
   "outputs": [
    {
     "data": {
      "image/png": "[encoded data removed]",
      "text/plain": [
       "<Figure size 432x288 with 1 Axes>"
      ]
     },
     "metadata": {},
     "output_type": "display_data"
    }
   ],
   "source": [
    "plt.imshow(np.log(spec[150:,:300,0]))\n",
    "plt.grid(False)"
   ]
  },
  {
   "cell_type": "code",
   "execution_count": 58,
   "id": "97e049e9",
   "metadata": {},
   "outputs": [],
   "source": [
    "AUTOTUNE   = tf.data.experimental.AUTOTUNE\n",
    "batch_size = 32\n",
    "train_ds_mult = train_ds_mult.batch(batch_size)\n",
    "test_ds_mult  = test_ds_mult.batch(batch_size)\n",
    "train_ds_mult = train_ds_mult.cache().prefetch(AUTOTUNE)\n",
    "test_ds_mult  = test_ds_mult.cache().prefetch(AUTOTUNE)"
   ]
  },
  {
   "cell_type": "code",
   "execution_count": 59,
   "id": "57e9ed37",
   "metadata": {},
   "outputs": [],
   "source": [
    "birdnet_model.compile(\n",
    "    optimizer = optimizers.Adam(learning_rate=0.0001),\n",
    "    loss      = losses.SparseCategoricalCrossentropy(from_logits=True),\n",
    "    metrics   = 'accuracy'\n",
    "    )"
   ]
  },
  {
   "cell_type": "code",
   "execution_count": 60,
   "id": "3348a7aa",
   "metadata": {},
   "outputs": [],
   "source": [
    "for lyr in birdnet_model.layers:\n",
    "    lyr.trainable = False\n",
    "for lyr in birdnet_model.layers[-5:]:\n",
    "    if lyr.name.startswith('dense') or lyr.name.startswith('conv'):\n",
    "        lyr.trainable = True"
   ]
  },
  {
   "cell_type": "code",
   "execution_count": 61,
   "id": "c5bd62d6",
   "metadata": {},
   "outputs": [],
   "source": [
    "#tf.stack(X_test)"
   ]
  },
  {
   "cell_type": "code",
   "execution_count": 62,
   "id": "8723bca8",
   "metadata": {},
   "outputs": [
    {
     "name": "stdout",
     "output_type": "stream",
     "text": [
      "15/15 [==============================] - 13s 765ms/step - loss: nan - accuracy: 0.1510\n"
     ]
    },
    {
     "data": {
      "text/plain": [
       "[nan, 0.15098468959331512]"
      ]
     },
     "execution_count": 62,
     "metadata": {},
     "output_type": "execute_result"
    }
   ],
   "source": [
    "birdnet_model.evaluate(test_ds_mult)"
   ]
  },
  {
   "cell_type": "code",
   "execution_count": 63,
   "id": "bdd0e4cb",
   "metadata": {},
   "outputs": [
    {
     "name": "stdout",
     "output_type": "stream",
     "text": [
      "Epoch 1/10\n",
      "57/57 [==============================] - 340s 6s/step - loss: 2.1972 - accuracy: 0.2001 - val_loss: 2.2910 - val_accuracy: 0.0810\n",
      "Epoch 2/10\n",
      "57/57 [==============================] - 372s 7s/step - loss: 2.1970 - accuracy: 0.2029 - val_loss: 2.2574 - val_accuracy: 0.1160\n",
      "Epoch 3/10\n",
      "17/57 [=======>......................] - ETA: 3:52 - loss: 2.1970 - accuracy: 0.2188"
     ]
    },
    {
     "ename": "KeyboardInterrupt",
     "evalue": "",
     "output_type": "error",
     "traceback": [
      "\u001b[1;31m---------------------------------------------------------------------------\u001b[0m",
      "\u001b[1;31mKeyboardInterrupt\u001b[0m                         Traceback (most recent call last)",
      "\u001b[1;32m<ipython-input-63-421ca4da7a65>\u001b[0m in \u001b[0;36m<module>\u001b[1;34m\u001b[0m\n\u001b[0;32m      1\u001b[0m \u001b[1;31m#birdnet_model.fit(train_ds_mult, )\u001b[0m\u001b[1;33m\u001b[0m\u001b[1;33m\u001b[0m\u001b[1;33m\u001b[0m\u001b[0m\n\u001b[1;32m----> 2\u001b[1;33m history = birdnet_model.fit(train_ds_mult,\n\u001b[0m\u001b[0;32m      3\u001b[0m                     \u001b[0mvalidation_data\u001b[0m \u001b[1;33m=\u001b[0m \u001b[0mtest_ds_mult\u001b[0m\u001b[1;33m,\u001b[0m\u001b[1;33m\u001b[0m\u001b[1;33m\u001b[0m\u001b[0m\n\u001b[0;32m      4\u001b[0m                     \u001b[0mepochs\u001b[0m          \u001b[1;33m=\u001b[0m \u001b[1;36m10\u001b[0m\u001b[1;33m,\u001b[0m\u001b[1;33m\u001b[0m\u001b[1;33m\u001b[0m\u001b[0m\n\u001b[0;32m      5\u001b[0m                     batch_size      = 32)\n",
      "\u001b[1;32m~\\Anaconda3\\lib\\site-packages\\keras\\engine\\training.py\u001b[0m in \u001b[0;36mfit\u001b[1;34m(self, x, y, batch_size, epochs, verbose, callbacks, validation_split, validation_data, shuffle, class_weight, sample_weight, initial_epoch, steps_per_epoch, validation_steps, validation_batch_size, validation_freq, max_queue_size, workers, use_multiprocessing)\u001b[0m\n\u001b[0;32m   1182\u001b[0m                 _r=1):\n\u001b[0;32m   1183\u001b[0m               \u001b[0mcallbacks\u001b[0m\u001b[1;33m.\u001b[0m\u001b[0mon_train_batch_begin\u001b[0m\u001b[1;33m(\u001b[0m\u001b[0mstep\u001b[0m\u001b[1;33m)\u001b[0m\u001b[1;33m\u001b[0m\u001b[1;33m\u001b[0m\u001b[0m\n\u001b[1;32m-> 1184\u001b[1;33m               \u001b[0mtmp_logs\u001b[0m \u001b[1;33m=\u001b[0m \u001b[0mself\u001b[0m\u001b[1;33m.\u001b[0m\u001b[0mtrain_function\u001b[0m\u001b[1;33m(\u001b[0m\u001b[0miterator\u001b[0m\u001b[1;33m)\u001b[0m\u001b[1;33m\u001b[0m\u001b[1;33m\u001b[0m\u001b[0m\n\u001b[0m\u001b[0;32m   1185\u001b[0m               \u001b[1;32mif\u001b[0m \u001b[0mdata_handler\u001b[0m\u001b[1;33m.\u001b[0m\u001b[0mshould_sync\u001b[0m\u001b[1;33m:\u001b[0m\u001b[1;33m\u001b[0m\u001b[1;33m\u001b[0m\u001b[0m\n\u001b[0;32m   1186\u001b[0m                 \u001b[0mcontext\u001b[0m\u001b[1;33m.\u001b[0m\u001b[0masync_wait\u001b[0m\u001b[1;33m(\u001b[0m\u001b[1;33m)\u001b[0m\u001b[1;33m\u001b[0m\u001b[1;33m\u001b[0m\u001b[0m\n",
      "\u001b[1;32m~\\Anaconda3\\lib\\site-packages\\tensorflow\\python\\eager\\def_function.py\u001b[0m in \u001b[0;36m__call__\u001b[1;34m(self, *args, **kwds)\u001b[0m\n\u001b[0;32m    883\u001b[0m \u001b[1;33m\u001b[0m\u001b[0m\n\u001b[0;32m    884\u001b[0m       \u001b[1;32mwith\u001b[0m \u001b[0mOptionalXlaContext\u001b[0m\u001b[1;33m(\u001b[0m\u001b[0mself\u001b[0m\u001b[1;33m.\u001b[0m\u001b[0m_jit_compile\u001b[0m\u001b[1;33m)\u001b[0m\u001b[1;33m:\u001b[0m\u001b[1;33m\u001b[0m\u001b[1;33m\u001b[0m\u001b[0m\n\u001b[1;32m--> 885\u001b[1;33m         \u001b[0mresult\u001b[0m \u001b[1;33m=\u001b[0m \u001b[0mself\u001b[0m\u001b[1;33m.\u001b[0m\u001b[0m_call\u001b[0m\u001b[1;33m(\u001b[0m\u001b[1;33m*\u001b[0m\u001b[0margs\u001b[0m\u001b[1;33m,\u001b[0m \u001b[1;33m**\u001b[0m\u001b[0mkwds\u001b[0m\u001b[1;33m)\u001b[0m\u001b[1;33m\u001b[0m\u001b[1;33m\u001b[0m\u001b[0m\n\u001b[0m\u001b[0;32m    886\u001b[0m \u001b[1;33m\u001b[0m\u001b[0m\n\u001b[0;32m    887\u001b[0m       \u001b[0mnew_tracing_count\u001b[0m \u001b[1;33m=\u001b[0m \u001b[0mself\u001b[0m\u001b[1;33m.\u001b[0m\u001b[0mexperimental_get_tracing_count\u001b[0m\u001b[1;33m(\u001b[0m\u001b[1;33m)\u001b[0m\u001b[1;33m\u001b[0m\u001b[1;33m\u001b[0m\u001b[0m\n",
      "\u001b[1;32m~\\Anaconda3\\lib\\site-packages\\tensorflow\\python\\eager\\def_function.py\u001b[0m in \u001b[0;36m_call\u001b[1;34m(self, *args, **kwds)\u001b[0m\n\u001b[0;32m    915\u001b[0m       \u001b[1;31m# In this case we have created variables on the first call, so we run the\u001b[0m\u001b[1;33m\u001b[0m\u001b[1;33m\u001b[0m\u001b[1;33m\u001b[0m\u001b[0m\n\u001b[0;32m    916\u001b[0m       \u001b[1;31m# defunned version which is guaranteed to never create variables.\u001b[0m\u001b[1;33m\u001b[0m\u001b[1;33m\u001b[0m\u001b[1;33m\u001b[0m\u001b[0m\n\u001b[1;32m--> 917\u001b[1;33m       \u001b[1;32mreturn\u001b[0m \u001b[0mself\u001b[0m\u001b[1;33m.\u001b[0m\u001b[0m_stateless_fn\u001b[0m\u001b[1;33m(\u001b[0m\u001b[1;33m*\u001b[0m\u001b[0margs\u001b[0m\u001b[1;33m,\u001b[0m \u001b[1;33m**\u001b[0m\u001b[0mkwds\u001b[0m\u001b[1;33m)\u001b[0m  \u001b[1;31m# pylint: disable=not-callable\u001b[0m\u001b[1;33m\u001b[0m\u001b[1;33m\u001b[0m\u001b[0m\n\u001b[0m\u001b[0;32m    918\u001b[0m     \u001b[1;32melif\u001b[0m \u001b[0mself\u001b[0m\u001b[1;33m.\u001b[0m\u001b[0m_stateful_fn\u001b[0m \u001b[1;32mis\u001b[0m \u001b[1;32mnot\u001b[0m \u001b[1;32mNone\u001b[0m\u001b[1;33m:\u001b[0m\u001b[1;33m\u001b[0m\u001b[1;33m\u001b[0m\u001b[0m\n\u001b[0;32m    919\u001b[0m       \u001b[1;31m# Release the lock early so that multiple threads can perform the call\u001b[0m\u001b[1;33m\u001b[0m\u001b[1;33m\u001b[0m\u001b[1;33m\u001b[0m\u001b[0m\n",
      "\u001b[1;32m~\\Anaconda3\\lib\\site-packages\\tensorflow\\python\\eager\\function.py\u001b[0m in \u001b[0;36m__call__\u001b[1;34m(self, *args, **kwargs)\u001b[0m\n\u001b[0;32m   3037\u001b[0m       (graph_function,\n\u001b[0;32m   3038\u001b[0m        filtered_flat_args) = self._maybe_define_function(args, kwargs)\n\u001b[1;32m-> 3039\u001b[1;33m     return graph_function._call_flat(\n\u001b[0m\u001b[0;32m   3040\u001b[0m         filtered_flat_args, captured_inputs=graph_function.captured_inputs)  # pylint: disable=protected-access\n\u001b[0;32m   3041\u001b[0m \u001b[1;33m\u001b[0m\u001b[0m\n",
      "\u001b[1;32m~\\Anaconda3\\lib\\site-packages\\tensorflow\\python\\eager\\function.py\u001b[0m in \u001b[0;36m_call_flat\u001b[1;34m(self, args, captured_inputs, cancellation_manager)\u001b[0m\n\u001b[0;32m   1961\u001b[0m         and executing_eagerly):\n\u001b[0;32m   1962\u001b[0m       \u001b[1;31m# No tape is watching; skip to running the function.\u001b[0m\u001b[1;33m\u001b[0m\u001b[1;33m\u001b[0m\u001b[1;33m\u001b[0m\u001b[0m\n\u001b[1;32m-> 1963\u001b[1;33m       return self._build_call_outputs(self._inference_function.call(\n\u001b[0m\u001b[0;32m   1964\u001b[0m           ctx, args, cancellation_manager=cancellation_manager))\n\u001b[0;32m   1965\u001b[0m     forward_backward = self._select_forward_and_backward_functions(\n",
      "\u001b[1;32m~\\Anaconda3\\lib\\site-packages\\tensorflow\\python\\eager\\function.py\u001b[0m in \u001b[0;36mcall\u001b[1;34m(self, ctx, args, cancellation_manager)\u001b[0m\n\u001b[0;32m    589\u001b[0m       \u001b[1;32mwith\u001b[0m \u001b[0m_InterpolateFunctionError\u001b[0m\u001b[1;33m(\u001b[0m\u001b[0mself\u001b[0m\u001b[1;33m)\u001b[0m\u001b[1;33m:\u001b[0m\u001b[1;33m\u001b[0m\u001b[1;33m\u001b[0m\u001b[0m\n\u001b[0;32m    590\u001b[0m         \u001b[1;32mif\u001b[0m \u001b[0mcancellation_manager\u001b[0m \u001b[1;32mis\u001b[0m \u001b[1;32mNone\u001b[0m\u001b[1;33m:\u001b[0m\u001b[1;33m\u001b[0m\u001b[1;33m\u001b[0m\u001b[0m\n\u001b[1;32m--> 591\u001b[1;33m           outputs = execute.execute(\n\u001b[0m\u001b[0;32m    592\u001b[0m               \u001b[0mstr\u001b[0m\u001b[1;33m(\u001b[0m\u001b[0mself\u001b[0m\u001b[1;33m.\u001b[0m\u001b[0msignature\u001b[0m\u001b[1;33m.\u001b[0m\u001b[0mname\u001b[0m\u001b[1;33m)\u001b[0m\u001b[1;33m,\u001b[0m\u001b[1;33m\u001b[0m\u001b[1;33m\u001b[0m\u001b[0m\n\u001b[0;32m    593\u001b[0m               \u001b[0mnum_outputs\u001b[0m\u001b[1;33m=\u001b[0m\u001b[0mself\u001b[0m\u001b[1;33m.\u001b[0m\u001b[0m_num_outputs\u001b[0m\u001b[1;33m,\u001b[0m\u001b[1;33m\u001b[0m\u001b[1;33m\u001b[0m\u001b[0m\n",
      "\u001b[1;32m~\\Anaconda3\\lib\\site-packages\\tensorflow\\python\\eager\\execute.py\u001b[0m in \u001b[0;36mquick_execute\u001b[1;34m(op_name, num_outputs, inputs, attrs, ctx, name)\u001b[0m\n\u001b[0;32m     57\u001b[0m   \u001b[1;32mtry\u001b[0m\u001b[1;33m:\u001b[0m\u001b[1;33m\u001b[0m\u001b[1;33m\u001b[0m\u001b[0m\n\u001b[0;32m     58\u001b[0m     \u001b[0mctx\u001b[0m\u001b[1;33m.\u001b[0m\u001b[0mensure_initialized\u001b[0m\u001b[1;33m(\u001b[0m\u001b[1;33m)\u001b[0m\u001b[1;33m\u001b[0m\u001b[1;33m\u001b[0m\u001b[0m\n\u001b[1;32m---> 59\u001b[1;33m     tensors = pywrap_tfe.TFE_Py_Execute(ctx._handle, device_name, op_name,\n\u001b[0m\u001b[0;32m     60\u001b[0m                                         inputs, attrs, num_outputs)\n\u001b[0;32m     61\u001b[0m   \u001b[1;32mexcept\u001b[0m \u001b[0mcore\u001b[0m\u001b[1;33m.\u001b[0m\u001b[0m_NotOkStatusException\u001b[0m \u001b[1;32mas\u001b[0m \u001b[0me\u001b[0m\u001b[1;33m:\u001b[0m\u001b[1;33m\u001b[0m\u001b[1;33m\u001b[0m\u001b[0m\n",
      "\u001b[1;31mKeyboardInterrupt\u001b[0m: "
     ]
    }
   ],
   "source": [
    "#birdnet_model.fit(train_ds_mult, )\n",
    "history = birdnet_model.fit(train_ds_mult,\n",
    "                    validation_data = test_ds_mult,\n",
    "                    epochs          = 10,\n",
    "                    batch_size      = 32)"
   ]
  }
 ],
 "metadata": {
  "kernelspec": {
   "display_name": "Python 3",
   "language": "python",
   "name": "python3"
  },
  "language_info": {
   "codemirror_mode": {
    "name": "ipython",
    "version": 3
   },
   "file_extension": ".py",
   "mimetype": "text/x-python",
   "name": "python",
   "nbconvert_exporter": "python",
   "pygments_lexer": "ipython3",
   "version": "3.8.8"
  }
 },
 "nbformat": 4,
 "nbformat_minor": 5
}
