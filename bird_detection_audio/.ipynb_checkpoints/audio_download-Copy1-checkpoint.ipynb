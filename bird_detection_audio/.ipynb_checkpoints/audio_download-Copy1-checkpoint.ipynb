{
 "cells": [
  {
   "cell_type": "code",
   "execution_count": 1,
   "id": "b36e1cc3",
   "metadata": {},
   "outputs": [],
   "source": [
    "import requests\n",
    "import os\n",
    "import json\n",
    "import pandas as pd\n",
    "from tqdm import tqdm"
   ]
  },
  {
   "cell_type": "code",
   "execution_count": 38,
   "id": "50771d45",
   "metadata": {},
   "outputs": [],
   "source": [
    "def xeno_download(search_string, abbrev_string = None, top_n = 250, ssp = None):\n",
    "    folder_sv = 'birds/'+search_string\n",
    "    find_bracket = (search_string.find(' ('))\n",
    "    if (ssp is not None) & (find_bracket == -1):\n",
    "        folder_sv = folder_sv + ' ('+ssp.capitalize()+')'\n",
    "    folder_sv = folder_sv +'/'\n",
    "    if not os.path.isdir(folder_sv):\n",
    "        os.mkdir(folder_sv)\n",
    "    if abbrev_string is None:\n",
    "        if ssp is not None:\n",
    "            abbrev_string = (search_string+ssp).replace(' ', '_').lower()\n",
    "        else:\n",
    "            abbrev_string = search_string.replace(' ', '_').lower()\n",
    "    if find_bracket != -1:\n",
    "        search_string = search_string[:find_bracket]\n",
    "    search_str = search_string.replace(' ', '%20').lower()\n",
    "    if ssp is not None:\n",
    "        url = 'https://www.xeno-canto.org/api/2/recordings?query=ssp:'+ssp\n",
    "    else:\n",
    "        url = 'https://www.xeno-canto.org/api/2/recordings?query='+search_str\n",
    "    doc = requests.get(url)\n",
    "    with open(abbrev_string+'-query.json', 'wb') as f:\n",
    "        f.write(doc.content)\n",
    "    \n",
    "    # Get the json entries from your downloaded json\n",
    "    jsonFile = open(abbrev_string+'-query.json', 'r')\n",
    "    values = json.load(jsonFile)\n",
    "    jsonFile.close()\n",
    "\n",
    "    # Create a pandas dataframe of records & convert to .csv file\n",
    "    record_df = pd.DataFrame(values['recordings'])\n",
    "    #record_df.to_csv('xc-'+abbrev_string+'.csv', index=False)\n",
    "    record_df = record_df[record_df.en.str.startswith(search_string)]\n",
    "    #return record_df\n",
    "    # Make wget input file\n",
    "    url_list = []\n",
    "    for file in record_df['file'].tolist():\n",
    "        url_list.append('https:{}'.format(file))\n",
    "    with open('xc-'+abbrev_string+'-urls.txt', 'w+') as f:\n",
    "        for item in url_list:\n",
    "            f.write(\"{}\\n\".format(item))\n",
    "            \n",
    "    txt_file = open('xc-'+abbrev_string+'-urls.txt', 'r')\n",
    "    url_list = [s.replace('\\n', '') for s in txt_file.readlines()]\n",
    "    #\n",
    "    url_list = url_list[:top_n]\n",
    "    # \n",
    "    for url_i in url_list:\n",
    "        filename_sv = folder_sv+'xc'+url_i.split('/')[3]+'.mp3'\n",
    "        if filename_sv in os.listdir(folder_sv):\n",
    "            continue\n",
    "        doc = requests.get(url_i)\n",
    "        with open(filename_sv, 'wb') as f:\n",
    "            f.write(doc.content)"
   ]
  },
  {
   "cell_type": "code",
   "execution_count": 3,
   "id": "dd9b54de",
   "metadata": {},
   "outputs": [],
   "source": [
    "species_df = pd.read_excel('species list richfield.xlsx')"
   ]
  },
  {
   "cell_type": "code",
   "execution_count": 4,
   "id": "e1b0bedb",
   "metadata": {},
   "outputs": [
    {
     "data": {
      "text/html": [
       "<div>\n",
       "<style scoped>\n",
       "    .dataframe tbody tr th:only-of-type {\n",
       "        vertical-align: middle;\n",
       "    }\n",
       "\n",
       "    .dataframe tbody tr th {\n",
       "        vertical-align: top;\n",
       "    }\n",
       "\n",
       "    .dataframe thead th {\n",
       "        text-align: right;\n",
       "    }\n",
       "</style>\n",
       "<table border=\"1\" class=\"dataframe\">\n",
       "  <thead>\n",
       "    <tr style=\"text-align: right;\">\n",
       "      <th></th>\n",
       "      <th>species</th>\n",
       "      <th>num_recordings</th>\n",
       "      <th>folder_label</th>\n",
       "      <th>ssp</th>\n",
       "    </tr>\n",
       "  </thead>\n",
       "  <tbody>\n",
       "    <tr>\n",
       "      <th>0</th>\n",
       "      <td>Buzzard</td>\n",
       "      <td>NaN</td>\n",
       "      <td>Common Buzzard</td>\n",
       "      <td>None</td>\n",
       "    </tr>\n",
       "    <tr>\n",
       "      <th>1</th>\n",
       "      <td>Kestrel</td>\n",
       "      <td>NaN</td>\n",
       "      <td>Common Kestrel</td>\n",
       "      <td>None</td>\n",
       "    </tr>\n",
       "    <tr>\n",
       "      <th>2</th>\n",
       "      <td>Curlew</td>\n",
       "      <td>NaN</td>\n",
       "      <td>Eurasian Curlew</td>\n",
       "      <td>None</td>\n",
       "    </tr>\n",
       "    <tr>\n",
       "      <th>3</th>\n",
       "      <td>Mute Swan</td>\n",
       "      <td>NaN</td>\n",
       "      <td>Mute Swan</td>\n",
       "      <td>None</td>\n",
       "    </tr>\n",
       "    <tr>\n",
       "      <th>4</th>\n",
       "      <td>Bewick's Swan</td>\n",
       "      <td>69.0</td>\n",
       "      <td>Tundra Swan (Bewicks)</td>\n",
       "      <td>bewickii</td>\n",
       "    </tr>\n",
       "    <tr>\n",
       "      <th>5</th>\n",
       "      <td>Snipe</td>\n",
       "      <td>NaN</td>\n",
       "      <td>Common Snipe</td>\n",
       "      <td>None</td>\n",
       "    </tr>\n",
       "    <tr>\n",
       "      <th>6</th>\n",
       "      <td>Meadow Pipit</td>\n",
       "      <td>NaN</td>\n",
       "      <td>Meadow Pipit</td>\n",
       "      <td>None</td>\n",
       "    </tr>\n",
       "    <tr>\n",
       "      <th>7</th>\n",
       "      <td>Herring Gull</td>\n",
       "      <td>NaN</td>\n",
       "      <td>European Herring Gull</td>\n",
       "      <td>None</td>\n",
       "    </tr>\n",
       "    <tr>\n",
       "      <th>8</th>\n",
       "      <td>Robin</td>\n",
       "      <td>NaN</td>\n",
       "      <td>European Robin</td>\n",
       "      <td>None</td>\n",
       "    </tr>\n",
       "    <tr>\n",
       "      <th>9</th>\n",
       "      <td>Rook</td>\n",
       "      <td>NaN</td>\n",
       "      <td>Rook</td>\n",
       "      <td>None</td>\n",
       "    </tr>\n",
       "    <tr>\n",
       "      <th>10</th>\n",
       "      <td>Lapwing</td>\n",
       "      <td>NaN</td>\n",
       "      <td>Northern Lapwing</td>\n",
       "      <td>None</td>\n",
       "    </tr>\n",
       "  </tbody>\n",
       "</table>\n",
       "</div>"
      ],
      "text/plain": [
       "          species  num_recordings           folder_label       ssp\n",
       "0         Buzzard             NaN         Common Buzzard      None\n",
       "1         Kestrel             NaN         Common Kestrel      None\n",
       "2          Curlew             NaN        Eurasian Curlew      None\n",
       "3       Mute Swan             NaN              Mute Swan      None\n",
       "4   Bewick's Swan            69.0  Tundra Swan (Bewicks)  bewickii\n",
       "5           Snipe             NaN           Common Snipe      None\n",
       "6    Meadow Pipit             NaN           Meadow Pipit      None\n",
       "7    Herring Gull             NaN  European Herring Gull      None\n",
       "8           Robin             NaN         European Robin      None\n",
       "9            Rook             NaN                   Rook      None\n",
       "10        Lapwing             NaN       Northern Lapwing      None"
      ]
     },
     "execution_count": 4,
     "metadata": {},
     "output_type": "execute_result"
    }
   ],
   "source": [
    "species_df.loc[species_df.ssp.isna(),'ssp'] = None\n",
    "species_df"
   ]
  },
  {
   "cell_type": "code",
   "execution_count": 5,
   "id": "d44a0172",
   "metadata": {},
   "outputs": [
    {
     "name": "stderr",
     "output_type": "stream",
     "text": [
      "\r",
      "0it [00:00, ?it/s]"
     ]
    },
    {
     "name": "stdout",
     "output_type": "stream",
     "text": [
      "Common Buzzard\n"
     ]
    },
    {
     "name": "stderr",
     "output_type": "stream",
     "text": [
      "\r",
      "1it [00:52, 52.77s/it]"
     ]
    },
    {
     "name": "stdout",
     "output_type": "stream",
     "text": [
      "Common Kestrel\n"
     ]
    },
    {
     "name": "stderr",
     "output_type": "stream",
     "text": [
      "\r",
      "2it [01:43, 51.81s/it]"
     ]
    },
    {
     "name": "stdout",
     "output_type": "stream",
     "text": [
      "Eurasian Curlew\n"
     ]
    },
    {
     "name": "stderr",
     "output_type": "stream",
     "text": [
      "\r",
      "3it [02:32, 50.45s/it]"
     ]
    },
    {
     "name": "stdout",
     "output_type": "stream",
     "text": [
      "Mute Swan\n"
     ]
    },
    {
     "name": "stderr",
     "output_type": "stream",
     "text": [
      "\r",
      "4it [03:24, 51.06s/it]"
     ]
    },
    {
     "name": "stdout",
     "output_type": "stream",
     "text": [
      "Tundra Swan (Bewicks)\n"
     ]
    },
    {
     "name": "stderr",
     "output_type": "stream",
     "text": [
      "\r",
      "5it [03:25, 33.08s/it]"
     ]
    },
    {
     "name": "stdout",
     "output_type": "stream",
     "text": [
      "Common Snipe\n"
     ]
    },
    {
     "name": "stderr",
     "output_type": "stream",
     "text": [
      "\r",
      "6it [04:11, 37.45s/it]"
     ]
    },
    {
     "name": "stdout",
     "output_type": "stream",
     "text": [
      "Meadow Pipit\n"
     ]
    },
    {
     "name": "stderr",
     "output_type": "stream",
     "text": [
      "\r",
      "7it [04:57, 40.21s/it]"
     ]
    },
    {
     "name": "stdout",
     "output_type": "stream",
     "text": [
      "European Herring Gull\n"
     ]
    },
    {
     "name": "stderr",
     "output_type": "stream",
     "text": [
      "\r",
      "8it [05:53, 45.28s/it]"
     ]
    },
    {
     "name": "stdout",
     "output_type": "stream",
     "text": [
      "European Robin\n"
     ]
    },
    {
     "name": "stderr",
     "output_type": "stream",
     "text": [
      "\r",
      "9it [06:46, 47.47s/it]"
     ]
    },
    {
     "name": "stdout",
     "output_type": "stream",
     "text": [
      "Rook\n"
     ]
    },
    {
     "name": "stderr",
     "output_type": "stream",
     "text": [
      "\r",
      "10it [07:43, 50.51s/it]"
     ]
    },
    {
     "name": "stdout",
     "output_type": "stream",
     "text": [
      "Northern Lapwing\n"
     ]
    },
    {
     "name": "stderr",
     "output_type": "stream",
     "text": [
      "11it [08:32, 46.55s/it]\n"
     ]
    }
   ],
   "source": [
    "for indx, row in tqdm(species_df.iterrows()):\n",
    "    print(row.folder_label)\n",
    "    xeno_download(row.folder_label, top_n = 100, ssp = row.ssp)"
   ]
  },
  {
   "cell_type": "code",
   "execution_count": null,
   "id": "4a4fece5",
   "metadata": {},
   "outputs": [
    {
     "name": "stdout",
     "output_type": "stream",
     "text": [
      "11\n",
      "Tundra Swan\n",
      "tundra%20swan\n"
     ]
    }
   ],
   "source": [
    "xeno_download('Tundra Swan (Bewicks)', top_n = 100, ssp = 'bewickii')"
   ]
  },
  {
   "cell_type": "code",
   "execution_count": 7,
   "id": "aa8263df",
   "metadata": {},
   "outputs": [],
   "source": [
    "xeno_download('Tundra Swan', top_n = 100)"
   ]
  },
  {
   "cell_type": "code",
   "execution_count": 8,
   "id": "6776a912",
   "metadata": {},
   "outputs": [],
   "source": [
    "#xeno_download('Common Buzzard', 'common_buzzard', top_n = 100)"
   ]
  },
  {
   "cell_type": "code",
   "execution_count": 9,
   "id": "edd84c7c",
   "metadata": {},
   "outputs": [],
   "source": [
    "#xeno_download('Common Kestrel', 'common_kestrel', top_n = 100)"
   ]
  },
  {
   "cell_type": "code",
   "execution_count": 10,
   "id": "7cd0470e",
   "metadata": {},
   "outputs": [],
   "source": [
    "#xeno_download('Eurasian Curlew', 'eurasian_curlew', top_n = 100)"
   ]
  },
  {
   "cell_type": "code",
   "execution_count": 11,
   "id": "df7dde0b",
   "metadata": {},
   "outputs": [],
   "source": [
    "#xeno_download('Mute Swan', 'mute_swan', top_n = 100)"
   ]
  },
  {
   "cell_type": "code",
   "execution_count": 12,
   "id": "f3337474",
   "metadata": {},
   "outputs": [],
   "source": [
    "#xeno_download('Common Snipe', 'common_snipe', top_n = 100)"
   ]
  },
  {
   "cell_type": "code",
   "execution_count": 13,
   "id": "fc681989",
   "metadata": {},
   "outputs": [],
   "source": [
    "#xeno_download('Meadow Pipit', 'meadow_pipit', top_n = 100)"
   ]
  },
  {
   "cell_type": "code",
   "execution_count": 14,
   "id": "af051c9e",
   "metadata": {},
   "outputs": [],
   "source": [
    "#xeno_download('European Herring Gull', 'european_herring_gull', top_n = 100)"
   ]
  },
  {
   "cell_type": "code",
   "execution_count": 15,
   "id": "57b38c8d",
   "metadata": {},
   "outputs": [],
   "source": [
    "#xeno_download('European Robin', 'european_robin', top_n = 100)"
   ]
  },
  {
   "cell_type": "code",
   "execution_count": 16,
   "id": "5860683d",
   "metadata": {},
   "outputs": [],
   "source": [
    "#xeno_download('Rook', 'rook', top_n = 100)"
   ]
  },
  {
   "cell_type": "code",
   "execution_count": 17,
   "id": "15a45bde",
   "metadata": {},
   "outputs": [],
   "source": [
    "#xeno_download('Northern Lapwing', 'northern_lapwing', top_n = 100)"
   ]
  },
  {
   "cell_type": "code",
   "execution_count": null,
   "id": "062e8bcd",
   "metadata": {},
   "outputs": [],
   "source": []
  },
  {
   "cell_type": "code",
   "execution_count": 18,
   "id": "6b786d1b",
   "metadata": {},
   "outputs": [],
   "source": [
    "#url_list = []\n",
    "#for file in bewick_swan_df['file'].tolist():\n",
    "#    url_list.append('https:{}'.format(file))\n",
    "#with open('xc-'+'tundra_swan_bewick'+'-urls.txt', 'w+') as f:\n",
    "#    for item in url_list:\n",
    "#        f.write(\"{}\\n\".format(item))\n",
    "#        \n",
    "#txt_file = open('xc-'+'tundra_swan_bewick'+'-urls.txt', 'r')\n",
    "#url_list = [s.replace('\\n', '') for s in txt_file.readlines()]"
   ]
  },
  {
   "cell_type": "code",
   "execution_count": 19,
   "id": "3c764187",
   "metadata": {},
   "outputs": [],
   "source": [
    "#url_list"
   ]
  },
  {
   "cell_type": "code",
   "execution_count": 20,
   "id": "3241ecd1",
   "metadata": {},
   "outputs": [],
   "source": [
    "import ffmpeg\n",
    "from pydub import AudioSegment"
   ]
  },
  {
   "cell_type": "code",
   "execution_count": 21,
   "id": "333c7973",
   "metadata": {},
   "outputs": [],
   "source": [
    "wav_check = 'birds'\n",
    "labels = os.listdir(wav_check)\n",
    "#print(labels)\n",
    "for lab in labels:\n",
    "    for sound_f in os.listdir(os.path.join(wav_check,lab)):\n",
    "        pre, ext = os.path.splitext(os.path.join(wav_check,lab,sound_f))\n",
    "        #print(ext)\n",
    "        if ext == '.wav':\n",
    "            continue\n",
    "        s_temp   = AudioSegment.from_file(pre+ext)\n",
    "        mono_audios = s_temp.split_to_mono()\n",
    "        if len(mono_audios) >=2:\n",
    "            mono_audios[0].export(pre+'_left.wav', format=\"wav\")\n",
    "            mono_audios[1].export(pre+'_right.wav', format=\"wav\")\n",
    "        else:\n",
    "            mono_audios[0].export(pre+'.wav', format=\"wav\")"
   ]
  },
  {
   "cell_type": "code",
   "execution_count": 22,
   "id": "340233cc",
   "metadata": {},
   "outputs": [],
   "source": [
    "import re\n",
    "wav_check = 'birds'\n",
    "labels = os.listdir(wav_check)\n",
    "for lab in labels:\n",
    "    dirname = wav_check+'/'+lab\n",
    "    for sound_f in os.listdir(dirname):\n",
    "        if re.search('.wav', sound_f) == None:\n",
    "            os.remove(os.path.join(dirname, sound_f))"
   ]
  },
  {
   "cell_type": "code",
   "execution_count": 23,
   "id": "5836fd56",
   "metadata": {},
   "outputs": [
    {
     "name": "stdout",
     "output_type": "stream",
     "text": [
      "Bird audio files\n",
      "\tCommon Buzzard:\t\t166\n",
      "  of which .wav files: 166\n",
      "\tCommon Kestrel:\t\t165\n",
      "  of which .wav files: 165\n",
      "\tCommon Snipe:\t\t179\n",
      "  of which .wav files: 179\n",
      "\tEurasian Curlew:\t\t146\n",
      "  of which .wav files: 146\n",
      "\tEuropean Herring Gull:\t\t174\n",
      "  of which .wav files: 174\n",
      "\tEuropean Robin:\t\t184\n",
      "  of which .wav files: 184\n",
      "\tMeadow Pipit:\t\t170\n",
      "  of which .wav files: 170\n",
      "\tMute Swan:\t\t177\n",
      "  of which .wav files: 177\n",
      "\tNorthern Lapwing:\t\t182\n",
      "  of which .wav files: 182\n",
      "\tRook:\t\t175\n",
      "  of which .wav files: 175\n",
      "\tTundra Swan:\t\t0\n",
      "  of which .wav files: 0\n",
      "\tTundra Swan (Bewicks):\t\t0\n",
      "  of which .wav files: 0\n",
      "\tTundra Swan (Bewicks)(Bewickii):\t\t0\n",
      "  of which .wav files: 0\n",
      "Total:  1718\n"
     ]
    }
   ],
   "source": [
    "birds = os.listdir('birds')\n",
    "count = 0\n",
    "count_list = []\n",
    "print('Bird audio files')\n",
    "for bird in birds:\n",
    "    bird_list = os.listdir(os.path.join('birds', bird))\n",
    "    bird_count = len(bird_list)\n",
    "    print('\\t', bird, ':\\t\\t', bird_count, sep = '')\n",
    "    bird_count_wav = len([s for s in bird_list if s.endswith('wav')])\n",
    "    print('  of which .wav files:', bird_count_wav)\n",
    "    count += bird_count\n",
    "    count_list.append(bird_count)\n",
    "print('Total: ', count)"
   ]
  }
 ],
 "metadata": {
  "kernelspec": {
   "display_name": "Python 3",
   "language": "python",
   "name": "python3"
  },
  "language_info": {
   "codemirror_mode": {
    "name": "ipython",
    "version": 3
   },
   "file_extension": ".py",
   "mimetype": "text/x-python",
   "name": "python",
   "nbconvert_exporter": "python",
   "pygments_lexer": "ipython3",
   "version": "3.8.8"
  }
 },
 "nbformat": 4,
 "nbformat_minor": 5
}
