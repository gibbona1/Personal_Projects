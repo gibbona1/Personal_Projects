{
 "cells": [
  {
   "cell_type": "markdown",
   "id": "52393092",
   "metadata": {},
   "source": [
    "From https://medium.com/m2mtechconnect/classifying-music-and-speech-with-machine-learning-e036ffab002e"
   ]
  },
  {
   "cell_type": "code",
   "execution_count": 1,
   "id": "feba8de1",
   "metadata": {},
   "outputs": [],
   "source": [
    "import numpy as np\n",
    "import pandas as pd\n",
    "import os\n",
    "import pathlib\n",
    "import matplotlib.pyplot as plt\n",
    "import seaborn as sns\n",
    "from IPython import display\n",
    "from sklearn.model_selection import train_test_split\n",
    "import tensorflow as tf\n",
    "from tensorflow.keras.layers.experimental import preprocessing\n",
    "from tensorflow.keras import layers, regularizers, optimizers, losses, models\n",
    "#import tensorflow_datasets as tfds"
   ]
  },
  {
   "cell_type": "code",
   "execution_count": 2,
   "id": "0d7b1fba",
   "metadata": {},
   "outputs": [],
   "source": [
    "import ffmpeg\n",
    "from pydub import AudioSegment"
   ]
  },
  {
   "cell_type": "code",
   "execution_count": 3,
   "id": "b4a4f839",
   "metadata": {},
   "outputs": [],
   "source": [
    "from data_set_params import DataSetParams\n",
    "from scipy.io import wavfile\n",
    "params = DataSetParams()"
   ]
  },
  {
   "cell_type": "code",
   "execution_count": 4,
   "id": "47d47368",
   "metadata": {},
   "outputs": [
    {
     "data": {
      "text/plain": [
       "['Common Buzzard',\n",
       " 'Common Kestrel',\n",
       " 'Common Snipe',\n",
       " 'Eurasian Curlew',\n",
       " 'European Herring Gull',\n",
       " 'European Robin',\n",
       " 'Meadow Pipit',\n",
       " 'Mute Swan',\n",
       " 'Northern Lapwing',\n",
       " 'Rook',\n",
       " 'Tundra Swan',\n",
       " 'Tundra Swan (Bewicks)']"
      ]
     },
     "execution_count": 4,
     "metadata": {},
     "output_type": "execute_result"
    }
   ],
   "source": [
    "#data_dir = pathlib.Path('/root/tensorflow_datasets/downloads/extracted/TAR_GZ.opihi.cs.uvic.ca_sound_music_speechbya81rFcWfLSW6ey5cynqyeq2qiePcL-7asMoNO6IQ0.tar.gz/music_speech')\n",
    "data_dir   = 'richfield_birds'#'dublin_dl_birds_split'#\n",
    "categories = np.array(tf.io.gfile.listdir(data_dir))\n",
    "categories = [category for category in categories if 'wav' not in category]\n",
    "categories"
   ]
  },
  {
   "cell_type": "code",
   "execution_count": 5,
   "id": "6ec0e8a1",
   "metadata": {},
   "outputs": [],
   "source": [
    "#AudioSegment.ffprobe  = \"/usr/local/bin/ffmpeg\""
   ]
  },
  {
   "cell_type": "code",
   "execution_count": 6,
   "id": "d865b805",
   "metadata": {},
   "outputs": [],
   "source": [
    "def get_label(file_path):\n",
    "    parts = tf.strings.split(file_path, os.path.sep)\n",
    "\n",
    "    # Note: You'll use indexing here instead of tuple unpacking to enable this \n",
    "    # to work in a TensorFlow graph.\n",
    "    return parts[-2]"
   ]
  },
  {
   "cell_type": "code",
   "execution_count": 7,
   "id": "27ca4fcf",
   "metadata": {},
   "outputs": [],
   "source": [
    "filenames = tf.io.gfile.glob(str(data_dir) + '/*/*')\n",
    "#filenames = tf.io.gfile.glob('birds/*/*')\n",
    "filenames = [filename for filename in filenames if 'wav' in filename]\n",
    "filenames = tf.random.shuffle(filenames)"
   ]
  },
  {
   "cell_type": "code",
   "execution_count": 8,
   "id": "8f445e25",
   "metadata": {},
   "outputs": [
    {
     "data": {
      "text/plain": [
       "<tf.Tensor: shape=(1981,), dtype=string, numpy=\n",
       "array([b'richfield_birds\\\\Common Buzzard\\\\xc638807.wav',\n",
       "       b'richfield_birds\\\\Mute Swan\\\\xc605139_right.wav',\n",
       "       b'richfield_birds\\\\Meadow Pipit\\\\xc594235_right.wav', ...,\n",
       "       b'richfield_birds\\\\Common Kestrel\\\\xc580921.wav',\n",
       "       b'richfield_birds\\\\Tundra Swan (Bewicks)\\\\xc393988_right.wav',\n",
       "       b'richfield_birds\\\\European Herring Gull\\\\xc480179.wav'],\n",
       "      dtype=object)>"
      ]
     },
     "execution_count": 8,
     "metadata": {},
     "output_type": "execute_result"
    }
   ],
   "source": [
    "filenames"
   ]
  },
  {
   "cell_type": "code",
   "execution_count": 9,
   "id": "8a076225",
   "metadata": {},
   "outputs": [
    {
     "name": "stdout",
     "output_type": "stream",
     "text": [
      "Number of total examples: 1981\n",
      "Number of examples per label: 166\n",
      "Example file tensor: tf.Tensor(b'richfield_birds\\\\Common Buzzard\\\\xc638807.wav', shape=(), dtype=string)\n"
     ]
    }
   ],
   "source": [
    "num_samples = len(filenames)\n",
    "print('Number of total examples:', num_samples)\n",
    "print('Number of examples per label:',\n",
    "      len(tf.io.gfile.listdir(str(pathlib.Path(data_dir)/categories[0]))))\n",
    "print('Example file tensor:', filenames[0])"
   ]
  },
  {
   "cell_type": "code",
   "execution_count": 10,
   "id": "389c54ad",
   "metadata": {},
   "outputs": [
    {
     "name": "stdout",
     "output_type": "stream",
     "text": [
      "Training set size: 1584\n",
      "Validation set size: 397\n"
     ]
    }
   ],
   "source": [
    "TRAIN_SIZE = 0.8\n",
    "\n",
    "cutoff = int(len(filenames) * TRAIN_SIZE)\n",
    "train_files = filenames[:cutoff]\n",
    "test_files  = filenames[cutoff:]\n",
    "\n",
    "print('Training set size:', len(train_files))\n",
    "print('Validation set size:', len(test_files))"
   ]
  },
  {
   "cell_type": "code",
   "execution_count": 11,
   "id": "49130ac6",
   "metadata": {},
   "outputs": [],
   "source": [
    "AUTOTUNE = tf.data.experimental.AUTOTUNE"
   ]
  },
  {
   "cell_type": "code",
   "execution_count": 12,
   "id": "8b78550f",
   "metadata": {},
   "outputs": [
    {
     "data": {
      "text/plain": [
       "<tf.Tensor: shape=(), dtype=int32, numpy=32000>"
      ]
     },
     "execution_count": 12,
     "metadata": {},
     "output_type": "execute_result"
    }
   ],
   "source": [
    "audio, sr = tf.audio.decode_wav(tf.io.read_file(train_files[0].numpy()))\n",
    "sr"
   ]
  },
  {
   "cell_type": "code",
   "execution_count": 13,
   "id": "e2c8dd93",
   "metadata": {},
   "outputs": [
    {
     "data": {
      "text/plain": [
       "4096"
      ]
     },
     "execution_count": 13,
     "metadata": {},
     "output_type": "execute_result"
    }
   ],
   "source": [
    "2**12"
   ]
  },
  {
   "cell_type": "code",
   "execution_count": 14,
   "id": "75a34f63",
   "metadata": {},
   "outputs": [],
   "source": [
    "def gen_complex_spec(waveform, params):\n",
    "    nfft     = int(0.01*48000) #params.fft_win_length\n",
    "    noverlap = int(0.25*nfft) #params.fft_overlap\n",
    "    \n",
    "    # window data\n",
    "    #step    = nfft - noverlap\n",
    "    step = 2**12\n",
    "    waveform = tf.cast(waveform, tf.float32)\n",
    "    \n",
    "    # produces an array of complex numbers representing magnitude and phase\n",
    "    complex_spec = tf.signal.stft(\n",
    "        waveform, frame_length=nfft, frame_step=step)\n",
    "    return complex_spec #complex_spec"
   ]
  },
  {
   "cell_type": "code",
   "execution_count": 15,
   "id": "0f783615",
   "metadata": {},
   "outputs": [],
   "source": [
    "def multi_spec_stack(complex_spec, choices = ['Mod'], stack = True):\n",
    "    #possible components:\n",
    "    ##Mod    modulus/absolute value (regular)\n",
    "    ##Re     real component\n",
    "    ##AbsRe  abs(real component)\n",
    "    ##Im     imaginary component\n",
    "    ##AbsIm  abs(imaginary component)\n",
    "    ##Ang    angular componant\n",
    "    ##AbsAng abs(angular componant)\n",
    "    spec_arr = []\n",
    "    for c in choices:\n",
    "        def apply_func(x,c):\n",
    "            if c == 'Mod':\n",
    "                return tf.math.abs(x)\n",
    "            if c == 'Re':\n",
    "                return tf.math.real(x)\n",
    "            if c == 'AbsRe':\n",
    "                return tf.math.abs(tf.math.real(x))\n",
    "            if c == 'Im':\n",
    "                return tf.math.imag(x)\n",
    "            if c == 'AbsIm':\n",
    "                return tf.math.abs(tf.math.imag(x))\n",
    "            if c == 'Ang':\n",
    "                return tf.math.ang(x)\n",
    "            if c == 'AbsAng':\n",
    "                return tf.math.abs(tf.math.imag(x))\n",
    "        spec_arr.append(apply_func(complex_spec,c))\n",
    "    if stack:\n",
    "        spec_arr = tf.stack(spec_arr,-1)\n",
    "    return spec_arr"
   ]
  },
  {
   "cell_type": "code",
   "execution_count": 16,
   "id": "39b61978",
   "metadata": {},
   "outputs": [],
   "source": [
    "#import tensorflow as tf\n",
    "#from tensorflow.keras.layers import Concatenate"
   ]
  },
  {
   "cell_type": "code",
   "execution_count": 17,
   "id": "f80ee29b",
   "metadata": {},
   "outputs": [],
   "source": [
    "def multi_spec_post(spec):\n",
    "    spec_shp         = tf.shape(spec)\n",
    "    spec_cutoff      = [0, 1, 0]\n",
    "    spec_cutoff_size = [spec_shp[0],spec_shp[1]-1, spec_shp[2]]\n",
    "    spec             = tf.slice(spec, spec_cutoff, spec_cutoff_size)\n",
    "    \n",
    "    # only keep the relevant bands - could do this outside\n",
    "    spec = spec[:, :100, :]\n",
    "    \n",
    "    spec_shp  = tf.shape(spec)\n",
    "    req_width = 250\n",
    "    \n",
    "    if spec_shp[0] < req_width:\n",
    "        zero_pad = tf.ones((req_width - spec_shp[0], spec_shp[1], spec_shp[2]))*1e-8\n",
    "        spec     = tf.concat([spec, zero_pad], axis = 0)\n",
    "    else:\n",
    "        spec = tf.slice(spec, [0,0,0], [req_width, spec_shp[1], spec_shp[2]]) #spec[:,:req_width,:]\n",
    "        \n",
    "    #spec_shp   = tf.shape(spec) \n",
    "    #req_height = 512 \n",
    "    #if spec_shp[1] < req_height:\n",
    "    #    zero_pad = tf.zeros((spec_shp[0], req_height - spec_shp[1], spec_shp[2]))\n",
    "    #    spec     = tf.stack((zero_pad, spec), axis = 1)\n",
    "    #else:\n",
    "    #    spec = tf.slice(spec, [0,0,0], [spec_shp[0], req_height, spec_shp[2]]) #spec[:req_height,:,:]\n",
    "\n",
    "    \n",
    "    spec = tf.transpose(spec, perm = [1,0,2])\n",
    "    # perform log scaling - here the same as matplotlib\n",
    "    #log_scaling = 2.0 * (1.0 / 44100) * (1.0/(np.abs(np.hanning(int(params.fft_win_length*44100)))**2).sum())\n",
    "    #spec        = tf.math.log(1.0 + log_scaling*spec)\n",
    "    \n",
    "    #img = tf.io.decode_image(spec, dtype = tf.dtypes.float32)\n",
    "    #spec.set_shape(tf.shape(spec))\n",
    "    #spec = tf.compat.v1.image.resize(spec, [100, 50])\n",
    "    #spec = spec.numpy.resize(100,50)\n",
    "    #def spec_normalize(x, axis = (0,1), kd = True):\n",
    "    #    return (x- x.min(axis=axis, keepdims=kd))/(x.max(axis=axis, keepdims=kd) - x.min(axis=axis, keepdims=kd))\n",
    "    #spec = spec_normalize(spec)\n",
    "    return spec"
   ]
  },
  {
   "cell_type": "code",
   "execution_count": 18,
   "id": "20a74546",
   "metadata": {},
   "outputs": [],
   "source": [
    "def decode_audio(audio_binary):\n",
    "    audio, sr = tf.audio.decode_wav(audio_binary) # returns the WAV-encoded audio as a tensor and the sample rate\n",
    "    #return tf.squeeze(audio, axis=-1) # removes dimensions of size 1 from the last axis\n",
    "    return audio[:,0], sr\n",
    "def get_waveform_sr_and_label(file_path):\n",
    "    label        = get_label(file_path)\n",
    "    audio_binary = tf.io.read_file(file_path)\n",
    "    waveform, _  = decode_audio(audio_binary)\n",
    "    return waveform, label"
   ]
  },
  {
   "cell_type": "code",
   "execution_count": 19,
   "id": "26fe6c43",
   "metadata": {},
   "outputs": [],
   "source": [
    "def get_spectrogram_and_label_id(audio, label):\n",
    "    #spectrogram = get_complex_spectrogram(audio)\n",
    "    #print(dir(audio))\n",
    "    complex_spec = gen_complex_spec(audio, params)\n",
    "    multi_spec   = multi_spec_stack(complex_spec, choices)\n",
    "    multi_spec   = multi_spec_post(multi_spec)\n",
    "    #multi_spec = complex_spec\n",
    "    label_id   = tf.argmax(label == categories)\n",
    "    return multi_spec, label_id"
   ]
  },
  {
   "cell_type": "code",
   "execution_count": 20,
   "id": "0246f594",
   "metadata": {},
   "outputs": [],
   "source": [
    "def preprocess_dataset(files):\n",
    "    files_ds  = tf.data.Dataset.from_tensor_slices(files)\n",
    "    output_ds = files_ds.map(get_waveform_sr_and_label, num_parallel_calls=AUTOTUNE)\n",
    "    output_ds = output_ds.map(get_spectrogram_and_label_id,  num_parallel_calls=AUTOTUNE)\n",
    "    return output_ds"
   ]
  },
  {
   "cell_type": "code",
   "execution_count": 21,
   "id": "82f15901",
   "metadata": {},
   "outputs": [],
   "source": [
    "def get_wf_dataset(files):\n",
    "    files_ds  = tf.data.Dataset.from_tensor_slices(files)\n",
    "    output_ds = files_ds.map(get_waveform_sr_and_label, num_parallel_calls=AUTOTUNE)\n",
    "    return output_ds"
   ]
  },
  {
   "cell_type": "code",
   "execution_count": 22,
   "id": "ed837946",
   "metadata": {},
   "outputs": [],
   "source": [
    "train_labs = [tf.argmax(get_label(y) == categories) for y in train_files]\n",
    "test_labs  = [tf.argmax(get_label(y) == categories) for y in test_files]"
   ]
  },
  {
   "cell_type": "code",
   "execution_count": 23,
   "id": "876133bd",
   "metadata": {},
   "outputs": [],
   "source": [
    "train_labs_sort = train_labs\n",
    "test_labs_sort  = test_labs\n",
    "train_labs_sort.sort()\n",
    "test_labs_sort.sort()"
   ]
  },
  {
   "cell_type": "code",
   "execution_count": 24,
   "id": "9017d2e1",
   "metadata": {},
   "outputs": [
    {
     "data": {
      "text/plain": [
       "Text(0.5, 1.0, 'Test')"
      ]
     },
     "execution_count": 24,
     "metadata": {},
     "output_type": "execute_result"
    },
    {
     "data": {
      "image/png": "[encoded data removed]",
      "text/plain": [
       "<Figure size 2880x360 with 2 Axes>"
      ]
     },
     "metadata": {
      "needs_background": "light"
     },
     "output_type": "display_data"
    }
   ],
   "source": [
    "f, axes = plt.subplots(1, 2, figsize = (40,5))\n",
    "l = []\n",
    "for i in train_labs_sort:\n",
    "    l.append(categories[i])\n",
    "sns.set_style('darkgrid')\n",
    "sns.countplot(x = l, ax=axes[0])\n",
    "lb = axes[0].get_xlabel()\n",
    "axes[0].set_xlabel(lb, fontsize=8)\n",
    "axes[0].set_title(\"Train\", size = 14)\n",
    "\n",
    "lt = []\n",
    "for i in test_labs_sort:\n",
    "    lt.append(categories[i])\n",
    "sns.set_style('darkgrid')\n",
    "sns.countplot(x = lt, ax=axes[1])\n",
    "lbt = axes[1].get_xlabel()\n",
    "axes[1].set_xlabel(lbt, fontsize=10)\n",
    "axes[1].set_title(\"Test\", size = 14)"
   ]
  },
  {
   "cell_type": "code",
   "execution_count": 28,
   "id": "f1924fec",
   "metadata": {},
   "outputs": [],
   "source": [
    "num_labels = len(categories)"
   ]
  },
  {
   "cell_type": "code",
   "execution_count": 29,
   "id": "2549d453",
   "metadata": {},
   "outputs": [],
   "source": [
    "choices = ['AbsRe', 'AbsIm', 'Mod', 'AbsAng']"
   ]
  },
  {
   "cell_type": "code",
   "execution_count": 30,
   "id": "c874ed5f",
   "metadata": {},
   "outputs": [],
   "source": [
    "train_ds_mult = preprocess_dataset(train_files)\n",
    "test_ds_mult  = preprocess_dataset(test_files)"
   ]
  },
  {
   "cell_type": "code",
   "execution_count": 31,
   "id": "8c2013cc",
   "metadata": {},
   "outputs": [
    {
     "name": "stdout",
     "output_type": "stream",
     "text": [
      "(100, 250, 1)\n",
      "Common Buzzard\n"
     ]
    }
   ],
   "source": [
    "for spec, lab in train_ds_mult.take(1):\n",
    "    spec = spec\n",
    "    input_shape = tf.expand_dims(spec[:,:,0], axis=-1).shape\n",
    "    #input_shape = spec[:,:,0].shape\n",
    "    print(input_shape)\n",
    "    print(categories[lab])"
   ]
  },
  {
   "cell_type": "code",
   "execution_count": 39,
   "id": "e60c19e0",
   "metadata": {},
   "outputs": [
    {
     "data": {
      "image/png": "[encoded data removed]",
      "text/plain": [
       "<Figure size 432x288 with 1 Axes>"
      ]
     },
     "metadata": {},
     "output_type": "display_data"
    }
   ],
   "source": [
    "plt.imshow(np.log(spec[:,:,0]))\n",
    "plt.grid(False)"
   ]
  },
  {
   "cell_type": "code",
   "execution_count": 40,
   "id": "fdc628ce",
   "metadata": {},
   "outputs": [],
   "source": [
    "y_train = np.array([y for x,y in train_ds_mult])\n",
    "y_test  = np.array([y for x,y in test_ds_mult])"
   ]
  },
  {
   "cell_type": "code",
   "execution_count": 41,
   "id": "3a635b64",
   "metadata": {},
   "outputs": [],
   "source": [
    "x_tmp  = [x for x,y in train_ds_mult]\n",
    "x_tmp  = tf.stack(x_tmp)\n",
    "xs_tmp = tf.unstack(x_tmp, axis=-1)\n",
    "xs_tmp = [tf.expand_dims(x_ind, axis=-1) for x_ind in xs_tmp]"
   ]
  },
  {
   "cell_type": "code",
   "execution_count": 42,
   "id": "b71c1976",
   "metadata": {},
   "outputs": [],
   "source": [
    "x_tmp_test  = [x for x,y in test_ds_mult]\n",
    "x_tmp_test  = tf.stack(x_tmp_test)\n",
    "xs_tmp_test = tf.unstack(x_tmp_test, axis=-1)\n",
    "xs_tmp_test = [tf.expand_dims(x_ind, axis=-1) for x_ind in xs_tmp_test]"
   ]
  },
  {
   "cell_type": "code",
   "execution_count": 43,
   "id": "92aba269",
   "metadata": {},
   "outputs": [],
   "source": [
    "num_channels = len(xs_tmp)"
   ]
  },
  {
   "cell_type": "code",
   "execution_count": 44,
   "id": "6ce3880f",
   "metadata": {},
   "outputs": [
    {
     "data": {
      "text/plain": [
       "TensorShape([100, 250, 1])"
      ]
     },
     "execution_count": 44,
     "metadata": {},
     "output_type": "execute_result"
    }
   ],
   "source": [
    "input_shape"
   ]
  },
  {
   "cell_type": "code",
   "execution_count": 67,
   "id": "b26948e5",
   "metadata": {},
   "outputs": [
    {
     "data": {
      "text/plain": [
       "TensorShape([100, 250, 1])"
      ]
     },
     "execution_count": 67,
     "metadata": {},
     "output_type": "execute_result"
    }
   ],
   "source": [
    "xs_tmp_test[0].shape[1:]"
   ]
  },
  {
   "cell_type": "code",
   "execution_count": 58,
   "id": "163d3240",
   "metadata": {},
   "outputs": [
    {
     "name": "stdout",
     "output_type": "stream",
     "text": [
      "Epoch 1/10\n",
      "50/50 [==============================] - 22s 429ms/step - loss: 2.4452 - accuracy: 0.2481 - val_loss: 2.1045 - val_accuracy: 0.4282\n",
      "Epoch 2/10\n",
      "50/50 [==============================] - 24s 476ms/step - loss: 2.0169 - accuracy: 0.4135 - val_loss: 1.9150 - val_accuracy: 0.4559\n",
      "Epoch 3/10\n",
      "50/50 [==============================] - 27s 536ms/step - loss: 1.7800 - accuracy: 0.4830 - val_loss: 1.7480 - val_accuracy: 0.5139\n",
      "Epoch 4/10\n",
      "50/50 [==============================] - 30s 596ms/step - loss: 1.5731 - accuracy: 0.5328 - val_loss: 1.6412 - val_accuracy: 0.5516\n",
      "Epoch 5/10\n",
      "50/50 [==============================] - 30s 602ms/step - loss: 1.4693 - accuracy: 0.5833 - val_loss: 1.5712 - val_accuracy: 0.5340\n",
      "Epoch 6/10\n",
      "50/50 [==============================] - 31s 611ms/step - loss: 1.3673 - accuracy: 0.6073 - val_loss: 1.5067 - val_accuracy: 0.5894\n",
      "Epoch 7/10\n",
      "50/50 [==============================] - 30s 609ms/step - loss: 1.2864 - accuracy: 0.6559 - val_loss: 1.5031 - val_accuracy: 0.5819\n",
      "Epoch 8/10\n",
      "50/50 [==============================] - 30s 607ms/step - loss: 1.2165 - accuracy: 0.6635 - val_loss: 1.4327 - val_accuracy: 0.6020\n",
      "Epoch 9/10\n",
      "50/50 [==============================] - 31s 613ms/step - loss: 1.1279 - accuracy: 0.6831 - val_loss: 1.4269 - val_accuracy: 0.6222\n",
      "Epoch 10/10\n",
      "50/50 [==============================] - 31s 610ms/step - loss: 1.0457 - accuracy: 0.7134 - val_loss: 1.3774 - val_accuracy: 0.6423\n"
     ]
    }
   ],
   "source": [
    "history = model.fit(xs_tmp, y_train,\n",
    "                    validation_data = (xs_tmp_test, y_test),\n",
    "                    epochs          = 10,\n",
    "                    batch_size      = 32)"
   ]
  },
  {
   "cell_type": "code",
   "execution_count": 59,
   "id": "a50222c0",
   "metadata": {},
   "outputs": [
    {
     "data": {
      "image/png": "[encoded data removed]",
      "text/plain": [
       "<Figure size 432x288 with 1 Axes>"
      ]
     },
     "metadata": {},
     "output_type": "display_data"
    },
    {
     "data": {
      "image/png": "[encoded data removed]",
      "text/plain": [
       "<Figure size 432x288 with 1 Axes>"
      ]
     },
     "metadata": {},
     "output_type": "display_data"
    }
   ],
   "source": [
    "metrics = history.history\n",
    "plt.plot(history.epoch, metrics['loss'], metrics['val_loss'])\n",
    "plt.legend(['loss', 'val_loss'])\n",
    "plt.show()\n",
    "plt.plot(history.epoch, metrics['accuracy'], metrics['val_accuracy'])\n",
    "plt.legend(['accuracy', 'val_accuracy'])\n",
    "plt.show()"
   ]
  },
  {
   "cell_type": "code",
   "execution_count": 60,
   "id": "76a216a9",
   "metadata": {},
   "outputs": [],
   "source": [
    "#todo: confusion matrix and other \n",
    "y_pred = np.argmax(model.predict(xs_tmp_test), axis=-1)\n",
    "y_true = y_test"
   ]
  },
  {
   "cell_type": "code",
   "execution_count": 63,
   "id": "8cb8655b",
   "metadata": {},
   "outputs": [
    {
     "data": {
      "text/plain": [
       "array([[13,  2,  6,  2,  0,  0,  4,  0,  0,  0,  0,  0],\n",
       "       [ 0, 25,  1,  0,  0,  1,  0,  1,  2,  0,  0,  0],\n",
       "       [ 0,  2, 31,  0,  0,  0,  2,  4,  1,  0,  0,  1],\n",
       "       [ 0,  0,  3, 18,  0,  0,  1,  2,  0,  0,  0,  0],\n",
       "       [ 1,  0,  4,  0, 22,  0,  1,  3,  1,  1,  3,  1],\n",
       "       [ 0,  0,  3,  0,  0, 24,  1,  0,  0,  0,  0,  0],\n",
       "       [ 0,  1,  6,  0,  0,  3, 23,  1,  0,  0,  0,  0],\n",
       "       [ 0,  1, 14,  0,  1,  1,  0, 24,  0,  1,  2,  1],\n",
       "       [ 0,  3,  8,  0,  2,  4,  0,  3, 19,  0,  0,  0],\n",
       "       [ 0,  0,  0,  6,  0,  0,  0,  1,  0, 28,  0,  0],\n",
       "       [ 0,  0,  4,  0,  0,  0,  0,  7,  0,  1, 14,  4],\n",
       "       [ 1,  0,  5,  0,  1,  0,  0,  0,  0,  0,  6, 14]], dtype=int64)"
      ]
     },
     "execution_count": 63,
     "metadata": {},
     "output_type": "execute_result"
    }
   ],
   "source": [
    "from sklearn.metrics import confusion_matrix\n",
    "cm = confusion_matrix(y_true, y_pred)\n",
    "cm"
   ]
  },
  {
   "cell_type": "code",
   "execution_count": 64,
   "id": "32f7b191",
   "metadata": {},
   "outputs": [
    {
     "data": {
      "application/vnd.plotly.v1+json": {
       "config": {
        "plotlyServerURL": "https://plot.ly"
       },
       "data": [
        {
         "colorscale": [
          [
           0,
           "#440154"
          ],
          [
           0.1111111111111111,
           "#482878"
          ],
          [
           0.2222222222222222,
           "#3e4989"
          ],
          [
           0.3333333333333333,
           "#31688e"
          ],
          [
           0.4444444444444444,
           "#26828e"
          ],
          [
           0.5555555555555556,
           "#1f9e89"
          ],
          [
           0.6666666666666666,
           "#35b779"
          ],
          [
           0.7777777777777778,
           "#6ece58"
          ],
          [
           0.8888888888888888,
           "#b5de2b"
          ],
          [
           1,
           "#fde725"
          ]
         ],
         "reversescale": false,
         "showscale": true,
         "type": "heatmap",
         "x": [
          "Common Buzzard",
          "Common Kestrel",
          "Common Snipe",
          "Eurasian Curlew",
          "European Herring Gull",
          "European Robin",
          "Meadow Pipit",
          "Mute Swan",
          "Northern Lapwing",
          "Rook",
          "Tundra Swan",
          "Tundra Swan (Bewicks)"
         ],
         "y": [
          "Common Buzzard",
          "Common Kestrel",
          "Common Snipe",
          "Eurasian Curlew",
          "European Herring Gull",
          "European Robin",
          "Meadow Pipit",
          "Mute Swan",
          "Northern Lapwing",
          "Rook",
          "Tundra Swan",
          "Tundra Swan (Bewicks)"
         ],
         "z": [
          [
           13,
           2,
           6,
           2,
           0,
           0,
           4,
           0,
           0,
           0,
           0,
           0
          ],
          [
           0,
           25,
           1,
           0,
           0,
           1,
           0,
           1,
           2,
           0,
           0,
           0
          ],
          [
           0,
           2,
           31,
           0,
           0,
           0,
           2,
           4,
           1,
           0,
           0,
           1
          ],
          [
           0,
           0,
           3,
           18,
           0,
           0,
           1,
           2,
           0,
           0,
           0,
           0
          ],
          [
           1,
           0,
           4,
           0,
           22,
           0,
           1,
           3,
           1,
           1,
           3,
           1
          ],
          [
           0,
           0,
           3,
           0,
           0,
           24,
           1,
           0,
           0,
           0,
           0,
           0
          ],
          [
           0,
           1,
           6,
           0,
           0,
           3,
           23,
           1,
           0,
           0,
           0,
           0
          ],
          [
           0,
           1,
           14,
           0,
           1,
           1,
           0,
           24,
           0,
           1,
           2,
           1
          ],
          [
           0,
           3,
           8,
           0,
           2,
           4,
           0,
           3,
           19,
           0,
           0,
           0
          ],
          [
           0,
           0,
           0,
           6,
           0,
           0,
           0,
           1,
           0,
           28,
           0,
           0
          ],
          [
           0,
           0,
           4,
           0,
           0,
           0,
           0,
           7,
           0,
           1,
           14,
           4
          ],
          [
           1,
           0,
           5,
           0,
           1,
           0,
           0,
           0,
           0,
           0,
           6,
           14
          ]
         ]
        }
       ],
       "layout": {
        "annotations": [
         {
          "font": {
           "color": "#FFFFFF"
          },
          "showarrow": false,
          "text": "13",
          "x": "Common Buzzard",
          "xref": "x",
          "y": "Common Buzzard",
          "yref": "y"
         },
         {
          "font": {
           "color": "#FFFFFF"
          },
          "showarrow": false,
          "text": "2",
          "x": "Common Kestrel",
          "xref": "x",
          "y": "Common Buzzard",
          "yref": "y"
         },
         {
          "font": {
           "color": "#FFFFFF"
          },
          "showarrow": false,
          "text": "6",
          "x": "Common Snipe",
          "xref": "x",
          "y": "Common Buzzard",
          "yref": "y"
         },
         {
          "font": {
           "color": "#FFFFFF"
          },
          "showarrow": false,
          "text": "2",
          "x": "Eurasian Curlew",
          "xref": "x",
          "y": "Common Buzzard",
          "yref": "y"
         },
         {
          "font": {
           "color": "#FFFFFF"
          },
          "showarrow": false,
          "text": "0",
          "x": "European Herring Gull",
          "xref": "x",
          "y": "Common Buzzard",
          "yref": "y"
         },
         {
          "font": {
           "color": "#FFFFFF"
          },
          "showarrow": false,
          "text": "0",
          "x": "European Robin",
          "xref": "x",
          "y": "Common Buzzard",
          "yref": "y"
         },
         {
          "font": {
           "color": "#FFFFFF"
          },
          "showarrow": false,
          "text": "4",
          "x": "Meadow Pipit",
          "xref": "x",
          "y": "Common Buzzard",
          "yref": "y"
         },
         {
          "font": {
           "color": "#FFFFFF"
          },
          "showarrow": false,
          "text": "0",
          "x": "Mute Swan",
          "xref": "x",
          "y": "Common Buzzard",
          "yref": "y"
         },
         {
          "font": {
           "color": "#FFFFFF"
          },
          "showarrow": false,
          "text": "0",
          "x": "Northern Lapwing",
          "xref": "x",
          "y": "Common Buzzard",
          "yref": "y"
         },
         {
          "font": {
           "color": "#FFFFFF"
          },
          "showarrow": false,
          "text": "0",
          "x": "Rook",
          "xref": "x",
          "y": "Common Buzzard",
          "yref": "y"
         },
         {
          "font": {
           "color": "#FFFFFF"
          },
          "showarrow": false,
          "text": "0",
          "x": "Tundra Swan",
          "xref": "x",
          "y": "Common Buzzard",
          "yref": "y"
         },
         {
          "font": {
           "color": "#FFFFFF"
          },
          "showarrow": false,
          "text": "0",
          "x": "Tundra Swan (Bewicks)",
          "xref": "x",
          "y": "Common Buzzard",
          "yref": "y"
         },
         {
          "font": {
           "color": "#FFFFFF"
          },
          "showarrow": false,
          "text": "0",
          "x": "Common Buzzard",
          "xref": "x",
          "y": "Common Kestrel",
          "yref": "y"
         },
         {
          "font": {
           "color": "#000000"
          },
          "showarrow": false,
          "text": "25",
          "x": "Common Kestrel",
          "xref": "x",
          "y": "Common Kestrel",
          "yref": "y"
         },
         {
          "font": {
           "color": "#FFFFFF"
          },
          "showarrow": false,
          "text": "1",
          "x": "Common Snipe",
          "xref": "x",
          "y": "Common Kestrel",
          "yref": "y"
         },
         {
          "font": {
           "color": "#FFFFFF"
          },
          "showarrow": false,
          "text": "0",
          "x": "Eurasian Curlew",
          "xref": "x",
          "y": "Common Kestrel",
          "yref": "y"
         },
         {
          "font": {
           "color": "#FFFFFF"
          },
          "showarrow": false,
          "text": "0",
          "x": "European Herring Gull",
          "xref": "x",
          "y": "Common Kestrel",
          "yref": "y"
         },
         {
          "font": {
           "color": "#FFFFFF"
          },
          "showarrow": false,
          "text": "1",
          "x": "European Robin",
          "xref": "x",
          "y": "Common Kestrel",
          "yref": "y"
         },
         {
          "font": {
           "color": "#FFFFFF"
          },
          "showarrow": false,
          "text": "0",
          "x": "Meadow Pipit",
          "xref": "x",
          "y": "Common Kestrel",
          "yref": "y"
         },
         {
          "font": {
           "color": "#FFFFFF"
          },
          "showarrow": false,
          "text": "1",
          "x": "Mute Swan",
          "xref": "x",
          "y": "Common Kestrel",
          "yref": "y"
         },
         {
          "font": {
           "color": "#FFFFFF"
          },
          "showarrow": false,
          "text": "2",
          "x": "Northern Lapwing",
          "xref": "x",
          "y": "Common Kestrel",
          "yref": "y"
         },
         {
          "font": {
           "color": "#FFFFFF"
          },
          "showarrow": false,
          "text": "0",
          "x": "Rook",
          "xref": "x",
          "y": "Common Kestrel",
          "yref": "y"
         },
         {
          "font": {
           "color": "#FFFFFF"
          },
          "showarrow": false,
          "text": "0",
          "x": "Tundra Swan",
          "xref": "x",
          "y": "Common Kestrel",
          "yref": "y"
         },
         {
          "font": {
           "color": "#FFFFFF"
          },
          "showarrow": false,
          "text": "0",
          "x": "Tundra Swan (Bewicks)",
          "xref": "x",
          "y": "Common Kestrel",
          "yref": "y"
         },
         {
          "font": {
           "color": "#FFFFFF"
          },
          "showarrow": false,
          "text": "0",
          "x": "Common Buzzard",
          "xref": "x",
          "y": "Common Snipe",
          "yref": "y"
         },
         {
          "font": {
           "color": "#FFFFFF"
          },
          "showarrow": false,
          "text": "2",
          "x": "Common Kestrel",
          "xref": "x",
          "y": "Common Snipe",
          "yref": "y"
         },
         {
          "font": {
           "color": "#000000"
          },
          "showarrow": false,
          "text": "31",
          "x": "Common Snipe",
          "xref": "x",
          "y": "Common Snipe",
          "yref": "y"
         },
         {
          "font": {
           "color": "#FFFFFF"
          },
          "showarrow": false,
          "text": "0",
          "x": "Eurasian Curlew",
          "xref": "x",
          "y": "Common Snipe",
          "yref": "y"
         },
         {
          "font": {
           "color": "#FFFFFF"
          },
          "showarrow": false,
          "text": "0",
          "x": "European Herring Gull",
          "xref": "x",
          "y": "Common Snipe",
          "yref": "y"
         },
         {
          "font": {
           "color": "#FFFFFF"
          },
          "showarrow": false,
          "text": "0",
          "x": "European Robin",
          "xref": "x",
          "y": "Common Snipe",
          "yref": "y"
         },
         {
          "font": {
           "color": "#FFFFFF"
          },
          "showarrow": false,
          "text": "2",
          "x": "Meadow Pipit",
          "xref": "x",
          "y": "Common Snipe",
          "yref": "y"
         },
         {
          "font": {
           "color": "#FFFFFF"
          },
          "showarrow": false,
          "text": "4",
          "x": "Mute Swan",
          "xref": "x",
          "y": "Common Snipe",
          "yref": "y"
         },
         {
          "font": {
           "color": "#FFFFFF"
          },
          "showarrow": false,
          "text": "1",
          "x": "Northern Lapwing",
          "xref": "x",
          "y": "Common Snipe",
          "yref": "y"
         },
         {
          "font": {
           "color": "#FFFFFF"
          },
          "showarrow": false,
          "text": "0",
          "x": "Rook",
          "xref": "x",
          "y": "Common Snipe",
          "yref": "y"
         },
         {
          "font": {
           "color": "#FFFFFF"
          },
          "showarrow": false,
          "text": "0",
          "x": "Tundra Swan",
          "xref": "x",
          "y": "Common Snipe",
          "yref": "y"
         },
         {
          "font": {
           "color": "#FFFFFF"
          },
          "showarrow": false,
          "text": "1",
          "x": "Tundra Swan (Bewicks)",
          "xref": "x",
          "y": "Common Snipe",
          "yref": "y"
         },
         {
          "font": {
           "color": "#FFFFFF"
          },
          "showarrow": false,
          "text": "0",
          "x": "Common Buzzard",
          "xref": "x",
          "y": "Eurasian Curlew",
          "yref": "y"
         },
         {
          "font": {
           "color": "#FFFFFF"
          },
          "showarrow": false,
          "text": "0",
          "x": "Common Kestrel",
          "xref": "x",
          "y": "Eurasian Curlew",
          "yref": "y"
         },
         {
          "font": {
           "color": "#FFFFFF"
          },
          "showarrow": false,
          "text": "3",
          "x": "Common Snipe",
          "xref": "x",
          "y": "Eurasian Curlew",
          "yref": "y"
         },
         {
          "font": {
           "color": "#000000"
          },
          "showarrow": false,
          "text": "18",
          "x": "Eurasian Curlew",
          "xref": "x",
          "y": "Eurasian Curlew",
          "yref": "y"
         },
         {
          "font": {
           "color": "#FFFFFF"
          },
          "showarrow": false,
          "text": "0",
          "x": "European Herring Gull",
          "xref": "x",
          "y": "Eurasian Curlew",
          "yref": "y"
         },
         {
          "font": {
           "color": "#FFFFFF"
          },
          "showarrow": false,
          "text": "0",
          "x": "European Robin",
          "xref": "x",
          "y": "Eurasian Curlew",
          "yref": "y"
         },
         {
          "font": {
           "color": "#FFFFFF"
          },
          "showarrow": false,
          "text": "1",
          "x": "Meadow Pipit",
          "xref": "x",
          "y": "Eurasian Curlew",
          "yref": "y"
         },
         {
          "font": {
           "color": "#FFFFFF"
          },
          "showarrow": false,
          "text": "2",
          "x": "Mute Swan",
          "xref": "x",
          "y": "Eurasian Curlew",
          "yref": "y"
         },
         {
          "font": {
           "color": "#FFFFFF"
          },
          "showarrow": false,
          "text": "0",
          "x": "Northern Lapwing",
          "xref": "x",
          "y": "Eurasian Curlew",
          "yref": "y"
         },
         {
          "font": {
           "color": "#FFFFFF"
          },
          "showarrow": false,
          "text": "0",
          "x": "Rook",
          "xref": "x",
          "y": "Eurasian Curlew",
          "yref": "y"
         },
         {
          "font": {
           "color": "#FFFFFF"
          },
          "showarrow": false,
          "text": "0",
          "x": "Tundra Swan",
          "xref": "x",
          "y": "Eurasian Curlew",
          "yref": "y"
         },
         {
          "font": {
           "color": "#FFFFFF"
          },
          "showarrow": false,
          "text": "0",
          "x": "Tundra Swan (Bewicks)",
          "xref": "x",
          "y": "Eurasian Curlew",
          "yref": "y"
         },
         {
          "font": {
           "color": "#FFFFFF"
          },
          "showarrow": false,
          "text": "1",
          "x": "Common Buzzard",
          "xref": "x",
          "y": "European Herring Gull",
          "yref": "y"
         },
         {
          "font": {
           "color": "#FFFFFF"
          },
          "showarrow": false,
          "text": "0",
          "x": "Common Kestrel",
          "xref": "x",
          "y": "European Herring Gull",
          "yref": "y"
         },
         {
          "font": {
           "color": "#FFFFFF"
          },
          "showarrow": false,
          "text": "4",
          "x": "Common Snipe",
          "xref": "x",
          "y": "European Herring Gull",
          "yref": "y"
         },
         {
          "font": {
           "color": "#FFFFFF"
          },
          "showarrow": false,
          "text": "0",
          "x": "Eurasian Curlew",
          "xref": "x",
          "y": "European Herring Gull",
          "yref": "y"
         },
         {
          "font": {
           "color": "#000000"
          },
          "showarrow": false,
          "text": "22",
          "x": "European Herring Gull",
          "xref": "x",
          "y": "European Herring Gull",
          "yref": "y"
         },
         {
          "font": {
           "color": "#FFFFFF"
          },
          "showarrow": false,
          "text": "0",
          "x": "European Robin",
          "xref": "x",
          "y": "European Herring Gull",
          "yref": "y"
         },
         {
          "font": {
           "color": "#FFFFFF"
          },
          "showarrow": false,
          "text": "1",
          "x": "Meadow Pipit",
          "xref": "x",
          "y": "European Herring Gull",
          "yref": "y"
         },
         {
          "font": {
           "color": "#FFFFFF"
          },
          "showarrow": false,
          "text": "3",
          "x": "Mute Swan",
          "xref": "x",
          "y": "European Herring Gull",
          "yref": "y"
         },
         {
          "font": {
           "color": "#FFFFFF"
          },
          "showarrow": false,
          "text": "1",
          "x": "Northern Lapwing",
          "xref": "x",
          "y": "European Herring Gull",
          "yref": "y"
         },
         {
          "font": {
           "color": "#FFFFFF"
          },
          "showarrow": false,
          "text": "1",
          "x": "Rook",
          "xref": "x",
          "y": "European Herring Gull",
          "yref": "y"
         },
         {
          "font": {
           "color": "#FFFFFF"
          },
          "showarrow": false,
          "text": "3",
          "x": "Tundra Swan",
          "xref": "x",
          "y": "European Herring Gull",
          "yref": "y"
         },
         {
          "font": {
           "color": "#FFFFFF"
          },
          "showarrow": false,
          "text": "1",
          "x": "Tundra Swan (Bewicks)",
          "xref": "x",
          "y": "European Herring Gull",
          "yref": "y"
         },
         {
          "font": {
           "color": "#FFFFFF"
          },
          "showarrow": false,
          "text": "0",
          "x": "Common Buzzard",
          "xref": "x",
          "y": "European Robin",
          "yref": "y"
         },
         {
          "font": {
           "color": "#FFFFFF"
          },
          "showarrow": false,
          "text": "0",
          "x": "Common Kestrel",
          "xref": "x",
          "y": "European Robin",
          "yref": "y"
         },
         {
          "font": {
           "color": "#FFFFFF"
          },
          "showarrow": false,
          "text": "3",
          "x": "Common Snipe",
          "xref": "x",
          "y": "European Robin",
          "yref": "y"
         },
         {
          "font": {
           "color": "#FFFFFF"
          },
          "showarrow": false,
          "text": "0",
          "x": "Eurasian Curlew",
          "xref": "x",
          "y": "European Robin",
          "yref": "y"
         },
         {
          "font": {
           "color": "#FFFFFF"
          },
          "showarrow": false,
          "text": "0",
          "x": "European Herring Gull",
          "xref": "x",
          "y": "European Robin",
          "yref": "y"
         },
         {
          "font": {
           "color": "#000000"
          },
          "showarrow": false,
          "text": "24",
          "x": "European Robin",
          "xref": "x",
          "y": "European Robin",
          "yref": "y"
         },
         {
          "font": {
           "color": "#FFFFFF"
          },
          "showarrow": false,
          "text": "1",
          "x": "Meadow Pipit",
          "xref": "x",
          "y": "European Robin",
          "yref": "y"
         },
         {
          "font": {
           "color": "#FFFFFF"
          },
          "showarrow": false,
          "text": "0",
          "x": "Mute Swan",
          "xref": "x",
          "y": "European Robin",
          "yref": "y"
         },
         {
          "font": {
           "color": "#FFFFFF"
          },
          "showarrow": false,
          "text": "0",
          "x": "Northern Lapwing",
          "xref": "x",
          "y": "European Robin",
          "yref": "y"
         },
         {
          "font": {
           "color": "#FFFFFF"
          },
          "showarrow": false,
          "text": "0",
          "x": "Rook",
          "xref": "x",
          "y": "European Robin",
          "yref": "y"
         },
         {
          "font": {
           "color": "#FFFFFF"
          },
          "showarrow": false,
          "text": "0",
          "x": "Tundra Swan",
          "xref": "x",
          "y": "European Robin",
          "yref": "y"
         },
         {
          "font": {
           "color": "#FFFFFF"
          },
          "showarrow": false,
          "text": "0",
          "x": "Tundra Swan (Bewicks)",
          "xref": "x",
          "y": "European Robin",
          "yref": "y"
         },
         {
          "font": {
           "color": "#FFFFFF"
          },
          "showarrow": false,
          "text": "0",
          "x": "Common Buzzard",
          "xref": "x",
          "y": "Meadow Pipit",
          "yref": "y"
         },
         {
          "font": {
           "color": "#FFFFFF"
          },
          "showarrow": false,
          "text": "1",
          "x": "Common Kestrel",
          "xref": "x",
          "y": "Meadow Pipit",
          "yref": "y"
         },
         {
          "font": {
           "color": "#FFFFFF"
          },
          "showarrow": false,
          "text": "6",
          "x": "Common Snipe",
          "xref": "x",
          "y": "Meadow Pipit",
          "yref": "y"
         },
         {
          "font": {
           "color": "#FFFFFF"
          },
          "showarrow": false,
          "text": "0",
          "x": "Eurasian Curlew",
          "xref": "x",
          "y": "Meadow Pipit",
          "yref": "y"
         },
         {
          "font": {
           "color": "#FFFFFF"
          },
          "showarrow": false,
          "text": "0",
          "x": "European Herring Gull",
          "xref": "x",
          "y": "Meadow Pipit",
          "yref": "y"
         },
         {
          "font": {
           "color": "#FFFFFF"
          },
          "showarrow": false,
          "text": "3",
          "x": "European Robin",
          "xref": "x",
          "y": "Meadow Pipit",
          "yref": "y"
         },
         {
          "font": {
           "color": "#000000"
          },
          "showarrow": false,
          "text": "23",
          "x": "Meadow Pipit",
          "xref": "x",
          "y": "Meadow Pipit",
          "yref": "y"
         },
         {
          "font": {
           "color": "#FFFFFF"
          },
          "showarrow": false,
          "text": "1",
          "x": "Mute Swan",
          "xref": "x",
          "y": "Meadow Pipit",
          "yref": "y"
         },
         {
          "font": {
           "color": "#FFFFFF"
          },
          "showarrow": false,
          "text": "0",
          "x": "Northern Lapwing",
          "xref": "x",
          "y": "Meadow Pipit",
          "yref": "y"
         },
         {
          "font": {
           "color": "#FFFFFF"
          },
          "showarrow": false,
          "text": "0",
          "x": "Rook",
          "xref": "x",
          "y": "Meadow Pipit",
          "yref": "y"
         },
         {
          "font": {
           "color": "#FFFFFF"
          },
          "showarrow": false,
          "text": "0",
          "x": "Tundra Swan",
          "xref": "x",
          "y": "Meadow Pipit",
          "yref": "y"
         },
         {
          "font": {
           "color": "#FFFFFF"
          },
          "showarrow": false,
          "text": "0",
          "x": "Tundra Swan (Bewicks)",
          "xref": "x",
          "y": "Meadow Pipit",
          "yref": "y"
         },
         {
          "font": {
           "color": "#FFFFFF"
          },
          "showarrow": false,
          "text": "0",
          "x": "Common Buzzard",
          "xref": "x",
          "y": "Mute Swan",
          "yref": "y"
         },
         {
          "font": {
           "color": "#FFFFFF"
          },
          "showarrow": false,
          "text": "1",
          "x": "Common Kestrel",
          "xref": "x",
          "y": "Mute Swan",
          "yref": "y"
         },
         {
          "font": {
           "color": "#FFFFFF"
          },
          "showarrow": false,
          "text": "14",
          "x": "Common Snipe",
          "xref": "x",
          "y": "Mute Swan",
          "yref": "y"
         },
         {
          "font": {
           "color": "#FFFFFF"
          },
          "showarrow": false,
          "text": "0",
          "x": "Eurasian Curlew",
          "xref": "x",
          "y": "Mute Swan",
          "yref": "y"
         },
         {
          "font": {
           "color": "#FFFFFF"
          },
          "showarrow": false,
          "text": "1",
          "x": "European Herring Gull",
          "xref": "x",
          "y": "Mute Swan",
          "yref": "y"
         },
         {
          "font": {
           "color": "#FFFFFF"
          },
          "showarrow": false,
          "text": "1",
          "x": "European Robin",
          "xref": "x",
          "y": "Mute Swan",
          "yref": "y"
         },
         {
          "font": {
           "color": "#FFFFFF"
          },
          "showarrow": false,
          "text": "0",
          "x": "Meadow Pipit",
          "xref": "x",
          "y": "Mute Swan",
          "yref": "y"
         },
         {
          "font": {
           "color": "#000000"
          },
          "showarrow": false,
          "text": "24",
          "x": "Mute Swan",
          "xref": "x",
          "y": "Mute Swan",
          "yref": "y"
         },
         {
          "font": {
           "color": "#FFFFFF"
          },
          "showarrow": false,
          "text": "0",
          "x": "Northern Lapwing",
          "xref": "x",
          "y": "Mute Swan",
          "yref": "y"
         },
         {
          "font": {
           "color": "#FFFFFF"
          },
          "showarrow": false,
          "text": "1",
          "x": "Rook",
          "xref": "x",
          "y": "Mute Swan",
          "yref": "y"
         },
         {
          "font": {
           "color": "#FFFFFF"
          },
          "showarrow": false,
          "text": "2",
          "x": "Tundra Swan",
          "xref": "x",
          "y": "Mute Swan",
          "yref": "y"
         },
         {
          "font": {
           "color": "#FFFFFF"
          },
          "showarrow": false,
          "text": "1",
          "x": "Tundra Swan (Bewicks)",
          "xref": "x",
          "y": "Mute Swan",
          "yref": "y"
         },
         {
          "font": {
           "color": "#FFFFFF"
          },
          "showarrow": false,
          "text": "0",
          "x": "Common Buzzard",
          "xref": "x",
          "y": "Northern Lapwing",
          "yref": "y"
         },
         {
          "font": {
           "color": "#FFFFFF"
          },
          "showarrow": false,
          "text": "3",
          "x": "Common Kestrel",
          "xref": "x",
          "y": "Northern Lapwing",
          "yref": "y"
         },
         {
          "font": {
           "color": "#FFFFFF"
          },
          "showarrow": false,
          "text": "8",
          "x": "Common Snipe",
          "xref": "x",
          "y": "Northern Lapwing",
          "yref": "y"
         },
         {
          "font": {
           "color": "#FFFFFF"
          },
          "showarrow": false,
          "text": "0",
          "x": "Eurasian Curlew",
          "xref": "x",
          "y": "Northern Lapwing",
          "yref": "y"
         },
         {
          "font": {
           "color": "#FFFFFF"
          },
          "showarrow": false,
          "text": "2",
          "x": "European Herring Gull",
          "xref": "x",
          "y": "Northern Lapwing",
          "yref": "y"
         },
         {
          "font": {
           "color": "#FFFFFF"
          },
          "showarrow": false,
          "text": "4",
          "x": "European Robin",
          "xref": "x",
          "y": "Northern Lapwing",
          "yref": "y"
         },
         {
          "font": {
           "color": "#FFFFFF"
          },
          "showarrow": false,
          "text": "0",
          "x": "Meadow Pipit",
          "xref": "x",
          "y": "Northern Lapwing",
          "yref": "y"
         },
         {
          "font": {
           "color": "#FFFFFF"
          },
          "showarrow": false,
          "text": "3",
          "x": "Mute Swan",
          "xref": "x",
          "y": "Northern Lapwing",
          "yref": "y"
         },
         {
          "font": {
           "color": "#000000"
          },
          "showarrow": false,
          "text": "19",
          "x": "Northern Lapwing",
          "xref": "x",
          "y": "Northern Lapwing",
          "yref": "y"
         },
         {
          "font": {
           "color": "#FFFFFF"
          },
          "showarrow": false,
          "text": "0",
          "x": "Rook",
          "xref": "x",
          "y": "Northern Lapwing",
          "yref": "y"
         },
         {
          "font": {
           "color": "#FFFFFF"
          },
          "showarrow": false,
          "text": "0",
          "x": "Tundra Swan",
          "xref": "x",
          "y": "Northern Lapwing",
          "yref": "y"
         },
         {
          "font": {
           "color": "#FFFFFF"
          },
          "showarrow": false,
          "text": "0",
          "x": "Tundra Swan (Bewicks)",
          "xref": "x",
          "y": "Northern Lapwing",
          "yref": "y"
         },
         {
          "font": {
           "color": "#FFFFFF"
          },
          "showarrow": false,
          "text": "0",
          "x": "Common Buzzard",
          "xref": "x",
          "y": "Rook",
          "yref": "y"
         },
         {
          "font": {
           "color": "#FFFFFF"
          },
          "showarrow": false,
          "text": "0",
          "x": "Common Kestrel",
          "xref": "x",
          "y": "Rook",
          "yref": "y"
         },
         {
          "font": {
           "color": "#FFFFFF"
          },
          "showarrow": false,
          "text": "0",
          "x": "Common Snipe",
          "xref": "x",
          "y": "Rook",
          "yref": "y"
         },
         {
          "font": {
           "color": "#FFFFFF"
          },
          "showarrow": false,
          "text": "6",
          "x": "Eurasian Curlew",
          "xref": "x",
          "y": "Rook",
          "yref": "y"
         },
         {
          "font": {
           "color": "#FFFFFF"
          },
          "showarrow": false,
          "text": "0",
          "x": "European Herring Gull",
          "xref": "x",
          "y": "Rook",
          "yref": "y"
         },
         {
          "font": {
           "color": "#FFFFFF"
          },
          "showarrow": false,
          "text": "0",
          "x": "European Robin",
          "xref": "x",
          "y": "Rook",
          "yref": "y"
         },
         {
          "font": {
           "color": "#FFFFFF"
          },
          "showarrow": false,
          "text": "0",
          "x": "Meadow Pipit",
          "xref": "x",
          "y": "Rook",
          "yref": "y"
         },
         {
          "font": {
           "color": "#FFFFFF"
          },
          "showarrow": false,
          "text": "1",
          "x": "Mute Swan",
          "xref": "x",
          "y": "Rook",
          "yref": "y"
         },
         {
          "font": {
           "color": "#FFFFFF"
          },
          "showarrow": false,
          "text": "0",
          "x": "Northern Lapwing",
          "xref": "x",
          "y": "Rook",
          "yref": "y"
         },
         {
          "font": {
           "color": "#000000"
          },
          "showarrow": false,
          "text": "28",
          "x": "Rook",
          "xref": "x",
          "y": "Rook",
          "yref": "y"
         },
         {
          "font": {
           "color": "#FFFFFF"
          },
          "showarrow": false,
          "text": "0",
          "x": "Tundra Swan",
          "xref": "x",
          "y": "Rook",
          "yref": "y"
         },
         {
          "font": {
           "color": "#FFFFFF"
          },
          "showarrow": false,
          "text": "0",
          "x": "Tundra Swan (Bewicks)",
          "xref": "x",
          "y": "Rook",
          "yref": "y"
         },
         {
          "font": {
           "color": "#FFFFFF"
          },
          "showarrow": false,
          "text": "0",
          "x": "Common Buzzard",
          "xref": "x",
          "y": "Tundra Swan",
          "yref": "y"
         },
         {
          "font": {
           "color": "#FFFFFF"
          },
          "showarrow": false,
          "text": "0",
          "x": "Common Kestrel",
          "xref": "x",
          "y": "Tundra Swan",
          "yref": "y"
         },
         {
          "font": {
           "color": "#FFFFFF"
          },
          "showarrow": false,
          "text": "4",
          "x": "Common Snipe",
          "xref": "x",
          "y": "Tundra Swan",
          "yref": "y"
         },
         {
          "font": {
           "color": "#FFFFFF"
          },
          "showarrow": false,
          "text": "0",
          "x": "Eurasian Curlew",
          "xref": "x",
          "y": "Tundra Swan",
          "yref": "y"
         },
         {
          "font": {
           "color": "#FFFFFF"
          },
          "showarrow": false,
          "text": "0",
          "x": "European Herring Gull",
          "xref": "x",
          "y": "Tundra Swan",
          "yref": "y"
         },
         {
          "font": {
           "color": "#FFFFFF"
          },
          "showarrow": false,
          "text": "0",
          "x": "European Robin",
          "xref": "x",
          "y": "Tundra Swan",
          "yref": "y"
         },
         {
          "font": {
           "color": "#FFFFFF"
          },
          "showarrow": false,
          "text": "0",
          "x": "Meadow Pipit",
          "xref": "x",
          "y": "Tundra Swan",
          "yref": "y"
         },
         {
          "font": {
           "color": "#FFFFFF"
          },
          "showarrow": false,
          "text": "7",
          "x": "Mute Swan",
          "xref": "x",
          "y": "Tundra Swan",
          "yref": "y"
         },
         {
          "font": {
           "color": "#FFFFFF"
          },
          "showarrow": false,
          "text": "0",
          "x": "Northern Lapwing",
          "xref": "x",
          "y": "Tundra Swan",
          "yref": "y"
         },
         {
          "font": {
           "color": "#FFFFFF"
          },
          "showarrow": false,
          "text": "1",
          "x": "Rook",
          "xref": "x",
          "y": "Tundra Swan",
          "yref": "y"
         },
         {
          "font": {
           "color": "#FFFFFF"
          },
          "showarrow": false,
          "text": "14",
          "x": "Tundra Swan",
          "xref": "x",
          "y": "Tundra Swan",
          "yref": "y"
         },
         {
          "font": {
           "color": "#FFFFFF"
          },
          "showarrow": false,
          "text": "4",
          "x": "Tundra Swan (Bewicks)",
          "xref": "x",
          "y": "Tundra Swan",
          "yref": "y"
         },
         {
          "font": {
           "color": "#FFFFFF"
          },
          "showarrow": false,
          "text": "1",
          "x": "Common Buzzard",
          "xref": "x",
          "y": "Tundra Swan (Bewicks)",
          "yref": "y"
         },
         {
          "font": {
           "color": "#FFFFFF"
          },
          "showarrow": false,
          "text": "0",
          "x": "Common Kestrel",
          "xref": "x",
          "y": "Tundra Swan (Bewicks)",
          "yref": "y"
         },
         {
          "font": {
           "color": "#FFFFFF"
          },
          "showarrow": false,
          "text": "5",
          "x": "Common Snipe",
          "xref": "x",
          "y": "Tundra Swan (Bewicks)",
          "yref": "y"
         },
         {
          "font": {
           "color": "#FFFFFF"
          },
          "showarrow": false,
          "text": "0",
          "x": "Eurasian Curlew",
          "xref": "x",
          "y": "Tundra Swan (Bewicks)",
          "yref": "y"
         },
         {
          "font": {
           "color": "#FFFFFF"
          },
          "showarrow": false,
          "text": "1",
          "x": "European Herring Gull",
          "xref": "x",
          "y": "Tundra Swan (Bewicks)",
          "yref": "y"
         },
         {
          "font": {
           "color": "#FFFFFF"
          },
          "showarrow": false,
          "text": "0",
          "x": "European Robin",
          "xref": "x",
          "y": "Tundra Swan (Bewicks)",
          "yref": "y"
         },
         {
          "font": {
           "color": "#FFFFFF"
          },
          "showarrow": false,
          "text": "0",
          "x": "Meadow Pipit",
          "xref": "x",
          "y": "Tundra Swan (Bewicks)",
          "yref": "y"
         },
         {
          "font": {
           "color": "#FFFFFF"
          },
          "showarrow": false,
          "text": "0",
          "x": "Mute Swan",
          "xref": "x",
          "y": "Tundra Swan (Bewicks)",
          "yref": "y"
         },
         {
          "font": {
           "color": "#FFFFFF"
          },
          "showarrow": false,
          "text": "0",
          "x": "Northern Lapwing",
          "xref": "x",
          "y": "Tundra Swan (Bewicks)",
          "yref": "y"
         },
         {
          "font": {
           "color": "#FFFFFF"
          },
          "showarrow": false,
          "text": "0",
          "x": "Rook",
          "xref": "x",
          "y": "Tundra Swan (Bewicks)",
          "yref": "y"
         },
         {
          "font": {
           "color": "#FFFFFF"
          },
          "showarrow": false,
          "text": "6",
          "x": "Tundra Swan",
          "xref": "x",
          "y": "Tundra Swan (Bewicks)",
          "yref": "y"
         },
         {
          "font": {
           "color": "#FFFFFF"
          },
          "showarrow": false,
          "text": "14",
          "x": "Tundra Swan (Bewicks)",
          "xref": "x",
          "y": "Tundra Swan (Bewicks)",
          "yref": "y"
         },
         {
          "font": {
           "color": "black",
           "size": 14
          },
          "showarrow": false,
          "text": "Predicted value",
          "x": 0.5,
          "xref": "paper",
          "y": -0.15,
          "yref": "paper"
         },
         {
          "font": {
           "color": "black",
           "size": 14
          },
          "showarrow": false,
          "text": "Real value",
          "textangle": -90,
          "x": -0.26,
          "xref": "paper",
          "y": 0.5,
          "yref": "paper"
         }
        ],
        "margin": {
         "l": 200,
         "t": 50
        },
        "template": {
         "data": {
          "bar": [
           {
            "error_x": {
             "color": "#2a3f5f"
            },
            "error_y": {
             "color": "#2a3f5f"
            },
            "marker": {
             "line": {
              "color": "#E5ECF6",
              "width": 0.5
             },
             "pattern": {
              "fillmode": "overlay",
              "size": 10,
              "solidity": 0.2
             }
            },
            "type": "bar"
           }
          ],
          "barpolar": [
           {
            "marker": {
             "line": {
              "color": "#E5ECF6",
              "width": 0.5
             },
             "pattern": {
              "fillmode": "overlay",
              "size": 10,
              "solidity": 0.2
             }
            },
            "type": "barpolar"
           }
          ],
          "carpet": [
           {
            "aaxis": {
             "endlinecolor": "#2a3f5f",
             "gridcolor": "white",
             "linecolor": "white",
             "minorgridcolor": "white",
             "startlinecolor": "#2a3f5f"
            },
            "baxis": {
             "endlinecolor": "#2a3f5f",
             "gridcolor": "white",
             "linecolor": "white",
             "minorgridcolor": "white",
             "startlinecolor": "#2a3f5f"
            },
            "type": "carpet"
           }
          ],
          "choropleth": [
           {
            "colorbar": {
             "outlinewidth": 0,
             "ticks": ""
            },
            "type": "choropleth"
           }
          ],
          "contour": [
           {
            "colorbar": {
             "outlinewidth": 0,
             "ticks": ""
            },
            "colorscale": [
             [
              0,
              "#0d0887"
             ],
             [
              0.1111111111111111,
              "#46039f"
             ],
             [
              0.2222222222222222,
              "#7201a8"
             ],
             [
              0.3333333333333333,
              "#9c179e"
             ],
             [
              0.4444444444444444,
              "#bd3786"
             ],
             [
              0.5555555555555556,
              "#d8576b"
             ],
             [
              0.6666666666666666,
              "#ed7953"
             ],
             [
              0.7777777777777778,
              "#fb9f3a"
             ],
             [
              0.8888888888888888,
              "#fdca26"
             ],
             [
              1,
              "#f0f921"
             ]
            ],
            "type": "contour"
           }
          ],
          "contourcarpet": [
           {
            "colorbar": {
             "outlinewidth": 0,
             "ticks": ""
            },
            "type": "contourcarpet"
           }
          ],
          "heatmap": [
           {
            "colorbar": {
             "outlinewidth": 0,
             "ticks": ""
            },
            "colorscale": [
             [
              0,
              "#0d0887"
             ],
             [
              0.1111111111111111,
              "#46039f"
             ],
             [
              0.2222222222222222,
              "#7201a8"
             ],
             [
              0.3333333333333333,
              "#9c179e"
             ],
             [
              0.4444444444444444,
              "#bd3786"
             ],
             [
              0.5555555555555556,
              "#d8576b"
             ],
             [
              0.6666666666666666,
              "#ed7953"
             ],
             [
              0.7777777777777778,
              "#fb9f3a"
             ],
             [
              0.8888888888888888,
              "#fdca26"
             ],
             [
              1,
              "#f0f921"
             ]
            ],
            "type": "heatmap"
           }
          ],
          "heatmapgl": [
           {
            "colorbar": {
             "outlinewidth": 0,
             "ticks": ""
            },
            "colorscale": [
             [
              0,
              "#0d0887"
             ],
             [
              0.1111111111111111,
              "#46039f"
             ],
             [
              0.2222222222222222,
              "#7201a8"
             ],
             [
              0.3333333333333333,
              "#9c179e"
             ],
             [
              0.4444444444444444,
              "#bd3786"
             ],
             [
              0.5555555555555556,
              "#d8576b"
             ],
             [
              0.6666666666666666,
              "#ed7953"
             ],
             [
              0.7777777777777778,
              "#fb9f3a"
             ],
             [
              0.8888888888888888,
              "#fdca26"
             ],
             [
              1,
              "#f0f921"
             ]
            ],
            "type": "heatmapgl"
           }
          ],
          "histogram": [
           {
            "marker": {
             "pattern": {
              "fillmode": "overlay",
              "size": 10,
              "solidity": 0.2
             }
            },
            "type": "histogram"
           }
          ],
          "histogram2d": [
           {
            "colorbar": {
             "outlinewidth": 0,
             "ticks": ""
            },
            "colorscale": [
             [
              0,
              "#0d0887"
             ],
             [
              0.1111111111111111,
              "#46039f"
             ],
             [
              0.2222222222222222,
              "#7201a8"
             ],
             [
              0.3333333333333333,
              "#9c179e"
             ],
             [
              0.4444444444444444,
              "#bd3786"
             ],
             [
              0.5555555555555556,
              "#d8576b"
             ],
             [
              0.6666666666666666,
              "#ed7953"
             ],
             [
              0.7777777777777778,
              "#fb9f3a"
             ],
             [
              0.8888888888888888,
              "#fdca26"
             ],
             [
              1,
              "#f0f921"
             ]
            ],
            "type": "histogram2d"
           }
          ],
          "histogram2dcontour": [
           {
            "colorbar": {
             "outlinewidth": 0,
             "ticks": ""
            },
            "colorscale": [
             [
              0,
              "#0d0887"
             ],
             [
              0.1111111111111111,
              "#46039f"
             ],
             [
              0.2222222222222222,
              "#7201a8"
             ],
             [
              0.3333333333333333,
              "#9c179e"
             ],
             [
              0.4444444444444444,
              "#bd3786"
             ],
             [
              0.5555555555555556,
              "#d8576b"
             ],
             [
              0.6666666666666666,
              "#ed7953"
             ],
             [
              0.7777777777777778,
              "#fb9f3a"
             ],
             [
              0.8888888888888888,
              "#fdca26"
             ],
             [
              1,
              "#f0f921"
             ]
            ],
            "type": "histogram2dcontour"
           }
          ],
          "mesh3d": [
           {
            "colorbar": {
             "outlinewidth": 0,
             "ticks": ""
            },
            "type": "mesh3d"
           }
          ],
          "parcoords": [
           {
            "line": {
             "colorbar": {
              "outlinewidth": 0,
              "ticks": ""
             }
            },
            "type": "parcoords"
           }
          ],
          "pie": [
           {
            "automargin": true,
            "type": "pie"
           }
          ],
          "scatter": [
           {
            "marker": {
             "colorbar": {
              "outlinewidth": 0,
              "ticks": ""
             }
            },
            "type": "scatter"
           }
          ],
          "scatter3d": [
           {
            "line": {
             "colorbar": {
              "outlinewidth": 0,
              "ticks": ""
             }
            },
            "marker": {
             "colorbar": {
              "outlinewidth": 0,
              "ticks": ""
             }
            },
            "type": "scatter3d"
           }
          ],
          "scattercarpet": [
           {
            "marker": {
             "colorbar": {
              "outlinewidth": 0,
              "ticks": ""
             }
            },
            "type": "scattercarpet"
           }
          ],
          "scattergeo": [
           {
            "marker": {
             "colorbar": {
              "outlinewidth": 0,
              "ticks": ""
             }
            },
            "type": "scattergeo"
           }
          ],
          "scattergl": [
           {
            "marker": {
             "colorbar": {
              "outlinewidth": 0,
              "ticks": ""
             }
            },
            "type": "scattergl"
           }
          ],
          "scattermapbox": [
           {
            "marker": {
             "colorbar": {
              "outlinewidth": 0,
              "ticks": ""
             }
            },
            "type": "scattermapbox"
           }
          ],
          "scatterpolar": [
           {
            "marker": {
             "colorbar": {
              "outlinewidth": 0,
              "ticks": ""
             }
            },
            "type": "scatterpolar"
           }
          ],
          "scatterpolargl": [
           {
            "marker": {
             "colorbar": {
              "outlinewidth": 0,
              "ticks": ""
             }
            },
            "type": "scatterpolargl"
           }
          ],
          "scatterternary": [
           {
            "marker": {
             "colorbar": {
              "outlinewidth": 0,
              "ticks": ""
             }
            },
            "type": "scatterternary"
           }
          ],
          "surface": [
           {
            "colorbar": {
             "outlinewidth": 0,
             "ticks": ""
            },
            "colorscale": [
             [
              0,
              "#0d0887"
             ],
             [
              0.1111111111111111,
              "#46039f"
             ],
             [
              0.2222222222222222,
              "#7201a8"
             ],
             [
              0.3333333333333333,
              "#9c179e"
             ],
             [
              0.4444444444444444,
              "#bd3786"
             ],
             [
              0.5555555555555556,
              "#d8576b"
             ],
             [
              0.6666666666666666,
              "#ed7953"
             ],
             [
              0.7777777777777778,
              "#fb9f3a"
             ],
             [
              0.8888888888888888,
              "#fdca26"
             ],
             [
              1,
              "#f0f921"
             ]
            ],
            "type": "surface"
           }
          ],
          "table": [
           {
            "cells": {
             "fill": {
              "color": "#EBF0F8"
             },
             "line": {
              "color": "white"
             }
            },
            "header": {
             "fill": {
              "color": "#C8D4E3"
             },
             "line": {
              "color": "white"
             }
            },
            "type": "table"
           }
          ]
         },
         "layout": {
          "annotationdefaults": {
           "arrowcolor": "#2a3f5f",
           "arrowhead": 0,
           "arrowwidth": 1
          },
          "autotypenumbers": "strict",
          "coloraxis": {
           "colorbar": {
            "outlinewidth": 0,
            "ticks": ""
           }
          },
          "colorscale": {
           "diverging": [
            [
             0,
             "#8e0152"
            ],
            [
             0.1,
             "#c51b7d"
            ],
            [
             0.2,
             "#de77ae"
            ],
            [
             0.3,
             "#f1b6da"
            ],
            [
             0.4,
             "#fde0ef"
            ],
            [
             0.5,
             "#f7f7f7"
            ],
            [
             0.6,
             "#e6f5d0"
            ],
            [
             0.7,
             "#b8e186"
            ],
            [
             0.8,
             "#7fbc41"
            ],
            [
             0.9,
             "#4d9221"
            ],
            [
             1,
             "#276419"
            ]
           ],
           "sequential": [
            [
             0,
             "#0d0887"
            ],
            [
             0.1111111111111111,
             "#46039f"
            ],
            [
             0.2222222222222222,
             "#7201a8"
            ],
            [
             0.3333333333333333,
             "#9c179e"
            ],
            [
             0.4444444444444444,
             "#bd3786"
            ],
            [
             0.5555555555555556,
             "#d8576b"
            ],
            [
             0.6666666666666666,
             "#ed7953"
            ],
            [
             0.7777777777777778,
             "#fb9f3a"
            ],
            [
             0.8888888888888888,
             "#fdca26"
            ],
            [
             1,
             "#f0f921"
            ]
           ],
           "sequentialminus": [
            [
             0,
             "#0d0887"
            ],
            [
             0.1111111111111111,
             "#46039f"
            ],
            [
             0.2222222222222222,
             "#7201a8"
            ],
            [
             0.3333333333333333,
             "#9c179e"
            ],
            [
             0.4444444444444444,
             "#bd3786"
            ],
            [
             0.5555555555555556,
             "#d8576b"
            ],
            [
             0.6666666666666666,
             "#ed7953"
            ],
            [
             0.7777777777777778,
             "#fb9f3a"
            ],
            [
             0.8888888888888888,
             "#fdca26"
            ],
            [
             1,
             "#f0f921"
            ]
           ]
          },
          "colorway": [
           "#636efa",
           "#EF553B",
           "#00cc96",
           "#ab63fa",
           "#FFA15A",
           "#19d3f3",
           "#FF6692",
           "#B6E880",
           "#FF97FF",
           "#FECB52"
          ],
          "font": {
           "color": "#2a3f5f"
          },
          "geo": {
           "bgcolor": "white",
           "lakecolor": "white",
           "landcolor": "#E5ECF6",
           "showlakes": true,
           "showland": true,
           "subunitcolor": "white"
          },
          "hoverlabel": {
           "align": "left"
          },
          "hovermode": "closest",
          "mapbox": {
           "style": "light"
          },
          "paper_bgcolor": "white",
          "plot_bgcolor": "#E5ECF6",
          "polar": {
           "angularaxis": {
            "gridcolor": "white",
            "linecolor": "white",
            "ticks": ""
           },
           "bgcolor": "#E5ECF6",
           "radialaxis": {
            "gridcolor": "white",
            "linecolor": "white",
            "ticks": ""
           }
          },
          "scene": {
           "xaxis": {
            "backgroundcolor": "#E5ECF6",
            "gridcolor": "white",
            "gridwidth": 2,
            "linecolor": "white",
            "showbackground": true,
            "ticks": "",
            "zerolinecolor": "white"
           },
           "yaxis": {
            "backgroundcolor": "#E5ECF6",
            "gridcolor": "white",
            "gridwidth": 2,
            "linecolor": "white",
            "showbackground": true,
            "ticks": "",
            "zerolinecolor": "white"
           },
           "zaxis": {
            "backgroundcolor": "#E5ECF6",
            "gridcolor": "white",
            "gridwidth": 2,
            "linecolor": "white",
            "showbackground": true,
            "ticks": "",
            "zerolinecolor": "white"
           }
          },
          "shapedefaults": {
           "line": {
            "color": "#2a3f5f"
           }
          },
          "ternary": {
           "aaxis": {
            "gridcolor": "white",
            "linecolor": "white",
            "ticks": ""
           },
           "baxis": {
            "gridcolor": "white",
            "linecolor": "white",
            "ticks": ""
           },
           "bgcolor": "#E5ECF6",
           "caxis": {
            "gridcolor": "white",
            "linecolor": "white",
            "ticks": ""
           }
          },
          "title": {
           "x": 0.05
          },
          "xaxis": {
           "automargin": true,
           "gridcolor": "white",
           "linecolor": "white",
           "ticks": "",
           "title": {
            "standoff": 15
           },
           "zerolinecolor": "white",
           "zerolinewidth": 2
          },
          "yaxis": {
           "automargin": true,
           "gridcolor": "white",
           "linecolor": "white",
           "ticks": "",
           "title": {
            "standoff": 15
           },
           "zerolinecolor": "white",
           "zerolinewidth": 2
          }
         }
        },
        "title": {
         "text": "<i><b>Confusion<br>matrix</b></i>",
         "x": 0
        },
        "xaxis": {
         "dtick": 1,
         "gridcolor": "rgb(0, 0, 0)",
         "side": "top",
         "ticks": ""
        },
        "yaxis": {
         "autorange": "reversed",
         "dtick": 1,
         "ticks": "",
         "ticksuffix": "  "
        }
       }
      },
      "text/html": [
       "<div>                            <div id=\"eeb45383-ad49-40b4-8de8-ec7f033e70eb\" class=\"plotly-graph-div\" style=\"height:525px; width:100%;\"></div>            <script type=\"text/javascript\">                require([\"plotly\"], function(Plotly) {                    window.PLOTLYENV=window.PLOTLYENV || {};                                    if (document.getElementById(\"eeb45383-ad49-40b4-8de8-ec7f033e70eb\")) {                    Plotly.newPlot(                        \"eeb45383-ad49-40b4-8de8-ec7f033e70eb\",                        [{\"colorscale\":[[0.0,\"#440154\"],[0.1111111111111111,\"#482878\"],[0.2222222222222222,\"#3e4989\"],[0.3333333333333333,\"#31688e\"],[0.4444444444444444,\"#26828e\"],[0.5555555555555556,\"#1f9e89\"],[0.6666666666666666,\"#35b779\"],[0.7777777777777778,\"#6ece58\"],[0.8888888888888888,\"#b5de2b\"],[1.0,\"#fde725\"]],\"reversescale\":false,\"showscale\":true,\"type\":\"heatmap\",\"x\":[\"Common Buzzard\",\"Common Kestrel\",\"Common Snipe\",\"Eurasian Curlew\",\"European Herring Gull\",\"European Robin\",\"Meadow Pipit\",\"Mute Swan\",\"Northern Lapwing\",\"Rook\",\"Tundra Swan\",\"Tundra Swan (Bewicks)\"],\"y\":[\"Common Buzzard\",\"Common Kestrel\",\"Common Snipe\",\"Eurasian Curlew\",\"European Herring Gull\",\"European Robin\",\"Meadow Pipit\",\"Mute Swan\",\"Northern Lapwing\",\"Rook\",\"Tundra Swan\",\"Tundra Swan (Bewicks)\"],\"z\":[[13,2,6,2,0,0,4,0,0,0,0,0],[0,25,1,0,0,1,0,1,2,0,0,0],[0,2,31,0,0,0,2,4,1,0,0,1],[0,0,3,18,0,0,1,2,0,0,0,0],[1,0,4,0,22,0,1,3,1,1,3,1],[0,0,3,0,0,24,1,0,0,0,0,0],[0,1,6,0,0,3,23,1,0,0,0,0],[0,1,14,0,1,1,0,24,0,1,2,1],[0,3,8,0,2,4,0,3,19,0,0,0],[0,0,0,6,0,0,0,1,0,28,0,0],[0,0,4,0,0,0,0,7,0,1,14,4],[1,0,5,0,1,0,0,0,0,0,6,14]]}],                        {\"annotations\":[{\"font\":{\"color\":\"#FFFFFF\"},\"showarrow\":false,\"text\":\"13\",\"x\":\"Common Buzzard\",\"xref\":\"x\",\"y\":\"Common Buzzard\",\"yref\":\"y\"},{\"font\":{\"color\":\"#FFFFFF\"},\"showarrow\":false,\"text\":\"2\",\"x\":\"Common Kestrel\",\"xref\":\"x\",\"y\":\"Common Buzzard\",\"yref\":\"y\"},{\"font\":{\"color\":\"#FFFFFF\"},\"showarrow\":false,\"text\":\"6\",\"x\":\"Common Snipe\",\"xref\":\"x\",\"y\":\"Common Buzzard\",\"yref\":\"y\"},{\"font\":{\"color\":\"#FFFFFF\"},\"showarrow\":false,\"text\":\"2\",\"x\":\"Eurasian Curlew\",\"xref\":\"x\",\"y\":\"Common Buzzard\",\"yref\":\"y\"},{\"font\":{\"color\":\"#FFFFFF\"},\"showarrow\":false,\"text\":\"0\",\"x\":\"European Herring Gull\",\"xref\":\"x\",\"y\":\"Common Buzzard\",\"yref\":\"y\"},{\"font\":{\"color\":\"#FFFFFF\"},\"showarrow\":false,\"text\":\"0\",\"x\":\"European Robin\",\"xref\":\"x\",\"y\":\"Common Buzzard\",\"yref\":\"y\"},{\"font\":{\"color\":\"#FFFFFF\"},\"showarrow\":false,\"text\":\"4\",\"x\":\"Meadow Pipit\",\"xref\":\"x\",\"y\":\"Common Buzzard\",\"yref\":\"y\"},{\"font\":{\"color\":\"#FFFFFF\"},\"showarrow\":false,\"text\":\"0\",\"x\":\"Mute Swan\",\"xref\":\"x\",\"y\":\"Common Buzzard\",\"yref\":\"y\"},{\"font\":{\"color\":\"#FFFFFF\"},\"showarrow\":false,\"text\":\"0\",\"x\":\"Northern Lapwing\",\"xref\":\"x\",\"y\":\"Common Buzzard\",\"yref\":\"y\"},{\"font\":{\"color\":\"#FFFFFF\"},\"showarrow\":false,\"text\":\"0\",\"x\":\"Rook\",\"xref\":\"x\",\"y\":\"Common Buzzard\",\"yref\":\"y\"},{\"font\":{\"color\":\"#FFFFFF\"},\"showarrow\":false,\"text\":\"0\",\"x\":\"Tundra Swan\",\"xref\":\"x\",\"y\":\"Common Buzzard\",\"yref\":\"y\"},{\"font\":{\"color\":\"#FFFFFF\"},\"showarrow\":false,\"text\":\"0\",\"x\":\"Tundra Swan (Bewicks)\",\"xref\":\"x\",\"y\":\"Common Buzzard\",\"yref\":\"y\"},{\"font\":{\"color\":\"#FFFFFF\"},\"showarrow\":false,\"text\":\"0\",\"x\":\"Common Buzzard\",\"xref\":\"x\",\"y\":\"Common Kestrel\",\"yref\":\"y\"},{\"font\":{\"color\":\"#000000\"},\"showarrow\":false,\"text\":\"25\",\"x\":\"Common Kestrel\",\"xref\":\"x\",\"y\":\"Common Kestrel\",\"yref\":\"y\"},{\"font\":{\"color\":\"#FFFFFF\"},\"showarrow\":false,\"text\":\"1\",\"x\":\"Common Snipe\",\"xref\":\"x\",\"y\":\"Common Kestrel\",\"yref\":\"y\"},{\"font\":{\"color\":\"#FFFFFF\"},\"showarrow\":false,\"text\":\"0\",\"x\":\"Eurasian Curlew\",\"xref\":\"x\",\"y\":\"Common Kestrel\",\"yref\":\"y\"},{\"font\":{\"color\":\"#FFFFFF\"},\"showarrow\":false,\"text\":\"0\",\"x\":\"European Herring Gull\",\"xref\":\"x\",\"y\":\"Common Kestrel\",\"yref\":\"y\"},{\"font\":{\"color\":\"#FFFFFF\"},\"showarrow\":false,\"text\":\"1\",\"x\":\"European Robin\",\"xref\":\"x\",\"y\":\"Common Kestrel\",\"yref\":\"y\"},{\"font\":{\"color\":\"#FFFFFF\"},\"showarrow\":false,\"text\":\"0\",\"x\":\"Meadow Pipit\",\"xref\":\"x\",\"y\":\"Common Kestrel\",\"yref\":\"y\"},{\"font\":{\"color\":\"#FFFFFF\"},\"showarrow\":false,\"text\":\"1\",\"x\":\"Mute Swan\",\"xref\":\"x\",\"y\":\"Common Kestrel\",\"yref\":\"y\"},{\"font\":{\"color\":\"#FFFFFF\"},\"showarrow\":false,\"text\":\"2\",\"x\":\"Northern Lapwing\",\"xref\":\"x\",\"y\":\"Common Kestrel\",\"yref\":\"y\"},{\"font\":{\"color\":\"#FFFFFF\"},\"showarrow\":false,\"text\":\"0\",\"x\":\"Rook\",\"xref\":\"x\",\"y\":\"Common Kestrel\",\"yref\":\"y\"},{\"font\":{\"color\":\"#FFFFFF\"},\"showarrow\":false,\"text\":\"0\",\"x\":\"Tundra Swan\",\"xref\":\"x\",\"y\":\"Common Kestrel\",\"yref\":\"y\"},{\"font\":{\"color\":\"#FFFFFF\"},\"showarrow\":false,\"text\":\"0\",\"x\":\"Tundra Swan (Bewicks)\",\"xref\":\"x\",\"y\":\"Common Kestrel\",\"yref\":\"y\"},{\"font\":{\"color\":\"#FFFFFF\"},\"showarrow\":false,\"text\":\"0\",\"x\":\"Common Buzzard\",\"xref\":\"x\",\"y\":\"Common Snipe\",\"yref\":\"y\"},{\"font\":{\"color\":\"#FFFFFF\"},\"showarrow\":false,\"text\":\"2\",\"x\":\"Common Kestrel\",\"xref\":\"x\",\"y\":\"Common Snipe\",\"yref\":\"y\"},{\"font\":{\"color\":\"#000000\"},\"showarrow\":false,\"text\":\"31\",\"x\":\"Common Snipe\",\"xref\":\"x\",\"y\":\"Common Snipe\",\"yref\":\"y\"},{\"font\":{\"color\":\"#FFFFFF\"},\"showarrow\":false,\"text\":\"0\",\"x\":\"Eurasian Curlew\",\"xref\":\"x\",\"y\":\"Common Snipe\",\"yref\":\"y\"},{\"font\":{\"color\":\"#FFFFFF\"},\"showarrow\":false,\"text\":\"0\",\"x\":\"European Herring Gull\",\"xref\":\"x\",\"y\":\"Common Snipe\",\"yref\":\"y\"},{\"font\":{\"color\":\"#FFFFFF\"},\"showarrow\":false,\"text\":\"0\",\"x\":\"European Robin\",\"xref\":\"x\",\"y\":\"Common Snipe\",\"yref\":\"y\"},{\"font\":{\"color\":\"#FFFFFF\"},\"showarrow\":false,\"text\":\"2\",\"x\":\"Meadow Pipit\",\"xref\":\"x\",\"y\":\"Common Snipe\",\"yref\":\"y\"},{\"font\":{\"color\":\"#FFFFFF\"},\"showarrow\":false,\"text\":\"4\",\"x\":\"Mute Swan\",\"xref\":\"x\",\"y\":\"Common Snipe\",\"yref\":\"y\"},{\"font\":{\"color\":\"#FFFFFF\"},\"showarrow\":false,\"text\":\"1\",\"x\":\"Northern Lapwing\",\"xref\":\"x\",\"y\":\"Common Snipe\",\"yref\":\"y\"},{\"font\":{\"color\":\"#FFFFFF\"},\"showarrow\":false,\"text\":\"0\",\"x\":\"Rook\",\"xref\":\"x\",\"y\":\"Common Snipe\",\"yref\":\"y\"},{\"font\":{\"color\":\"#FFFFFF\"},\"showarrow\":false,\"text\":\"0\",\"x\":\"Tundra Swan\",\"xref\":\"x\",\"y\":\"Common Snipe\",\"yref\":\"y\"},{\"font\":{\"color\":\"#FFFFFF\"},\"showarrow\":false,\"text\":\"1\",\"x\":\"Tundra Swan (Bewicks)\",\"xref\":\"x\",\"y\":\"Common Snipe\",\"yref\":\"y\"},{\"font\":{\"color\":\"#FFFFFF\"},\"showarrow\":false,\"text\":\"0\",\"x\":\"Common Buzzard\",\"xref\":\"x\",\"y\":\"Eurasian Curlew\",\"yref\":\"y\"},{\"font\":{\"color\":\"#FFFFFF\"},\"showarrow\":false,\"text\":\"0\",\"x\":\"Common Kestrel\",\"xref\":\"x\",\"y\":\"Eurasian Curlew\",\"yref\":\"y\"},{\"font\":{\"color\":\"#FFFFFF\"},\"showarrow\":false,\"text\":\"3\",\"x\":\"Common Snipe\",\"xref\":\"x\",\"y\":\"Eurasian Curlew\",\"yref\":\"y\"},{\"font\":{\"color\":\"#000000\"},\"showarrow\":false,\"text\":\"18\",\"x\":\"Eurasian Curlew\",\"xref\":\"x\",\"y\":\"Eurasian Curlew\",\"yref\":\"y\"},{\"font\":{\"color\":\"#FFFFFF\"},\"showarrow\":false,\"text\":\"0\",\"x\":\"European Herring Gull\",\"xref\":\"x\",\"y\":\"Eurasian Curlew\",\"yref\":\"y\"},{\"font\":{\"color\":\"#FFFFFF\"},\"showarrow\":false,\"text\":\"0\",\"x\":\"European Robin\",\"xref\":\"x\",\"y\":\"Eurasian Curlew\",\"yref\":\"y\"},{\"font\":{\"color\":\"#FFFFFF\"},\"showarrow\":false,\"text\":\"1\",\"x\":\"Meadow Pipit\",\"xref\":\"x\",\"y\":\"Eurasian Curlew\",\"yref\":\"y\"},{\"font\":{\"color\":\"#FFFFFF\"},\"showarrow\":false,\"text\":\"2\",\"x\":\"Mute Swan\",\"xref\":\"x\",\"y\":\"Eurasian Curlew\",\"yref\":\"y\"},{\"font\":{\"color\":\"#FFFFFF\"},\"showarrow\":false,\"text\":\"0\",\"x\":\"Northern Lapwing\",\"xref\":\"x\",\"y\":\"Eurasian Curlew\",\"yref\":\"y\"},{\"font\":{\"color\":\"#FFFFFF\"},\"showarrow\":false,\"text\":\"0\",\"x\":\"Rook\",\"xref\":\"x\",\"y\":\"Eurasian Curlew\",\"yref\":\"y\"},{\"font\":{\"color\":\"#FFFFFF\"},\"showarrow\":false,\"text\":\"0\",\"x\":\"Tundra Swan\",\"xref\":\"x\",\"y\":\"Eurasian Curlew\",\"yref\":\"y\"},{\"font\":{\"color\":\"#FFFFFF\"},\"showarrow\":false,\"text\":\"0\",\"x\":\"Tundra Swan (Bewicks)\",\"xref\":\"x\",\"y\":\"Eurasian Curlew\",\"yref\":\"y\"},{\"font\":{\"color\":\"#FFFFFF\"},\"showarrow\":false,\"text\":\"1\",\"x\":\"Common Buzzard\",\"xref\":\"x\",\"y\":\"European Herring Gull\",\"yref\":\"y\"},{\"font\":{\"color\":\"#FFFFFF\"},\"showarrow\":false,\"text\":\"0\",\"x\":\"Common Kestrel\",\"xref\":\"x\",\"y\":\"European Herring Gull\",\"yref\":\"y\"},{\"font\":{\"color\":\"#FFFFFF\"},\"showarrow\":false,\"text\":\"4\",\"x\":\"Common Snipe\",\"xref\":\"x\",\"y\":\"European Herring Gull\",\"yref\":\"y\"},{\"font\":{\"color\":\"#FFFFFF\"},\"showarrow\":false,\"text\":\"0\",\"x\":\"Eurasian Curlew\",\"xref\":\"x\",\"y\":\"European Herring Gull\",\"yref\":\"y\"},{\"font\":{\"color\":\"#000000\"},\"showarrow\":false,\"text\":\"22\",\"x\":\"European Herring Gull\",\"xref\":\"x\",\"y\":\"European Herring Gull\",\"yref\":\"y\"},{\"font\":{\"color\":\"#FFFFFF\"},\"showarrow\":false,\"text\":\"0\",\"x\":\"European Robin\",\"xref\":\"x\",\"y\":\"European Herring Gull\",\"yref\":\"y\"},{\"font\":{\"color\":\"#FFFFFF\"},\"showarrow\":false,\"text\":\"1\",\"x\":\"Meadow Pipit\",\"xref\":\"x\",\"y\":\"European Herring Gull\",\"yref\":\"y\"},{\"font\":{\"color\":\"#FFFFFF\"},\"showarrow\":false,\"text\":\"3\",\"x\":\"Mute Swan\",\"xref\":\"x\",\"y\":\"European Herring Gull\",\"yref\":\"y\"},{\"font\":{\"color\":\"#FFFFFF\"},\"showarrow\":false,\"text\":\"1\",\"x\":\"Northern Lapwing\",\"xref\":\"x\",\"y\":\"European Herring Gull\",\"yref\":\"y\"},{\"font\":{\"color\":\"#FFFFFF\"},\"showarrow\":false,\"text\":\"1\",\"x\":\"Rook\",\"xref\":\"x\",\"y\":\"European Herring Gull\",\"yref\":\"y\"},{\"font\":{\"color\":\"#FFFFFF\"},\"showarrow\":false,\"text\":\"3\",\"x\":\"Tundra Swan\",\"xref\":\"x\",\"y\":\"European Herring Gull\",\"yref\":\"y\"},{\"font\":{\"color\":\"#FFFFFF\"},\"showarrow\":false,\"text\":\"1\",\"x\":\"Tundra Swan (Bewicks)\",\"xref\":\"x\",\"y\":\"European Herring Gull\",\"yref\":\"y\"},{\"font\":{\"color\":\"#FFFFFF\"},\"showarrow\":false,\"text\":\"0\",\"x\":\"Common Buzzard\",\"xref\":\"x\",\"y\":\"European Robin\",\"yref\":\"y\"},{\"font\":{\"color\":\"#FFFFFF\"},\"showarrow\":false,\"text\":\"0\",\"x\":\"Common Kestrel\",\"xref\":\"x\",\"y\":\"European Robin\",\"yref\":\"y\"},{\"font\":{\"color\":\"#FFFFFF\"},\"showarrow\":false,\"text\":\"3\",\"x\":\"Common Snipe\",\"xref\":\"x\",\"y\":\"European Robin\",\"yref\":\"y\"},{\"font\":{\"color\":\"#FFFFFF\"},\"showarrow\":false,\"text\":\"0\",\"x\":\"Eurasian Curlew\",\"xref\":\"x\",\"y\":\"European Robin\",\"yref\":\"y\"},{\"font\":{\"color\":\"#FFFFFF\"},\"showarrow\":false,\"text\":\"0\",\"x\":\"European Herring Gull\",\"xref\":\"x\",\"y\":\"European Robin\",\"yref\":\"y\"},{\"font\":{\"color\":\"#000000\"},\"showarrow\":false,\"text\":\"24\",\"x\":\"European Robin\",\"xref\":\"x\",\"y\":\"European Robin\",\"yref\":\"y\"},{\"font\":{\"color\":\"#FFFFFF\"},\"showarrow\":false,\"text\":\"1\",\"x\":\"Meadow Pipit\",\"xref\":\"x\",\"y\":\"European Robin\",\"yref\":\"y\"},{\"font\":{\"color\":\"#FFFFFF\"},\"showarrow\":false,\"text\":\"0\",\"x\":\"Mute Swan\",\"xref\":\"x\",\"y\":\"European Robin\",\"yref\":\"y\"},{\"font\":{\"color\":\"#FFFFFF\"},\"showarrow\":false,\"text\":\"0\",\"x\":\"Northern Lapwing\",\"xref\":\"x\",\"y\":\"European Robin\",\"yref\":\"y\"},{\"font\":{\"color\":\"#FFFFFF\"},\"showarrow\":false,\"text\":\"0\",\"x\":\"Rook\",\"xref\":\"x\",\"y\":\"European Robin\",\"yref\":\"y\"},{\"font\":{\"color\":\"#FFFFFF\"},\"showarrow\":false,\"text\":\"0\",\"x\":\"Tundra Swan\",\"xref\":\"x\",\"y\":\"European Robin\",\"yref\":\"y\"},{\"font\":{\"color\":\"#FFFFFF\"},\"showarrow\":false,\"text\":\"0\",\"x\":\"Tundra Swan (Bewicks)\",\"xref\":\"x\",\"y\":\"European Robin\",\"yref\":\"y\"},{\"font\":{\"color\":\"#FFFFFF\"},\"showarrow\":false,\"text\":\"0\",\"x\":\"Common Buzzard\",\"xref\":\"x\",\"y\":\"Meadow Pipit\",\"yref\":\"y\"},{\"font\":{\"color\":\"#FFFFFF\"},\"showarrow\":false,\"text\":\"1\",\"x\":\"Common Kestrel\",\"xref\":\"x\",\"y\":\"Meadow Pipit\",\"yref\":\"y\"},{\"font\":{\"color\":\"#FFFFFF\"},\"showarrow\":false,\"text\":\"6\",\"x\":\"Common Snipe\",\"xref\":\"x\",\"y\":\"Meadow Pipit\",\"yref\":\"y\"},{\"font\":{\"color\":\"#FFFFFF\"},\"showarrow\":false,\"text\":\"0\",\"x\":\"Eurasian Curlew\",\"xref\":\"x\",\"y\":\"Meadow Pipit\",\"yref\":\"y\"},{\"font\":{\"color\":\"#FFFFFF\"},\"showarrow\":false,\"text\":\"0\",\"x\":\"European Herring Gull\",\"xref\":\"x\",\"y\":\"Meadow Pipit\",\"yref\":\"y\"},{\"font\":{\"color\":\"#FFFFFF\"},\"showarrow\":false,\"text\":\"3\",\"x\":\"European Robin\",\"xref\":\"x\",\"y\":\"Meadow Pipit\",\"yref\":\"y\"},{\"font\":{\"color\":\"#000000\"},\"showarrow\":false,\"text\":\"23\",\"x\":\"Meadow Pipit\",\"xref\":\"x\",\"y\":\"Meadow Pipit\",\"yref\":\"y\"},{\"font\":{\"color\":\"#FFFFFF\"},\"showarrow\":false,\"text\":\"1\",\"x\":\"Mute Swan\",\"xref\":\"x\",\"y\":\"Meadow Pipit\",\"yref\":\"y\"},{\"font\":{\"color\":\"#FFFFFF\"},\"showarrow\":false,\"text\":\"0\",\"x\":\"Northern Lapwing\",\"xref\":\"x\",\"y\":\"Meadow Pipit\",\"yref\":\"y\"},{\"font\":{\"color\":\"#FFFFFF\"},\"showarrow\":false,\"text\":\"0\",\"x\":\"Rook\",\"xref\":\"x\",\"y\":\"Meadow Pipit\",\"yref\":\"y\"},{\"font\":{\"color\":\"#FFFFFF\"},\"showarrow\":false,\"text\":\"0\",\"x\":\"Tundra Swan\",\"xref\":\"x\",\"y\":\"Meadow Pipit\",\"yref\":\"y\"},{\"font\":{\"color\":\"#FFFFFF\"},\"showarrow\":false,\"text\":\"0\",\"x\":\"Tundra Swan (Bewicks)\",\"xref\":\"x\",\"y\":\"Meadow Pipit\",\"yref\":\"y\"},{\"font\":{\"color\":\"#FFFFFF\"},\"showarrow\":false,\"text\":\"0\",\"x\":\"Common Buzzard\",\"xref\":\"x\",\"y\":\"Mute Swan\",\"yref\":\"y\"},{\"font\":{\"color\":\"#FFFFFF\"},\"showarrow\":false,\"text\":\"1\",\"x\":\"Common Kestrel\",\"xref\":\"x\",\"y\":\"Mute Swan\",\"yref\":\"y\"},{\"font\":{\"color\":\"#FFFFFF\"},\"showarrow\":false,\"text\":\"14\",\"x\":\"Common Snipe\",\"xref\":\"x\",\"y\":\"Mute Swan\",\"yref\":\"y\"},{\"font\":{\"color\":\"#FFFFFF\"},\"showarrow\":false,\"text\":\"0\",\"x\":\"Eurasian Curlew\",\"xref\":\"x\",\"y\":\"Mute Swan\",\"yref\":\"y\"},{\"font\":{\"color\":\"#FFFFFF\"},\"showarrow\":false,\"text\":\"1\",\"x\":\"European Herring Gull\",\"xref\":\"x\",\"y\":\"Mute Swan\",\"yref\":\"y\"},{\"font\":{\"color\":\"#FFFFFF\"},\"showarrow\":false,\"text\":\"1\",\"x\":\"European Robin\",\"xref\":\"x\",\"y\":\"Mute Swan\",\"yref\":\"y\"},{\"font\":{\"color\":\"#FFFFFF\"},\"showarrow\":false,\"text\":\"0\",\"x\":\"Meadow Pipit\",\"xref\":\"x\",\"y\":\"Mute Swan\",\"yref\":\"y\"},{\"font\":{\"color\":\"#000000\"},\"showarrow\":false,\"text\":\"24\",\"x\":\"Mute Swan\",\"xref\":\"x\",\"y\":\"Mute Swan\",\"yref\":\"y\"},{\"font\":{\"color\":\"#FFFFFF\"},\"showarrow\":false,\"text\":\"0\",\"x\":\"Northern Lapwing\",\"xref\":\"x\",\"y\":\"Mute Swan\",\"yref\":\"y\"},{\"font\":{\"color\":\"#FFFFFF\"},\"showarrow\":false,\"text\":\"1\",\"x\":\"Rook\",\"xref\":\"x\",\"y\":\"Mute Swan\",\"yref\":\"y\"},{\"font\":{\"color\":\"#FFFFFF\"},\"showarrow\":false,\"text\":\"2\",\"x\":\"Tundra Swan\",\"xref\":\"x\",\"y\":\"Mute Swan\",\"yref\":\"y\"},{\"font\":{\"color\":\"#FFFFFF\"},\"showarrow\":false,\"text\":\"1\",\"x\":\"Tundra Swan (Bewicks)\",\"xref\":\"x\",\"y\":\"Mute Swan\",\"yref\":\"y\"},{\"font\":{\"color\":\"#FFFFFF\"},\"showarrow\":false,\"text\":\"0\",\"x\":\"Common Buzzard\",\"xref\":\"x\",\"y\":\"Northern Lapwing\",\"yref\":\"y\"},{\"font\":{\"color\":\"#FFFFFF\"},\"showarrow\":false,\"text\":\"3\",\"x\":\"Common Kestrel\",\"xref\":\"x\",\"y\":\"Northern Lapwing\",\"yref\":\"y\"},{\"font\":{\"color\":\"#FFFFFF\"},\"showarrow\":false,\"text\":\"8\",\"x\":\"Common Snipe\",\"xref\":\"x\",\"y\":\"Northern Lapwing\",\"yref\":\"y\"},{\"font\":{\"color\":\"#FFFFFF\"},\"showarrow\":false,\"text\":\"0\",\"x\":\"Eurasian Curlew\",\"xref\":\"x\",\"y\":\"Northern Lapwing\",\"yref\":\"y\"},{\"font\":{\"color\":\"#FFFFFF\"},\"showarrow\":false,\"text\":\"2\",\"x\":\"European Herring Gull\",\"xref\":\"x\",\"y\":\"Northern Lapwing\",\"yref\":\"y\"},{\"font\":{\"color\":\"#FFFFFF\"},\"showarrow\":false,\"text\":\"4\",\"x\":\"European Robin\",\"xref\":\"x\",\"y\":\"Northern Lapwing\",\"yref\":\"y\"},{\"font\":{\"color\":\"#FFFFFF\"},\"showarrow\":false,\"text\":\"0\",\"x\":\"Meadow Pipit\",\"xref\":\"x\",\"y\":\"Northern Lapwing\",\"yref\":\"y\"},{\"font\":{\"color\":\"#FFFFFF\"},\"showarrow\":false,\"text\":\"3\",\"x\":\"Mute Swan\",\"xref\":\"x\",\"y\":\"Northern Lapwing\",\"yref\":\"y\"},{\"font\":{\"color\":\"#000000\"},\"showarrow\":false,\"text\":\"19\",\"x\":\"Northern Lapwing\",\"xref\":\"x\",\"y\":\"Northern Lapwing\",\"yref\":\"y\"},{\"font\":{\"color\":\"#FFFFFF\"},\"showarrow\":false,\"text\":\"0\",\"x\":\"Rook\",\"xref\":\"x\",\"y\":\"Northern Lapwing\",\"yref\":\"y\"},{\"font\":{\"color\":\"#FFFFFF\"},\"showarrow\":false,\"text\":\"0\",\"x\":\"Tundra Swan\",\"xref\":\"x\",\"y\":\"Northern Lapwing\",\"yref\":\"y\"},{\"font\":{\"color\":\"#FFFFFF\"},\"showarrow\":false,\"text\":\"0\",\"x\":\"Tundra Swan (Bewicks)\",\"xref\":\"x\",\"y\":\"Northern Lapwing\",\"yref\":\"y\"},{\"font\":{\"color\":\"#FFFFFF\"},\"showarrow\":false,\"text\":\"0\",\"x\":\"Common Buzzard\",\"xref\":\"x\",\"y\":\"Rook\",\"yref\":\"y\"},{\"font\":{\"color\":\"#FFFFFF\"},\"showarrow\":false,\"text\":\"0\",\"x\":\"Common Kestrel\",\"xref\":\"x\",\"y\":\"Rook\",\"yref\":\"y\"},{\"font\":{\"color\":\"#FFFFFF\"},\"showarrow\":false,\"text\":\"0\",\"x\":\"Common Snipe\",\"xref\":\"x\",\"y\":\"Rook\",\"yref\":\"y\"},{\"font\":{\"color\":\"#FFFFFF\"},\"showarrow\":false,\"text\":\"6\",\"x\":\"Eurasian Curlew\",\"xref\":\"x\",\"y\":\"Rook\",\"yref\":\"y\"},{\"font\":{\"color\":\"#FFFFFF\"},\"showarrow\":false,\"text\":\"0\",\"x\":\"European Herring Gull\",\"xref\":\"x\",\"y\":\"Rook\",\"yref\":\"y\"},{\"font\":{\"color\":\"#FFFFFF\"},\"showarrow\":false,\"text\":\"0\",\"x\":\"European Robin\",\"xref\":\"x\",\"y\":\"Rook\",\"yref\":\"y\"},{\"font\":{\"color\":\"#FFFFFF\"},\"showarrow\":false,\"text\":\"0\",\"x\":\"Meadow Pipit\",\"xref\":\"x\",\"y\":\"Rook\",\"yref\":\"y\"},{\"font\":{\"color\":\"#FFFFFF\"},\"showarrow\":false,\"text\":\"1\",\"x\":\"Mute Swan\",\"xref\":\"x\",\"y\":\"Rook\",\"yref\":\"y\"},{\"font\":{\"color\":\"#FFFFFF\"},\"showarrow\":false,\"text\":\"0\",\"x\":\"Northern Lapwing\",\"xref\":\"x\",\"y\":\"Rook\",\"yref\":\"y\"},{\"font\":{\"color\":\"#000000\"},\"showarrow\":false,\"text\":\"28\",\"x\":\"Rook\",\"xref\":\"x\",\"y\":\"Rook\",\"yref\":\"y\"},{\"font\":{\"color\":\"#FFFFFF\"},\"showarrow\":false,\"text\":\"0\",\"x\":\"Tundra Swan\",\"xref\":\"x\",\"y\":\"Rook\",\"yref\":\"y\"},{\"font\":{\"color\":\"#FFFFFF\"},\"showarrow\":false,\"text\":\"0\",\"x\":\"Tundra Swan (Bewicks)\",\"xref\":\"x\",\"y\":\"Rook\",\"yref\":\"y\"},{\"font\":{\"color\":\"#FFFFFF\"},\"showarrow\":false,\"text\":\"0\",\"x\":\"Common Buzzard\",\"xref\":\"x\",\"y\":\"Tundra Swan\",\"yref\":\"y\"},{\"font\":{\"color\":\"#FFFFFF\"},\"showarrow\":false,\"text\":\"0\",\"x\":\"Common Kestrel\",\"xref\":\"x\",\"y\":\"Tundra Swan\",\"yref\":\"y\"},{\"font\":{\"color\":\"#FFFFFF\"},\"showarrow\":false,\"text\":\"4\",\"x\":\"Common Snipe\",\"xref\":\"x\",\"y\":\"Tundra Swan\",\"yref\":\"y\"},{\"font\":{\"color\":\"#FFFFFF\"},\"showarrow\":false,\"text\":\"0\",\"x\":\"Eurasian Curlew\",\"xref\":\"x\",\"y\":\"Tundra Swan\",\"yref\":\"y\"},{\"font\":{\"color\":\"#FFFFFF\"},\"showarrow\":false,\"text\":\"0\",\"x\":\"European Herring Gull\",\"xref\":\"x\",\"y\":\"Tundra Swan\",\"yref\":\"y\"},{\"font\":{\"color\":\"#FFFFFF\"},\"showarrow\":false,\"text\":\"0\",\"x\":\"European Robin\",\"xref\":\"x\",\"y\":\"Tundra Swan\",\"yref\":\"y\"},{\"font\":{\"color\":\"#FFFFFF\"},\"showarrow\":false,\"text\":\"0\",\"x\":\"Meadow Pipit\",\"xref\":\"x\",\"y\":\"Tundra Swan\",\"yref\":\"y\"},{\"font\":{\"color\":\"#FFFFFF\"},\"showarrow\":false,\"text\":\"7\",\"x\":\"Mute Swan\",\"xref\":\"x\",\"y\":\"Tundra Swan\",\"yref\":\"y\"},{\"font\":{\"color\":\"#FFFFFF\"},\"showarrow\":false,\"text\":\"0\",\"x\":\"Northern Lapwing\",\"xref\":\"x\",\"y\":\"Tundra Swan\",\"yref\":\"y\"},{\"font\":{\"color\":\"#FFFFFF\"},\"showarrow\":false,\"text\":\"1\",\"x\":\"Rook\",\"xref\":\"x\",\"y\":\"Tundra Swan\",\"yref\":\"y\"},{\"font\":{\"color\":\"#FFFFFF\"},\"showarrow\":false,\"text\":\"14\",\"x\":\"Tundra Swan\",\"xref\":\"x\",\"y\":\"Tundra Swan\",\"yref\":\"y\"},{\"font\":{\"color\":\"#FFFFFF\"},\"showarrow\":false,\"text\":\"4\",\"x\":\"Tundra Swan (Bewicks)\",\"xref\":\"x\",\"y\":\"Tundra Swan\",\"yref\":\"y\"},{\"font\":{\"color\":\"#FFFFFF\"},\"showarrow\":false,\"text\":\"1\",\"x\":\"Common Buzzard\",\"xref\":\"x\",\"y\":\"Tundra Swan (Bewicks)\",\"yref\":\"y\"},{\"font\":{\"color\":\"#FFFFFF\"},\"showarrow\":false,\"text\":\"0\",\"x\":\"Common Kestrel\",\"xref\":\"x\",\"y\":\"Tundra Swan (Bewicks)\",\"yref\":\"y\"},{\"font\":{\"color\":\"#FFFFFF\"},\"showarrow\":false,\"text\":\"5\",\"x\":\"Common Snipe\",\"xref\":\"x\",\"y\":\"Tundra Swan (Bewicks)\",\"yref\":\"y\"},{\"font\":{\"color\":\"#FFFFFF\"},\"showarrow\":false,\"text\":\"0\",\"x\":\"Eurasian Curlew\",\"xref\":\"x\",\"y\":\"Tundra Swan (Bewicks)\",\"yref\":\"y\"},{\"font\":{\"color\":\"#FFFFFF\"},\"showarrow\":false,\"text\":\"1\",\"x\":\"European Herring Gull\",\"xref\":\"x\",\"y\":\"Tundra Swan (Bewicks)\",\"yref\":\"y\"},{\"font\":{\"color\":\"#FFFFFF\"},\"showarrow\":false,\"text\":\"0\",\"x\":\"European Robin\",\"xref\":\"x\",\"y\":\"Tundra Swan (Bewicks)\",\"yref\":\"y\"},{\"font\":{\"color\":\"#FFFFFF\"},\"showarrow\":false,\"text\":\"0\",\"x\":\"Meadow Pipit\",\"xref\":\"x\",\"y\":\"Tundra Swan (Bewicks)\",\"yref\":\"y\"},{\"font\":{\"color\":\"#FFFFFF\"},\"showarrow\":false,\"text\":\"0\",\"x\":\"Mute Swan\",\"xref\":\"x\",\"y\":\"Tundra Swan (Bewicks)\",\"yref\":\"y\"},{\"font\":{\"color\":\"#FFFFFF\"},\"showarrow\":false,\"text\":\"0\",\"x\":\"Northern Lapwing\",\"xref\":\"x\",\"y\":\"Tundra Swan (Bewicks)\",\"yref\":\"y\"},{\"font\":{\"color\":\"#FFFFFF\"},\"showarrow\":false,\"text\":\"0\",\"x\":\"Rook\",\"xref\":\"x\",\"y\":\"Tundra Swan (Bewicks)\",\"yref\":\"y\"},{\"font\":{\"color\":\"#FFFFFF\"},\"showarrow\":false,\"text\":\"6\",\"x\":\"Tundra Swan\",\"xref\":\"x\",\"y\":\"Tundra Swan (Bewicks)\",\"yref\":\"y\"},{\"font\":{\"color\":\"#FFFFFF\"},\"showarrow\":false,\"text\":\"14\",\"x\":\"Tundra Swan (Bewicks)\",\"xref\":\"x\",\"y\":\"Tundra Swan (Bewicks)\",\"yref\":\"y\"},{\"font\":{\"color\":\"black\",\"size\":14},\"showarrow\":false,\"text\":\"Predicted value\",\"x\":0.5,\"xref\":\"paper\",\"y\":-0.15,\"yref\":\"paper\"},{\"font\":{\"color\":\"black\",\"size\":14},\"showarrow\":false,\"text\":\"Real value\",\"textangle\":-90,\"x\":-0.26,\"xref\":\"paper\",\"y\":0.5,\"yref\":\"paper\"}],\"margin\":{\"l\":200,\"t\":50},\"template\":{\"data\":{\"bar\":[{\"error_x\":{\"color\":\"#2a3f5f\"},\"error_y\":{\"color\":\"#2a3f5f\"},\"marker\":{\"line\":{\"color\":\"#E5ECF6\",\"width\":0.5},\"pattern\":{\"fillmode\":\"overlay\",\"size\":10,\"solidity\":0.2}},\"type\":\"bar\"}],\"barpolar\":[{\"marker\":{\"line\":{\"color\":\"#E5ECF6\",\"width\":0.5},\"pattern\":{\"fillmode\":\"overlay\",\"size\":10,\"solidity\":0.2}},\"type\":\"barpolar\"}],\"carpet\":[{\"aaxis\":{\"endlinecolor\":\"#2a3f5f\",\"gridcolor\":\"white\",\"linecolor\":\"white\",\"minorgridcolor\":\"white\",\"startlinecolor\":\"#2a3f5f\"},\"baxis\":{\"endlinecolor\":\"#2a3f5f\",\"gridcolor\":\"white\",\"linecolor\":\"white\",\"minorgridcolor\":\"white\",\"startlinecolor\":\"#2a3f5f\"},\"type\":\"carpet\"}],\"choropleth\":[{\"colorbar\":{\"outlinewidth\":0,\"ticks\":\"\"},\"type\":\"choropleth\"}],\"contour\":[{\"colorbar\":{\"outlinewidth\":0,\"ticks\":\"\"},\"colorscale\":[[0.0,\"#0d0887\"],[0.1111111111111111,\"#46039f\"],[0.2222222222222222,\"#7201a8\"],[0.3333333333333333,\"#9c179e\"],[0.4444444444444444,\"#bd3786\"],[0.5555555555555556,\"#d8576b\"],[0.6666666666666666,\"#ed7953\"],[0.7777777777777778,\"#fb9f3a\"],[0.8888888888888888,\"#fdca26\"],[1.0,\"#f0f921\"]],\"type\":\"contour\"}],\"contourcarpet\":[{\"colorbar\":{\"outlinewidth\":0,\"ticks\":\"\"},\"type\":\"contourcarpet\"}],\"heatmap\":[{\"colorbar\":{\"outlinewidth\":0,\"ticks\":\"\"},\"colorscale\":[[0.0,\"#0d0887\"],[0.1111111111111111,\"#46039f\"],[0.2222222222222222,\"#7201a8\"],[0.3333333333333333,\"#9c179e\"],[0.4444444444444444,\"#bd3786\"],[0.5555555555555556,\"#d8576b\"],[0.6666666666666666,\"#ed7953\"],[0.7777777777777778,\"#fb9f3a\"],[0.8888888888888888,\"#fdca26\"],[1.0,\"#f0f921\"]],\"type\":\"heatmap\"}],\"heatmapgl\":[{\"colorbar\":{\"outlinewidth\":0,\"ticks\":\"\"},\"colorscale\":[[0.0,\"#0d0887\"],[0.1111111111111111,\"#46039f\"],[0.2222222222222222,\"#7201a8\"],[0.3333333333333333,\"#9c179e\"],[0.4444444444444444,\"#bd3786\"],[0.5555555555555556,\"#d8576b\"],[0.6666666666666666,\"#ed7953\"],[0.7777777777777778,\"#fb9f3a\"],[0.8888888888888888,\"#fdca26\"],[1.0,\"#f0f921\"]],\"type\":\"heatmapgl\"}],\"histogram\":[{\"marker\":{\"pattern\":{\"fillmode\":\"overlay\",\"size\":10,\"solidity\":0.2}},\"type\":\"histogram\"}],\"histogram2d\":[{\"colorbar\":{\"outlinewidth\":0,\"ticks\":\"\"},\"colorscale\":[[0.0,\"#0d0887\"],[0.1111111111111111,\"#46039f\"],[0.2222222222222222,\"#7201a8\"],[0.3333333333333333,\"#9c179e\"],[0.4444444444444444,\"#bd3786\"],[0.5555555555555556,\"#d8576b\"],[0.6666666666666666,\"#ed7953\"],[0.7777777777777778,\"#fb9f3a\"],[0.8888888888888888,\"#fdca26\"],[1.0,\"#f0f921\"]],\"type\":\"histogram2d\"}],\"histogram2dcontour\":[{\"colorbar\":{\"outlinewidth\":0,\"ticks\":\"\"},\"colorscale\":[[0.0,\"#0d0887\"],[0.1111111111111111,\"#46039f\"],[0.2222222222222222,\"#7201a8\"],[0.3333333333333333,\"#9c179e\"],[0.4444444444444444,\"#bd3786\"],[0.5555555555555556,\"#d8576b\"],[0.6666666666666666,\"#ed7953\"],[0.7777777777777778,\"#fb9f3a\"],[0.8888888888888888,\"#fdca26\"],[1.0,\"#f0f921\"]],\"type\":\"histogram2dcontour\"}],\"mesh3d\":[{\"colorbar\":{\"outlinewidth\":0,\"ticks\":\"\"},\"type\":\"mesh3d\"}],\"parcoords\":[{\"line\":{\"colorbar\":{\"outlinewidth\":0,\"ticks\":\"\"}},\"type\":\"parcoords\"}],\"pie\":[{\"automargin\":true,\"type\":\"pie\"}],\"scatter\":[{\"marker\":{\"colorbar\":{\"outlinewidth\":0,\"ticks\":\"\"}},\"type\":\"scatter\"}],\"scatter3d\":[{\"line\":{\"colorbar\":{\"outlinewidth\":0,\"ticks\":\"\"}},\"marker\":{\"colorbar\":{\"outlinewidth\":0,\"ticks\":\"\"}},\"type\":\"scatter3d\"}],\"scattercarpet\":[{\"marker\":{\"colorbar\":{\"outlinewidth\":0,\"ticks\":\"\"}},\"type\":\"scattercarpet\"}],\"scattergeo\":[{\"marker\":{\"colorbar\":{\"outlinewidth\":0,\"ticks\":\"\"}},\"type\":\"scattergeo\"}],\"scattergl\":[{\"marker\":{\"colorbar\":{\"outlinewidth\":0,\"ticks\":\"\"}},\"type\":\"scattergl\"}],\"scattermapbox\":[{\"marker\":{\"colorbar\":{\"outlinewidth\":0,\"ticks\":\"\"}},\"type\":\"scattermapbox\"}],\"scatterpolar\":[{\"marker\":{\"colorbar\":{\"outlinewidth\":0,\"ticks\":\"\"}},\"type\":\"scatterpolar\"}],\"scatterpolargl\":[{\"marker\":{\"colorbar\":{\"outlinewidth\":0,\"ticks\":\"\"}},\"type\":\"scatterpolargl\"}],\"scatterternary\":[{\"marker\":{\"colorbar\":{\"outlinewidth\":0,\"ticks\":\"\"}},\"type\":\"scatterternary\"}],\"surface\":[{\"colorbar\":{\"outlinewidth\":0,\"ticks\":\"\"},\"colorscale\":[[0.0,\"#0d0887\"],[0.1111111111111111,\"#46039f\"],[0.2222222222222222,\"#7201a8\"],[0.3333333333333333,\"#9c179e\"],[0.4444444444444444,\"#bd3786\"],[0.5555555555555556,\"#d8576b\"],[0.6666666666666666,\"#ed7953\"],[0.7777777777777778,\"#fb9f3a\"],[0.8888888888888888,\"#fdca26\"],[1.0,\"#f0f921\"]],\"type\":\"surface\"}],\"table\":[{\"cells\":{\"fill\":{\"color\":\"#EBF0F8\"},\"line\":{\"color\":\"white\"}},\"header\":{\"fill\":{\"color\":\"#C8D4E3\"},\"line\":{\"color\":\"white\"}},\"type\":\"table\"}]},\"layout\":{\"annotationdefaults\":{\"arrowcolor\":\"#2a3f5f\",\"arrowhead\":0,\"arrowwidth\":1},\"autotypenumbers\":\"strict\",\"coloraxis\":{\"colorbar\":{\"outlinewidth\":0,\"ticks\":\"\"}},\"colorscale\":{\"diverging\":[[0,\"#8e0152\"],[0.1,\"#c51b7d\"],[0.2,\"#de77ae\"],[0.3,\"#f1b6da\"],[0.4,\"#fde0ef\"],[0.5,\"#f7f7f7\"],[0.6,\"#e6f5d0\"],[0.7,\"#b8e186\"],[0.8,\"#7fbc41\"],[0.9,\"#4d9221\"],[1,\"#276419\"]],\"sequential\":[[0.0,\"#0d0887\"],[0.1111111111111111,\"#46039f\"],[0.2222222222222222,\"#7201a8\"],[0.3333333333333333,\"#9c179e\"],[0.4444444444444444,\"#bd3786\"],[0.5555555555555556,\"#d8576b\"],[0.6666666666666666,\"#ed7953\"],[0.7777777777777778,\"#fb9f3a\"],[0.8888888888888888,\"#fdca26\"],[1.0,\"#f0f921\"]],\"sequentialminus\":[[0.0,\"#0d0887\"],[0.1111111111111111,\"#46039f\"],[0.2222222222222222,\"#7201a8\"],[0.3333333333333333,\"#9c179e\"],[0.4444444444444444,\"#bd3786\"],[0.5555555555555556,\"#d8576b\"],[0.6666666666666666,\"#ed7953\"],[0.7777777777777778,\"#fb9f3a\"],[0.8888888888888888,\"#fdca26\"],[1.0,\"#f0f921\"]]},\"colorway\":[\"#636efa\",\"#EF553B\",\"#00cc96\",\"#ab63fa\",\"#FFA15A\",\"#19d3f3\",\"#FF6692\",\"#B6E880\",\"#FF97FF\",\"#FECB52\"],\"font\":{\"color\":\"#2a3f5f\"},\"geo\":{\"bgcolor\":\"white\",\"lakecolor\":\"white\",\"landcolor\":\"#E5ECF6\",\"showlakes\":true,\"showland\":true,\"subunitcolor\":\"white\"},\"hoverlabel\":{\"align\":\"left\"},\"hovermode\":\"closest\",\"mapbox\":{\"style\":\"light\"},\"paper_bgcolor\":\"white\",\"plot_bgcolor\":\"#E5ECF6\",\"polar\":{\"angularaxis\":{\"gridcolor\":\"white\",\"linecolor\":\"white\",\"ticks\":\"\"},\"bgcolor\":\"#E5ECF6\",\"radialaxis\":{\"gridcolor\":\"white\",\"linecolor\":\"white\",\"ticks\":\"\"}},\"scene\":{\"xaxis\":{\"backgroundcolor\":\"#E5ECF6\",\"gridcolor\":\"white\",\"gridwidth\":2,\"linecolor\":\"white\",\"showbackground\":true,\"ticks\":\"\",\"zerolinecolor\":\"white\"},\"yaxis\":{\"backgroundcolor\":\"#E5ECF6\",\"gridcolor\":\"white\",\"gridwidth\":2,\"linecolor\":\"white\",\"showbackground\":true,\"ticks\":\"\",\"zerolinecolor\":\"white\"},\"zaxis\":{\"backgroundcolor\":\"#E5ECF6\",\"gridcolor\":\"white\",\"gridwidth\":2,\"linecolor\":\"white\",\"showbackground\":true,\"ticks\":\"\",\"zerolinecolor\":\"white\"}},\"shapedefaults\":{\"line\":{\"color\":\"#2a3f5f\"}},\"ternary\":{\"aaxis\":{\"gridcolor\":\"white\",\"linecolor\":\"white\",\"ticks\":\"\"},\"baxis\":{\"gridcolor\":\"white\",\"linecolor\":\"white\",\"ticks\":\"\"},\"bgcolor\":\"#E5ECF6\",\"caxis\":{\"gridcolor\":\"white\",\"linecolor\":\"white\",\"ticks\":\"\"}},\"title\":{\"x\":0.05},\"xaxis\":{\"automargin\":true,\"gridcolor\":\"white\",\"linecolor\":\"white\",\"ticks\":\"\",\"title\":{\"standoff\":15},\"zerolinecolor\":\"white\",\"zerolinewidth\":2},\"yaxis\":{\"automargin\":true,\"gridcolor\":\"white\",\"linecolor\":\"white\",\"ticks\":\"\",\"title\":{\"standoff\":15},\"zerolinecolor\":\"white\",\"zerolinewidth\":2}}},\"title\":{\"text\":\"<i><b>Confusion<br>matrix</b></i>\",\"x\":0},\"xaxis\":{\"dtick\":1,\"gridcolor\":\"rgb(0, 0, 0)\",\"side\":\"top\",\"ticks\":\"\"},\"yaxis\":{\"autorange\":\"reversed\",\"dtick\":1,\"ticks\":\"\",\"ticksuffix\":\"  \"}},                        {\"responsive\": true}                    ).then(function(){\n",
       "                            \n",
       "var gd = document.getElementById('eeb45383-ad49-40b4-8de8-ec7f033e70eb');\n",
       "var x = new MutationObserver(function (mutations, observer) {{\n",
       "        var display = window.getComputedStyle(gd).display;\n",
       "        if (!display || display === 'none') {{\n",
       "            console.log([gd, 'removed!']);\n",
       "            Plotly.purge(gd);\n",
       "            observer.disconnect();\n",
       "        }}\n",
       "}});\n",
       "\n",
       "// Listen for the removal of the full notebook cells\n",
       "var notebookContainer = gd.closest('#notebook-container');\n",
       "if (notebookContainer) {{\n",
       "    x.observe(notebookContainer, {childList: true});\n",
       "}}\n",
       "\n",
       "// Listen for the clearing of the current output cell\n",
       "var outputEl = gd.closest('.output');\n",
       "if (outputEl) {{\n",
       "    x.observe(outputEl, {childList: true});\n",
       "}}\n",
       "\n",
       "                        })                };                });            </script>        </div>"
      ]
     },
     "metadata": {},
     "output_type": "display_data"
    }
   ],
   "source": [
    "import plotly.figure_factory as ff\n",
    "\n",
    "z = cm\n",
    "\n",
    "x = categories\n",
    "y = categories\n",
    "#y.reverse()\n",
    "\n",
    "# change each element of z to type string for annotations\n",
    "z_text = [[str(y) for y in x] for x in z]\n",
    "\n",
    "# set up figure \n",
    "fig = ff.create_annotated_heatmap(z, x=x, y=y, annotation_text=z_text, colorscale='Viridis')\n",
    "\n",
    "# add title\n",
    "fig.update_layout(title_text='<i><b>Confusion<br>matrix</b></i>',\n",
    "                  #xaxis = dict(title='x'),\n",
    "                  #yaxis = dict(title='x')\n",
    "                  yaxis=dict(autorange='reversed'),\n",
    "                  title_x=0\n",
    "                 )\n",
    "\n",
    "# add custom xaxis title\n",
    "fig.add_annotation(dict(font=dict(color=\"black\",size=14),\n",
    "                        x=0.5,\n",
    "                        y=-0.15,\n",
    "                        showarrow=False,\n",
    "                        text=\"Predicted value\",\n",
    "                        xref=\"paper\",\n",
    "                        yref=\"paper\"))\n",
    "\n",
    "# add custom yaxis title\n",
    "fig.add_annotation(dict(font=dict(color=\"black\",size=14),\n",
    "                        x=-0.26,\n",
    "                        y=0.5,\n",
    "                        showarrow=False,\n",
    "                        text=\"Real value\",\n",
    "                        textangle=-90,\n",
    "                        xref=\"paper\",\n",
    "                        yref=\"paper\"))\n",
    "\n",
    "# adjust margins to make room for yaxis title\n",
    "fig.update_layout(margin=dict(t=50, l=200))\n",
    "\n",
    "# add colorbar\n",
    "fig['data'][0]['showscale'] = True\n",
    "fig.show()"
   ]
  },
  {
   "cell_type": "code",
   "execution_count": null,
   "id": "4b1c8331",
   "metadata": {},
   "outputs": [],
   "source": []
  }
 ],
 "metadata": {
  "kernelspec": {
   "display_name": "Python 3",
   "language": "python",
   "name": "python3"
  },
  "language_info": {
   "codemirror_mode": {
    "name": "ipython",
    "version": 3
   },
   "file_extension": ".py",
   "mimetype": "text/x-python",
   "name": "python",
   "nbconvert_exporter": "python",
   "pygments_lexer": "ipython3",
   "version": "3.8.8"
  }
 },
 "nbformat": 4,
 "nbformat_minor": 5
}
